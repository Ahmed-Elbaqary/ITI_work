{
 "cells": [
  {
   "cell_type": "code",
   "execution_count": 1,
   "id": "9e4474b0-2208-4842-b5ba-0075f80323d1",
   "metadata": {},
   "outputs": [],
   "source": [
    "from jupyter_dash import JupyterDash\n",
    "import dash\n",
    "from dash import dcc\n",
    "from dash import html"
   ]
  },
  {
   "cell_type": "code",
   "execution_count": 2,
   "id": "d7cd4eea-06aa-4d79-b206-a12b41033ebe",
   "metadata": {},
   "outputs": [],
   "source": [
    "app = JupyterDash()\n",
    "# app = dash.Dash()"
   ]
  },
  {
   "cell_type": "code",
   "execution_count": 3,
   "id": "0a701bc1-921c-49aa-bdd4-72159f517b40",
   "metadata": {},
   "outputs": [],
   "source": [
    "app.layout = html.Div([\n",
    "    html.H1('My Dashboard', style={'textAlign':'center', 'color':'#CF0808'}),\n",
    "    html.Br(), # <------------ Down by one line\n",
    "    html.Hr(), # <------------ Horizontal rule\n",
    "    html.P('My Text ................', style={'backgroundColor':'#F2DFDF'})\n",
    "])"
   ]
  },
  {
   "cell_type": "code",
   "execution_count": 4,
   "id": "f5602606-71d6-47df-a72d-f4b8eb9822dc",
   "metadata": {},
   "outputs": [
    {
     "name": "stdout",
     "output_type": "stream",
     "text": [
      "Dash app running on http://127.0.0.1:5080/\n"
     ]
    }
   ],
   "source": [
    "if __name__ == '__main__':\n",
    "    app.run_server(port=5080)"
   ]
  },
  {
   "cell_type": "markdown",
   "id": "956581b4-7553-45ea-8670-c46701c9b300",
   "metadata": {},
   "source": [
    "---\n",
    "**Note: we want to style our dashboard so we will use an external CSS style sheet**"
   ]
  },
  {
   "cell_type": "code",
   "execution_count": 3,
   "id": "fdb286e0-5565-4dad-8a05-8bb0eeb21484",
   "metadata": {},
   "outputs": [],
   "source": [
    "app = JupyterDash(external_stylesheets = ['https://codepen.io/chriddyp/pen/bWLwgP.css'])\n",
    "# app = dash.Dash(external_stylesheets=['https://codepen.io/chriddyp/pen/bWLwgP.css'])"
   ]
  },
  {
   "cell_type": "code",
   "execution_count": 5,
   "id": "02deb981-e88c-4b30-95ad-2d039468b785",
   "metadata": {},
   "outputs": [],
   "source": [
    "app.layout = html.Div([\n",
    "    html.H1('My Dashboard', style={'textAlign':'center', 'color':'#CF0808'}),\n",
    "    html.Br(), # <------------ Down by one line\n",
    "    html.Hr(), # <------------ Horizontal rule\n",
    "    html.P('My Text ................', style={'backgroundColor':'#F2DFDF'}),\n",
    "    html.Div([\n",
    "        html.Div('Div1', className='four columns'),\n",
    "        html.Div('Div2', className='four columns'),\n",
    "        html.Div('Div3', className='four columns')\n",
    "    ])\n",
    "], className='row')"
   ]
  },
  {
   "cell_type": "code",
   "execution_count": 6,
   "id": "f7a7ee03-3310-46f6-855f-f4a97ac06fdd",
   "metadata": {},
   "outputs": [
    {
     "name": "stdout",
     "output_type": "stream",
     "text": [
      "Dash app running on http://127.0.0.1:5080/\n"
     ]
    }
   ],
   "source": [
    "if __name__ == '__main__':\n",
    "    app.run_server(port=5080)"
   ]
  },
  {
   "cell_type": "markdown",
   "id": "fc34ab73-8721-46f2-b939-2dad633c3b8a",
   "metadata": {},
   "source": [
    "---"
   ]
  },
  {
   "cell_type": "code",
   "execution_count": 6,
   "id": "298976d9-af5c-4f4c-a127-a76079ee2483",
   "metadata": {},
   "outputs": [],
   "source": [
    "%config Completer.use_jedi = False"
   ]
  },
  {
   "cell_type": "code",
   "execution_count": 7,
   "id": "76580f19-c833-43e4-b0e5-e627174c50e5",
   "metadata": {},
   "outputs": [],
   "source": [
    "import plotly.express as px\n",
    "import pandas as pd"
   ]
  },
  {
   "cell_type": "code",
   "execution_count": 8,
   "id": "f1aec5ae-539e-4ae9-9f46-4aba302ddf47",
   "metadata": {},
   "outputs": [
    {
     "data": {
      "text/html": [
       "<div>\n",
       "<style scoped>\n",
       "    .dataframe tbody tr th:only-of-type {\n",
       "        vertical-align: middle;\n",
       "    }\n",
       "\n",
       "    .dataframe tbody tr th {\n",
       "        vertical-align: top;\n",
       "    }\n",
       "\n",
       "    .dataframe thead th {\n",
       "        text-align: right;\n",
       "    }\n",
       "</style>\n",
       "<table border=\"1\" class=\"dataframe\">\n",
       "  <thead>\n",
       "    <tr style=\"text-align: right;\">\n",
       "      <th></th>\n",
       "      <th>country</th>\n",
       "      <th>continent</th>\n",
       "      <th>year</th>\n",
       "      <th>lifeExp</th>\n",
       "      <th>pop</th>\n",
       "      <th>gdpPercap</th>\n",
       "      <th>iso_alpha</th>\n",
       "      <th>iso_num</th>\n",
       "    </tr>\n",
       "  </thead>\n",
       "  <tbody>\n",
       "    <tr>\n",
       "      <th>53</th>\n",
       "      <td>Argentina</td>\n",
       "      <td>Americas</td>\n",
       "      <td>1977</td>\n",
       "      <td>68.481</td>\n",
       "      <td>26983828</td>\n",
       "      <td>10079.026740</td>\n",
       "      <td>ARG</td>\n",
       "      <td>32</td>\n",
       "    </tr>\n",
       "    <tr>\n",
       "      <th>757</th>\n",
       "      <td>Israel</td>\n",
       "      <td>Asia</td>\n",
       "      <td>1957</td>\n",
       "      <td>67.840</td>\n",
       "      <td>1944401</td>\n",
       "      <td>5385.278451</td>\n",
       "      <td>ISR</td>\n",
       "      <td>376</td>\n",
       "    </tr>\n",
       "    <tr>\n",
       "      <th>601</th>\n",
       "      <td>Guatemala</td>\n",
       "      <td>Americas</td>\n",
       "      <td>1957</td>\n",
       "      <td>44.142</td>\n",
       "      <td>3640876</td>\n",
       "      <td>2617.155967</td>\n",
       "      <td>GTM</td>\n",
       "      <td>320</td>\n",
       "    </tr>\n",
       "    <tr>\n",
       "      <th>379</th>\n",
       "      <td>Croatia</td>\n",
       "      <td>Europe</td>\n",
       "      <td>1987</td>\n",
       "      <td>71.520</td>\n",
       "      <td>4484310</td>\n",
       "      <td>13822.583940</td>\n",
       "      <td>HRV</td>\n",
       "      <td>191</td>\n",
       "    </tr>\n",
       "    <tr>\n",
       "      <th>462</th>\n",
       "      <td>Egypt</td>\n",
       "      <td>Africa</td>\n",
       "      <td>1982</td>\n",
       "      <td>56.006</td>\n",
       "      <td>45681811</td>\n",
       "      <td>3503.729636</td>\n",
       "      <td>EGY</td>\n",
       "      <td>818</td>\n",
       "    </tr>\n",
       "  </tbody>\n",
       "</table>\n",
       "</div>"
      ],
      "text/plain": [
       "       country continent  year  lifeExp       pop     gdpPercap iso_alpha  \\\n",
       "53   Argentina  Americas  1977   68.481  26983828  10079.026740       ARG   \n",
       "757     Israel      Asia  1957   67.840   1944401   5385.278451       ISR   \n",
       "601  Guatemala  Americas  1957   44.142   3640876   2617.155967       GTM   \n",
       "379    Croatia    Europe  1987   71.520   4484310  13822.583940       HRV   \n",
       "462      Egypt    Africa  1982   56.006  45681811   3503.729636       EGY   \n",
       "\n",
       "     iso_num  \n",
       "53        32  \n",
       "757      376  \n",
       "601      320  \n",
       "379      191  \n",
       "462      818  "
      ]
     },
     "execution_count": 8,
     "metadata": {},
     "output_type": "execute_result"
    }
   ],
   "source": [
    "df = px.data.gapminder()\n",
    "df.sample(5)"
   ]
  },
  {
   "cell_type": "code",
   "execution_count": 9,
   "id": "a5d98fd2-03cd-492e-84c1-e7782f8ec677",
   "metadata": {},
   "outputs": [],
   "source": [
    "# We can make it animated using (animation_frame)\n",
    "# note we removed year==2007 condition\n",
    "fig1 = px.scatter(df, x='gdpPercap', y='lifeExp',\n",
    "           color='continent', size='pop',\n",
    "           size_max=40, log_x=True,\n",
    "           title=\"My Scatter\",\n",
    "           hover_name='country',\n",
    "          animation_frame = 'year') #<---------- this"
   ]
  },
  {
   "cell_type": "code",
   "execution_count": 10,
   "id": "52094bc1-5167-4147-b489-4043cf3dacf8",
   "metadata": {},
   "outputs": [],
   "source": [
    "fig2 = px.sunburst(df, color='lifeExp', values='pop', \n",
    "            path= ['continent', 'country'],\n",
    "           hover_name='country', height=600)"
   ]
  },
  {
   "cell_type": "code",
   "execution_count": 11,
   "id": "639d57ab-ed8e-4d07-a139-1117923361e1",
   "metadata": {},
   "outputs": [],
   "source": [
    "app.layout = html.Div([\n",
    "    \n",
    "    html.H1('My Dashboard', style={'textAlign':'center', 'color':'#CF0808'}),\n",
    "    html.Br(), # <------------ Down by one line\n",
    "    html.Hr(), # <------------ Horizontal rule\n",
    "    html.P('My Text ................', style={'backgroundColor':'#F2DFDF'}),\n",
    "    \n",
    "    # Making Partitions in my dashboard\n",
    "    html.Div([\n",
    "        html.Div([\n",
    "            html.H1('My 1st Graph'),\n",
    "            dcc.Graph(figure=fig1)\n",
    "        ],className='four columns'),\n",
    "        \n",
    "        html.Div([\n",
    "            html.H1('My 2nd Graph'),\n",
    "            dcc.Graph(figure=fig2)\n",
    "        ], className='four columns'),\n",
    "        \n",
    "        html.Div('Div3', className='Four Columns')\n",
    "    ])\n",
    "    \n",
    "], className='row')"
   ]
  },
  {
   "cell_type": "code",
   "execution_count": 12,
   "id": "7817ed07-b2e3-43a7-8a4e-3fbb6a260990",
   "metadata": {},
   "outputs": [
    {
     "name": "stdout",
     "output_type": "stream",
     "text": [
      "Dash app running on http://127.0.0.1:5080/\n"
     ]
    }
   ],
   "source": [
    "if __name__ == '__main__':\n",
    "    app.run_server(port=5080)"
   ]
  },
  {
   "cell_type": "code",
   "execution_count": null,
   "id": "1bc1dbc6-fbbb-42e5-8137-970585898eea",
   "metadata": {},
   "outputs": [],
   "source": []
  }
 ],
 "metadata": {
  "kernelspec": {
   "display_name": "Python 3 (ipykernel)",
   "language": "python",
   "name": "python3"
  },
  "language_info": {
   "codemirror_mode": {
    "name": "ipython",
    "version": 3
   },
   "file_extension": ".py",
   "mimetype": "text/x-python",
   "name": "python",
   "nbconvert_exporter": "python",
   "pygments_lexer": "ipython3",
   "version": "3.8.8"
  }
 },
 "nbformat": 4,
 "nbformat_minor": 5
}
