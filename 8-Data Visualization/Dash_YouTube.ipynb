{
 "cells": [
  {
   "cell_type": "code",
   "execution_count": 2,
   "id": "51fd62de-5b62-40cc-b3ad-3903b3ff3c1b",
   "metadata": {},
   "outputs": [],
   "source": [
    "# !pip install dash\n",
    "# !pip install dash-renderer\n",
    "# !pip install dash_html_components\n",
    "# !pip install dash_core_components"
   ]
  },
  {
   "cell_type": "code",
   "execution_count": 45,
   "id": "63f91f6b-a4a2-40ea-8db4-0ac1d2009249",
   "metadata": {},
   "outputs": [],
   "source": [
    "import dash\n",
    "import dash_core_components as dcc\n",
    "from dash import html\n",
    "import plotly.graph_objs as go\n",
    "import numpy as np"
   ]
  },
  {
   "cell_type": "code",
   "execution_count": 7,
   "id": "07f85b5c-155b-4886-a129-431fafb9544d",
   "metadata": {},
   "outputs": [],
   "source": [
    "app = dash.Dash()"
   ]
  },
  {
   "cell_type": "code",
   "execution_count": 36,
   "id": "46e65878-f04d-48ec-964f-72a436f8bce5",
   "metadata": {},
   "outputs": [],
   "source": [
    "colors = {\n",
    "    'text': '#E7AA0E',\n",
    "    'plot_bgcolor': '#F8E1A3',\n",
    "    'paper_bgcolor': '#C19728'\n",
    "}"
   ]
  },
  {
   "cell_type": "code",
   "execution_count": 37,
   "id": "7856631f-a1bb-4f6d-8a92-d59e284f4331",
   "metadata": {},
   "outputs": [],
   "source": [
    "app.layout = html.Div([\n",
    "    html.H1(children= \"Hellow to dash\",\n",
    "           style = {\n",
    "               'textAlign': 'center',\n",
    "               'color': colors['text']\n",
    "           }\n",
    "           ),\n",
    "    html.Div(children= \"Dash: A data product from plotly\",\n",
    "            style = {\n",
    "               'textAlign': 'center',\n",
    "               'color': colors['text']\n",
    "           }\n",
    "            ),\n",
    "    \n",
    "    dcc.Graph(\n",
    "        id = \"Simple Graph\",\n",
    "        figure={\n",
    "            \"data\" : [\n",
    "                {'x': [1,2,3], 'y':[10,20,30], 'type':'bar', 'name':'First'},\n",
    "                {'x': [1,2,3], 'y':[15,10,20], 'type':'bar', 'name':'second'}\n",
    "            ],\n",
    "            'layout': {\n",
    "                'title': 'Simple bar chart',\n",
    "                'plot_bgcolor': colors['plot_bgcolor'],\n",
    "                'paper_bgcolor': colors['paper_bgcolor'],\n",
    "                'color': colors['text']\n",
    "            }\n",
    "        }\n",
    "    )\n",
    "])"
   ]
  },
  {
   "cell_type": "code",
   "execution_count": 38,
   "id": "f03a651e-8edf-40e3-b49e-fa4747b6feca",
   "metadata": {},
   "outputs": [
    {
     "name": "stdout",
     "output_type": "stream",
     "text": [
      "Dash is running on http://127.0.0.1:4050/\n",
      "\n",
      " * Serving Flask app \"__main__\" (lazy loading)\n",
      " * Environment: production\n",
      "   WARNING: This is a development server. Do not use it in a production deployment.\n",
      "   Use a production WSGI server instead.\n",
      " * Debug mode: off\n"
     ]
    },
    {
     "name": "stderr",
     "output_type": "stream",
     "text": [
      " * Running on http://127.0.0.1:4050/ (Press CTRL+C to quit)\n",
      "127.0.0.1 - - [18/Nov/2021 23:15:20] \"\u001b[37mGET / HTTP/1.1\u001b[0m\" 200 -\n",
      "127.0.0.1 - - [18/Nov/2021 23:15:21] \"\u001b[37mGET /_dash-layout HTTP/1.1\u001b[0m\" 200 -\n",
      "127.0.0.1 - - [18/Nov/2021 23:15:21] \"\u001b[37mGET /_dash-dependencies HTTP/1.1\u001b[0m\" 200 -\n",
      "127.0.0.1 - - [18/Nov/2021 23:15:21] \"\u001b[37mGET /_dash-component-suites/dash/dcc/async-graph.js HTTP/1.1\u001b[0m\" 200 -\n",
      "127.0.0.1 - - [18/Nov/2021 23:15:21] \"\u001b[37mGET /_dash-component-suites/dash/dcc/async-plotlyjs.js HTTP/1.1\u001b[0m\" 200 -\n"
     ]
    }
   ],
   "source": [
    "if __name__ == \"__main__\":\n",
    "    app.run_server(port=50)"
   ]
  },
  {
   "cell_type": "markdown",
   "id": "376e5048-0519-452b-92f1-54964430d325",
   "metadata": {},
   "source": [
    "___\n",
    "# Scatter plot"
   ]
  },
  {
   "cell_type": "code",
   "execution_count": 48,
   "id": "01e8d480-3d3b-48f6-97f1-2439d88d5672",
   "metadata": {},
   "outputs": [],
   "source": [
    "np.random.seed(42)\n",
    "x_rand = np.random.randint(1, 61, 60)\n",
    "y_rand = np.random.randint(1, 61, 60)"
   ]
  },
  {
   "cell_type": "code",
   "execution_count": 49,
   "id": "0b6d7c9d-a609-4c28-9aae-418d49bb0261",
   "metadata": {},
   "outputs": [],
   "source": [
    "app = dash.Dash()"
   ]
  },
  {
   "cell_type": "code",
   "execution_count": 59,
   "id": "b574499b-0f83-4159-9412-3365e4428e0c",
   "metadata": {},
   "outputs": [],
   "source": [
    "app.layout = html.Div([\n",
    "    dcc.Graph(\n",
    "        id = 'Scatter plot',\n",
    "        figure= {\n",
    "            'data': [\n",
    "                go.Scatter(x=x_rand, y=y_rand, \n",
    "                           mode='markers', hoveron='points')\n",
    "            ],\n",
    "            'layout': go.Layout(\n",
    "            title= 'Scatter plot',\n",
    "                xaxis= {'title': 'random values'},\n",
    "                yaxis= {'title': 'random values'}\n",
    "            )\n",
    "        }\n",
    "    )\n",
    "])"
   ]
  },
  {
   "cell_type": "code",
   "execution_count": 60,
   "id": "e45508d9-f641-4af0-8da8-a3917f2f4b78",
   "metadata": {},
   "outputs": [
    {
     "name": "stdout",
     "output_type": "stream",
     "text": [
      "Dash is running on http://127.0.0.1:4050/\n",
      "\n",
      "Dash is running on http://127.0.0.1:4050/\n",
      "\n",
      "Dash is running on http://127.0.0.1:4050/\n",
      "\n",
      " * Serving Flask app \"__main__\" (lazy loading)\n",
      " * Environment: production\n",
      "   WARNING: This is a development server. Do not use it in a production deployment.\n",
      "   Use a production WSGI server instead.\n",
      " * Debug mode: off\n"
     ]
    },
    {
     "name": "stderr",
     "output_type": "stream",
     "text": [
      " * Running on http://127.0.0.1:4050/ (Press CTRL+C to quit)\n",
      "127.0.0.1 - - [18/Nov/2021 23:47:17] \"\u001b[37mGET / HTTP/1.1\u001b[0m\" 200 -\n",
      "127.0.0.1 - - [18/Nov/2021 23:47:17] \"\u001b[37mGET /_dash-layout HTTP/1.1\u001b[0m\" 200 -\n",
      "127.0.0.1 - - [18/Nov/2021 23:47:17] \"\u001b[37mGET /_dash-dependencies HTTP/1.1\u001b[0m\" 200 -\n",
      "127.0.0.1 - - [18/Nov/2021 23:47:17] \"\u001b[37mGET /_dash-component-suites/dash/dcc/async-graph.js HTTP/1.1\u001b[0m\" 200 -\n",
      "127.0.0.1 - - [18/Nov/2021 23:47:17] \"\u001b[37mGET /_dash-component-suites/dash/dcc/async-plotlyjs.js HTTP/1.1\u001b[0m\" 200 -\n"
     ]
    }
   ],
   "source": [
    "if __name__ == \"__main__\":\n",
    "    app.run_server(port=4050)"
   ]
  },
  {
   "cell_type": "code",
   "execution_count": 61,
   "id": "652573c7-dac6-4a54-a48a-909617b11f8e",
   "metadata": {},
   "outputs": [],
   "source": [
    "app = dash.Dash()"
   ]
  },
  {
   "cell_type": "code",
   "execution_count": 85,
   "id": "c2aba823-1e28-4160-ae1f-662f7d399ebc",
   "metadata": {},
   "outputs": [],
   "source": [
    "app.layout = html.Div([\n",
    "    html.Label('Choose a city'),\n",
    "    dcc.Dropdown(\n",
    "    id = 'First-dropdown',\n",
    "        options = [\n",
    "            {'label':'Cairo', 'value':'Cairo'},\n",
    "            {'label':'Sharkiah', 'value':'SH'},\n",
    "            {'label':'Ismailiah', 'value':'IS'}\n",
    "        ],\n",
    "        value = 'SH',\n",
    "        multi = True\n",
    "    )\n",
    "])"
   ]
  },
  {
   "cell_type": "code",
   "execution_count": 86,
   "id": "625c3b38-8665-4ee8-b27b-660f91033b21",
   "metadata": {},
   "outputs": [
    {
     "name": "stdout",
     "output_type": "stream",
     "text": [
      "Dash is running on http://127.0.0.1:4050/\n",
      "\n",
      "Dash is running on http://127.0.0.1:4050/\n",
      "\n",
      "Dash is running on http://127.0.0.1:4050/\n",
      "\n",
      "Dash is running on http://127.0.0.1:4050/\n",
      "\n",
      " * Serving Flask app \"__main__\" (lazy loading)\n",
      " * Environment: production\n",
      "   WARNING: This is a development server. Do not use it in a production deployment.\n",
      "   Use a production WSGI server instead.\n",
      " * Debug mode: off\n"
     ]
    },
    {
     "name": "stderr",
     "output_type": "stream",
     "text": [
      " * Running on http://127.0.0.1:4050/ (Press CTRL+C to quit)\n",
      "127.0.0.1 - - [19/Nov/2021 00:34:04] \"\u001b[37mGET / HTTP/1.1\u001b[0m\" 200 -\n",
      "127.0.0.1 - - [19/Nov/2021 00:34:04] \"\u001b[37mGET /_dash-layout HTTP/1.1\u001b[0m\" 200 -\n",
      "127.0.0.1 - - [19/Nov/2021 00:34:04] \"\u001b[37mGET /_dash-dependencies HTTP/1.1\u001b[0m\" 200 -\n",
      "127.0.0.1 - - [19/Nov/2021 00:34:04] \"\u001b[37mGET /_dash-component-suites/dash/dcc/async-dropdown.js HTTP/1.1\u001b[0m\" 200 -\n"
     ]
    }
   ],
   "source": [
    "if __name__ == '__main__':\n",
    "    app.run_server(port=4050)"
   ]
  },
  {
   "cell_type": "code",
   "execution_count": 99,
   "id": "4c9a8fa6-5629-4be3-a156-4f56c7ad144e",
   "metadata": {},
   "outputs": [],
   "source": [
    "app = dash.Dash()"
   ]
  },
  {
   "cell_type": "code",
   "execution_count": 114,
   "id": "8d6a84c9-0ed1-4a4a-9118-0e4750b88ba7",
   "metadata": {},
   "outputs": [],
   "source": [
    "app.layout = html.Div([\n",
    "    dcc.Dropdown(\n",
    "    id = 'First-dropdown',\n",
    "        options = [\n",
    "            {'label':'Cairo', 'value':'Cairo'},\n",
    "            {'label':'Sharkiah', 'value':'SH'},\n",
    "            {'label':'Ismailiah', 'value':'IS', 'disabled':True}\n",
    "        ],\n",
    "        multi = True,\n",
    "        placeholder = 'Select a city'\n",
    "    ),\n",
    "\n",
    "        html.Label('This is a slider'),\n",
    "        dcc.Slider(\n",
    "        min = 1,\n",
    "        max = 10,\n",
    "        value = 5,\n",
    "        step = 0.5,\n",
    "        marks = {i: i for i in range(10)}\n",
    "    ),\n",
    "\n",
    "        html.Label('This is a Range slider'),\n",
    "        dcc.RangeSlider(\n",
    "        min = 1,\n",
    "        max = 10,\n",
    "        value = [3,5],\n",
    "        step = 0.5,\n",
    "        marks = {i: i for i in range(10)}\n",
    "    )\n",
    "])"
   ]
  },
  {
   "cell_type": "code",
   "execution_count": 115,
   "id": "489b0792-d07e-4406-bda4-e5c690cacfd2",
   "metadata": {},
   "outputs": [
    {
     "name": "stdout",
     "output_type": "stream",
     "text": [
      "Dash is running on http://127.0.0.1:4050/\n",
      "\n",
      "Dash is running on http://127.0.0.1:4050/\n",
      "\n",
      "Dash is running on http://127.0.0.1:4050/\n",
      "\n",
      "Dash is running on http://127.0.0.1:4050/\n",
      "\n",
      "Dash is running on http://127.0.0.1:4050/\n",
      "\n",
      " * Serving Flask app \"__main__\" (lazy loading)\n",
      " * Environment: production\n",
      "   WARNING: This is a development server. Do not use it in a production deployment.\n",
      "   Use a production WSGI server instead.\n",
      " * Debug mode: off\n"
     ]
    },
    {
     "name": "stderr",
     "output_type": "stream",
     "text": [
      " * Running on http://127.0.0.1:4050/ (Press CTRL+C to quit)\n",
      "127.0.0.1 - - [19/Nov/2021 00:44:50] \"\u001b[37mGET / HTTP/1.1\u001b[0m\" 200 -\n",
      "127.0.0.1 - - [19/Nov/2021 00:44:50] \"\u001b[37mGET /_dash-layout HTTP/1.1\u001b[0m\" 200 -\n",
      "127.0.0.1 - - [19/Nov/2021 00:44:50] \"\u001b[37mGET /_dash-dependencies HTTP/1.1\u001b[0m\" 200 -\n",
      "127.0.0.1 - - [19/Nov/2021 00:44:50] \"\u001b[37mGET /_dash-component-suites/dash/dcc/async-dropdown.js HTTP/1.1\u001b[0m\" 200 -\n",
      "127.0.0.1 - - [19/Nov/2021 00:44:50] \"\u001b[37mGET /_dash-component-suites/dash/dcc/async-slider.js HTTP/1.1\u001b[0m\" 200 -\n"
     ]
    }
   ],
   "source": [
    "if __name__ == '__main__':\n",
    "    app.run_server(port=4050)"
   ]
  },
  {
   "cell_type": "code",
   "execution_count": null,
   "id": "9b0b49f4-1a98-4039-8819-c7c9ce55e3f1",
   "metadata": {},
   "outputs": [],
   "source": []
  }
 ],
 "metadata": {
  "kernelspec": {
   "display_name": "Python 3 (ipykernel)",
   "language": "python",
   "name": "python3"
  },
  "language_info": {
   "codemirror_mode": {
    "name": "ipython",
    "version": 3
   },
   "file_extension": ".py",
   "mimetype": "text/x-python",
   "name": "python",
   "nbconvert_exporter": "python",
   "pygments_lexer": "ipython3",
   "version": "3.8.8"
  }
 },
 "nbformat": 4,
 "nbformat_minor": 5
}
