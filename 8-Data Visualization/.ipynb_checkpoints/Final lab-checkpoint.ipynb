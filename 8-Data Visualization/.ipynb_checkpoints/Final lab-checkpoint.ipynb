{
 "cells": [
  {
   "cell_type": "markdown",
   "metadata": {
    "button": false,
    "new_sheet": false,
    "run_control": {
     "read_only": false
    }
   },
   "source": [
    "<center>\n",
    "    <img src=\"https://www.iti.gov.eg/assets/images/iti-logo.png\" width=\"150\" alt=\"ITI logo\"  />\n",
    "</center>\n",
    "\n",
    "\n",
    "<center>  <h1> Final lab -  Data visualization</h1> </center>\n",
    "\n",
    "\n"
   ]
  },
  {
   "cell_type": "markdown",
   "metadata": {
    "button": false,
    "new_sheet": false,
    "run_control": {
     "read_only": false
    }
   },
   "source": [
    "# Task 1\n",
    "\n",
    "**Write a Python program to draw a scatter plot to find sea level rise from 1880 through 2014.** I have collected the data from here [GitHub dataset](https://github.com/datasets/sea-level-rise).\n",
    "This data contains \"cumulative changes in sea level for the world’s oceans since 1880, based on a combination of long-term tide gauge measurements and recent satellite measurements. It shows average absolute sea level change, which refers to the height of the ocean surface, regardless of whether nearby land is rising or falling. Satellite data are based solely on measured sea level, while the long-term tide gauge data include a small correction factor because the size and shape of the oceans are changing slowly over time. (On average, the ocean floor has been gradually sinking since the last Ice Age peak, 20,000 years ago.)\"\n"
   ]
  },
  {
   "cell_type": "markdown",
   "metadata": {
    "button": false,
    "new_sheet": false,
    "run_control": {
     "read_only": false
    }
   },
   "source": [
    "#### Downloading and Prepping Data <a id=\"2\"></a>\n"
   ]
  },
  {
   "cell_type": "markdown",
   "metadata": {
    "button": false,
    "new_sheet": false,
    "run_control": {
     "read_only": false
    }
   },
   "source": [
    "Import Primary Modules:\n"
   ]
  },
  {
   "cell_type": "code",
   "execution_count": 20,
   "metadata": {
    "button": false,
    "new_sheet": false,
    "run_control": {
     "read_only": false
    }
   },
   "outputs": [],
   "source": [
    "import numpy as np  # useful for many scientific computing in Python\n",
    "import pandas as pd # primary data structure library"
   ]
  },
  {
   "cell_type": "markdown",
   "metadata": {
    "button": false,
    "new_sheet": false,
    "run_control": {
     "read_only": false
    }
   },
   "source": [
    "Download the dataset and read it into a *pandas* dataframe:\n"
   ]
  },
  {
   "cell_type": "code",
   "execution_count": 21,
   "metadata": {
    "button": false,
    "new_sheet": false,
    "run_control": {
     "read_only": false
    }
   },
   "outputs": [
    {
     "name": "stdout",
     "output_type": "stream",
     "text": [
      "Data downloaded and read into a dataframe!\n"
     ]
    }
   ],
   "source": [
    "df_sea_level = pd.read_csv('https://archive.org/download/seaData/seaData.csv')\n",
    "print('Data downloaded and read into a dataframe!')"
   ]
  },
  {
   "cell_type": "code",
   "execution_count": 22,
   "metadata": {},
   "outputs": [
    {
     "data": {
      "text/html": [
       "<div>\n",
       "<style scoped>\n",
       "    .dataframe tbody tr th:only-of-type {\n",
       "        vertical-align: middle;\n",
       "    }\n",
       "\n",
       "    .dataframe tbody tr th {\n",
       "        vertical-align: top;\n",
       "    }\n",
       "\n",
       "    .dataframe thead th {\n",
       "        text-align: right;\n",
       "    }\n",
       "</style>\n",
       "<table border=\"1\" class=\"dataframe\">\n",
       "  <thead>\n",
       "    <tr style=\"text-align: right;\">\n",
       "      <th></th>\n",
       "      <th>year</th>\n",
       "      <th>CSIRO_sea_level</th>\n",
       "      <th>CSIRO - Lower error bound (inches)</th>\n",
       "      <th>CSIRO - Upper error bound (inches)</th>\n",
       "      <th>NOAA - Adjusted sea level (inches)</th>\n",
       "    </tr>\n",
       "  </thead>\n",
       "  <tbody>\n",
       "    <tr>\n",
       "      <th>0</th>\n",
       "      <td>1880</td>\n",
       "      <td>0.000000</td>\n",
       "      <td>-0.952756</td>\n",
       "      <td>0.952756</td>\n",
       "      <td>NaN</td>\n",
       "    </tr>\n",
       "    <tr>\n",
       "      <th>1</th>\n",
       "      <td>1881</td>\n",
       "      <td>0.220472</td>\n",
       "      <td>-0.732283</td>\n",
       "      <td>1.173228</td>\n",
       "      <td>NaN</td>\n",
       "    </tr>\n",
       "    <tr>\n",
       "      <th>2</th>\n",
       "      <td>1882</td>\n",
       "      <td>-0.440945</td>\n",
       "      <td>-1.346457</td>\n",
       "      <td>0.464567</td>\n",
       "      <td>NaN</td>\n",
       "    </tr>\n",
       "    <tr>\n",
       "      <th>3</th>\n",
       "      <td>1883</td>\n",
       "      <td>-0.232283</td>\n",
       "      <td>-1.129921</td>\n",
       "      <td>0.665354</td>\n",
       "      <td>NaN</td>\n",
       "    </tr>\n",
       "    <tr>\n",
       "      <th>4</th>\n",
       "      <td>1884</td>\n",
       "      <td>0.590551</td>\n",
       "      <td>-0.283465</td>\n",
       "      <td>1.464567</td>\n",
       "      <td>NaN</td>\n",
       "    </tr>\n",
       "  </tbody>\n",
       "</table>\n",
       "</div>"
      ],
      "text/plain": [
       "   year  CSIRO_sea_level  CSIRO - Lower error bound (inches)  \\\n",
       "0  1880         0.000000                           -0.952756   \n",
       "1  1881         0.220472                           -0.732283   \n",
       "2  1882        -0.440945                           -1.346457   \n",
       "3  1883        -0.232283                           -1.129921   \n",
       "4  1884         0.590551                           -0.283465   \n",
       "\n",
       "   CSIRO - Upper error bound (inches)  NOAA - Adjusted sea level (inches)  \n",
       "0                            0.952756                                 NaN  \n",
       "1                            1.173228                                 NaN  \n",
       "2                            0.464567                                 NaN  \n",
       "3                            0.665354                                 NaN  \n",
       "4                            1.464567                                 NaN  "
      ]
     },
     "execution_count": 22,
     "metadata": {},
     "output_type": "execute_result"
    }
   ],
   "source": [
    "df_sea_level.head()"
   ]
  },
  {
   "cell_type": "code",
   "execution_count": 23,
   "metadata": {
    "button": false,
    "new_sheet": false,
    "run_control": {
     "read_only": false
    }
   },
   "outputs": [],
   "source": [
    "### Put your answer here\n",
    "import matplotlib.pyplot as plt\n",
    "import seaborn as sns\n",
    "%matplotlib inline"
   ]
  },
  {
   "cell_type": "code",
   "execution_count": 51,
   "metadata": {
    "button": false,
    "new_sheet": false,
    "run_control": {
     "read_only": false
    }
   },
   "outputs": [
    {
     "data": {
      "image/png": "[encoded data removed]",
      "text/plain": [
       "<Figure size 432x288 with 1 Axes>"
      ]
     },
     "metadata": {
      "needs_background": "light"
     },
     "output_type": "display_data"
    }
   ],
   "source": [
    "# sns.scatterplot(df_sea_level, x='year', y='CSIRO_sea_level')\n",
    "\n",
    "df_sea_level.plot.scatter(x='year', y='CSIRO_sea_level')\n",
    "plt.title('Sealevel over years')\n",
    "plt.xlabel('Years')\n",
    "plt.ylabel('Sea Level')\n",
    "plt.grid()\n",
    "plt.show()"
   ]
  },
  {
   "cell_type": "markdown",
   "metadata": {
    "button": false,
    "new_sheet": false,
    "run_control": {
     "read_only": false
    }
   },
   "source": [
    "# Task 2\n",
    "\n",
    "**Write a Python program to draw a scatter plot with empty circles taking a random distribution in X and Y and plotted against each other.**\n",
    "\n",
    "\n"
   ]
  },
  {
   "cell_type": "markdown",
   "metadata": {},
   "source": [
    "The output should be like the following\n",
    "\n",
    "<a href=\"https://ibb.co/q9H9LKZ\"><img src=\"https://i.ibb.co/L6T6DmG/matplotlib-scatter-exercise-2.png\" alt=\"matplotlib-scatter-exercise-2\" border=\"0\"></a>"
   ]
  },
  {
   "cell_type": "code",
   "execution_count": 49,
   "metadata": {
    "button": false,
    "new_sheet": false,
    "run_control": {
     "read_only": false
    }
   },
   "outputs": [
    {
     "data": {
      "text/plain": [
       "Text(0, 0.5, 'Y')"
      ]
     },
     "execution_count": 49,
     "metadata": {},
     "output_type": "execute_result"
    },
    {
     "data": {
      "image/png": "[encoded data removed]",
      "text/plain": [
       "<Figure size 864x504 with 1 Axes>"
      ]
     },
     "metadata": {
      "needs_background": "light"
     },
     "output_type": "display_data"
    }
   ],
   "source": [
    "### Put your answer here\n",
    "import numpy as np\n",
    "\n",
    "X = np.random.rand(1,50)\n",
    "y = np.random.rand(1,50)\n",
    "\n",
    "plt.figure(figsize=(12,7))\n",
    "plt.scatter(X, y, s=50, facecolors='none', edgecolors='green')\n",
    "plt.title('plots')\n",
    "plt.xlabel('X')\n",
    "plt.ylabel('Y')"
   ]
  },
  {
   "cell_type": "markdown",
   "metadata": {
    "button": false,
    "new_sheet": false,
    "run_control": {
     "read_only": false
    }
   },
   "source": [
    "# Task 3\n",
    "\n",
    "**Given the data below, draw a vertical bar plot for the total deaths of coronavirus over countries considering the following:**\n",
    "\n",
    "\n",
    "- Assign figure size to be 12 inch width and 7 inch height\n",
    "- Name chart's title, lgened, xlabel, ylabel.\n",
    "- Highlight the highest country's death bar with a red color.\n",
    "- Using the for loop, **annotate** each bar with its value (The code is provided below for you) "
   ]
  },
  {
   "cell_type": "code",
   "execution_count": 48,
   "metadata": {
    "button": false,
    "new_sheet": false,
    "run_control": {
     "read_only": false
    }
   },
   "outputs": [
    {
     "data": {
      "image/png": "[encoded data removed]",
      "text/plain": [
       "<Figure size 864x504 with 1 Axes>"
      ]
     },
     "metadata": {
      "needs_background": "light"
     },
     "output_type": "display_data"
    }
   ],
   "source": [
    "# Importing the matplotlib library\n",
    "import matplotlib.pyplot as plt\n",
    "# Categorical data: Country names\n",
    "countries = ['USA', 'Brazil', 'Russia', 'Spain', 'United Kingdom', 'India', 'Egypt']\n",
    "# Integer value interms of death counts\n",
    "totalDeaths = [1125825, 37412, 51871, 28136, 41597, 77549, 20155]\n",
    " \n",
    "\n",
    " ### TODO: Create bar plot\n",
    "plt.figure(figsize=(12,7))\n",
    "plot = plt.bar(countries, totalDeaths)\n",
    "\n",
    "# This is the location for the annotated text\n",
    "i = 1.0\n",
    "j = 2000\n",
    "# Annotating the bar plot with the values (total death count)\n",
    "for i in range(len(countries)):\n",
    "    plt.annotate(totalDeaths[i], (-0.1 + i, totalDeaths[i] + j))\n",
    "    \n",
    "    \n",
    "### TODO: Assign figure size to be 12 inch width and 7 inch height\n",
    "         # Name chart's title, lgened, xlabel, ylabel.\n",
    "         # Highlight the highest country's death bar with a red color.\n",
    "plt.title('Corona Deathes in countries')\n",
    "plt.xlabel('Country')\n",
    "plt.ylabel('Deathes')\n",
    "plot[0].set_color('r')\n",
    "plt.show()"
   ]
  },
  {
   "cell_type": "markdown",
   "metadata": {
    "button": false,
    "new_sheet": false,
    "run_control": {
     "read_only": false
    }
   },
   "source": [
    "### Thank you for completing this lab!\n",
    "\n"
   ]
  }
 ],
 "metadata": {
  "kernelspec": {
   "display_name": "Python 3",
   "language": "python",
   "name": "python3"
  },
  "language_info": {
   "codemirror_mode": {
    "name": "ipython",
    "version": 3
   },
   "file_extension": ".py",
   "mimetype": "text/x-python",
   "name": "python",
   "nbconvert_exporter": "python",
   "pygments_lexer": "ipython3",
   "version": "3.8.8"
  },
  "widgets": {
   "state": {},
   "version": "1.1.2"
  }
 },
 "nbformat": 4,
 "nbformat_minor": 4
}
