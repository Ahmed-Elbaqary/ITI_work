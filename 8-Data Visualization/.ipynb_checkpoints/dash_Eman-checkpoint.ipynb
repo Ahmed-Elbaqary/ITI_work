{
 "cells": [
  {
   "cell_type": "code",
   "execution_count": 1,
   "id": "9e4474b0-2208-4842-b5ba-0075f80323d1",
   "metadata": {},
   "outputs": [],
   "source": [
    "from jupyter_dash import JupyterDash\n",
    "# import dash\n",
    "from dash import dcc\n",
    "from dash import html"
   ]
  },
  {
   "cell_type": "code",
   "execution_count": 30,
   "id": "d7cd4eea-06aa-4d79-b206-a12b41033ebe",
   "metadata": {},
   "outputs": [],
   "source": [
    "app = JupyterDash()\n",
    "# app = dash.Dash()"
   ]
  },
  {
   "cell_type": "code",
   "execution_count": 21,
   "id": "0a701bc1-921c-49aa-bdd4-72159f517b40",
   "metadata": {},
   "outputs": [],
   "source": [
    "app.layout = html.Div([\n",
    "    html.H1('My Dashboard', style={'textAlign':'center', 'color':'#CF0808'}),\n",
    "    html.Br(), # <------------ Down by one line\n",
    "    html.Hr(), # <------------ Horizontal rule\n",
    "    html.P('My Text ................', style={'backgroundColor':'#F2DFDF'})\n",
    "])"
   ]
  },
  {
   "cell_type": "code",
   "execution_count": 14,
   "id": "f5602606-71d6-47df-a72d-f4b8eb9822dc",
   "metadata": {},
   "outputs": [
    {
     "name": "stdout",
     "output_type": "stream",
     "text": [
      "Dash app running on http://127.0.0.1:5080/\n"
     ]
    }
   ],
   "source": [
    "if __name__ == '__main__':\n",
    "    app.run_server(port=5080)"
   ]
  },
  {
   "cell_type": "markdown",
   "id": "956581b4-7553-45ea-8670-c46701c9b300",
   "metadata": {},
   "source": [
    "---\n",
    "**Note: we want to style our dashboard so we will use an external CSS style sheet**"
   ]
  },
  {
   "cell_type": "code",
   "execution_count": 17,
   "id": "fdb286e0-5565-4dad-8a05-8bb0eeb21484",
   "metadata": {},
   "outputs": [],
   "source": [
    "app = JupyterDash(external_stylesheets = ['https://codepen.io/chriddyp/pen/bWLwgP.css'])\n",
    "# app = dash.Dash(external_stylesheets=['https://codepen.io/chriddyp/pen/bWLwgP.css'])"
   ]
  },
  {
   "cell_type": "code",
   "execution_count": 10,
   "id": "02deb981-e88c-4b30-95ad-2d039468b785",
   "metadata": {},
   "outputs": [],
   "source": [
    "app.layout = html.Div([\n",
    "    html.H1('My Dashboard', style={'textAlign':'center', 'color':'#CF0808'}),\n",
    "    html.Br(), # <------------ Down by one line\n",
    "    html.Hr(), # <------------ Horizontal rule\n",
    "    html.P('My Text ................', style={'backgroundColor':'#F2DFDF'}),\n",
    "    html.Div([\n",
    "        html.Div('Div1', className='Four Columns'),\n",
    "        html.Div('Div2', className='Four Columns'),\n",
    "        html.Div('Div3', className='Four Columns')\n",
    "    ])\n",
    "], className='container')"
   ]
  },
  {
   "cell_type": "code",
   "execution_count": 11,
   "id": "f7a7ee03-3310-46f6-855f-f4a97ac06fdd",
   "metadata": {},
   "outputs": [
    {
     "name": "stdout",
     "output_type": "stream",
     "text": [
      "Dash app running on http://127.0.0.1:5080/\n"
     ]
    }
   ],
   "source": [
    "if __name__ == '__main__':\n",
    "    app.run_server(port=5080)"
   ]
  },
  {
   "cell_type": "markdown",
   "id": "fc34ab73-8721-46f2-b939-2dad633c3b8a",
   "metadata": {},
   "source": [
    "---"
   ]
  },
  {
   "cell_type": "code",
   "execution_count": 22,
   "id": "298976d9-af5c-4f4c-a127-a76079ee2483",
   "metadata": {},
   "outputs": [],
   "source": [
    "%config Completer.use_jedi = False"
   ]
  },
  {
   "cell_type": "code",
   "execution_count": 23,
   "id": "76580f19-c833-43e4-b0e5-e627174c50e5",
   "metadata": {},
   "outputs": [],
   "source": [
    "import plotly.express as px\n",
    "import pandas as pd"
   ]
  },
  {
   "cell_type": "code",
   "execution_count": 24,
   "id": "f1aec5ae-539e-4ae9-9f46-4aba302ddf47",
   "metadata": {},
   "outputs": [
    {
     "data": {
      "text/html": [
       "<div>\n",
       "<style scoped>\n",
       "    .dataframe tbody tr th:only-of-type {\n",
       "        vertical-align: middle;\n",
       "    }\n",
       "\n",
       "    .dataframe tbody tr th {\n",
       "        vertical-align: top;\n",
       "    }\n",
       "\n",
       "    .dataframe thead th {\n",
       "        text-align: right;\n",
       "    }\n",
       "</style>\n",
       "<table border=\"1\" class=\"dataframe\">\n",
       "  <thead>\n",
       "    <tr style=\"text-align: right;\">\n",
       "      <th></th>\n",
       "      <th>country</th>\n",
       "      <th>continent</th>\n",
       "      <th>year</th>\n",
       "      <th>lifeExp</th>\n",
       "      <th>pop</th>\n",
       "      <th>gdpPercap</th>\n",
       "      <th>iso_alpha</th>\n",
       "      <th>iso_num</th>\n",
       "    </tr>\n",
       "  </thead>\n",
       "  <tbody>\n",
       "    <tr>\n",
       "      <th>1240</th>\n",
       "      <td>Portugal</td>\n",
       "      <td>Europe</td>\n",
       "      <td>1972</td>\n",
       "      <td>69.260</td>\n",
       "      <td>8970450</td>\n",
       "      <td>9022.247417</td>\n",
       "      <td>PRT</td>\n",
       "      <td>620</td>\n",
       "    </tr>\n",
       "    <tr>\n",
       "      <th>95</th>\n",
       "      <td>Bahrain</td>\n",
       "      <td>Asia</td>\n",
       "      <td>2007</td>\n",
       "      <td>75.635</td>\n",
       "      <td>708573</td>\n",
       "      <td>29796.048340</td>\n",
       "      <td>BHR</td>\n",
       "      <td>48</td>\n",
       "    </tr>\n",
       "    <tr>\n",
       "      <th>1471</th>\n",
       "      <td>Sweden</td>\n",
       "      <td>Europe</td>\n",
       "      <td>1987</td>\n",
       "      <td>77.190</td>\n",
       "      <td>8421403</td>\n",
       "      <td>23586.929270</td>\n",
       "      <td>SWE</td>\n",
       "      <td>752</td>\n",
       "    </tr>\n",
       "    <tr>\n",
       "      <th>1561</th>\n",
       "      <td>Tunisia</td>\n",
       "      <td>Africa</td>\n",
       "      <td>1957</td>\n",
       "      <td>47.100</td>\n",
       "      <td>3950849</td>\n",
       "      <td>1395.232468</td>\n",
       "      <td>TUN</td>\n",
       "      <td>788</td>\n",
       "    </tr>\n",
       "    <tr>\n",
       "      <th>865</th>\n",
       "      <td>Lebanon</td>\n",
       "      <td>Asia</td>\n",
       "      <td>1957</td>\n",
       "      <td>59.489</td>\n",
       "      <td>1647412</td>\n",
       "      <td>6089.786934</td>\n",
       "      <td>LBN</td>\n",
       "      <td>422</td>\n",
       "    </tr>\n",
       "  </tbody>\n",
       "</table>\n",
       "</div>"
      ],
      "text/plain": [
       "       country continent  year  lifeExp      pop     gdpPercap iso_alpha  \\\n",
       "1240  Portugal    Europe  1972   69.260  8970450   9022.247417       PRT   \n",
       "95     Bahrain      Asia  2007   75.635   708573  29796.048340       BHR   \n",
       "1471    Sweden    Europe  1987   77.190  8421403  23586.929270       SWE   \n",
       "1561   Tunisia    Africa  1957   47.100  3950849   1395.232468       TUN   \n",
       "865    Lebanon      Asia  1957   59.489  1647412   6089.786934       LBN   \n",
       "\n",
       "      iso_num  \n",
       "1240      620  \n",
       "95         48  \n",
       "1471      752  \n",
       "1561      788  \n",
       "865       422  "
      ]
     },
     "execution_count": 24,
     "metadata": {},
     "output_type": "execute_result"
    }
   ],
   "source": [
    "df = px.data.gapminder()\n",
    "df.sample(5)"
   ]
  },
  {
   "cell_type": "code",
   "execution_count": 32,
   "id": "a5d98fd2-03cd-492e-84c1-e7782f8ec677",
   "metadata": {},
   "outputs": [],
   "source": [
    "# We can make it animated using (animation_frame)\n",
    "# note we removed year==2007 condition\n",
    "fig1 = px.scatter(df, x='gdpPercap', y='lifeExp',\n",
    "           color='continent', size='pop',\n",
    "           size_max=40, log_x=True,\n",
    "           title=\"My Scatter\",\n",
    "           hover_name='country',\n",
    "          animation_frame = 'year') #<---------- this"
   ]
  },
  {
   "cell_type": "code",
   "execution_count": 33,
   "id": "52094bc1-5167-4147-b489-4043cf3dacf8",
   "metadata": {},
   "outputs": [],
   "source": [
    "fig2 = px.sunburst(df, color='lifeExp', values='pop', \n",
    "            path= ['continent', 'country'],\n",
    "           hover_name='country', height=600)"
   ]
  },
  {
   "cell_type": "code",
   "execution_count": 34,
   "id": "639d57ab-ed8e-4d07-a139-1117923361e1",
   "metadata": {},
   "outputs": [],
   "source": [
    "app.layout = html.Div([\n",
    "    \n",
    "    html.H1('My Dashboard', style={'textAlign':'center', 'color':'#CF0808'}),\n",
    "    html.Br(), # <------------ Down by one line\n",
    "    html.Hr(), # <------------ Horizontal rule\n",
    "    html.P('My Text ................', style={'backgroundColor':'#F2DFDF'}),\n",
    "    \n",
    "    # Making Partitions in my dashboard\n",
    "    html.Div([\n",
    "        html.Div([\n",
    "            html.H1('My 1st Graph'),\n",
    "            dcc.Graph(figure=fig1)\n",
    "        ],className='Four Columns'),\n",
    "        \n",
    "        html.Div([\n",
    "            html.H1('My 2nd Graph'),\n",
    "            dcc.Graph(figure=fig2)\n",
    "        ], className='Four Columns'),\n",
    "        \n",
    "        html.Div('Div3', className='Four Columns')\n",
    "    ])\n",
    "    \n",
    "], className='row')"
   ]
  },
  {
   "cell_type": "code",
   "execution_count": 35,
   "id": "7817ed07-b2e3-43a7-8a4e-3fbb6a260990",
   "metadata": {},
   "outputs": [
    {
     "name": "stdout",
     "output_type": "stream",
     "text": [
      "Dash app running on http://127.0.0.1:5080/\n"
     ]
    }
   ],
   "source": [
    "if __name__ == '__main__':\n",
    "    app.run_server(port=5080)"
   ]
  },
  {
   "cell_type": "code",
   "execution_count": null,
   "id": "1bc1dbc6-fbbb-42e5-8137-970585898eea",
   "metadata": {},
   "outputs": [],
   "source": []
  }
 ],
 "metadata": {
  "kernelspec": {
   "display_name": "Python 3",
   "language": "python",
   "name": "python3"
  },
  "language_info": {
   "codemirror_mode": {
    "name": "ipython",
    "version": 3
   },
   "file_extension": ".py",
   "mimetype": "text/x-python",
   "name": "python",
   "nbconvert_exporter": "python",
   "pygments_lexer": "ipython3",
   "version": "3.8.8"
  }
 },
 "nbformat": 4,
 "nbformat_minor": 5
}
