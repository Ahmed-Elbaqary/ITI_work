{
 "cells": [
  {
   "cell_type": "code",
   "execution_count": 1,
   "id": "f43cb963-dd63-4a4a-b486-a5c378752383",
   "metadata": {},
   "outputs": [],
   "source": [
    "from logging import PlaceHolder\n",
    "from jupyter_dash import JupyterDash\n",
    "# import dash\n",
    "from dash import html\n",
    "from dash import dcc\n",
    "from dash.dependencies import Input, Output"
   ]
  },
  {
   "cell_type": "code",
   "execution_count": 2,
   "id": "c1e62e10-5577-4161-af7d-c648536516ca",
   "metadata": {},
   "outputs": [],
   "source": [
    "app = JupyterDash()\n",
    "# app = dash.Dash()"
   ]
  },
  {
   "cell_type": "code",
   "execution_count": 5,
   "id": "6ed81de7-6a48-4ecd-8e50-ff3b6f489562",
   "metadata": {},
   "outputs": [],
   "source": [
    "app.layout = html.Div(children=[\n",
    "    dcc.Input(id='my-input', value='initial value', type='text'),\n",
    "    html.Div(id='my-Div')\n",
    "])"
   ]
  },
  {
   "cell_type": "code",
   "execution_count": 13,
   "id": "92d72ff2-59da-4bb9-a886-0ab76af8ab40",
   "metadata": {},
   "outputs": [],
   "source": [
    "@app.callback(\n",
    "    Output(component_id='my-Div', component_property='children'),\n",
    "    Input(component_id='my-input', component_property='value'))\n",
    "def update_My_Div(input_value):\n",
    "    return 'you write: {}'.format(input_value)"
   ]
  },
  {
   "cell_type": "code",
   "execution_count": 14,
   "id": "aacafefc-186b-4e38-b1b0-70017564f89f",
   "metadata": {},
   "outputs": [
    {
     "name": "stdout",
     "output_type": "stream",
     "text": [
      "Dash app running on http://127.0.0.1:5080/\n"
     ]
    }
   ],
   "source": [
    "if __name__ == '__main__':\n",
    "    app.run_server(port=5080)"
   ]
  },
  {
   "cell_type": "markdown",
   "id": "f3c95f2c-8395-4619-8945-e5547c0d673e",
   "metadata": {},
   "source": [
    "---\n",
    "# Plotting from dataframe:"
   ]
  },
  {
   "cell_type": "code",
   "execution_count": 4,
   "id": "fe80701c-73f2-47ed-a94b-a99890b80f8e",
   "metadata": {},
   "outputs": [],
   "source": [
    "import plotly.express as px\n",
    "import pandas as pd"
   ]
  },
  {
   "cell_type": "code",
   "execution_count": 5,
   "id": "916ba2b4-0c06-4113-be85-5858d57132e6",
   "metadata": {},
   "outputs": [],
   "source": [
    "df = px.data.gapminder()\n",
    "df_2 =  px.data.stocks()"
   ]
  },
  {
   "cell_type": "code",
   "execution_count": 9,
   "id": "8036d34b-9019-4baf-951b-b2ee23011557",
   "metadata": {},
   "outputs": [],
   "source": [
    "app.layout = html.Div([\n",
    "    \n",
    "    html.H1('Callback ex2', style={'textAlign':'center'}),\n",
    "    dcc.Graph(id='myGraph', figure={}),\n",
    "    dcc.Dropdown(\n",
    "        id = 'demo-dropdown',\n",
    "        options = [\n",
    "            {'label':str(continent),\n",
    "             'value': str(continent)} for continent in df['continent'].unique()\n",
    "        ],\n",
    "        value = None,\n",
    "        multi = True,\n",
    "        placeholder = 'choose a continent ...'\n",
    "    ),\n",
    "    \n",
    "    dcc.Slider(\n",
    "        id = 'my-slider',\n",
    "        min = df['year'].min(),\n",
    "        max = df['year'].max(),\n",
    "        value = df['year'].min(),\n",
    "        step = None,\n",
    "        marks = {str(years) : str(years) for years in df['year'].unique()}\n",
    "    )\n",
    "])"
   ]
  },
  {
   "cell_type": "code",
   "execution_count": 10,
   "id": "7a2df635-a724-4161-8489-ac1e7e4f9908",
   "metadata": {},
   "outputs": [],
   "source": [
    "@app.callback(\n",
    "    Output('myGraph', 'figure'),\n",
    "    Input('my-slider', 'value'),\n",
    "    Input('demo-dropdown', 'value')\n",
    ")\n",
    "def update_graph(slidervalue, dropdownvalue):\n",
    "    if dropdownvalue == None:\n",
    "        filtered_df = df[df['year'] == slidervalue]\n",
    "        fig = px.scatter(filtered_df, x='gdpPercap', y='lifeExp',\n",
    "                       color='continent', size='pop',\n",
    "                       size_max=40, log_x=True,\n",
    "                       title=\"My Scatter\",\n",
    "                       hover_name='country',\n",
    "                      animation_frame = 'year')\n",
    "    \n",
    "    else:\n",
    "        filtered_df = df[(df['year']==slidervalue) & (df['continent'].isin(dropdownvalue))]\n",
    "        fig = px.scatter(filtered_df, x='gdpPercap', y='lifeExp', \n",
    "                         color='continent', size='pop',\n",
    "                        size_max=40, log_x=True,\n",
    "                        title=\"My Scatter\",\n",
    "                        hover_name='country',\n",
    "                        animation_frame = 'year')\n",
    "    return fig"
   ]
  },
  {
   "cell_type": "code",
   "execution_count": 11,
   "id": "88344e91-7522-4c46-83e3-13659ecf6d6f",
   "metadata": {},
   "outputs": [
    {
     "name": "stdout",
     "output_type": "stream",
     "text": [
      "Dash app running on http://127.0.0.1:5080/\n"
     ]
    }
   ],
   "source": [
    "if __name__ == '__main__':\n",
    "    app.run_server(port=5080)"
   ]
  },
  {
   "cell_type": "markdown",
   "id": "3fd3bd09-d674-4e93-b6f5-5058407c741f",
   "metadata": {},
   "source": [
    "---\n",
    "# Using states:"
   ]
  },
  {
   "cell_type": "code",
   "execution_count": 6,
   "id": "31741db8-5d50-4cb7-8bbd-a206e0037e5e",
   "metadata": {},
   "outputs": [],
   "source": [
    "app.layout = html.Div([\n",
    "    \n",
    "    html.Div([\n",
    "        html.H1('Scatter of population', style={'textAlign':'center'}),\n",
    "        dcc.Graph(id='myGraph', figure={}),\n",
    "        dcc.Graph(id='Graph2', figure={}),\n",
    "        dcc.Dropdown(\n",
    "            id = 'demo-dropdown',\n",
    "            options = [\n",
    "                {'label':str(continent),\n",
    "                 'value': str(continent)} for continent in df['continent'].unique()\n",
    "            ],\n",
    "            value = None,\n",
    "            multi = True,\n",
    "            placeholder = 'choose a continent ...'\n",
    "        ),\n",
    "\n",
    "        dcc.Slider(\n",
    "            id = 'my-slider',\n",
    "            min = df['year'].min(),\n",
    "            max = df['year'].max(),\n",
    "            value = df['year'].min(),\n",
    "            step = None,\n",
    "            marks = {str(years) : str(years) for years in df['year'].unique()}\n",
    "        ),\n",
    "        html.Button(id='submit', n_clicks=0, children='Submit')\n",
    "    ]),\n",
    "    \n",
    "    \n",
    "    html.Div([\n",
    "        html.H1('Stocks over time', style={'textAlign':'center'}),\n",
    "        dcc.Graph(id='Graph2', figure={}),\n",
    "        dcc.Dropdown(\n",
    "            id = 'company_drop',\n",
    "            options = [\n",
    "                {'label':str(company),\n",
    "                 'value': str(company)} for company in df_2.columns[1:]\n",
    "            ],\n",
    "            value = None,\n",
    "            multi = True,\n",
    "            placeholder = 'choose a company ...'\n",
    "        )\n",
    "    ]),\n",
    "    \n",
    "    ])"
   ]
  },
  {
   "cell_type": "code",
   "execution_count": 7,
   "id": "2b351883-5aa2-4823-966a-be3de54dc7f0",
   "metadata": {},
   "outputs": [],
   "source": [
    "@app.callback(\n",
    "    Output('myGraph', 'figure'),\n",
    "    Output('Graph2', 'figure'),\n",
    "    \n",
    "    Input('my-slider', 'value'),\n",
    "    Input('demo-dropdown', 'value'),\n",
    "    Input('company_drop', 'value')\n",
    ")\n",
    "def update_graph(slidervalue, dropdownvalue, drop_2):\n",
    "    if dropdownvalue == None:\n",
    "        filtered_df = df[df['year'] == slidervalue]\n",
    "        fig1 = px.scatter(filtered_df, x='gdpPercap', y='lifeExp',\n",
    "                       color='continent', size='pop',\n",
    "                       size_max=40, log_x=True,\n",
    "                       title=\"My Scatter\",\n",
    "                       hover_name='country',\n",
    "                      animation_frame = 'year')\n",
    "    else:\n",
    "        filtered_df = df[(df['year']==slidervalue) & (df['continent'].isin(dropdownvalue))]\n",
    "        fig = px.scatter(filtered_df, x='gdpPercap', y='lifeExp', \n",
    "                         color='continent', size='pop',\n",
    "                        size_max=40, log_x=True,\n",
    "                        title=\"My Scatter\",\n",
    "                        hover_name='country',\n",
    "                        animation_frame = 'year')\n",
    "        \n",
    "    fig2 = px.line(df_2, x='date', y=drop_2 , markers='date')\n",
    "    return fig1, fig2"
   ]
  },
  {
   "cell_type": "code",
   "execution_count": 8,
   "id": "123cfdcd-409e-4490-a42b-edc577fa3aaa",
   "metadata": {},
   "outputs": [
    {
     "ename": "OSError",
     "evalue": "Address 'http://127.0.0.1:7080' already in use.\n    Try passing a different port to run_server.",
     "output_type": "error",
     "traceback": [
      "\u001b[1;31m---------------------------------------------------------------------------\u001b[0m",
      "\u001b[1;31mOSError\u001b[0m                                   Traceback (most recent call last)",
      "\u001b[1;32m<ipython-input-8-5c97a42258d7>\u001b[0m in \u001b[0;36m<module>\u001b[1;34m\u001b[0m\n\u001b[0;32m      1\u001b[0m \u001b[1;32mif\u001b[0m \u001b[0m__name__\u001b[0m \u001b[1;33m==\u001b[0m \u001b[1;34m'__main__'\u001b[0m\u001b[1;33m:\u001b[0m\u001b[1;33m\u001b[0m\u001b[1;33m\u001b[0m\u001b[0m\n\u001b[1;32m----> 2\u001b[1;33m     \u001b[0mapp\u001b[0m\u001b[1;33m.\u001b[0m\u001b[0mrun_server\u001b[0m\u001b[1;33m(\u001b[0m\u001b[0mport\u001b[0m\u001b[1;33m=\u001b[0m\u001b[1;36m7080\u001b[0m\u001b[1;33m)\u001b[0m\u001b[1;33m\u001b[0m\u001b[1;33m\u001b[0m\u001b[0m\n\u001b[0m",
      "\u001b[1;32m~\\anaconda3\\lib\\site-packages\\jupyter_dash\\jupyter_app.py\u001b[0m in \u001b[0;36mrun_server\u001b[1;34m(self, mode, width, height, inline_exceptions, **kwargs)\u001b[0m\n\u001b[0;32m    317\u001b[0m                 )\n\u001b[0;32m    318\u001b[0m \u001b[1;33m\u001b[0m\u001b[0m\n\u001b[1;32m--> 319\u001b[1;33m         \u001b[0mwait_for_app\u001b[0m\u001b[1;33m(\u001b[0m\u001b[1;33m)\u001b[0m\u001b[1;33m\u001b[0m\u001b[1;33m\u001b[0m\u001b[0m\n\u001b[0m\u001b[0;32m    320\u001b[0m \u001b[1;33m\u001b[0m\u001b[0m\n\u001b[0;32m    321\u001b[0m         \u001b[1;32mif\u001b[0m \u001b[0mJupyterDash\u001b[0m\u001b[1;33m.\u001b[0m\u001b[0m_in_colab\u001b[0m\u001b[1;33m:\u001b[0m\u001b[1;33m\u001b[0m\u001b[1;33m\u001b[0m\u001b[0m\n",
      "\u001b[1;32m~\\anaconda3\\lib\\site-packages\\retrying.py\u001b[0m in \u001b[0;36mwrapped_f\u001b[1;34m(*args, **kw)\u001b[0m\n\u001b[0;32m     47\u001b[0m             \u001b[1;33m@\u001b[0m\u001b[0msix\u001b[0m\u001b[1;33m.\u001b[0m\u001b[0mwraps\u001b[0m\u001b[1;33m(\u001b[0m\u001b[0mf\u001b[0m\u001b[1;33m)\u001b[0m\u001b[1;33m\u001b[0m\u001b[1;33m\u001b[0m\u001b[0m\n\u001b[0;32m     48\u001b[0m             \u001b[1;32mdef\u001b[0m \u001b[0mwrapped_f\u001b[0m\u001b[1;33m(\u001b[0m\u001b[1;33m*\u001b[0m\u001b[0margs\u001b[0m\u001b[1;33m,\u001b[0m \u001b[1;33m**\u001b[0m\u001b[0mkw\u001b[0m\u001b[1;33m)\u001b[0m\u001b[1;33m:\u001b[0m\u001b[1;33m\u001b[0m\u001b[1;33m\u001b[0m\u001b[0m\n\u001b[1;32m---> 49\u001b[1;33m                 \u001b[1;32mreturn\u001b[0m \u001b[0mRetrying\u001b[0m\u001b[1;33m(\u001b[0m\u001b[1;33m*\u001b[0m\u001b[0mdargs\u001b[0m\u001b[1;33m,\u001b[0m \u001b[1;33m**\u001b[0m\u001b[0mdkw\u001b[0m\u001b[1;33m)\u001b[0m\u001b[1;33m.\u001b[0m\u001b[0mcall\u001b[0m\u001b[1;33m(\u001b[0m\u001b[0mf\u001b[0m\u001b[1;33m,\u001b[0m \u001b[1;33m*\u001b[0m\u001b[0margs\u001b[0m\u001b[1;33m,\u001b[0m \u001b[1;33m**\u001b[0m\u001b[0mkw\u001b[0m\u001b[1;33m)\u001b[0m\u001b[1;33m\u001b[0m\u001b[1;33m\u001b[0m\u001b[0m\n\u001b[0m\u001b[0;32m     50\u001b[0m \u001b[1;33m\u001b[0m\u001b[0m\n\u001b[0;32m     51\u001b[0m             \u001b[1;32mreturn\u001b[0m \u001b[0mwrapped_f\u001b[0m\u001b[1;33m\u001b[0m\u001b[1;33m\u001b[0m\u001b[0m\n",
      "\u001b[1;32m~\\anaconda3\\lib\\site-packages\\retrying.py\u001b[0m in \u001b[0;36mcall\u001b[1;34m(self, fn, *args, **kwargs)\u001b[0m\n\u001b[0;32m    210\u001b[0m                 \u001b[1;32mif\u001b[0m \u001b[1;32mnot\u001b[0m \u001b[0mself\u001b[0m\u001b[1;33m.\u001b[0m\u001b[0m_wrap_exception\u001b[0m \u001b[1;32mand\u001b[0m \u001b[0mattempt\u001b[0m\u001b[1;33m.\u001b[0m\u001b[0mhas_exception\u001b[0m\u001b[1;33m:\u001b[0m\u001b[1;33m\u001b[0m\u001b[1;33m\u001b[0m\u001b[0m\n\u001b[0;32m    211\u001b[0m                     \u001b[1;31m# get() on an attempt with an exception should cause it to be raised, but raise just in case\u001b[0m\u001b[1;33m\u001b[0m\u001b[1;33m\u001b[0m\u001b[1;33m\u001b[0m\u001b[0m\n\u001b[1;32m--> 212\u001b[1;33m                     \u001b[1;32mraise\u001b[0m \u001b[0mattempt\u001b[0m\u001b[1;33m.\u001b[0m\u001b[0mget\u001b[0m\u001b[1;33m(\u001b[0m\u001b[1;33m)\u001b[0m\u001b[1;33m\u001b[0m\u001b[1;33m\u001b[0m\u001b[0m\n\u001b[0m\u001b[0;32m    213\u001b[0m                 \u001b[1;32melse\u001b[0m\u001b[1;33m:\u001b[0m\u001b[1;33m\u001b[0m\u001b[1;33m\u001b[0m\u001b[0m\n\u001b[0;32m    214\u001b[0m                     \u001b[1;32mraise\u001b[0m \u001b[0mRetryError\u001b[0m\u001b[1;33m(\u001b[0m\u001b[0mattempt\u001b[0m\u001b[1;33m)\u001b[0m\u001b[1;33m\u001b[0m\u001b[1;33m\u001b[0m\u001b[0m\n",
      "\u001b[1;32m~\\anaconda3\\lib\\site-packages\\retrying.py\u001b[0m in \u001b[0;36mget\u001b[1;34m(self, wrap_exception)\u001b[0m\n\u001b[0;32m    245\u001b[0m                 \u001b[1;32mraise\u001b[0m \u001b[0mRetryError\u001b[0m\u001b[1;33m(\u001b[0m\u001b[0mself\u001b[0m\u001b[1;33m)\u001b[0m\u001b[1;33m\u001b[0m\u001b[1;33m\u001b[0m\u001b[0m\n\u001b[0;32m    246\u001b[0m             \u001b[1;32melse\u001b[0m\u001b[1;33m:\u001b[0m\u001b[1;33m\u001b[0m\u001b[1;33m\u001b[0m\u001b[0m\n\u001b[1;32m--> 247\u001b[1;33m                 \u001b[0msix\u001b[0m\u001b[1;33m.\u001b[0m\u001b[0mreraise\u001b[0m\u001b[1;33m(\u001b[0m\u001b[0mself\u001b[0m\u001b[1;33m.\u001b[0m\u001b[0mvalue\u001b[0m\u001b[1;33m[\u001b[0m\u001b[1;36m0\u001b[0m\u001b[1;33m]\u001b[0m\u001b[1;33m,\u001b[0m \u001b[0mself\u001b[0m\u001b[1;33m.\u001b[0m\u001b[0mvalue\u001b[0m\u001b[1;33m[\u001b[0m\u001b[1;36m1\u001b[0m\u001b[1;33m]\u001b[0m\u001b[1;33m,\u001b[0m \u001b[0mself\u001b[0m\u001b[1;33m.\u001b[0m\u001b[0mvalue\u001b[0m\u001b[1;33m[\u001b[0m\u001b[1;36m2\u001b[0m\u001b[1;33m]\u001b[0m\u001b[1;33m)\u001b[0m\u001b[1;33m\u001b[0m\u001b[1;33m\u001b[0m\u001b[0m\n\u001b[0m\u001b[0;32m    248\u001b[0m         \u001b[1;32melse\u001b[0m\u001b[1;33m:\u001b[0m\u001b[1;33m\u001b[0m\u001b[1;33m\u001b[0m\u001b[0m\n\u001b[0;32m    249\u001b[0m             \u001b[1;32mreturn\u001b[0m \u001b[0mself\u001b[0m\u001b[1;33m.\u001b[0m\u001b[0mvalue\u001b[0m\u001b[1;33m\u001b[0m\u001b[1;33m\u001b[0m\u001b[0m\n",
      "\u001b[1;32m~\\anaconda3\\lib\\site-packages\\six.py\u001b[0m in \u001b[0;36mreraise\u001b[1;34m(tp, value, tb)\u001b[0m\n\u001b[0;32m    701\u001b[0m             \u001b[1;32mif\u001b[0m \u001b[0mvalue\u001b[0m\u001b[1;33m.\u001b[0m\u001b[0m__traceback__\u001b[0m \u001b[1;32mis\u001b[0m \u001b[1;32mnot\u001b[0m \u001b[0mtb\u001b[0m\u001b[1;33m:\u001b[0m\u001b[1;33m\u001b[0m\u001b[1;33m\u001b[0m\u001b[0m\n\u001b[0;32m    702\u001b[0m                 \u001b[1;32mraise\u001b[0m \u001b[0mvalue\u001b[0m\u001b[1;33m.\u001b[0m\u001b[0mwith_traceback\u001b[0m\u001b[1;33m(\u001b[0m\u001b[0mtb\u001b[0m\u001b[1;33m)\u001b[0m\u001b[1;33m\u001b[0m\u001b[1;33m\u001b[0m\u001b[0m\n\u001b[1;32m--> 703\u001b[1;33m             \u001b[1;32mraise\u001b[0m \u001b[0mvalue\u001b[0m\u001b[1;33m\u001b[0m\u001b[1;33m\u001b[0m\u001b[0m\n\u001b[0m\u001b[0;32m    704\u001b[0m         \u001b[1;32mfinally\u001b[0m\u001b[1;33m:\u001b[0m\u001b[1;33m\u001b[0m\u001b[1;33m\u001b[0m\u001b[0m\n\u001b[0;32m    705\u001b[0m             \u001b[0mvalue\u001b[0m \u001b[1;33m=\u001b[0m \u001b[1;32mNone\u001b[0m\u001b[1;33m\u001b[0m\u001b[1;33m\u001b[0m\u001b[0m\n",
      "\u001b[1;32m~\\anaconda3\\lib\\site-packages\\retrying.py\u001b[0m in \u001b[0;36mcall\u001b[1;34m(self, fn, *args, **kwargs)\u001b[0m\n\u001b[0;32m    198\u001b[0m         \u001b[1;32mwhile\u001b[0m \u001b[1;32mTrue\u001b[0m\u001b[1;33m:\u001b[0m\u001b[1;33m\u001b[0m\u001b[1;33m\u001b[0m\u001b[0m\n\u001b[0;32m    199\u001b[0m             \u001b[1;32mtry\u001b[0m\u001b[1;33m:\u001b[0m\u001b[1;33m\u001b[0m\u001b[1;33m\u001b[0m\u001b[0m\n\u001b[1;32m--> 200\u001b[1;33m                 \u001b[0mattempt\u001b[0m \u001b[1;33m=\u001b[0m \u001b[0mAttempt\u001b[0m\u001b[1;33m(\u001b[0m\u001b[0mfn\u001b[0m\u001b[1;33m(\u001b[0m\u001b[1;33m*\u001b[0m\u001b[0margs\u001b[0m\u001b[1;33m,\u001b[0m \u001b[1;33m**\u001b[0m\u001b[0mkwargs\u001b[0m\u001b[1;33m)\u001b[0m\u001b[1;33m,\u001b[0m \u001b[0mattempt_number\u001b[0m\u001b[1;33m,\u001b[0m \u001b[1;32mFalse\u001b[0m\u001b[1;33m)\u001b[0m\u001b[1;33m\u001b[0m\u001b[1;33m\u001b[0m\u001b[0m\n\u001b[0m\u001b[0;32m    201\u001b[0m             \u001b[1;32mexcept\u001b[0m\u001b[1;33m:\u001b[0m\u001b[1;33m\u001b[0m\u001b[1;33m\u001b[0m\u001b[0m\n\u001b[0;32m    202\u001b[0m                 \u001b[0mtb\u001b[0m \u001b[1;33m=\u001b[0m \u001b[0msys\u001b[0m\u001b[1;33m.\u001b[0m\u001b[0mexc_info\u001b[0m\u001b[1;33m(\u001b[0m\u001b[1;33m)\u001b[0m\u001b[1;33m\u001b[0m\u001b[1;33m\u001b[0m\u001b[0m\n",
      "\u001b[1;32m~\\anaconda3\\lib\\site-packages\\jupyter_dash\\jupyter_app.py\u001b[0m in \u001b[0;36mwait_for_app\u001b[1;34m()\u001b[0m\n\u001b[0;32m    310\u001b[0m                     \u001b[0mhost\u001b[0m\u001b[1;33m=\u001b[0m\u001b[0mhost\u001b[0m\u001b[1;33m,\u001b[0m \u001b[0mport\u001b[0m\u001b[1;33m=\u001b[0m\u001b[0mport\u001b[0m\u001b[1;33m,\u001b[0m \u001b[0mtoken\u001b[0m\u001b[1;33m=\u001b[0m\u001b[0mJupyterDash\u001b[0m\u001b[1;33m.\u001b[0m\u001b[0m_token\u001b[0m\u001b[1;33m\u001b[0m\u001b[1;33m\u001b[0m\u001b[0m\n\u001b[0;32m    311\u001b[0m                 )\n\u001b[1;32m--> 312\u001b[1;33m                 raise OSError(\n\u001b[0m\u001b[0;32m    313\u001b[0m                     \u001b[1;34m\"Address '{url}' already in use.\\n\"\u001b[0m\u001b[1;33m\u001b[0m\u001b[1;33m\u001b[0m\u001b[0m\n\u001b[0;32m    314\u001b[0m                     \"    Try passing a different port to run_server.\".format(\n",
      "\u001b[1;31mOSError\u001b[0m: Address 'http://127.0.0.1:7080' already in use.\n    Try passing a different port to run_server."
     ]
    }
   ],
   "source": [
    "if __name__ == '__main__':\n",
    "    app.run_server(port=7080)"
   ]
  },
  {
   "cell_type": "code",
   "execution_count": null,
   "id": "230f8a31-90bb-41ae-b4c2-6fdc45af9b06",
   "metadata": {},
   "outputs": [],
   "source": []
  },
  {
   "cell_type": "code",
   "execution_count": 17,
   "id": "61a9b59a-0d05-4bcb-9d23-86d00227c134",
   "metadata": {},
   "outputs": [
    {
     "data": {
      "text/plain": [
       "Index(['GOOG', 'AAPL', 'AMZN', 'FB', 'NFLX', 'MSFT'], dtype='object')"
      ]
     },
     "execution_count": 17,
     "metadata": {},
     "output_type": "execute_result"
    }
   ],
   "source": [
    "df_2.columns[1:]"
   ]
  },
  {
   "cell_type": "code",
   "execution_count": 18,
   "id": "5b479a3a-692d-4f1d-a1af-c511ac1fbcb7",
   "metadata": {},
   "outputs": [
    {
     "data": {
      "text/plain": [
       "[{'label': 'GOOG', 'value': 'GOOG'},\n",
       " {'label': 'AAPL', 'value': 'AAPL'},\n",
       " {'label': 'AMZN', 'value': 'AMZN'},\n",
       " {'label': 'FB', 'value': 'FB'},\n",
       " {'label': 'NFLX', 'value': 'NFLX'},\n",
       " {'label': 'MSFT', 'value': 'MSFT'}]"
      ]
     },
     "execution_count": 18,
     "metadata": {},
     "output_type": "execute_result"
    }
   ],
   "source": [
    "[{'label':str(company),\n",
    "                 'value': str(company)} for company in df_2.columns[1:]]"
   ]
  },
  {
   "cell_type": "code",
   "execution_count": null,
   "id": "62e5d89f-7b2b-4389-a487-6e7885ff0c36",
   "metadata": {},
   "outputs": [],
   "source": []
  }
 ],
 "metadata": {
  "kernelspec": {
   "display_name": "Python 3",
   "language": "python",
   "name": "python3"
  },
  "language_info": {
   "codemirror_mode": {
    "name": "ipython",
    "version": 3
   },
   "file_extension": ".py",
   "mimetype": "text/x-python",
   "name": "python",
   "nbconvert_exporter": "python",
   "pygments_lexer": "ipython3",
   "version": "3.8.8"
  }
 },
 "nbformat": 4,
 "nbformat_minor": 5
}
