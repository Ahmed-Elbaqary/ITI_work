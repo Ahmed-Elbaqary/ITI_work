{
 "cells": [
  {
   "cell_type": "markdown",
   "id": "46155601",
   "metadata": {},
   "source": [
    "# Ahmed Abd-Elsalam Muhammed Afify\n",
    "## Algorithms H.W 2.1"
   ]
  },
  {
   "cell_type": "markdown",
   "id": "447e59c7",
   "metadata": {},
   "source": [
    "## 1) Recursion Binary Search:"
   ]
  },
  {
   "cell_type": "code",
   "execution_count": 99,
   "id": "2f5d6288",
   "metadata": {},
   "outputs": [],
   "source": [
    "'''\n",
    "# -------------------- Binary search implementation with iterative algorithm --------------------\n",
    "def search_iter(arr, l, r, element):\n",
    "    while l <= r:\n",
    "        mid = int((l+r)/2)\n",
    "        if element == arr[mid]:\n",
    "            return mid\n",
    "        elif element>arr[mid]:\n",
    "            l = mid+1\n",
    "        else:\n",
    "            r = mid-1\n",
    "    return -1\n",
    "'''\n",
    "# -------------------- Binary search implementation with recursion algorithm --------------------\n",
    "def search_recur(arr, l, r, element):\n",
    "    if l > r:\n",
    "        return -1\n",
    "    else:\n",
    "        mid = int((l+r)/2)\n",
    "        if element == arr[mid]:\n",
    "            return mid\n",
    "        elif element>arr[mid]:\n",
    "            return search_recur(arr, mid+1, r, element)\n",
    "        else:\n",
    "            return search_recur(arr, l, mid-1, element)\n",
    "\n",
    "# ------------------ searching function -------------------\n",
    "def binary_search():\n",
    "    x = input(\"Enter numbers: \")\n",
    "    y = input(\"Elements to search about: \")\n",
    "    lst = list(map(float, x.strip().split(\" \")))\n",
    "    elem = list(map(float, y.strip().split(\" \")))\n",
    "    lst.sort()\n",
    "    indeces_iter = []\n",
    "    indeces_recur = []\n",
    "    for i in elem:\n",
    "        #i_index_iter = search_iter(lst, 0, len(lst)-1, i)\n",
    "        #indeces_iter.append(i_index_iter)\n",
    "        \n",
    "        i_index_recur = search_recur(lst, 0, len(lst)-1, i)\n",
    "        indeces_recur.append(i_index_recur)\n",
    "    return indeces_recur #, indeces_iter "
   ]
  },
  {
   "cell_type": "code",
   "execution_count": 100,
   "id": "6363e005",
   "metadata": {},
   "outputs": [
    {
     "name": "stdout",
     "output_type": "stream",
     "text": [
      "Enter numbers: 1 5 8 12 13\n",
      "Elements to search about: 8 1 23 1 11\n"
     ]
    }
   ],
   "source": [
    "s_recur  = binary_search()"
   ]
  },
  {
   "cell_type": "code",
   "execution_count": 101,
   "id": "c1e0337a",
   "metadata": {},
   "outputs": [
    {
     "name": "stdout",
     "output_type": "stream",
     "text": [
      "[2, 0, -1, 0, -1]\n"
     ]
    }
   ],
   "source": [
    "print(s_recur)"
   ]
  },
  {
   "cell_type": "markdown",
   "id": "49ac8785",
   "metadata": {},
   "source": [
    "___\n",
    "## 2) Merge Sort:"
   ]
  },
  {
   "cell_type": "code",
   "execution_count": 70,
   "id": "4eb81d48",
   "metadata": {},
   "outputs": [],
   "source": [
    "def mergeSort(arr):\n",
    "    if len(arr) > 1:\n",
    "        mid = len(arr)//2\n",
    "        L = arr[:mid]\n",
    "        R = arr[mid:]\n",
    "\n",
    "        mergeSort(L)\n",
    "        mergeSort(R)\n",
    "        \n",
    "        # HERE WE COMPARE ELEMENTS OF EACH SUB-LIST AND THEN WE SORT THEM\n",
    "        i = j = k = 0\n",
    "        while i < len(L) and j < len(R):\n",
    "            if L[i] < R[j]:\n",
    "                arr[k] = L[i]\n",
    "                i += 1\n",
    "            else:\n",
    "                arr[k] = R[j]\n",
    "                j += 1\n",
    "            k += 1\n",
    "        \n",
    "        # Chck for left elements\n",
    "        while i < len(L):\n",
    "            arr[k] = L[i]\n",
    "            i += 1\n",
    "            k += 1\n",
    " \n",
    "        while j < len(R):\n",
    "            arr[k] = R[j]\n",
    "            j += 1\n",
    "            k += 1\n"
   ]
  },
  {
   "cell_type": "code",
   "execution_count": 75,
   "id": "43d86818",
   "metadata": {},
   "outputs": [],
   "source": [
    "x = [38, 27, 48, 3, 9, 82, 10]\n",
    "mergeSort(x)"
   ]
  },
  {
   "cell_type": "code",
   "execution_count": 76,
   "id": "9fd21d6c",
   "metadata": {},
   "outputs": [
    {
     "name": "stdout",
     "output_type": "stream",
     "text": [
      "[3, 9, 10, 27, 38, 48, 82]\n"
     ]
    }
   ],
   "source": [
    "print(x)"
   ]
  },
  {
   "cell_type": "markdown",
   "id": "33aa7179",
   "metadata": {},
   "source": [
    "___\n",
    "## 3) Quick Sort:"
   ]
  },
  {
   "cell_type": "code",
   "execution_count": 104,
   "id": "d379783f",
   "metadata": {},
   "outputs": [],
   "source": [
    "def partition(arr, L, R):\n",
    "    \n",
    "    pivot = arr[R]\n",
    "    counter = L-1\n",
    "    for i in range(L, R-1):\n",
    "        if arr[i] < pivot:\n",
    "            counter += 1\n",
    "            arr[counter], arr[i]  = arr[i], arr[counter]\n",
    "    if arr[counter+1] > arr[R]:\n",
    "        arr[counter+1], arr[R]  = arr[R], arr[counter+1]\n",
    "    \n",
    "    return (counter+1)\n",
    "\n",
    "# --------------------- SORTING ALGIRUTHM ---------------------------\n",
    "def quick_sort(arr, L, R):\n",
    "    if L < R :\n",
    "        pi = partition(arr, L, R)\n",
    "        quick_sort(arr, L, pi-1)\n",
    "        quick_sort(arr, pi+1, R)"
   ]
  },
  {
   "cell_type": "code",
   "execution_count": 105,
   "id": "1ed86763",
   "metadata": {},
   "outputs": [],
   "source": [
    "x = [38, 27, 43, 3, 9, 82, 10]\n",
    "quick_sort(x, 0, len(x)-1)"
   ]
  },
  {
   "cell_type": "code",
   "execution_count": 106,
   "id": "dba5267b",
   "metadata": {},
   "outputs": [
    {
     "data": {
      "text/plain": [
       "[3, 9, 10, 27, 38, 43, 82]"
      ]
     },
     "execution_count": 106,
     "metadata": {},
     "output_type": "execute_result"
    }
   ],
   "source": [
    "x"
   ]
  },
  {
   "cell_type": "markdown",
   "id": "73ed5541",
   "metadata": {},
   "source": [
    "___\n",
    "## 4) Fast Exponentiation:"
   ]
  },
  {
   "cell_type": "code",
   "execution_count": 1,
   "id": "99fabd8a",
   "metadata": {},
   "outputs": [],
   "source": [
    "def fast_expo(a,e):\n",
    "    if e == 0:\n",
    "        return 1\n",
    "    elif e == 1:\n",
    "        return a\n",
    "    else:\n",
    "        if e%2 == 0:\n",
    "            x = fast_expo(a,e/2)\n",
    "            return x**2\n",
    "        else:\n",
    "            x = fast_expo(a,(e-1)/2)\n",
    "            return (x**2)*a\n",
    "        \n",
    "def fast_mod(a,e,n):\n",
    "    x = fast_expo(a,e)\n",
    "    return x%n"
   ]
  },
  {
   "cell_type": "code",
   "execution_count": 34,
   "id": "562d6575",
   "metadata": {},
   "outputs": [],
   "source": [
    "Fast_Mod = fast_mod(2, 20, 7)"
   ]
  },
  {
   "cell_type": "code",
   "execution_count": 36,
   "id": "734a08f4",
   "metadata": {},
   "outputs": [
    {
     "data": {
      "text/plain": [
       "4"
      ]
     },
     "execution_count": 36,
     "metadata": {},
     "output_type": "execute_result"
    }
   ],
   "source": [
    "Fast_Mod"
   ]
  },
  {
   "cell_type": "markdown",
   "id": "5a967d7b",
   "metadata": {},
   "source": [
    "___\n",
    "## 5) Segments and Pionts:"
   ]
  },
  {
   "cell_type": "code",
   "execution_count": 12,
   "id": "89023c99",
   "metadata": {},
   "outputs": [],
   "source": [
    "def point_segment():\n",
    "    \n",
    "    try:\n",
    "        S_P = input('How many segmants and points to check: ')\n",
    "        segment_point = tuple(map(int,S_P.rstrip().split(' ')))\n",
    "        segments = []\n",
    "        points = []\n",
    "        for i in range(segment_point[0]):\n",
    "            S = input(f'items of segment {i} = ')\n",
    "            segments.append(tuple(map(int,S.rstrip().split(' '))))\n",
    "\n",
    "        P = input(f'Points = ')\n",
    "        points = list(map(int,P.rstrip().split(' ')))\n",
    "\n",
    "        starts = []\n",
    "        ends = []\n",
    "\n",
    "        for segment in segments:\n",
    "            starts.append(segment[0])\n",
    "            ends.append(segment[1])\n",
    "\n",
    "        # These must be sorted so we can cancel segments that wont by logic contain an upcomming point\n",
    "        starts.sort()\n",
    "        ends.sort()\n",
    "        points.sort()\n",
    "\n",
    "        SC = 0  # srt_counter\n",
    "        EC = 0  # end_counter\n",
    "        PSC = 0  # point_Segment_counter\n",
    "        size = len(segments)\n",
    "        result = dict()\n",
    "\n",
    "        for point in points:\n",
    "            while (SC < size) and (starts[SC] <= point):\n",
    "                SC += 1\n",
    "                PSC += 1  # This means that it is in fornt of segment that starts with SC\n",
    "            while (EC < size) and (ends[EC] < point):\n",
    "                EC += 1\n",
    "                PSC -= 1   # THis means that it's in front of segment ES \n",
    "                # So for segmnt(SC, EC) it's not inside it and so not any other segment\n",
    "            # Add the No. of segments to that contain that point to the dictionary\n",
    "            result[point] = PSC\n",
    "        return result\n",
    "    \n",
    "    except:\n",
    "        return 'INPUT ERROR'"
   ]
  },
  {
   "cell_type": "code",
   "execution_count": 9,
   "id": "8a573c1e",
   "metadata": {},
   "outputs": [
    {
     "name": "stdout",
     "output_type": "stream",
     "text": [
      "How many segmants and points to check: 2 3\n",
      "items of segment 0 = 0 5\n",
      "items of segment 1 = 7 10\n",
      "Points = 1 6 11\n"
     ]
    }
   ],
   "source": [
    "x = point_segment()"
   ]
  },
  {
   "cell_type": "code",
   "execution_count": 10,
   "id": "31263951",
   "metadata": {},
   "outputs": [
    {
     "name": "stdout",
     "output_type": "stream",
     "text": [
      "{1: 1, 6: 0, 11: 0}\n"
     ]
    }
   ],
   "source": [
    "print(x)"
   ]
  },
  {
   "cell_type": "markdown",
   "id": "e6effc06",
   "metadata": {},
   "source": [
    "___\n",
    "## Majority Element:"
   ]
  },
  {
   "cell_type": "code",
   "execution_count": 37,
   "id": "ea80fe24",
   "metadata": {},
   "outputs": [],
   "source": [
    "def majority():\n",
    "    n = input('How many elements: ')\n",
    "    n = int(n)\n",
    "    elements = input(f'Write elements: ')\n",
    "    elements = list(map(int,elements.rstrip().split(' ')))\n",
    "    \n",
    "    if n != len(elements):\n",
    "        return 'No. of elements is not  correct'\n",
    "    \n",
    "    result = dict()\n",
    "    for i in range(n):\n",
    "        if elements[i] in result:\n",
    "            result[elements[i]] += 1\n",
    "        else:\n",
    "            result[elements[i]] = 1\n",
    "        \n",
    "    \n",
    "    for key in result.keys():\n",
    "        if result[key] > n/2:\n",
    "            return f'(1) There is a majority number which is {key}, appeared {result[key]} times'\n",
    "    return f'(0) There is no majority number'"
   ]
  },
  {
   "cell_type": "code",
   "execution_count": 40,
   "id": "e72af82e",
   "metadata": {},
   "outputs": [
    {
     "name": "stdout",
     "output_type": "stream",
     "text": [
      "How many elements: 5 \n",
      "Write elements: 2 3 9 2 2\n"
     ]
    }
   ],
   "source": [
    "major = majority()"
   ]
  },
  {
   "cell_type": "code",
   "execution_count": 41,
   "id": "99dbdb66",
   "metadata": {},
   "outputs": [
    {
     "name": "stdout",
     "output_type": "stream",
     "text": [
      "(1) There is a majority number which is 2, appeared 3 times\n"
     ]
    }
   ],
   "source": [
    "print(major)"
   ]
  },
  {
   "cell_type": "code",
   "execution_count": null,
   "id": "bc2fbbea",
   "metadata": {},
   "outputs": [],
   "source": []
  }
 ],
 "metadata": {
  "kernelspec": {
   "display_name": "Python 3",
   "language": "python",
   "name": "python3"
  },
  "language_info": {
   "codemirror_mode": {
    "name": "ipython",
    "version": 3
   },
   "file_extension": ".py",
   "mimetype": "text/x-python",
   "name": "python",
   "nbconvert_exporter": "python",
   "pygments_lexer": "ipython3",
   "version": "3.8.8"
  }
 },
 "nbformat": 4,
 "nbformat_minor": 5
}
