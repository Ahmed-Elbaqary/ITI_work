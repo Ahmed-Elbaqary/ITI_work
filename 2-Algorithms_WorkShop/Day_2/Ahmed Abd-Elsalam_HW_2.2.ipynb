{
 "cells": [
  {
   "cell_type": "markdown",
   "id": "21027d6c",
   "metadata": {},
   "source": [
    "# Ahmed Abd-Elsalam Muhammed Afify\n",
    "## Algorithms HW_2.2"
   ]
  },
  {
   "cell_type": "markdown",
   "id": "aa32ba03",
   "metadata": {},
   "source": [
    "## 1) Scheduling problem:"
   ]
  },
  {
   "cell_type": "code",
   "execution_count": 11,
   "id": "c6058b3c",
   "metadata": {},
   "outputs": [],
   "source": [
    "def scheduling():\n",
    "    T = input('Time Avaliable: ')\n",
    "    T = int(T)\n",
    "    tasks = input('Times for tasks: ')\n",
    "    tasks = list(map(int, tasks.strip().split(' ')))\n",
    "    tasks.sort()\n",
    "    \n",
    "    counter = 0\n",
    "    total = 0\n",
    "    for task in tasks:\n",
    "        total += task\n",
    "        counter += 1\n",
    "        if total > T:\n",
    "            counter -= 1\n",
    "            break\n",
    "        if total == T:\n",
    "            break\n",
    "    return f'Number of tasks can be {counter}'"
   ]
  },
  {
   "cell_type": "code",
   "execution_count": 12,
   "id": "009fbe96",
   "metadata": {},
   "outputs": [
    {
     "name": "stdout",
     "output_type": "stream",
     "text": [
      "Time Avaliable: 6\n",
      "Times for tasks: 3 5 4 2 1\n"
     ]
    }
   ],
   "source": [
    "c = scheduling()"
   ]
  },
  {
   "cell_type": "code",
   "execution_count": 13,
   "id": "4a83df57",
   "metadata": {},
   "outputs": [
    {
     "name": "stdout",
     "output_type": "stream",
     "text": [
      "Number of tasks can be 3\n"
     ]
    }
   ],
   "source": [
    "print(c)"
   ]
  },
  {
   "cell_type": "markdown",
   "id": "9f24f9ea",
   "metadata": {},
   "source": [
    "## 2) Selected Tasks Problem:"
   ]
  },
  {
   "cell_type": "code",
   "execution_count": 14,
   "id": "1c6d8cc2",
   "metadata": {},
   "outputs": [],
   "source": [
    "def selected_tasks():\n",
    "    start = input('Start Times for tasks: ')\n",
    "    end = input('End Time for tasks: ')\n",
    "    start = list(map(int, start.strip().split(' ')))\n",
    "    end = list(map(int, end.strip().split(' ')))\n",
    "    \n",
    "    indeces = []\n",
    "    i = 0\n",
    "    indeces.append(i)\n",
    "    \n",
    "    for j in range(len(end)):\n",
    "        if start[j] >= end[i]:\n",
    "            indeces.append(j)\n",
    "            i = j\n",
    "    return f'The indeces of tasks are {indeces}'"
   ]
  },
  {
   "cell_type": "code",
   "execution_count": 15,
   "id": "91918ac3",
   "metadata": {},
   "outputs": [
    {
     "name": "stdout",
     "output_type": "stream",
     "text": [
      "Start Times for tasks: 10 12 20\n",
      "End Time for tasks: 20 25 30\n"
     ]
    }
   ],
   "source": [
    "tasks = selected_tasks()"
   ]
  },
  {
   "cell_type": "code",
   "execution_count": 16,
   "id": "c28e41b0",
   "metadata": {},
   "outputs": [
    {
     "name": "stdout",
     "output_type": "stream",
     "text": [
      "The indeces of tasks are [0, 2]\n"
     ]
    }
   ],
   "source": [
    "print(tasks)"
   ]
  },
  {
   "cell_type": "code",
   "execution_count": null,
   "id": "2964083f",
   "metadata": {},
   "outputs": [],
   "source": []
  }
 ],
 "metadata": {
  "kernelspec": {
   "display_name": "Python 3 (ipykernel)",
   "language": "python",
   "name": "python3"
  },
  "language_info": {
   "codemirror_mode": {
    "name": "ipython",
    "version": 3
   },
   "file_extension": ".py",
   "mimetype": "text/x-python",
   "name": "python",
   "nbconvert_exporter": "python",
   "pygments_lexer": "ipython3",
   "version": "3.8.8"
  }
 },
 "nbformat": 4,
 "nbformat_minor": 5
}
