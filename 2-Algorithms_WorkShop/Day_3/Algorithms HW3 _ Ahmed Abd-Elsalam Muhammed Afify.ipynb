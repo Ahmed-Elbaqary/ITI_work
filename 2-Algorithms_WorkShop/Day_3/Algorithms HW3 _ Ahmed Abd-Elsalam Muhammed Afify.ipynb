{
 "cells": [
  {
   "cell_type": "markdown",
   "id": "6dce817a",
   "metadata": {},
   "source": [
    "# Ahmed Abd-Elsalam Muhammed Afify\n",
    "\n",
    "# Algorithms HW_3"
   ]
  },
  {
   "cell_type": "markdown",
   "id": "cac612bc",
   "metadata": {},
   "source": [
    "## 1) Knapsak Problem (Divide_Ahd_Conqure)"
   ]
  },
  {
   "cell_type": "code",
   "execution_count": 1,
   "id": "5951fa0f",
   "metadata": {},
   "outputs": [],
   "source": [
    "def karatsuba(x,y):\n",
    "    \n",
    "    if len(str(x)) == 1 or len(str(y)) == 1:\n",
    "        return x*y\n",
    "    \n",
    "    n = max(len(str(x)), len(str(y)))\n",
    "    m = n//2 \n",
    "    \n",
    "    a = x//(10**m)\n",
    "    b = x%(10**m)\n",
    "    c = y//(10**m)\n",
    "    d = y%(10**m)\n",
    "    \n",
    "    ac = karatsuba(a,c)\n",
    "    bd = karatsuba(b,d)\n",
    "    bc_ad = karatsuba(b,c) + karatsuba(a,d)\n",
    "    result = ac*(10**(2*m)) + bc_ad*(10**m) + bd\n",
    "    return result"
   ]
  },
  {
   "cell_type": "code",
   "execution_count": 2,
   "id": "b74b1d4d",
   "metadata": {},
   "outputs": [
    {
     "data": {
      "text/plain": [
       "70077626"
      ]
     },
     "execution_count": 2,
     "metadata": {},
     "output_type": "execute_result"
    }
   ],
   "source": [
    "karatsuba(1234, 56789)"
   ]
  },
  {
   "cell_type": "markdown",
   "id": "d6d814e6",
   "metadata": {},
   "source": [
    "___\n",
    "## 2) fractional Knapsak"
   ]
  },
  {
   "cell_type": "code",
   "execution_count": 3,
   "id": "52cac23d",
   "metadata": {},
   "outputs": [],
   "source": [
    "def fractional_knabsak_dic(dic, w=0):\n",
    "    # ----------------------------------------------\n",
    "    new_dic = {}\n",
    "    for element in dic:\n",
    "        new_dic[element] = element/dic[element]\n",
    "    # ----------------------------------------------\n",
    "    total_values = 0\n",
    "    fraction = 0\n",
    "  # ----------------------------------------------\n",
    "    for i in range(len(dic)):\n",
    "        max_key = max(new_dic, key=new_dic.get)\n",
    "        # ----------------------------------------------\n",
    "        if w - dic[max_key]>0:\n",
    "            w -= dic[max_key]\n",
    "            total_values += max_key\n",
    "        else:\n",
    "            fraction = w / dic[max_key]\n",
    "            total_values += max_key*fraction\n",
    "        # ----------------------------------------------\n",
    "        del new_dic[max_key]\n",
    "    # ----------------------------------------------\n",
    "    return total_values"
   ]
  },
  {
   "cell_type": "code",
   "execution_count": 4,
   "id": "37baaef8",
   "metadata": {},
   "outputs": [
    {
     "name": "stdout",
     "output_type": "stream",
     "text": [
      "240.0\n"
     ]
    }
   ],
   "source": [
    "dic = {60: 10, 100: 20, 120: 30}\n",
    "frac_knap_dic = fractional_knabsak_dic(dic, 50)\n",
    "print(frac_knap_dic)"
   ]
  },
  {
   "cell_type": "markdown",
   "id": "682fe391",
   "metadata": {},
   "source": [
    "### Fractional Knapsak with input as two lists"
   ]
  },
  {
   "cell_type": "code",
   "execution_count": 5,
   "id": "b1e70b98",
   "metadata": {},
   "outputs": [],
   "source": [
    "def fractional_knabsak_lst(val, wt, w=0):\n",
    "    # ----------------------------------------------\n",
    "    val_by_wt = []\n",
    "    for i in range(len(val)):\n",
    "        val_by_wt.append(val[i]/wt[i])\n",
    "    # ----------------------------------------------\n",
    "    total_values = 0\n",
    "    fraction = 0\n",
    "  # ----------------------------------------------\n",
    "    for i in range(len(val)):\n",
    "        max_i = max(val_by_wt)\n",
    "        index_i = val_by_wt.index(max_i)\n",
    "        # ----------------------------------------------\n",
    "        if w - wt[index_i]>=0:\n",
    "            w -= wt[index_i]\n",
    "            total_values += val[index_i]\n",
    "        else:\n",
    "            fraction = w / wt[index_i]\n",
    "            total_values += val[index_i]*fraction\n",
    "        # ----------------------------------------------\n",
    "        val_by_wt[index_i] = -1\n",
    "    # ----------------------------------------------\n",
    "    return total_values"
   ]
  },
  {
   "cell_type": "code",
   "execution_count": 6,
   "id": "e07e9fb3",
   "metadata": {},
   "outputs": [
    {
     "name": "stdout",
     "output_type": "stream",
     "text": [
      "240.0\n"
     ]
    }
   ],
   "source": [
    "frac_knap_lst = fractional_knabsak_lst([60, 100, 120],[10, 20, 30], 50)\n",
    "print(frac_knap_lst)"
   ]
  },
  {
   "cell_type": "markdown",
   "id": "36eda6b3",
   "metadata": {},
   "source": [
    "___\n",
    "# Dynamic Programming:\n",
    "## 1) Coin Change Problem:"
   ]
  },
  {
   "cell_type": "code",
   "execution_count": 7,
   "id": "73dbe6d2",
   "metadata": {},
   "outputs": [],
   "source": [
    "def coin_change(coins, money):\n",
    "    import numpy as np\n",
    "    min_coins = np.ones(money+1)*(money+1)\n",
    "    min_coins[0] = 0\n",
    "    coins = sorted(coins)\n",
    "    for i in range(1,len(min_coins)):\n",
    "        for j in coins:\n",
    "            if (i - j) >= 0:\n",
    "                min_coins[i] = min(min_coins[i-j]+1, min_coins[i])           \n",
    "            else:\n",
    "                continue\n",
    "        if min_coins[i] in [0,money+1]:\n",
    "            min_coins[i] = -1\n",
    "    return min_coins[money]"
   ]
  },
  {
   "cell_type": "code",
   "execution_count": 8,
   "id": "b6d53718",
   "metadata": {},
   "outputs": [
    {
     "name": "stdout",
     "output_type": "stream",
     "text": [
      "10.0\n",
      "4.0\n",
      "-1.0\n"
     ]
    }
   ],
   "source": [
    "trial1 = coin_change([1,3,5,6,9],90)\n",
    "trial2 = coin_change([1,2,3],10)\n",
    "trial3 = coin_change([2],5)\n",
    "print(trial1)\n",
    "print(trial2)\n",
    "print(trial3)"
   ]
  },
  {
   "cell_type": "markdown",
   "id": "55164893",
   "metadata": {},
   "source": [
    "___\n",
    "## 2) Edit Distance (levenshtein distsnce):"
   ]
  },
  {
   "cell_type": "code",
   "execution_count": 9,
   "id": "c01bd78a",
   "metadata": {},
   "outputs": [],
   "source": [
    "def edit_distance(x, y):\n",
    "    import numpy as np\n",
    "    x_dim = len(x)+1   # No. of columns\n",
    "    y_dim = len(y)+1   # No. of rows\n",
    "    min_distance = np.zeros((y_dim, x_dim))\n",
    "    \n",
    "    for i in range(1, len(x)+1):\n",
    "        min_distance[0, i] = i\n",
    "    for i in range(1, len(y)+1):\n",
    "        min_distance[i, 0] = i\n",
    "    \n",
    "    for i in range(1, len(x)+1):\n",
    "        for j in range(1, len(y)+1):\n",
    "            if x[i-1] == y[j-1]:\n",
    "                min_distance[j, i] = min_distance[j-1, i-1]\n",
    "            else:\n",
    "                min_distance[j, i] = min(min_distance[j-1, i-1], min_distance[j, i-1], min_distance[j-1, i]) + 1\n",
    "    \n",
    "    #print(min_distance)\n",
    "    return min_distance[y_dim-1, x_dim-1]"
   ]
  },
  {
   "cell_type": "code",
   "execution_count": 10,
   "id": "8acaa56c",
   "metadata": {},
   "outputs": [
    {
     "name": "stdout",
     "output_type": "stream",
     "text": [
      "3.0\n"
     ]
    }
   ],
   "source": [
    "edit2 = edit_distance('short', 'ports')\n",
    "print(edit2)"
   ]
  },
  {
   "cell_type": "markdown",
   "id": "bd6e6dbf",
   "metadata": {},
   "source": [
    "___\n",
    "## 3) Longest Common Subsequence:"
   ]
  },
  {
   "cell_type": "code",
   "execution_count": 11,
   "id": "cf04d293",
   "metadata": {},
   "outputs": [],
   "source": [
    "def longest_com_subs(x, y):\n",
    "    import numpy as np\n",
    "    x_dim = len(x)+1   # No. of columns\n",
    "    y_dim = len(y)+1   # No. of rows\n",
    "    max_common = np.zeros((y_dim, x_dim))\n",
    "    \n",
    "    for i in range(1, len(x)+1):\n",
    "        for j in range(1, len(y)+1):\n",
    "            if x[i-1] == y[j-1]:\n",
    "                max_common[j, i] = max_common[j-1, i-1]+1\n",
    "            else:\n",
    "                max_common[j, i] = max(max_common[j, i-1], max_common[j-1, i]) \n",
    "    \n",
    "    #print(max_common)\n",
    "    return max_common[y_dim-1, x_dim-1]"
   ]
  },
  {
   "cell_type": "code",
   "execution_count": 12,
   "id": "bf34a2a2",
   "metadata": {},
   "outputs": [
    {
     "name": "stdout",
     "output_type": "stream",
     "text": [
      "4.0\n"
     ]
    }
   ],
   "source": [
    "test = longest_com_subs('AGGTAB', 'GXTXAYB')\n",
    "print(test)"
   ]
  },
  {
   "cell_type": "code",
   "execution_count": 13,
   "id": "d7ef4185",
   "metadata": {},
   "outputs": [
    {
     "name": "stdout",
     "output_type": "stream",
     "text": [
      "0.0\n"
     ]
    }
   ],
   "source": [
    "t = edit_distance('ab','ab')\n",
    "print(t)"
   ]
  },
  {
   "cell_type": "markdown",
   "id": "894a3e64",
   "metadata": {},
   "source": [
    "___\n",
    "## 4) 0_1 Knapsak Problem:"
   ]
  },
  {
   "cell_type": "code",
   "execution_count": 14,
   "id": "2ca4d00d",
   "metadata": {},
   "outputs": [],
   "source": [
    "def zero_one_knapsak(values, weights, W):\n",
    "    import numpy as np\n",
    "    n = len(values)\n",
    "    optimal_weight = np.zeros((n, W+1))\n",
    "    for i in range(n):\n",
    "        for j in range(1,W+1):\n",
    "            if j >= weights[i]:\n",
    "                 optimal_weight[i, j] = max(optimal_weight[i-1, j], optimal_weight[i-1, j-(weights[i])]+values[i])\n",
    "            else:\n",
    "                optimal_weight[i, j] = optimal_weight[i-1, j]\n",
    "    return optimal_weight[n-1,W]"
   ]
  },
  {
   "cell_type": "code",
   "execution_count": 15,
   "id": "364b87db",
   "metadata": {},
   "outputs": [
    {
     "name": "stdout",
     "output_type": "stream",
     "text": [
      "220.0\n"
     ]
    }
   ],
   "source": [
    "test_kanpsak = zero_one_knapsak([60,100,120], [10,20,30], 50)\n",
    "print(test_kanpsak)"
   ]
  },
  {
   "cell_type": "code",
   "execution_count": null,
   "id": "690b9859",
   "metadata": {},
   "outputs": [],
   "source": []
  }
 ],
 "metadata": {
  "kernelspec": {
   "display_name": "Python 3",
   "language": "python",
   "name": "python3"
  },
  "language_info": {
   "codemirror_mode": {
    "name": "ipython",
    "version": 3
   },
   "file_extension": ".py",
   "mimetype": "text/x-python",
   "name": "python",
   "nbconvert_exporter": "python",
   "pygments_lexer": "ipython3",
   "version": "3.8.8"
  }
 },
 "nbformat": 4,
 "nbformat_minor": 5
}
