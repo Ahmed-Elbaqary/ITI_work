{
 "cells": [
  {
   "cell_type": "markdown",
   "metadata": {},
   "source": [
    "# Factorial Iterative\n"
   ]
  },
  {
   "cell_type": "code",
   "execution_count": 107,
   "metadata": {},
   "outputs": [],
   "source": [
    "def iterative_factorial(n):\n",
    "     result= 1\n",
    "    li = list(range(1, n + 1))\n",
    "    for each in li:\n",
    "        result = result * each\n",
    "    return result    "
   ]
  },
  {
   "cell_type": "code",
   "execution_count": 108,
   "metadata": {},
   "outputs": [
    {
     "data": {
      "text/plain": [
       "120"
      ]
     },
     "execution_count": 108,
     "metadata": {},
     "output_type": "execute_result"
    }
   ],
   "source": [
    "iterative_factorial(5)"
   ]
  },
  {
   "cell_type": "code",
   "execution_count": null,
   "metadata": {},
   "outputs": [],
   "source": [
    "Complexity O(n)"
   ]
  },
  {
   "cell_type": "markdown",
   "metadata": {},
   "source": [
    "# Recursive Factorial\n"
   ]
  },
  {
   "cell_type": "code",
   "execution_count": 109,
   "metadata": {},
   "outputs": [],
   "source": [
    "def recursive_factorial(n):\n",
    "    if n == 0:\n",
    "        return 1\n",
    "    else:\n",
    "        return n * recursive_factorial(n-1)"
   ]
  },
  {
   "cell_type": "code",
   "execution_count": 110,
   "metadata": {},
   "outputs": [
    {
     "data": {
      "text/plain": [
       "120"
      ]
     },
     "execution_count": 110,
     "metadata": {},
     "output_type": "execute_result"
    }
   ],
   "source": [
    "recursive_factorial(5)"
   ]
  },
  {
   "cell_type": "code",
   "execution_count": null,
   "metadata": {},
   "outputs": [],
   "source": [
    "Complexity O(n)"
   ]
  },
  {
   "cell_type": "markdown",
   "metadata": {},
   "source": [
    "# Fibonacci Iterative\n"
   ]
  },
  {
   "cell_type": "code",
   "execution_count": 101,
   "metadata": {},
   "outputs": [],
   "source": [
    "def f(n):\n",
    "    a, b = 0, 1\n",
    "    for i in range(0, n):\n",
    "        a, b = b, a + b\n",
    "    return a"
   ]
  },
  {
   "cell_type": "code",
   "execution_count": null,
   "metadata": {},
   "outputs": [],
   "source": [
    "Complexity O(n)"
   ]
  },
  {
   "cell_type": "markdown",
   "metadata": {},
   "source": [
    "# Fibonacci Recursion"
   ]
  },
  {
   "cell_type": "code",
   "execution_count": 95,
   "metadata": {},
   "outputs": [],
   "source": [
    "def recur_fibo(n):\n",
    "    if n < 2:\n",
    "        return n\n",
    "    \n",
    "    return recur_fibo(n-1) + recur_fibo(n-2)\n"
   ]
  },
  {
   "cell_type": "code",
   "execution_count": 100,
   "metadata": {},
   "outputs": [
    {
     "data": {
      "text/plain": [
       "8"
      ]
     },
     "execution_count": 100,
     "metadata": {},
     "output_type": "execute_result"
    }
   ],
   "source": [
    "recur_fibo(6)"
   ]
  },
  {
   "cell_type": "code",
   "execution_count": null,
   "metadata": {},
   "outputs": [],
   "source": [
    "Complexity O(2^n)"
   ]
  },
  {
   "cell_type": "code",
   "execution_count": 82,
   "metadata": {
    "tags": []
   },
   "outputs": [],
   "source": [
    "# Dynamic Programming--> memoization\n",
    "lst = [-1 ] * 60\n",
    "lst[1] = 0\n",
    "lst[2] = 1\n",
    "def recur_fibo(n):\n",
    "    global lst\n",
    "    if lst[n] != -1:\n",
    "        return lst[n]\n",
    "\n",
    "    else:\n",
    "        lst[n] = recur_fibo(n-1) + recur_fibo(n-2)\n",
    "        return lst[n]"
   ]
  },
  {
   "cell_type": "code",
   "execution_count": 83,
   "metadata": {},
   "outputs": [
    {
     "data": {
      "text/plain": [
       "7778742049"
      ]
     },
     "execution_count": 83,
     "metadata": {},
     "output_type": "execute_result"
    }
   ],
   "source": [
    "recur_fibo(50)"
   ]
  },
  {
   "cell_type": "code",
   "execution_count": null,
   "metadata": {},
   "outputs": [],
   "source": [
    "complexity O(n)"
   ]
  },
  {
   "cell_type": "markdown",
   "metadata": {},
   "source": [
    "# Iterative Linear Search"
   ]
  },
  {
   "cell_type": "code",
   "execution_count": 111,
   "metadata": {},
   "outputs": [
    {
     "name": "stdout",
     "output_type": "stream",
     "text": [
      "Element is present at index 3\n"
     ]
    }
   ],
   "source": [
    "def search(arr, x):\n",
    "    for i in range(0, len(arr)):\n",
    "        if (arr[i] == x):\n",
    "            return i\n",
    "    return -1\n",
    " \n",
    " \n",
    "# Driver Code\n",
    "arr = [2, 3, 4, 10, 40]\n",
    "x = 10\n",
    "\n",
    "# Function call\n",
    "result = search(arr, x)\n",
    "if(result == -1):\n",
    "    print(\"Element is not present in array\")\n",
    "else:\n",
    "    print(\"Element is present at index\", result)"
   ]
  },
  {
   "cell_type": "code",
   "execution_count": null,
   "metadata": {},
   "outputs": [],
   "source": [
    "complexity O(n)"
   ]
  },
  {
   "cell_type": "markdown",
   "metadata": {},
   "source": [
    "# Recursion linear search"
   ]
  },
  {
   "cell_type": "code",
   "execution_count": 122,
   "metadata": {},
   "outputs": [],
   "source": [
    "def search(alist, key, pos=None):\n",
    "     if pos is None: \n",
    "        pos = len(alist) - 1\n",
    "     if pos < 0: \n",
    "        return None\n",
    "     if key == alist[pos]: \n",
    "            return pos\n",
    "     return search(alist, key, pos - 1)"
   ]
  },
  {
   "cell_type": "code",
   "execution_count": 124,
   "metadata": {},
   "outputs": [
    {
     "data": {
      "text/plain": [
       "2"
      ]
     },
     "execution_count": 124,
     "metadata": {},
     "output_type": "execute_result"
    }
   ],
   "source": [
    "search([1,2,3], 4)  # -> None\n",
    "search([1,2,3], 3)"
   ]
  },
  {
   "cell_type": "code",
   "execution_count": null,
   "metadata": {},
   "outputs": [],
   "source": [
    "O(n)"
   ]
  },
  {
   "cell_type": "code",
   "execution_count": null,
   "metadata": {},
   "outputs": [],
   "source": []
  },
  {
   "cell_type": "markdown",
   "metadata": {},
   "source": [
    "# Binary Search Iterative\n",
    "\n",
    "How to perform Linear Search better?"
   ]
  },
  {
   "cell_type": "code",
   "execution_count": 126,
   "metadata": {},
   "outputs": [
    {
     "name": "stdout",
     "output_type": "stream",
     "text": [
      "Element found at index 4\n"
     ]
    }
   ],
   "source": [
    "# Function to determine if a target `x` exists in the sorted list `A`\n",
    "# or not using a binary search algorithm\n",
    "def binarySearch(A, x):\n",
    " \n",
    "    # search space is `A[left…right]`\n",
    "    (left, right) = (0, len(A) - 1)\n",
    " \n",
    "    # loop till the search space is exhausted\n",
    "    while left <= right:\n",
    " \n",
    "        # find the mid-value in the search space and\n",
    "        # compares it with the target\n",
    " \n",
    "        mid = (left + right) // 2\n",
    " \n",
    "        # overflow can happen. Use:\n",
    "        # mid = left + (right - left) / 2\n",
    "        # mid = right - (right - left) // 2\n",
    " \n",
    "        # key is found\n",
    "        if x == A[mid]:\n",
    "            return mid\n",
    " \n",
    "        # discard all elements in the right search space,\n",
    "        # including the middle element\n",
    "        elif x < A[mid]:\n",
    "            right = mid - 1\n",
    " \n",
    "        # discard all elements in the left search space,\n",
    "        # including the middle element\n",
    "        else:\n",
    "            left = mid + 1\n",
    " \n",
    "    # `x` doesn't exist in the list\n",
    "    return -1\n",
    " \n",
    " \n",
    "if __name__ == '__main__':\n",
    " \n",
    "    A = [2, 5, 6, 8, 9, 10]\n",
    "    key = 9\n",
    " \n",
    "    index = binarySearch(A, key)\n",
    " \n",
    "    if index != -1:\n",
    "        print(\"Element found at index\", index)\n",
    "    else:\n",
    "        print(\"Element found not in the list\")"
   ]
  },
  {
   "cell_type": "code",
   "execution_count": null,
   "metadata": {},
   "outputs": [],
   "source": [
    "O(log n)\n",
    "# https://www.techiedelight.com/binary-search/"
   ]
  },
  {
   "cell_type": "markdown",
   "metadata": {},
   "source": [
    "# Binary Search Recursive"
   ]
  },
  {
   "cell_type": "code",
   "execution_count": 128,
   "metadata": {},
   "outputs": [
    {
     "name": "stdout",
     "output_type": "stream",
     "text": [
      "Element found at index 4\n"
     ]
    }
   ],
   "source": [
    "# Recursive implementation of the binary search algorithm to return\n",
    "# the position of target `x` in subarray `A[left…right]`\n",
    "def binarySearch(A, left, right, x):\n",
    " \n",
    "    # Base condition (search space is exhausted)\n",
    "    if left > right:\n",
    "        return -1\n",
    " \n",
    "    # find the mid-value in the search space and\n",
    "    # compares it with the target\n",
    " \n",
    "    mid = (left + right) // 2\n",
    " \n",
    "    # overflow can happen. Use below\n",
    "    # mid = left + (right - left) / 2\n",
    " \n",
    "    # Base condition (a key is found)\n",
    "    if x == A[mid]:\n",
    "        return mid\n",
    " \n",
    "    # discard all elements in the right search space,\n",
    "    # including the middle element\n",
    "    elif x < A[mid]:\n",
    "        return binarySearch(A, left, mid - 1, x)\n",
    " \n",
    "    # discard all elements in the left search space,\n",
    "    # including the middle element\n",
    "    else:\n",
    "        return binarySearch(A, mid + 1, right, x)\n",
    " \n",
    " \n",
    "if __name__ == '__main__':\n",
    " \n",
    "    A = [2, 5, 6, 8, 9, 10]\n",
    "    key = 9\n",
    " \n",
    "    (left, right) = (0, len(A) - 1)\n",
    "    index = binarySearch(A, left, right, key)\n",
    " \n",
    "    if index != -1:\n",
    "        print(\"Element found at index\", index)\n",
    "    else:\n",
    "        print(\"Element found not in the list\")\n",
    " "
   ]
  },
  {
   "cell_type": "code",
   "execution_count": null,
   "metadata": {},
   "outputs": [],
   "source": []
  },
  {
   "cell_type": "markdown",
   "metadata": {},
   "source": [
    "# Insertion sort"
   ]
  },
  {
   "cell_type": "code",
   "execution_count": 130,
   "metadata": {},
   "outputs": [
    {
     "name": "stdout",
     "output_type": "stream",
     "text": [
      "[-2, 1, 3, 4, 5, 8, 9]\n"
     ]
    }
   ],
   "source": [
    "# Function to perform insertion sort on a list\n",
    "def insertionSort(A):\n",
    " \n",
    "    # Start from the second element\n",
    "    # (the element at index 0 is already sorted)\n",
    "    for i in range(1, len(A)):\n",
    " \n",
    "        value = A[i]\n",
    "        j = i\n",
    " \n",
    "        # find index `j` within the sorted subset `A[0…i-1]`\n",
    "        # where element `A[i]` belongs\n",
    "        while j > 0 and A[j - 1] > value:\n",
    "            A[j] = A[j - 1]\n",
    "            j = j - 1\n",
    " \n",
    "        # Note that sublist `A[j…i-1]`is shifted to\n",
    "        # the right by one position, i.e., `A[j+1…i]`\n",
    " \n",
    "        A[j] = value\n",
    " \n",
    " \n",
    "if __name__ == '__main__':\n",
    " \n",
    "    A = [3, 8, 5, 4, 1, 9, -2]\n",
    " \n",
    "    insertionSort(A)\n",
    " \n",
    "    # print the sorted list\n",
    "    print(A)\n",
    " "
   ]
  },
  {
   "cell_type": "code",
   "execution_count": null,
   "metadata": {},
   "outputs": [],
   "source": []
  },
  {
   "cell_type": "markdown",
   "metadata": {},
   "source": [
    "# Insertion Sort Recursion"
   ]
  },
  {
   "cell_type": "code",
   "execution_count": 131,
   "metadata": {},
   "outputs": [
    {
     "name": "stdout",
     "output_type": "stream",
     "text": [
      "[-2, 1, 3, 4, 5, 8, 9]\n"
     ]
    }
   ],
   "source": [
    "# Recursive function to perform insertion sort on sublist `A[i…n]`\n",
    "def insertionSort(A, i, n):\n",
    " \n",
    "    value = A[i]\n",
    "    j = i\n",
    " \n",
    "    # find index `j` within the sorted subset `A[0…i-1]`\n",
    "    # where element `A[i]` belongs\n",
    "    while j > 0 and A[j - 1] > value:\n",
    "        A[j] = A[j - 1]\n",
    "        j = j - 1\n",
    " \n",
    "    A[j] = value\n",
    " \n",
    "    # Note that sublist `A[j…i-1]`is shifted to\n",
    "    # the right by one position, i.e., `A[j+1…i]`\n",
    " \n",
    "    if i + 1 <= n:\n",
    "        insertionSort(A, i + 1, n)\n",
    " \n",
    " \n",
    "if __name__ == '__main__':\n",
    " \n",
    "    A = [3, 8, 5, 4, 1, 9, -2]\n",
    " \n",
    "    # start from the second element (the element at index 0 is already sorted)\n",
    "    insertionSort(A, 1, len(A) - 1)\n",
    " \n",
    "    # print the sorted list\n",
    "    print(A)"
   ]
  },
  {
   "cell_type": "code",
   "execution_count": null,
   "metadata": {},
   "outputs": [],
   "source": [
    "worst O(n^2)\n",
    "best O(n)"
   ]
  },
  {
   "cell_type": "code",
   "execution_count": null,
   "metadata": {},
   "outputs": [],
   "source": []
  },
  {
   "cell_type": "code",
   "execution_count": null,
   "metadata": {},
   "outputs": [],
   "source": []
  },
  {
   "cell_type": "markdown",
   "metadata": {},
   "source": [
    "# Bubble sort"
   ]
  },
  {
   "cell_type": "code",
   "execution_count": 129,
   "metadata": {},
   "outputs": [
    {
     "name": "stdout",
     "output_type": "stream",
     "text": [
      "[-2, 1, 3, 4, 5, 8, 9]\n"
     ]
    }
   ],
   "source": [
    "# Utility function to swap values at two indices in the list\n",
    "def swap(A, i, j):\n",
    " \n",
    "    temp = A[i]\n",
    "    A[i] = A[j]\n",
    "    A[j] = temp\n",
    " \n",
    " \n",
    "# Function to perform bubble sort on a list\n",
    "def bubbleSort(A):\n",
    " \n",
    "    # `len(A)-1` passes\n",
    "    for k in range(len(A) - 1):\n",
    " \n",
    "        # last `k` items are already sorted, so the inner loop can\n",
    "        # avoid looking at the last `k` items\n",
    "        for i in range(len(A) - 1 - k):\n",
    "            if A[i] > A[i + 1]:\n",
    "                swap(A, i, i + 1)\n",
    " \n",
    "    # the algorithm can be terminated if the inner loop didn't do any swap\n",
    " \n",
    " \n",
    "if __name__ == '__main__':\n",
    " \n",
    "    A = [3, 5, 8, 4, 1, 9, -2]\n",
    " \n",
    "    bubbleSort(A)\n",
    " \n",
    "    # print the sorted list\n",
    "    print(A)"
   ]
  },
  {
   "cell_type": "code",
   "execution_count": null,
   "metadata": {},
   "outputs": [],
   "source": []
  },
  {
   "cell_type": "markdown",
   "metadata": {},
   "source": [
    "# Bubble Sort Recursion"
   ]
  },
  {
   "cell_type": "code",
   "execution_count": null,
   "metadata": {},
   "outputs": [],
   "source": [
    "# Utility function to swap values at two indices in the list\n",
    "def swap(A, i, j):\n",
    " \n",
    "    temp = A[i]\n",
    "    A[i] = A[j]\n",
    "    A[j] = temp\n",
    " \n",
    " \n",
    "# Recursive function to perform bubble sort on sublist `A[i…n]`\n",
    "def bubbleSort(A, n):\n",
    " \n",
    "    for i in range(n - 1):\n",
    "        if A[i] > A[i + 1]:\n",
    "            swap(A, i, i + 1)\n",
    " \n",
    "    if n - 1 > 1:\n",
    "        bubbleSort(A, n - 1)\n",
    " \n",
    " \n",
    "if __name__ == '__main__':\n",
    " \n",
    "    A = [ 3, 5, 8, 4, 1, 9, -2 ]\n",
    " \n",
    "    bubbleSort(A, len(A))\n",
    " \n",
    "    # print the sorted list\n",
    "    print(A)"
   ]
  },
  {
   "cell_type": "code",
   "execution_count": null,
   "metadata": {},
   "outputs": [],
   "source": [
    "The worst-case time complexity of bubble sort is o(n^2)\n",
    ", where n  is the size of the input. The worst case happens when the array is reverse sorted. The best-case time complexity of bubble sort is O(n). \n",
    "The best case happens when the array is already sorted, and the algorithm is modified to stop running when the inner loop didn’t do any swap. "
   ]
  },
  {
   "cell_type": "code",
   "execution_count": null,
   "metadata": {},
   "outputs": [],
   "source": []
  },
  {
   "cell_type": "markdown",
   "metadata": {},
   "source": [
    "# Q 7 GCD\n"
   ]
  },
  {
   "cell_type": "code",
   "execution_count": 92,
   "metadata": {},
   "outputs": [],
   "source": [
    "def gcd(a,b):\n",
    "    if b ==0:\n",
    "        return a\n",
    "    return gcd(b, a%b)"
   ]
  },
  {
   "cell_type": "code",
   "execution_count": 93,
   "metadata": {},
   "outputs": [
    {
     "data": {
      "text/plain": [
       "2"
      ]
     },
     "execution_count": 93,
     "metadata": {},
     "output_type": "execute_result"
    }
   ],
   "source": [
    "gcd(10, 4)"
   ]
  },
  {
   "cell_type": "code",
   "execution_count": null,
   "metadata": {},
   "outputs": [],
   "source": [
    "Complexity O(log(min))"
   ]
  },
  {
   "cell_type": "code",
   "execution_count": 88,
   "metadata": {},
   "outputs": [],
   "source": [
    "def gcd(a, b):\n",
    "    for i in range(min(a, b), 0, -1):\n",
    "        if a % i == 0 and b % i ==0:\n",
    "            return i"
   ]
  },
  {
   "cell_type": "code",
   "execution_count": 91,
   "metadata": {},
   "outputs": [
    {
     "data": {
      "text/plain": [
       "2"
      ]
     },
     "execution_count": 91,
     "metadata": {},
     "output_type": "execute_result"
    }
   ],
   "source": [
    "gcd(10, 4)"
   ]
  },
  {
   "cell_type": "code",
   "execution_count": null,
   "metadata": {},
   "outputs": [],
   "source": [
    "Complexity O(min)"
   ]
  },
  {
   "cell_type": "code",
   "execution_count": null,
   "metadata": {},
   "outputs": [],
   "source": []
  },
  {
   "cell_type": "code",
   "execution_count": null,
   "metadata": {},
   "outputs": [],
   "source": [
    "#############################################################################################"
   ]
  },
  {
   "cell_type": "markdown",
   "metadata": {},
   "source": [
    "# Q 6 Common"
   ]
  },
  {
   "cell_type": "code",
   "execution_count": 29,
   "metadata": {},
   "outputs": [],
   "source": [
    "lst1 = [2, 5, 5, 5 ]\n",
    "lst2 = [2, 2, 3, 5, 5, 7]\n",
    "\n",
    "# output should be 2,5,5.\n",
    "\n",
    "# big o of n\n",
    "#maximum number of comparisons is n times\n"
   ]
  },
  {
   "cell_type": "code",
   "execution_count": 43,
   "metadata": {},
   "outputs": [
    {
     "name": "stdout",
     "output_type": "stream",
     "text": [
      "2\n",
      "5\n",
      "5\n"
     ]
    }
   ],
   "source": [
    "freq = {}\n",
    "\n",
    "for i in lst1:\n",
    "    freq.setdefault(i,0)\n",
    "    freq[i] += 1\n",
    "    \n",
    "for i in lst2:\n",
    "    freq.setdefault(i,0)\n",
    "    if freq[i] > 0:\n",
    "        print(i)\n",
    "        freq[i] -= 1\n"
   ]
  },
  {
   "cell_type": "code",
   "execution_count": null,
   "metadata": {},
   "outputs": [],
   "source": []
  },
  {
   "cell_type": "code",
   "execution_count": 32,
   "metadata": {},
   "outputs": [],
   "source": [
    "d = {'A':1,'B':2}"
   ]
  },
  {
   "cell_type": "code",
   "execution_count": 35,
   "metadata": {},
   "outputs": [
    {
     "ename": "KeyError",
     "evalue": "'C'",
     "output_type": "error",
     "traceback": [
      "\u001b[1;31m---------------------------------------------------------------------------\u001b[0m",
      "\u001b[1;31mKeyError\u001b[0m                                  Traceback (most recent call last)",
      "\u001b[1;32m<ipython-input-35-f026ff1f8f6e>\u001b[0m in \u001b[0;36m<module>\u001b[1;34m\u001b[0m\n\u001b[1;32m----> 1\u001b[1;33m \u001b[0md\u001b[0m\u001b[1;33m[\u001b[0m\u001b[1;34m'C'\u001b[0m\u001b[1;33m]\u001b[0m\u001b[1;33m\u001b[0m\u001b[1;33m\u001b[0m\u001b[0m\n\u001b[0m",
      "\u001b[1;31mKeyError\u001b[0m: 'C'"
     ]
    }
   ],
   "source": [
    "d['C']"
   ]
  },
  {
   "cell_type": "code",
   "execution_count": 36,
   "metadata": {},
   "outputs": [
    {
     "data": {
      "text/plain": [
       "3"
      ]
     },
     "execution_count": 36,
     "metadata": {},
     "output_type": "execute_result"
    }
   ],
   "source": [
    "d.setdefault('C',3)"
   ]
  },
  {
   "cell_type": "code",
   "execution_count": 37,
   "metadata": {},
   "outputs": [
    {
     "data": {
      "text/plain": [
       "{'A': 1, 'B': 2, 'C': 3}"
      ]
     },
     "execution_count": 37,
     "metadata": {},
     "output_type": "execute_result"
    }
   ],
   "source": [
    "d"
   ]
  },
  {
   "cell_type": "code",
   "execution_count": null,
   "metadata": {},
   "outputs": [],
   "source": []
  },
  {
   "cell_type": "code",
   "execution_count": null,
   "metadata": {},
   "outputs": [],
   "source": [
    "#############################################################################################"
   ]
  },
  {
   "cell_type": "code",
   "execution_count": 94,
   "metadata": {},
   "outputs": [
    {
     "name": "stdout",
     "output_type": "stream",
     "text": [
      "1000.0\n"
     ]
    }
   ],
   "source": [
    "print(1e3)"
   ]
  },
  {
   "cell_type": "code",
   "execution_count": null,
   "metadata": {},
   "outputs": [],
   "source": []
  },
  {
   "cell_type": "code",
   "execution_count": null,
   "metadata": {},
   "outputs": [],
   "source": [
    "Q4\n",
    "\n",
    "Ans: O(n1/2)"
   ]
  }
 ],
 "metadata": {
  "kernelspec": {
   "display_name": "Python 3 (ipykernel)",
   "language": "python",
   "name": "python3"
  },
  "language_info": {
   "codemirror_mode": {
    "name": "ipython",
    "version": 3
   },
   "file_extension": ".py",
   "mimetype": "text/x-python",
   "name": "python",
   "nbconvert_exporter": "python",
   "pygments_lexer": "ipython3",
   "version": "3.8.8"
  },
  "toc": {
   "base_numbering": 1,
   "nav_menu": {},
   "number_sections": true,
   "sideBar": true,
   "skip_h1_title": false,
   "title_cell": "Table of Contents",
   "title_sidebar": "Contents",
   "toc_cell": false,
   "toc_position": {},
   "toc_section_display": true,
   "toc_window_display": false
  }
 },
 "nbformat": 4,
 "nbformat_minor": 4
}
