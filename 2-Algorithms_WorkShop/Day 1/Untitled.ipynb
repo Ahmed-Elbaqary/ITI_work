{
 "cells": [
  {
   "cell_type": "markdown",
   "id": "eca66f93",
   "metadata": {},
   "source": [
    "# Ahmed Abd-Elsalam Muhammed Afify\n",
    "# AI_Algorithms_Assignment"
   ]
  },
  {
   "cell_type": "markdown",
   "id": "c850cb4d",
   "metadata": {},
   "source": [
    "## Question(1):"
   ]
  },
  {
   "cell_type": "markdown",
   "id": "c731f74a",
   "metadata": {},
   "source": [
    "* O(3n) ......==> Linear\n",
    "* O(3n^2) .......==> Polynomial\n",
    "* O(2^n) ........==> Exponential\n",
    "* O((3/2)^n) ....==> Exponential\n",
    "* O(1000) .......==> Constanat\n",
    "* O(1) ..........==> Constant\n",
    "* O((3/2)n) .....==> Linear\n",
    "* O(3n^3) .......==> Polynomial"
   ]
  },
  {
   "cell_type": "markdown",
   "id": "e54ca070",
   "metadata": {},
   "source": [
    "## Question 2\n",
    "\n",
    "### 1  <  n   <  n^2  <  n^3  <  (3/2)^n  <  2^n"
   ]
  },
  {
   "cell_type": "markdown",
   "id": "60660fa2",
   "metadata": {},
   "source": [
    "## Question 3\n",
    "#### n+3 = 3n-1\n",
    "#### n^2+2n-10 = n^2+3n\n",
    "#### n^3*3n = n^4\n",
    "#### log(X) = log(2X)"
   ]
  },
  {
   "cell_type": "markdown",
   "id": "42057fa7",
   "metadata": {},
   "source": [
    "## Question 4\n",
    "* Time Complexity = O(sqr(n))"
   ]
  },
  {
   "cell_type": "markdown",
   "id": "c7074532",
   "metadata": {},
   "source": [
    "## Question 5\n",
    "* Time Complexity = O(n^2)"
   ]
  },
  {
   "cell_type": "code",
   "execution_count": 4,
   "id": "dcb38673",
   "metadata": {},
   "outputs": [
    {
     "name": "stdout",
     "output_type": "stream",
     "text": [
      "1\n"
     ]
    }
   ],
   "source": [
    "array=[5,6,2,8,9,2,6,2]\n",
    "def min_distance(arr):\n",
    "    Min =max(A)\n",
    "    for i in A:\n",
    "        for j in A:\n",
    "            if i!=j and (i - j ) < Min and (i - j)>0:\n",
    "                Min = i - j\n",
    "    return Min\n",
    "\n",
    "print(min_distance(array))"
   ]
  },
  {
   "cell_type": "markdown",
   "id": "43c16876",
   "metadata": {},
   "source": [
    "# Question 6\n"
   ]
  },
  {
   "cell_type": "code",
   "execution_count": null,
   "id": "3b686087",
   "metadata": {},
   "outputs": [],
   "source": []
  },
  {
   "cell_type": "markdown",
   "id": "338aa7bc",
   "metadata": {},
   "source": [
    "# Question 7\n"
   ]
  },
  {
   "cell_type": "code",
   "execution_count": 12,
   "id": "66e5eb69",
   "metadata": {},
   "outputs": [
    {
     "name": "stdout",
     "output_type": "stream",
     "text": [
      "1\n"
     ]
    }
   ],
   "source": [
    "def gcd_ecludian(a, b):\n",
    "    if a == 0 :\n",
    "        return b\n",
    "    return gcd(b%a, a)\n",
    "\n",
    "\n",
    "# Complexity O(log(n))\n",
    "\n",
    "x = gcd_ecludian(31415,14142)\n",
    "print(x)"
   ]
  },
  {
   "cell_type": "code",
   "execution_count": null,
   "id": "f1f2eae7",
   "metadata": {},
   "outputs": [],
   "source": []
  }
 ],
 "metadata": {
  "kernelspec": {
   "display_name": "Python 3 (ipykernel)",
   "language": "python",
   "name": "python3"
  },
  "language_info": {
   "codemirror_mode": {
    "name": "ipython",
    "version": 3
   },
   "file_extension": ".py",
   "mimetype": "text/x-python",
   "name": "python",
   "nbconvert_exporter": "python",
   "pygments_lexer": "ipython3",
   "version": "3.8.8"
  }
 },
 "nbformat": 4,
 "nbformat_minor": 5
}
