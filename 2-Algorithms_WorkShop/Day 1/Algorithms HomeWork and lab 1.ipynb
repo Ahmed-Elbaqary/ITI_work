{
 "cells": [
  {
   "cell_type": "markdown",
   "metadata": {},
   "source": [
    "# Ahmed Abd-Elsalam Muhammed Afify\n"
   ]
  },
  {
   "cell_type": "markdown",
   "metadata": {},
   "source": [
    "# AI_Algorithm_Assignment"
   ]
  },
  {
   "cell_type": "markdown",
   "metadata": {},
   "source": [
    "# Factorial Iterative\n"
   ]
  },
  {
   "cell_type": "code",
   "execution_count": 10,
   "metadata": {},
   "outputs": [
    {
     "name": "stdout",
     "output_type": "stream",
     "text": [
      "120\n",
      "0:00:00\n"
     ]
    }
   ],
   "source": [
    "def fact_iter(n):\n",
    "    if n<0:\n",
    "        factorial = 0\n",
    "    elif n in [0,1]:\n",
    "        factorial = 1\n",
    "    else:\n",
    "        factorial = 1\n",
    "        while n>1:\n",
    "            factorial *= n\n",
    "            n -= 1\n",
    "\n",
    "    return factorial\n",
    "\n",
    "#---------------- Test ----------------------\n",
    "start_time = datetime.datetime.now()\n",
    "fact = fact_iter(5)\n",
    "print(fact)\n",
    "end_time = datetime.datetime.now()\n",
    "print(end_time - start_time)\n"
   ]
  },
  {
   "cell_type": "markdown",
   "metadata": {},
   "source": [
    "# Recursive Factorial\n"
   ]
  },
  {
   "cell_type": "code",
   "execution_count": 11,
   "metadata": {},
   "outputs": [
    {
     "name": "stdout",
     "output_type": "stream",
     "text": [
      "120\n",
      "0:00:00.001000\n"
     ]
    }
   ],
   "source": [
    "import datetime\n",
    "\n",
    "def fact_recur(n):\n",
    "    if n<0:\n",
    "        factorial = 0\n",
    "    elif n in [0,1]:\n",
    "        factorial = 1\n",
    "    else:\n",
    "        factorial = n*fact_recur(n-1)\n",
    "    return factorial\n",
    "\n",
    "# Complexity O(n)\n",
    "\n",
    "#---------------- Test ----------------------\n",
    "start_time = datetime.datetime.now()\n",
    "fact = fact_recur(5)\n",
    "print(fact)\n",
    "end_time = datetime.datetime.now()\n",
    "print(end_time - start_time)"
   ]
  },
  {
   "cell_type": "markdown",
   "metadata": {},
   "source": [
    "# Fibonacci Iterative\n"
   ]
  },
  {
   "cell_type": "code",
   "execution_count": 24,
   "metadata": {},
   "outputs": [
    {
     "name": "stdout",
     "output_type": "stream",
     "text": [
      "6765\n",
      "0:00:00.001000\n"
     ]
    }
   ],
   "source": [
    "def fibonacci_loop(n):\n",
    "    if n<0 :\n",
    "        raise Exception\n",
    "        \"Input Error\"\n",
    "    elif n == 0:\n",
    "        return 0\n",
    "    elif n in [1, 2]:\n",
    "        return 1\n",
    "    else:\n",
    "        fabonnaci_a = 0\n",
    "        fabonnaci = 1\n",
    "        for i in range(1,n):\n",
    "            c = fabonnaci_a + fabonnaci\n",
    "            fabonnaci_a = fabonnaci\n",
    "            fabonnaci = c\n",
    "            \n",
    "    return fabonnaci\n",
    "\n",
    "\n",
    "# Complexity O(n)\n",
    "#---------------- Test ----------------------\n",
    "start_time = datetime.datetime.now()\n",
    "v = fibonacci_loop(20)\n",
    "print(v)\n",
    "end_time = datetime.datetime.now()\n",
    "print(end_time - start_time)"
   ]
  },
  {
   "cell_type": "markdown",
   "metadata": {},
   "source": [
    "# Fibonacci Recursion"
   ]
  },
  {
   "cell_type": "code",
   "execution_count": 23,
   "metadata": {},
   "outputs": [
    {
     "name": "stdout",
     "output_type": "stream",
     "text": [
      "6765\n",
      "0:00:00.003998\n"
     ]
    }
   ],
   "source": [
    "def fibonacci_recur(n):\n",
    "    if n<0 :\n",
    "        raise Exception\n",
    "        \"Input Error\"\n",
    "    elif n == 0:\n",
    "        return 0\n",
    "    elif n in [1, 2]:\n",
    "        return 1\n",
    "    else:\n",
    "        return fabonnaci_recur(n-1)+fabonnaci_recur(n-2)\n",
    "    \n",
    "\n",
    "# Complexity O(2^n)    \n",
    "\n",
    "#---------------- Test ----------------------\n",
    "start_time = datetime.datetime.now()\n",
    "v = fibonacci_recur(20)\n",
    "print(v)\n",
    "end_time = datetime.datetime.now()\n",
    "print(end_time - start_time)"
   ]
  },
  {
   "cell_type": "markdown",
   "metadata": {},
   "source": [
    "# Iterative Linear Search"
   ]
  },
  {
   "cell_type": "code",
   "execution_count": 27,
   "metadata": {},
   "outputs": [
    {
     "name": "stdout",
     "output_type": "stream",
     "text": [
      "7\n",
      "0:00:00.003999\n",
      "Not Found\n"
     ]
    }
   ],
   "source": [
    "def search_loop(array, x):\n",
    "  \n",
    "    for i in range(len(array)):\n",
    "        if arr[i] == x:\n",
    "            return i\n",
    "  \n",
    "    return \"Not Found\"\n",
    "\n",
    "\n",
    "# Complexity O(n)\n",
    "\n",
    "# ------------------- Test ---------------\n",
    "start_time = datetime.datetime.now()\n",
    "arr = [1,2,3,4,5,6,7,8,9]\n",
    "x = 8\n",
    "index = search_loop(arr,x)\n",
    "print(index)\n",
    "end_time = datetime.datetime.now()\n",
    "print(end_time - start_time)\n",
    "\n",
    "x = 10\n",
    "index = search_loop(arr,x)\n",
    "print(index)"
   ]
  },
  {
   "cell_type": "markdown",
   "metadata": {},
   "source": [
    "# Recursion linear search"
   ]
  },
  {
   "cell_type": "code",
   "execution_count": 29,
   "metadata": {},
   "outputs": [
    {
     "name": "stdout",
     "output_type": "stream",
     "text": [
      "7\n",
      "0:00:00\n"
     ]
    }
   ],
   "source": [
    "def search_rec( array, begin, end, x):\n",
    "    if end < begin:\n",
    "        return -1\n",
    "    if arr[begin] == x:\n",
    "        return begin\n",
    "    if arr[end] == x:\n",
    "        return end\n",
    "    return recSearch(arr, begin+1, end-1, x)\n",
    "\n",
    "\n",
    "# Complexity O(n)\n",
    "\n",
    "# ------------------- Test ---------------\n",
    "start_time = datetime.datetime.now()\n",
    "arr = [1,2,3,4,5,6,7,8,9]\n",
    "x = 8\n",
    "begin = 0\n",
    "end = len(arr)-1\n",
    "index = search_rec(arr,begin,end,x)\n",
    "print(index)\n",
    "end_time = datetime.datetime.now()\n",
    "print(end_time - start_time)"
   ]
  },
  {
   "cell_type": "markdown",
   "metadata": {},
   "source": [
    "# Insertion sort"
   ]
  },
  {
   "cell_type": "code",
   "execution_count": 31,
   "metadata": {},
   "outputs": [
    {
     "name": "stdout",
     "output_type": "stream",
     "text": [
      "[1, 3, 3, 4, 5, 6, 6, 7, 8, 8, 8]\n",
      "0:00:00\n"
     ]
    }
   ],
   "source": [
    "def insertionSort(array):\n",
    "    for i in range(1, len(array)):\n",
    "        key = array[i]\n",
    "        j = i-1\n",
    "        while j >=0 and key < array[j] :\n",
    "                array[j+1] = array[j]\n",
    "                j -= 1\n",
    "        array[j+1] = key\n",
    "    return array\n",
    "        \n",
    "    \n",
    "# Complexity O(n*n)\n",
    "\n",
    "# ------------------- Test ---------------\n",
    "start_time = datetime.datetime.now()\n",
    "arr = [8,6,4,3,8,1,3,5,8,7,6]\n",
    "sorted_array = insertionSort(arr)\n",
    "print(sorted_array)\n",
    "end_time = datetime.datetime.now()\n",
    "print(end_time - start_time)"
   ]
  },
  {
   "cell_type": "markdown",
   "metadata": {},
   "source": [
    "# Bubble sort"
   ]
  },
  {
   "cell_type": "code",
   "execution_count": 33,
   "metadata": {},
   "outputs": [
    {
     "name": "stdout",
     "output_type": "stream",
     "text": [
      "[1, 3, 3, 4, 5, 6, 6, 7, 8, 8, 8]\n",
      "0:00:00\n"
     ]
    }
   ],
   "source": [
    "def bubbleSort(array):\n",
    "    n = len(array)\n",
    "    for i in range(n-1):\n",
    "        for j in range(0, n-i-1):\n",
    "            if array[j] > array[j+1] :\n",
    "                array[j], array[j+1] = array[j+1], array[j]\n",
    "    return array\n",
    "        \n",
    "\n",
    "# Complexity O(n*n)\n",
    "\n",
    "# ------------------- Test ---------------\n",
    "start_time = datetime.datetime.now()\n",
    "arr = [8,6,4,3,8,1,3,5,8,7,6]\n",
    "sorted_array = bubbleSort(arr)\n",
    "print(sorted_array)\n",
    "end_time = datetime.datetime.now()\n",
    "print(end_time - start_time)"
   ]
  },
  {
   "cell_type": "markdown",
   "metadata": {},
   "source": [
    "# Binary Search Iterative"
   ]
  },
  {
   "cell_type": "code",
   "execution_count": 37,
   "metadata": {},
   "outputs": [
    {
     "name": "stdout",
     "output_type": "stream",
     "text": [
      "7\n",
      "0:00:00.001000\n"
     ]
    }
   ],
   "source": [
    "def binarySearch_iter(array, begin, end, x):\n",
    "    while begin <= end:\n",
    "        mid = begin + (end - begin) // 2;\n",
    "        if array[mid] == x:\n",
    "            return mid\n",
    "        elif array[mid] < x:\n",
    "            begin = mid + 1\n",
    "        else:\n",
    "            end = mid - 1\n",
    "    return -1\n",
    "\n",
    "\n",
    "# Complexity O(log(n))\n",
    "\n",
    "# ------------------- Test ---------------\n",
    "start_time = datetime.datetime.now()\n",
    "arr = [1,2,3,4,5,6,7,8,9]\n",
    "x = 8\n",
    "begin = 0\n",
    "end = len(arr)-1\n",
    "index = binarySearch_iter(arr,begin,end,x)\n",
    "print(index)\n",
    "end_time = datetime.datetime.now()\n",
    "print(end_time - start_time)"
   ]
  },
  {
   "cell_type": "markdown",
   "metadata": {},
   "source": [
    "# Binary Search Recursive"
   ]
  },
  {
   "cell_type": "code",
   "execution_count": 36,
   "metadata": {},
   "outputs": [
    {
     "name": "stdout",
     "output_type": "stream",
     "text": [
      "7\n",
      "0:00:00.000998\n"
     ]
    }
   ],
   "source": [
    "def binarySearch_recer(array, begin, end, x):\n",
    "    if end >= begin:\n",
    "        mid = begin + (end-begin)//2\n",
    "        if arr[mid]==x:\n",
    "            return mid\n",
    "        elif arr[mid] > x:\n",
    "            return binarySearch_recer(array, begin, mid-1, x)\n",
    "        else:\n",
    "            return binarySearch_recer(array, mid + 1, end, x)\n",
    "    else:\n",
    "        return -1\n",
    "\n",
    "\n",
    "# Complexity O(log(n))\n",
    "\n",
    "# ------------------- Test ---------------\n",
    "start_time = datetime.datetime.now()\n",
    "arr = [1,2,3,4,5,6,7,8,9]\n",
    "x = 8\n",
    "begin = 0\n",
    "end = len(arr)-1\n",
    "index = binarySearch_recer(arr,begin,end,x)\n",
    "print(index)\n",
    "end_time = datetime.datetime.now()\n",
    "print(end_time - start_time)"
   ]
  },
  {
   "cell_type": "code",
   "execution_count": null,
   "metadata": {},
   "outputs": [],
   "source": []
  }
 ],
 "metadata": {
  "kernelspec": {
   "display_name": "Python 3 (ipykernel)",
   "language": "python",
   "name": "python3"
  },
  "language_info": {
   "codemirror_mode": {
    "name": "ipython",
    "version": 3
   },
   "file_extension": ".py",
   "mimetype": "text/x-python",
   "name": "python",
   "nbconvert_exporter": "python",
   "pygments_lexer": "ipython3",
   "version": "3.8.8"
  },
  "toc": {
   "base_numbering": 1,
   "nav_menu": {},
   "number_sections": true,
   "sideBar": true,
   "skip_h1_title": false,
   "title_cell": "Table of Contents",
   "title_sidebar": "Contents",
   "toc_cell": false,
   "toc_position": {},
   "toc_section_display": true,
   "toc_window_display": false
  }
 },
 "nbformat": 4,
 "nbformat_minor": 4
}
