{
 "cells": [
  {
   "cell_type": "code",
   "execution_count": null,
   "id": "72d97278",
   "metadata": {},
   "outputs": [],
   "source": []
  },
  {
   "cell_type": "code",
   "execution_count": null,
   "id": "99110d37",
   "metadata": {},
   "outputs": [],
   "source": []
  },
  {
   "cell_type": "code",
   "execution_count": null,
   "id": "2b6d1c7d",
   "metadata": {},
   "outputs": [],
   "source": []
  },
  {
   "cell_type": "code",
   "execution_count": 39,
   "id": "47622e94",
   "metadata": {},
   "outputs": [
    {
     "name": "stdout",
     "output_type": "stream",
     "text": [
      "[-1, 0, 0, 1]\n",
      "[[0, 1, 2, 0], [2, 0, 5, 0], [0, 0, 0, 3], [0, 2, 0, 0]]\n",
      "[-1, 0, 0, 2]\n",
      "[[0, 1, 0, 0], [2, 0, 5, 0], [2, 0, 0, 1], [0, 2, 2, 0]]\n",
      "[-1, 0, 1, 2]\n",
      "[[0, 0, 0, 0], [3, 0, 4, 0], [2, 1, 0, 0], [0, 2, 3, 0]]\n",
      "Max Flow: 5 \n"
     ]
    }
   ],
   "source": [
    "# Ford-Fulkerson algorith in Python\n",
    "\n",
    "from collections import defaultdict\n",
    "\n",
    "\n",
    "class Graph:\n",
    "\n",
    "    def __init__(self, graph):\n",
    "        self.graph = graph\n",
    "        self. ROW = len(graph)\n",
    "\n",
    "\n",
    "    # Using BFS as a searching algorithm \n",
    "    def searching_algo_BFS(self, s, t, parent):\n",
    "\n",
    "        visited = [False] * (self.ROW)\n",
    "        queue = []\n",
    "\n",
    "        queue.append(s)\n",
    "        visited[s] = True\n",
    "\n",
    "        while queue:\n",
    "\n",
    "            u = queue.pop(0)\n",
    "\n",
    "            for ind, val in enumerate(self.graph[u]):\n",
    "                if visited[ind] == False and val > 0:\n",
    "                    queue.append(ind)\n",
    "                    visited[ind] = True\n",
    "                    parent[ind] = u\n",
    "                \n",
    "        return True if visited[t] else False\n",
    "\n",
    "    # Applying fordfulkerson algorithm\n",
    "    def ford_fulkerson(self, source, sink):\n",
    "        parent = [-1] * (self.ROW)\n",
    "        max_flow = 0\n",
    "        #print(parent)\n",
    "\n",
    "        while self.searching_algo_BFS(source, sink, parent):\n",
    "\n",
    "            path_flow = float(\"Inf\")\n",
    "            s = sink\n",
    "            while(s != source):\n",
    "                path_flow = min(path_flow, self.graph[parent[s]][s])\n",
    "#                 print(s)\n",
    "#                 print(parent)\n",
    " #               print(self.graph[parent[s]][s])\n",
    "                s = parent[s]\n",
    "                \n",
    "\n",
    "            # Adding the path flows\n",
    "            max_flow += path_flow\n",
    "#            print(max_flow)\n",
    "\n",
    "            # Updating the residual values of edges\n",
    "            v = sink\n",
    "            while(v != source):\n",
    "                u = parent[v]\n",
    "                self.graph[u][v] -= path_flow\n",
    "                self.graph[v][u] += path_flow\n",
    "                v = parent[v]\n",
    "            print(parent)\n",
    "            print(graph)\n",
    "\n",
    "        return max_flow\n",
    "\n",
    "\n",
    "# graph = [[0, 8, 0, 0, 3, 0],\n",
    "#          [0, 0, 9, 0, 0, 0],\n",
    "#          [0, 0, 0, 0, 7, 2],\n",
    "#          [0, 0, 0, 0, 0, 5],\n",
    "#          [0, 0, 7, 4, 0, 0],\n",
    "#          [0, 0, 0, 0, 0, 0]]\n",
    "\n",
    "\n",
    "graph = [[0, 3, 2, 0],\n",
    "         [0, 0, 5, 2],\n",
    "         [0, 0, 0, 3],\n",
    "         [0, 0, 0, 0]]\n",
    "\n",
    "\n",
    "g = Graph(graph)\n",
    "\n",
    "source = 0\n",
    "sink = 3\n",
    "\n",
    "print(\"Max Flow: %d \" % g.ford_fulkerson(source, sink))"
   ]
  },
  {
   "cell_type": "code",
   "execution_count": 15,
   "id": "312070a6",
   "metadata": {},
   "outputs": [
    {
     "data": {
      "text/plain": [
       "4"
      ]
     },
     "execution_count": 15,
     "metadata": {},
     "output_type": "execute_result"
    }
   ],
   "source": [
    "e = [1, 2, 3, 4]\n",
    "e[-1]"
   ]
  },
  {
   "cell_type": "code",
   "execution_count": null,
   "id": "4309d54b",
   "metadata": {},
   "outputs": [],
   "source": []
  }
 ],
 "metadata": {
  "kernelspec": {
   "display_name": "Python 3",
   "language": "python",
   "name": "python3"
  },
  "language_info": {
   "codemirror_mode": {
    "name": "ipython",
    "version": 3
   },
   "file_extension": ".py",
   "mimetype": "text/x-python",
   "name": "python",
   "nbconvert_exporter": "python",
   "pygments_lexer": "ipython3",
   "version": "3.8.8"
  }
 },
 "nbformat": 4,
 "nbformat_minor": 5
}
