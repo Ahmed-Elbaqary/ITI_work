{
 "cells": [
  {
   "cell_type": "code",
   "execution_count": 1,
   "id": "9030cdf9",
   "metadata": {},
   "outputs": [],
   "source": [
    "import pandas as pd\n",
    "import numpy as np\n",
    "from sklearn.model_selection import train_test_split"
   ]
  },
  {
   "cell_type": "code",
   "execution_count": 2,
   "id": "c97ef905",
   "metadata": {},
   "outputs": [
    {
     "data": {
      "text/plain": [
       "dict_keys(['data', 'target', 'frame', 'categories', 'feature_names', 'target_names', 'DESCR', 'details', 'url'])"
      ]
     },
     "execution_count": 2,
     "metadata": {},
     "output_type": "execute_result"
    }
   ],
   "source": [
    "from sklearn.datasets import fetch_openml\n",
    "mnist = fetch_openml('mnist_784', version=1)\n",
    "mnist.keys()"
   ]
  },
  {
   "cell_type": "code",
   "execution_count": 3,
   "id": "ed98954e",
   "metadata": {},
   "outputs": [],
   "source": [
    "x = mnist['data']\n",
    "y = mnist['target']"
   ]
  },
  {
   "cell_type": "code",
   "execution_count": 4,
   "id": "6d9efd45",
   "metadata": {},
   "outputs": [
    {
     "name": "stdout",
     "output_type": "stream",
     "text": [
      "(70000, 784)\n",
      "(70000,)\n"
     ]
    }
   ],
   "source": [
    "print(x.shape)\n",
    "print(y.shape)"
   ]
  },
  {
   "cell_type": "code",
   "execution_count": null,
   "id": "a1555562",
   "metadata": {},
   "outputs": [],
   "source": [
    "import matplotlib as mpl\n",
    "import matplotlib.pyplot as plt"
   ]
  },
  {
   "cell_type": "code",
   "execution_count": 8,
   "id": "ace01d25",
   "metadata": {},
   "outputs": [
    {
     "data": {
      "image/png": "[encoded data removed]",
      "text/plain": [
       "<Figure size 432x288 with 1 Axes>"
      ]
     },
     "metadata": {
      "needs_background": "light"
     },
     "output_type": "display_data"
    }
   ],
   "source": [
    "some_digit = x.loc[0].to_numpy()\n",
    "some_digit_image = some_digit.reshape(28, 28)\n",
    "plt.imshow(some_digit_image, cmap = mpl.cm.binary, interpolation=\"nearest\")\n",
    "plt.axis(\"off\")\n",
    "plt.show()"
   ]
  },
  {
   "cell_type": "code",
   "execution_count": 9,
   "id": "0e9b3b7b",
   "metadata": {},
   "outputs": [
    {
     "data": {
      "text/plain": [
       "'5'"
      ]
     },
     "execution_count": 9,
     "metadata": {},
     "output_type": "execute_result"
    }
   ],
   "source": [
    "y[0]"
   ]
  },
  {
   "cell_type": "code",
   "execution_count": 10,
   "id": "668c7dc8",
   "metadata": {},
   "outputs": [],
   "source": [
    "y = y.astype('uint8')"
   ]
  },
  {
   "cell_type": "code",
   "execution_count": 11,
   "id": "1ba39ff4",
   "metadata": {},
   "outputs": [],
   "source": [
    "x_train, x_test, y_train, y_test = train_test_split(x, y, test_size=0.2, random_state=42)"
   ]
  },
  {
   "cell_type": "code",
   "execution_count": 12,
   "id": "b680fcb0",
   "metadata": {},
   "outputs": [
    {
     "name": "stdout",
     "output_type": "stream",
     "text": [
      "(56000, 784)\n",
      "(14000, 784)\n"
     ]
    }
   ],
   "source": [
    "print(x_train.shape)\n",
    "print(x_test.shape)"
   ]
  },
  {
   "cell_type": "code",
   "execution_count": 13,
   "id": "d75b7b7b",
   "metadata": {},
   "outputs": [],
   "source": [
    "y_train_6 = (y_train == 6)\n",
    "y_test_6 = (y_test == 6)"
   ]
  },
  {
   "cell_type": "code",
   "execution_count": 14,
   "id": "a5f180e5",
   "metadata": {},
   "outputs": [],
   "source": [
    "from sklearn.linear_model import SGDClassifier"
   ]
  },
  {
   "cell_type": "code",
   "execution_count": 35,
   "id": "dfcd0b52",
   "metadata": {},
   "outputs": [
    {
     "data": {
      "text/plain": [
       "SGDClassifier(random_state=42)"
      ]
     },
     "execution_count": 35,
     "metadata": {},
     "output_type": "execute_result"
    }
   ],
   "source": [
    "clf = SGDClassifier(random_state=42)\n",
    "clf.fit(x_train, y_train_6)"
   ]
  },
  {
   "cell_type": "code",
   "execution_count": 36,
   "id": "d14d3ceb",
   "metadata": {},
   "outputs": [
    {
     "data": {
      "text/plain": [
       "0.973375"
      ]
     },
     "execution_count": 36,
     "metadata": {},
     "output_type": "execute_result"
    }
   ],
   "source": [
    "clf.score(x_train, y_train_6)"
   ]
  },
  {
   "cell_type": "code",
   "execution_count": 40,
   "id": "34f65ac5",
   "metadata": {},
   "outputs": [
    {
     "data": {
      "text/plain": [
       "array([False, False, False, ..., False, False, False])"
      ]
     },
     "execution_count": 40,
     "metadata": {},
     "output_type": "execute_result"
    }
   ],
   "source": [
    "clf.predict(x_train)"
   ]
  },
  {
   "cell_type": "markdown",
   "id": "679fe007",
   "metadata": {},
   "source": [
    "---\n",
    "# Cross Validation "
   ]
  },
  {
   "cell_type": "code",
   "execution_count": 17,
   "id": "caca51f5",
   "metadata": {},
   "outputs": [],
   "source": [
    "from sklearn.model_selection import cross_val_score"
   ]
  },
  {
   "cell_type": "code",
   "execution_count": 18,
   "id": "240f51ca",
   "metadata": {},
   "outputs": [
    {
     "data": {
      "text/plain": [
       "array([0.97798254, 0.95719719, 0.96035573])"
      ]
     },
     "execution_count": 18,
     "metadata": {},
     "output_type": "execute_result"
    }
   ],
   "source": [
    "cross_val_score(clf, x_train, y_train_6, cv=3, scoring='accuracy')"
   ]
  },
  {
   "cell_type": "markdown",
   "id": "0aa69f3d",
   "metadata": {},
   "source": [
    "## Predicting values using cross_val_prediction()"
   ]
  },
  {
   "cell_type": "code",
   "execution_count": 19,
   "id": "ea8e8da4",
   "metadata": {},
   "outputs": [],
   "source": [
    "from sklearn.model_selection import cross_val_predict "
   ]
  },
  {
   "cell_type": "code",
   "execution_count": 20,
   "id": "093b57c2",
   "metadata": {},
   "outputs": [
    {
     "name": "stdout",
     "output_type": "stream",
     "text": [
      "[ True False False ... False False False]\n"
     ]
    }
   ],
   "source": [
    "y_predicted = cross_val_predict(clf, x_train, y_train_6, cv=3)\n",
    "print(y_predicted)"
   ]
  },
  {
   "cell_type": "markdown",
   "id": "31850708",
   "metadata": {},
   "source": [
    "---\n",
    "## Using different metrics"
   ]
  },
  {
   "cell_type": "markdown",
   "id": "3989dd9d",
   "metadata": {},
   "source": [
    "### Confusion matrix"
   ]
  },
  {
   "cell_type": "code",
   "execution_count": 21,
   "id": "34c4ffe2",
   "metadata": {},
   "outputs": [],
   "source": [
    "from sklearn.metrics import confusion_matrix"
   ]
  },
  {
   "cell_type": "code",
   "execution_count": 22,
   "id": "bb9a6723",
   "metadata": {},
   "outputs": [
    {
     "name": "stdout",
     "output_type": "stream",
     "text": [
      "[[48851  1669]\n",
      " [  281  5199]]\n"
     ]
    }
   ],
   "source": [
    "con_mtrx = confusion_matrix(y_train_6, y_predicted)\n",
    "print(con_mtrx)"
   ]
  },
  {
   "cell_type": "code",
   "execution_count": 23,
   "id": "66c4e8d6",
   "metadata": {},
   "outputs": [],
   "source": [
    "import seaborn as sns"
   ]
  },
  {
   "cell_type": "code",
   "execution_count": 24,
   "id": "8df55392",
   "metadata": {},
   "outputs": [
    {
     "data": {
      "image/png": "[encoded data removed]",
      "text/plain": [
       "<Figure size 432x288 with 2 Axes>"
      ]
     },
     "metadata": {
      "needs_background": "light"
     },
     "output_type": "display_data"
    }
   ],
   "source": [
    "sns.heatmap(con_mtrx, annot=True)\n",
    "plt.xlabel('Predicted')\n",
    "plt.ylabel('Actual')\n",
    "plt.show()"
   ]
  },
  {
   "cell_type": "markdown",
   "id": "30ea1dc0",
   "metadata": {},
   "source": [
    "### Precision"
   ]
  },
  {
   "cell_type": "code",
   "execution_count": 25,
   "id": "f4ecbd9e",
   "metadata": {},
   "outputs": [],
   "source": [
    "from sklearn.metrics import precision_score"
   ]
  },
  {
   "cell_type": "code",
   "execution_count": 26,
   "id": "121a8e8d",
   "metadata": {},
   "outputs": [
    {
     "data": {
      "text/plain": [
       "0.7569889341875364"
      ]
     },
     "execution_count": 26,
     "metadata": {},
     "output_type": "execute_result"
    }
   ],
   "source": [
    "precision_score(y_train_6, y_predicted)"
   ]
  },
  {
   "cell_type": "markdown",
   "id": "bef9edac",
   "metadata": {},
   "source": [
    "### Recall"
   ]
  },
  {
   "cell_type": "code",
   "execution_count": 27,
   "id": "cc769ade",
   "metadata": {},
   "outputs": [],
   "source": [
    "from sklearn.metrics import recall_score"
   ]
  },
  {
   "cell_type": "code",
   "execution_count": 28,
   "id": "3ae7f426",
   "metadata": {},
   "outputs": [
    {
     "data": {
      "text/plain": [
       "0.9487226277372263"
      ]
     },
     "execution_count": 28,
     "metadata": {},
     "output_type": "execute_result"
    }
   ],
   "source": [
    "recall_score(y_train_6, y_predicted)"
   ]
  },
  {
   "cell_type": "markdown",
   "id": "2dd6faa9",
   "metadata": {},
   "source": [
    "### F1_score"
   ]
  },
  {
   "cell_type": "markdown",
   "id": "b61898c9",
   "metadata": {},
   "source": [
    "#### F-score vs Accuracy\n",
    "There are a number of metrics which can be used to evaluate a binary classification model, and accuracy is one of the simplest to understand. Accuracy is defined as simply the number of correctly categorized examples divided by the total number of examples. Accuracy can be useful but does not take into account the subtleties of class imbalances, or differing costs of false negatives and false positives.\n",
    "\n",
    "**The F1-score is useful:**\n",
    "\n",
    "* where there are either differing costs of false positives or false negatives, such as in the mammogram example\n",
    "\n",
    "* or where there is a large class imbalance, such as if 10% of apples on trees tend to be unripe. In this case the accuracy would be misleading, since a classifier that classifies all apples as ripe would automatically get 90% accuracy but would be useless for real-life applications.\n",
    "\n",
    "The accuracy has the advantage that it is very easily interpretable, but the disadvantage that it is not robust when the data is unevenly distributed, or where there is a higher cost associated with a particular type of error.\n",
    "\n",
    "https://deepai.org/machine-learning-glossary-and-terms/f-score"
   ]
  },
  {
   "cell_type": "code",
   "execution_count": 29,
   "id": "001b3999",
   "metadata": {},
   "outputs": [
    {
     "data": {
      "text/plain": [
       "0.8420796890184645"
      ]
     },
     "execution_count": 29,
     "metadata": {},
     "output_type": "execute_result"
    }
   ],
   "source": [
    "from sklearn.metrics import f1_score\n",
    "f1_score(y_train_6, y_predicted)"
   ]
  },
  {
   "cell_type": "markdown",
   "id": "1d366d68",
   "metadata": {},
   "source": [
    "### Use decision_function() to find scores."
   ]
  },
  {
   "cell_type": "code",
   "execution_count": 33,
   "id": "3e602a7a",
   "metadata": {
    "scrolled": true
   },
   "outputs": [
    {
     "name": "stdout",
     "output_type": "stream",
     "text": [
      "[ -1033.19478408 -16904.05897259 -19576.0053562   -9110.11011199\n",
      "  -9748.40178083]\n"
     ]
    }
   ],
   "source": [
    "prediction_scores = clf.decision_function(x_train)\n",
    "print(prediction_scores[:5])"
   ]
  },
  {
   "cell_type": "code",
   "execution_count": 31,
   "id": "c3f041f1",
   "metadata": {
    "scrolled": true
   },
   "outputs": [
    {
     "data": {
      "text/plain": [
       "array([False, False, False, False, False])"
      ]
     },
     "execution_count": 31,
     "metadata": {},
     "output_type": "execute_result"
    }
   ],
   "source": [
    "threshold=0\n",
    "prediction_scores[:5]>0"
   ]
  },
  {
   "cell_type": "markdown",
   "id": "ec4b67da",
   "metadata": {},
   "source": [
    "### Use cross_val_predict to find the decision score for all data sete"
   ]
  },
  {
   "cell_type": "code",
   "execution_count": 32,
   "id": "5dc52758",
   "metadata": {},
   "outputs": [
    {
     "name": "stdout",
     "output_type": "stream",
     "text": [
      "[   636.50826229 -25276.6427686  -40844.93642444 -18039.51879518\n",
      " -12749.13423836]\n"
     ]
    }
   ],
   "source": [
    "scores = cross_val_predict(clf, x_train, y_train_6, cv=3, method='decision_function')\n",
    "print(scores[:5])"
   ]
  },
  {
   "cell_type": "markdown",
   "id": "2debdc1d",
   "metadata": {},
   "source": [
    "### plotting precision and recall vs all thresholds possible to decide the best threshold for your case\n",
    "**Using precision_recall_curve() function**"
   ]
  },
  {
   "cell_type": "code",
   "execution_count": 41,
   "id": "821b9338",
   "metadata": {},
   "outputs": [],
   "source": [
    "from sklearn.metrics import precision_recall_curve\n",
    "precisions, recalls, thresholds = precision_recall_curve(y_train_6, scores)"
   ]
  },
  {
   "cell_type": "markdown",
   "id": "83b22266",
   "metadata": {},
   "source": [
    "* Scores: is used to compare with the specific threshold then it's compared to the y_train_6 to get possible values of precision and recall to return the corresponding values.\n",
    "* then we can plot those values versus thresholds."
   ]
  },
  {
   "cell_type": "code",
   "execution_count": 44,
   "id": "7aee5162",
   "metadata": {},
   "outputs": [],
   "source": [
    "def curve_plotting(precisions, recalls, thresholds):\n",
    "    plt.plot(thresholds, precisions[:-1], 'b--', label='Precision')\n",
    "    plt.plot(thresholds, recalls[:-1], 'g-', label='Recall', linewidth=2)\n",
    "    plt.legend(loc=\"center right\", fontsize=16) \n",
    "    plt.xlabel(\"Threshold\", fontsize=16)        \n",
    "    plt.grid(True)                              \n",
    "    plt.axis([-50000, 50000, 0, 1])   "
   ]
  },
  {
   "cell_type": "code",
   "execution_count": 45,
   "id": "53e8fa81",
   "metadata": {
    "scrolled": true
   },
   "outputs": [
    {
     "data": {
      "image/png": "[encoded data removed]",
      "text/plain": [
       "<Figure size 1080x360 with 1 Axes>"
      ]
     },
     "metadata": {
      "needs_background": "light"
     },
     "output_type": "display_data"
    }
   ],
   "source": [
    "plt.figure(figsize=(15, 5))\n",
    "curve_plotting(precisions, recalls, thresholds)"
   ]
  },
  {
   "cell_type": "markdown",
   "id": "af8f248a",
   "metadata": {},
   "source": [
    "**Now we can pick a specific threshold based on value of precision or recall we want**\\\n",
    "**Suppose we want our (precision=90%) so we are gonna find the best corresponding threshold based on that condition**"
   ]
  },
  {
   "cell_type": "markdown",
   "id": "a1ff51db",
   "metadata": {},
   "source": [
    "**First**\n",
    "* We need to find the index of the precision whose value >= 0.9 which corresponds to a specific threshold and with a corresponding Recall value.\n",
    "* precisions = [0.158623, 0.1792, ... , 0.899532, (0.9124), 0.9861, ...]\n",
    "\n",
    "**The index of (0.9124) is corresponding to the value of threshold at that index and so we will use it**"
   ]
  },
  {
   "cell_type": "code",
   "execution_count": 61,
   "id": "d535b3bd",
   "metadata": {},
   "outputs": [
    {
     "name": "stdout",
     "output_type": "stream",
     "text": [
      "Index = (41194)\n"
     ]
    }
   ],
   "source": [
    "# index of the first precision that is >= 0.9\n",
    "index = np.argmax(precisions >= 0.9)\n",
    "print(f'Index = ({index})')"
   ]
  },
  {
   "cell_type": "code",
   "execution_count": 62,
   "id": "668ecb8f",
   "metadata": {},
   "outputs": [
    {
     "name": "stdout",
     "output_type": "stream",
     "text": [
      "threshold = (8104.411047346578)\n"
     ]
    }
   ],
   "source": [
    "# Threshold for precision=0.9\n",
    "thrd_90_pres = thresholds[index]\n",
    "print(f'threshold = ({thrd_90_pres})')"
   ]
  },
  {
   "cell_type": "code",
   "execution_count": 60,
   "id": "4ec3e4aa",
   "metadata": {},
   "outputs": [
    {
     "name": "stdout",
     "output_type": "stream",
     "text": [
      "Recall = (0.8666058394160584)\n"
     ]
    }
   ],
   "source": [
    "# The corresponding recall value:\n",
    "recall_90_pres = recalls[index]\n",
    "print(f'Recall = ({recall_90_pres})')"
   ]
  },
  {
   "cell_type": "markdown",
   "id": "f992245d",
   "metadata": {},
   "source": [
    "**Now tresting our estimations about threshold**\n",
    "* first we compare the scores with the treshold so we can get our predictions based on that threshold.\n",
    "* second we compute our precision and recall to see if they are equla to the correspoding values."
   ]
  },
  {
   "cell_type": "code",
   "execution_count": 68,
   "id": "f32bb694",
   "metadata": {},
   "outputs": [],
   "source": [
    "y_90_pres = (scores >= thrd_90_pres)"
   ]
  },
  {
   "cell_type": "code",
   "execution_count": 69,
   "id": "4f4f467e",
   "metadata": {},
   "outputs": [
    {
     "data": {
      "text/plain": [
       "0.9001137225170583"
      ]
     },
     "execution_count": 69,
     "metadata": {},
     "output_type": "execute_result"
    }
   ],
   "source": [
    "# Precision, should be 0.9 or more\n",
    "precision_score(y_train_6, y_90_pres)"
   ]
  },
  {
   "cell_type": "code",
   "execution_count": 72,
   "id": "5fdc3050",
   "metadata": {},
   "outputs": [
    {
     "data": {
      "text/plain": [
       "0.8666058394160584"
      ]
     },
     "execution_count": 72,
     "metadata": {},
     "output_type": "execute_result"
    }
   ],
   "source": [
    "# recall, shold be as computed above\n",
    "recall_score(y_train_6, y_90_pres)"
   ]
  },
  {
   "cell_type": "markdown",
   "id": "d18e7be8",
   "metadata": {},
   "source": [
    "**Plotting all together**"
   ]
  },
  {
   "cell_type": "code",
   "execution_count": 74,
   "id": "ce7afe78",
   "metadata": {},
   "outputs": [
    {
     "data": {
      "image/png": "[encoded data removed]",
      "text/plain": [
       "<Figure size 864x432 with 1 Axes>"
      ]
     },
     "metadata": {
      "needs_background": "light"
     },
     "output_type": "display_data"
    }
   ],
   "source": [
    "plt.figure(figsize=(12,6))\n",
    "curve_plotting(precisions, recalls, thresholds)\n",
    "plt.plot([thrd_90_pres, thrd_90_pres], [0, 0.9], ':r')\n",
    "plt.plot([thrd_90_pres, -50000], [0.9, 0.9], ':r')\n",
    "plt.plot([thrd_90_pres, -50000], [recall_90_pres, recall_90_pres], ':r')\n",
    "plt.plot([thrd_90_pres], [0.9], 'ro')\n",
    "plt.plot([thrd_90_pres], [recall_90_pres], 'ro')\n",
    "plt.show()"
   ]
  },
  {
   "cell_type": "markdown",
   "id": "506d53e4",
   "metadata": {},
   "source": [
    "___\n",
    "### Pick a specific recall and find the corresponding precision:\n"
   ]
  },
  {
   "cell_type": "code",
   "execution_count": 104,
   "id": "9a726f63",
   "metadata": {},
   "outputs": [
    {
     "name": "stdout",
     "output_type": "stream",
     "text": [
      "index: 41772\n"
     ]
    }
   ],
   "source": [
    "index = np.argmax(recalls<=0.8)\n",
    "print('index:', index)"
   ]
  },
  {
   "cell_type": "code",
   "execution_count": 105,
   "id": "d63db7a8",
   "metadata": {},
   "outputs": [
    {
     "name": "stdout",
     "output_type": "stream",
     "text": [
      "threshold: 11398.587794655536\n",
      "Precision: 0.9331630481055768\n"
     ]
    }
   ],
   "source": [
    "thrd_80_recall = thresholds[index]\n",
    "pres_80_recall = precisions[index]\n",
    "print('threshold:', thrd_80_recall)\n",
    "print('Precision:', pres_80_recall)"
   ]
  },
  {
   "cell_type": "code",
   "execution_count": 106,
   "id": "ae76157d",
   "metadata": {},
   "outputs": [],
   "source": [
    "y_80_recall = scores>= thrd_80_recall"
   ]
  },
  {
   "cell_type": "code",
   "execution_count": 107,
   "id": "43ed03e2",
   "metadata": {},
   "outputs": [
    {
     "data": {
      "text/plain": [
       "0.9331630481055768"
      ]
     },
     "execution_count": 107,
     "metadata": {},
     "output_type": "execute_result"
    }
   ],
   "source": [
    "precision_score(y_train_6, y_80_recall)"
   ]
  },
  {
   "cell_type": "code",
   "execution_count": 108,
   "id": "f0dd920e",
   "metadata": {},
   "outputs": [
    {
     "data": {
      "text/plain": [
       "0.8"
      ]
     },
     "execution_count": 108,
     "metadata": {},
     "output_type": "execute_result"
    }
   ],
   "source": [
    "recall_score(y_train_6, y_80_recall)"
   ]
  },
  {
   "cell_type": "code",
   "execution_count": 111,
   "id": "5680d5a9",
   "metadata": {},
   "outputs": [
    {
     "data": {
      "image/png": "[encoded data removed]",
      "text/plain": [
       "<Figure size 864x432 with 1 Axes>"
      ]
     },
     "metadata": {
      "needs_background": "light"
     },
     "output_type": "display_data"
    }
   ],
   "source": [
    "plt.figure(figsize=(12, 6))\n",
    "curve_plotting(precisions, recalls, thresholds)\n",
    "plt.plot([thrd_80_recall, thrd_80_recall], [0.0, pres_80_recall], 'r:')\n",
    "plt.plot([thrd_80_recall, -50000], [0.8, 0.8], 'r:')\n",
    "plt.plot([thrd_80_recall, -50000], [pres_80_recall, pres_80_recall], 'r:')\n",
    "plt.plot([thrd_80_recall], [pres_80_recall], 'ro')\n",
    "plt.plot([thrd_80_recall], [0.8], 'or')\n",
    "plt.show()"
   ]
  },
  {
   "cell_type": "markdown",
   "id": "4181b92b",
   "metadata": {},
   "source": [
    "___\n",
    "## Plotting both recall and predictions on the same graph:"
   ]
  },
  {
   "cell_type": "code",
   "execution_count": 103,
   "id": "16e97a94",
   "metadata": {},
   "outputs": [],
   "source": [
    "def plot_pres_recall(precisions, recalls):\n",
    "    plt.plot(precisions, recalls, 'b-', linewidth=2)\n",
    "    plt.xlabel('Recalls', fontsize=16)\n",
    "    plt.ylabel('Precisions', fontsize=16)\n",
    "    plt.axis([0,1, 0,1])\n",
    "    plt.grid(True)"
   ]
  },
  {
   "cell_type": "code",
   "execution_count": 117,
   "id": "dae69825",
   "metadata": {},
   "outputs": [
    {
     "data": {
      "image/png": "[encoded data removed]",
      "text/plain": [
       "<Figure size 720x504 with 1 Axes>"
      ]
     },
     "metadata": {
      "needs_background": "light"
     },
     "output_type": "display_data"
    }
   ],
   "source": [
    "plt.figure(figsize=(10, 7))\n",
    "plot_pres_recall(precisions, recalls)\n",
    "plt.plot([recall_90_pres, recall_90_pres], [0.0, 0.9], 'r:')\n",
    "plt.plot([0.0, recall_90_pres], [0.9, 0.9], 'r:')\n",
    "plt.plot([recall_90_pres], [0.9], 'ro', label='Precision=0.9')\n",
    "\n",
    "plt.plot([0.0, .8], [pres_80_recall, pres_80_recall], 'g:')\n",
    "plt.plot([0.8, .8], [0.0, pres_80_recall], 'g:')\n",
    "plt.plot([0.8], [pres_80_recall], 'go', label='Recall=0.8')\n",
    "plt.legend(loc='lower left', fontsize=16)\n",
    "plt.show()"
   ]
  },
  {
   "cell_type": "markdown",
   "id": "0f40579c",
   "metadata": {},
   "source": [
    "___\n",
    "* The metrics change with the changing threshold values. We can generate different confusion matrices and compare the various metrics that we discussed in the previous section. But that would not be a prudent thing to do. Instead, what we can do is generate a plot between some of these metrics so that we can easily visualize which threshold is giving us a better result.\n",
    "\n",
    "**The AUC-ROC curve solves just that problem!**\n",
    "\n",
    "\n",
    "https://www.analyticsvidhya.com/blog/2020/06/auc-roc-curve-machine-learning/"
   ]
  },
  {
   "cell_type": "markdown",
   "id": "494e39a8",
   "metadata": {},
   "source": [
    "___\n",
    "# ROC Curve:\n",
    "* The Receiver Operator Characteristic (ROC) curve is an evaluation metric for binary classification problems. It is a probability curve that plots the TPR against FPR at various threshold values and essentially separates the ‘signal’ from the ‘noise’."
   ]
  },
  {
   "cell_type": "markdown",
   "id": "774aed24",
   "metadata": {},
   "source": [
    "* Once again there is a tradeoff: the higher the recall (TPR), the more false positives\n",
    "(FPR) the classifier produces. The dotted line represents the ROC curve of a purely\n",
    "random classifier; a good classifier stays as far away from that line as possible (toward\n",
    "the top-left corner).\n"
   ]
  },
  {
   "cell_type": "code",
   "execution_count": 118,
   "id": "d9704d4c",
   "metadata": {},
   "outputs": [],
   "source": [
    "from sklearn.metrics import roc_curve"
   ]
  },
  {
   "cell_type": "code",
   "execution_count": 124,
   "id": "698bc3cd",
   "metadata": {},
   "outputs": [],
   "source": [
    "fpr, tpr, threshold_roc = roc_curve(y_train_6, scores)"
   ]
  },
  {
   "cell_type": "code",
   "execution_count": 138,
   "id": "05aa7415",
   "metadata": {},
   "outputs": [],
   "source": [
    "def plot_roc(fpr, tpr):\n",
    "    plt.plot(fpr, tpr, 'b-', linewidth=2)\n",
    "    plt.plot([0, 1], [0, 1], 'b--')\n",
    "    plt.title('ROC Curve', fontsize=16)\n",
    "    plt.xlabel('FPR (Fall_out)', fontsize=16)\n",
    "    plt.ylabel('TPR (Recall, Sensitivity)', fontsize=16)\n",
    "    plt.axis([0,1, 0,1])\n",
    "    plt.grid(True)"
   ]
  },
  {
   "cell_type": "code",
   "execution_count": 139,
   "id": "7716237e",
   "metadata": {},
   "outputs": [
    {
     "data": {
      "image/png": "[encoded data removed]",
      "text/plain": [
       "<Figure size 864x432 with 1 Axes>"
      ]
     },
     "metadata": {
      "needs_background": "light"
     },
     "output_type": "display_data"
    }
   ],
   "source": [
    "plt.figure(figsize=(12, 6))\n",
    "plot_roc(fpr, fnr)\n",
    "plt.show()"
   ]
  },
  {
   "cell_type": "markdown",
   "id": "6c40ca96",
   "metadata": {},
   "source": [
    "**The dashed line represents a totally random calssifier, where it classify randomly and get 50% probability of correct classifications**"
   ]
  },
  {
   "cell_type": "markdown",
   "id": "16da4411",
   "metadata": {},
   "source": [
    "___\n",
    "## AUC score:\n",
    "* The Area Under the Curve (AUC) is the measure of the ability of a classifier to distinguish between classes and is used as a summary of the ROC curve.\n",
    "* The higher the AUC, the better the performance of the model at distinguishing between the positive and negative classes.\n",
    "\n",
    "\n",
    "1) When **AUC = 1**, then the classifier is able to perfectly distinguish between all the Positive and the Negative class points correctly.\\\n",
    "2) when **AUC = 0**, then the classifier would be predicting all Negatives as Positives, and all Positives as Negatives.\\\n",
    "3) When **0.5<AUC<1**, there is a high chance that the classifier will be able to distinguish the positive class values from the negative class values.\\\n",
    "4) When **AUC=0.5**, then the classifier is not able to distinguish between Positive and Negative class points. Meaning either the classifier is predicting random class or constant class for all the data points.\n",
    "\n"
   ]
  },
  {
   "cell_type": "code",
   "execution_count": 140,
   "id": "2f9302f7",
   "metadata": {},
   "outputs": [
    {
     "data": {
      "text/plain": [
       "0.9900837711161584"
      ]
     },
     "execution_count": 140,
     "metadata": {},
     "output_type": "execute_result"
    }
   ],
   "source": [
    "from sklearn.metrics import roc_auc_score\n",
    "roc_auc_score(y_train_6, scores)"
   ]
  },
  {
   "cell_type": "code",
   "execution_count": 142,
   "id": "ccdf946a",
   "metadata": {},
   "outputs": [],
   "source": [
    "from sklearn.ensemble import RandomForestClassifier\n",
    "forest_clf = RandomForestClassifier(n_estimators=100, random_state=42)\n",
    "y_probas_forest = cross_val_predict(forest_clf, x_train, y_train_6, cv=3,\n",
    "                                    method=\"predict_proba\")"
   ]
  },
  {
   "cell_type": "code",
   "execution_count": null,
   "id": "14a67dfb",
   "metadata": {},
   "outputs": [],
   "source": [
    "y_predict_forest = cross_val_predict(forest_clf, x_train, y_train_6, cv=3, method=\"decision_function\")"
   ]
  }
 ],
 "metadata": {
  "kernelspec": {
   "display_name": "Python 3",
   "language": "python",
   "name": "python3"
  },
  "language_info": {
   "codemirror_mode": {
    "name": "ipython",
    "version": 3
   },
   "file_extension": ".py",
   "mimetype": "text/x-python",
   "name": "python",
   "nbconvert_exporter": "python",
   "pygments_lexer": "ipython3",
   "version": "3.8.8"
  }
 },
 "nbformat": 4,
 "nbformat_minor": 5
}
