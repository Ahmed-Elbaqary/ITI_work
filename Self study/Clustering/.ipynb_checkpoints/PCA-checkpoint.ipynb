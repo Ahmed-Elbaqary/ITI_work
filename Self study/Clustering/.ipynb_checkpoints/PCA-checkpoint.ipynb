{
 "cells": [
  {
   "cell_type": "code",
   "execution_count": 5,
   "id": "d61bdcca-943b-4183-a611-48cff3aeb0af",
   "metadata": {},
   "outputs": [],
   "source": [
    "# Constats\n",
    "DATA_PATH = 'iris.csv'"
   ]
  },
  {
   "cell_type": "code",
   "execution_count": 22,
   "id": "b3449794-674b-4c91-84a6-da2234484394",
   "metadata": {},
   "outputs": [],
   "source": [
    "# Load Packages\n",
    "import pandas as pd\n",
    "import numpy as np\n",
    "\n",
    "import matplotlib.pyplot as plt\n",
    "%matplotlib inline\n",
    "\n",
    "from sklearn.preprocessing import OrdinalEncoder"
   ]
  },
  {
   "cell_type": "markdown",
   "id": "cab57f02-eae5-4338-a421-2e7e5d26c1e3",
   "metadata": {},
   "source": [
    "___\n",
    "### PCA From Scratch:"
   ]
  },
  {
   "cell_type": "code",
   "execution_count": 3,
   "id": "604894d0-5130-4453-b2b8-03eca1e78972",
   "metadata": {},
   "outputs": [],
   "source": [
    "class PCA:\n",
    "    def __init__(self, n_components):\n",
    "        self.n_components = n_components\n",
    "        self.components = None\n",
    "        self.mean = None\n",
    "    \n",
    "    def fit(self, X):\n",
    "        # Mean\n",
    "        self.mean = np.mean(X, axis=0)\n",
    "        X = X - self.mean\n",
    "        # Covarience\n",
    "            # row =  sample, column = features\n",
    "        cov = np.cov(X.T)\n",
    "        # Eigenvectors, Eignvalues\n",
    "        eigenvalues, eigenvectors = np.linalg.eig(cov)\n",
    "        # Sort Eigenvectors\n",
    "        eigenvectors = eigenvectors.T\n",
    "        idxs = np.argsort(eigenvalues)[::-1]\n",
    "        eigenvalues = eigenvalues[idxs]\n",
    "        eigenvectors = eigenvectors[idxs]\n",
    "        \n",
    "        # Sort first n eigenvectors\n",
    "        self.components = eigenvectors[0: self.n_components]\n",
    "        \n",
    "        \n",
    "    def transform(self, X):\n",
    "        # Project data\n",
    "        X = X - self.mean\n",
    "        return np.dot(X, self.components.T)"
   ]
  },
  {
   "cell_type": "markdown",
   "id": "82c1ed76-0ead-4232-b6c4-0836ae1f996f",
   "metadata": {},
   "source": [
    "___\n",
    "### Test data"
   ]
  },
  {
   "cell_type": "code",
   "execution_count": 7,
   "id": "8040c637-3dd7-4a62-be6f-529465d451ef",
   "metadata": {},
   "outputs": [
    {
     "data": {
      "text/html": [
       "<div>\n",
       "<style scoped>\n",
       "    .dataframe tbody tr th:only-of-type {\n",
       "        vertical-align: middle;\n",
       "    }\n",
       "\n",
       "    .dataframe tbody tr th {\n",
       "        vertical-align: top;\n",
       "    }\n",
       "\n",
       "    .dataframe thead th {\n",
       "        text-align: right;\n",
       "    }\n",
       "</style>\n",
       "<table border=\"1\" class=\"dataframe\">\n",
       "  <thead>\n",
       "    <tr style=\"text-align: right;\">\n",
       "      <th></th>\n",
       "      <th>sepal.length</th>\n",
       "      <th>sepal.width</th>\n",
       "      <th>petal.length</th>\n",
       "      <th>petal.width</th>\n",
       "      <th>variety</th>\n",
       "    </tr>\n",
       "  </thead>\n",
       "  <tbody>\n",
       "    <tr>\n",
       "      <th>0</th>\n",
       "      <td>5.1</td>\n",
       "      <td>3.5</td>\n",
       "      <td>1.4</td>\n",
       "      <td>0.2</td>\n",
       "      <td>Setosa</td>\n",
       "    </tr>\n",
       "    <tr>\n",
       "      <th>1</th>\n",
       "      <td>4.9</td>\n",
       "      <td>3.0</td>\n",
       "      <td>1.4</td>\n",
       "      <td>0.2</td>\n",
       "      <td>Setosa</td>\n",
       "    </tr>\n",
       "    <tr>\n",
       "      <th>2</th>\n",
       "      <td>4.7</td>\n",
       "      <td>3.2</td>\n",
       "      <td>1.3</td>\n",
       "      <td>0.2</td>\n",
       "      <td>Setosa</td>\n",
       "    </tr>\n",
       "    <tr>\n",
       "      <th>3</th>\n",
       "      <td>4.6</td>\n",
       "      <td>3.1</td>\n",
       "      <td>1.5</td>\n",
       "      <td>0.2</td>\n",
       "      <td>Setosa</td>\n",
       "    </tr>\n",
       "    <tr>\n",
       "      <th>4</th>\n",
       "      <td>5.0</td>\n",
       "      <td>3.6</td>\n",
       "      <td>1.4</td>\n",
       "      <td>0.2</td>\n",
       "      <td>Setosa</td>\n",
       "    </tr>\n",
       "  </tbody>\n",
       "</table>\n",
       "</div>"
      ],
      "text/plain": [
       "   sepal.length  sepal.width  petal.length  petal.width variety\n",
       "0           5.1          3.5           1.4          0.2  Setosa\n",
       "1           4.9          3.0           1.4          0.2  Setosa\n",
       "2           4.7          3.2           1.3          0.2  Setosa\n",
       "3           4.6          3.1           1.5          0.2  Setosa\n",
       "4           5.0          3.6           1.4          0.2  Setosa"
      ]
     },
     "execution_count": 7,
     "metadata": {},
     "output_type": "execute_result"
    }
   ],
   "source": [
    "raw_df = pd.read_csv(DATA_PATH)\n",
    "raw_df.head()"
   ]
  },
  {
   "cell_type": "code",
   "execution_count": 37,
   "id": "218bb9f9-259f-464b-94d0-cc5f4ba39ec1",
   "metadata": {},
   "outputs": [],
   "source": [
    "X = raw_df.iloc[:, 0:4]\n",
    "Y = raw_df.iloc[:, 4]"
   ]
  },
  {
   "cell_type": "code",
   "execution_count": 38,
   "id": "9f9d9c49-ee78-46be-9099-dfcbcac22aeb",
   "metadata": {},
   "outputs": [],
   "source": [
    "OrdEn = OrdinalEncoder()\n",
    "#OrdEn.fit(Y)\n",
    "Y = Y.to_numpy().reshape(-1, 1)\n",
    "Y = OrdEn.fit_transform(Y)"
   ]
  },
  {
   "cell_type": "code",
   "execution_count": 13,
   "id": "a0290976-09a4-4229-b307-ea6dfc3e4596",
   "metadata": {},
   "outputs": [],
   "source": [
    "pca = PCA(2)\n",
    "pca.fit(X)\n",
    "X_Projected = pca.transform(X)"
   ]
  },
  {
   "cell_type": "code",
   "execution_count": 18,
   "id": "4776efd1-af0d-4430-bd9b-c0d09a46747b",
   "metadata": {},
   "outputs": [
    {
     "name": "stdout",
     "output_type": "stream",
     "text": [
      "Shape of X            : (150, 4)\n",
      "Shape of transformed X: (150, 2)\n"
     ]
    }
   ],
   "source": [
    "print('Shape of X            :', X.shape)\n",
    "print('Shape of transformed X:', X_Projected.shape)"
   ]
  },
  {
   "cell_type": "code",
   "execution_count": 15,
   "id": "c430e318-7ff2-4d4c-ba0b-8e8f61a69f4d",
   "metadata": {},
   "outputs": [],
   "source": [
    "component_1 = X_Projected[:, 0]\n",
    "component_2 = X_Projected[:, 1]"
   ]
  },
  {
   "cell_type": "code",
   "execution_count": 39,
   "id": "57cd0a25-0b03-4745-990b-59f49f8802d1",
   "metadata": {},
   "outputs": [
    {
     "data": {
      "image/png": "[encoded data removed]",
      "text/plain": [
       "<Figure size 432x288 with 2 Axes>"
      ]
     },
     "metadata": {
      "needs_background": "light"
     },
     "output_type": "display_data"
    }
   ],
   "source": [
    "plt.scatter(component_1, component_2,\n",
    "           c=Y, edgecolor='none', alpha=0.8,\n",
    "           cmap=plt.cm.get_cmap('viridis', 3))\n",
    "plt.xlabel('Principal component 1')\n",
    "plt.ylabel('Principal component 2')\n",
    "plt.colorbar()\n",
    "plt.show()"
   ]
  },
  {
   "cell_type": "code",
   "execution_count": 43,
   "id": "c2e52d8d-e7d9-43c3-b3e5-bf18ed47d6c0",
   "metadata": {},
   "outputs": [],
   "source": [
    "processed_df = pd.DataFrame(X_Projected, columns=['pc1', 'pc2'])"
   ]
  },
  {
   "cell_type": "code",
   "execution_count": 45,
   "id": "3b923cd0-824b-4c67-9aad-1bacdda1b71a",
   "metadata": {},
   "outputs": [],
   "source": [
    "processed_df.to_csv('iris_pca.csv')"
   ]
  },
  {
   "cell_type": "code",
   "execution_count": null,
   "id": "4d487a69-9bcd-4bcd-8d8e-b538f3593b01",
   "metadata": {},
   "outputs": [],
   "source": []
  }
 ],
 "metadata": {
  "kernelspec": {
   "display_name": "Python 3",
   "language": "python",
   "name": "python3"
  },
  "language_info": {
   "codemirror_mode": {
    "name": "ipython",
    "version": 3
   },
   "file_extension": ".py",
   "mimetype": "text/x-python",
   "name": "python",
   "nbconvert_exporter": "python",
   "pygments_lexer": "ipython3",
   "version": "3.8.8"
  }
 },
 "nbformat": 4,
 "nbformat_minor": 5
}
