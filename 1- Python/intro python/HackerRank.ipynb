{
 "cells": [
  {
   "cell_type": "markdown",
   "id": "comparable-referral",
   "metadata": {},
   "source": [
    "# AI-Pro- Ahmed Abd-Elsalam Muhammed Afify\n",
    "## HackerRank Task"
   ]
  },
  {
   "cell_type": "markdown",
   "id": "administrative-nation",
   "metadata": {},
   "source": [
    "# Validating Phone Number:"
   ]
  },
  {
   "cell_type": "code",
   "execution_count": 9,
   "id": "pediatric-organizer",
   "metadata": {},
   "outputs": [],
   "source": [
    "def phnumvalid():\n",
    "    N = input('Number of inputs: ')\n",
    "\n",
    "    numbers = []\n",
    "    for i in range(int(N)):\n",
    "        numbers.append(input('number: ').rstrip()) \n",
    "\n",
    "    for num in numbers:\n",
    "        try:\n",
    "            int(num)\n",
    "            if len(num) !=10 or int(num[0])<7:\n",
    "                print(False)\n",
    "            else:\n",
    "                print(True)\n",
    "        except:\n",
    "            return 'invalid input, inputs should be 10 digits number'"
   ]
  },
  {
   "cell_type": "code",
   "execution_count": 5,
   "id": "rising-planner",
   "metadata": {},
   "outputs": [
    {
     "name": "stdout",
     "output_type": "stream",
     "text": [
      "Number of inputs: 3\n",
      "number: 01022043362\n",
      "number: 7895463202\n",
      "number: 56823170\n",
      "False\n",
      "True\n",
      "False\n"
     ]
    }
   ],
   "source": [
    "phnumvalid()"
   ]
  },
  {
   "cell_type": "markdown",
   "id": "competitive-talent",
   "metadata": {},
   "source": [
    "# Validating Roman Number:\n"
   ]
  },
  {
   "cell_type": "code",
   "execution_count": 10,
   "id": "orange-aquarium",
   "metadata": {},
   "outputs": [],
   "source": [
    "def romanvalid():\n",
    "    romans = {'I': 1, 'V': 5, 'X': 10, 'L': 50, 'C': 100, 'D': 500, 'M': 1000}\n",
    "    number = input('Enter Roman Number: ').upper()\n",
    "    num_val = 0\n",
    "    # Check if the Number is romanian numeral or not.\n",
    "    for i in number:\n",
    "        if i not in romans.keys():\n",
    "            return False\n",
    "    # Convert the Romanian numeral into decimal to check for its range.\n",
    "    for i in range(len(number)):\n",
    "        if i>0 and romans[number[i]]>romans[number[i-1]]:\n",
    "            num_val += romans[number[i]] - 2*romans[number[i-1]]\n",
    "        else:\n",
    "            num_val += romans[number[i]]\n",
    "    # Final result if it's Romanian and in or out of range\n",
    "    if num_val not in range(1,4000):\n",
    "        return 'Out of Range (1,3999)'\n",
    "    else:\n",
    "        return True"
   ]
  },
  {
   "cell_type": "code",
   "execution_count": 69,
   "id": "endless-unknown",
   "metadata": {},
   "outputs": [
    {
     "name": "stdout",
     "output_type": "stream",
     "text": [
      "Enter Roman Number: ivxl\n"
     ]
    },
    {
     "data": {
      "text/plain": [
       "True"
      ]
     },
     "execution_count": 69,
     "metadata": {},
     "output_type": "execute_result"
    }
   ],
   "source": [
    "romanvalid()"
   ]
  },
  {
   "cell_type": "code",
   "execution_count": 8,
   "id": "pressed-cyprus",
   "metadata": {},
   "outputs": [
    {
     "name": "stdout",
     "output_type": "stream",
     "text": [
      "Enter Roman Number: ormh\n"
     ]
    },
    {
     "data": {
      "text/plain": [
       "False"
      ]
     },
     "execution_count": 8,
     "metadata": {},
     "output_type": "execute_result"
    }
   ],
   "source": [
    "romanvalid()"
   ]
  },
  {
   "cell_type": "markdown",
   "id": "cutting-drawing",
   "metadata": {},
   "source": [
    "# String Formatting:\n"
   ]
  },
  {
   "cell_type": "code",
   "execution_count": 11,
   "id": "narrow-samuel",
   "metadata": {},
   "outputs": [],
   "source": [
    "def print_formatted(integer):\n",
    "    #integer = input('Enter an integer: ')\n",
    "    try:\n",
    "        int(integer)\n",
    "        if integer not in range(1,100):\n",
    "            return False\n",
    "        for i in range(1,integer+1):\n",
    "            print('{:>5} {:>5} {:>5} {:>5}'.format(i,oct(i)[2:],hex(i)[2:],bin(i)[2:]))\n",
    "        return\n",
    "    except:\n",
    "        return 'You have to enter an integer number'"
   ]
  },
  {
   "cell_type": "code",
   "execution_count": 67,
   "id": "distinguished-bumper",
   "metadata": {},
   "outputs": [
    {
     "name": "stdout",
     "output_type": "stream",
     "text": [
      "    1     1     1     1\n",
      "    2     2     2    10\n",
      "    3     3     3    11\n",
      "    4     4     4   100\n",
      "    5     5     5   101\n",
      "    6     6     6   110\n",
      "    7     7     7   111\n",
      "    8    10     8  1000\n",
      "    9    11     9  1001\n",
      "   10    12     a  1010\n",
      "   11    13     b  1011\n",
      "   12    14     c  1100\n",
      "   13    15     d  1101\n",
      "   14    16     e  1110\n",
      "   15    17     f  1111\n",
      "   16    20    10 10000\n",
      "   17    21    11 10001\n"
     ]
    }
   ],
   "source": [
    "print_formatted(17)"
   ]
  },
  {
   "cell_type": "markdown",
   "id": "efficient-married",
   "metadata": {},
   "source": [
    "# Triangle Quest;\n"
   ]
  },
  {
   "cell_type": "code",
   "execution_count": 12,
   "id": "active-professor",
   "metadata": {},
   "outputs": [],
   "source": [
    "def triangle(n):\n",
    "    try:\n",
    "        int(n)\n",
    "        if n not in range(10):\n",
    "            print('Enter an Integer 0<N<10')\n",
    "            return\n",
    "        for i in range(1,n):\n",
    "            print(int(i*((10**i)-1)/9))\n",
    "        return\n",
    "    except:\n",
    "        print('Enter an Integer 0<N<10')\n",
    "        return"
   ]
  },
  {
   "cell_type": "code",
   "execution_count": 20,
   "id": "together-optimization",
   "metadata": {},
   "outputs": [
    {
     "name": "stdout",
     "output_type": "stream",
     "text": [
      "1\n",
      "22\n",
      "333\n",
      "4444\n"
     ]
    }
   ],
   "source": [
    "triangle(5)"
   ]
  },
  {
   "cell_type": "markdown",
   "id": "terminal-design",
   "metadata": {},
   "source": [
    "# Athlete Sort:"
   ]
  },
  {
   "cell_type": "code",
   "execution_count": 13,
   "id": "otherwise-bahrain",
   "metadata": {},
   "outputs": [],
   "source": [
    "def atheletsort():\n",
    "    nm = input('Enter numbers: ').split()\n",
    "    n = int(nm[0])\n",
    "    m = int(nm[1])\n",
    "    arr = []\n",
    "    \n",
    "    for i in range(n):\n",
    "        records = map(int,input(f'Enter records of {m} attributes: ').rstrip().split())\n",
    "        arr.append(list(records))\n",
    "    \n",
    "    k = int(input('priority (rank by): '))\n",
    "    \n",
    "    item = arr[0][k]\n",
    "    r = 0\n",
    "    lst = []\n",
    "    \n",
    "    for i in range(n):\n",
    "        for j in range(i+1,n):\n",
    "            if arr[j][k] < arr[i][k]:\n",
    "                arr[j],arr[i] = arr[i], arr[j] \n",
    "                            \n",
    "    for i in range(n):\n",
    "        for j in range(m):\n",
    "            print(arr[i][j],end=' ')\n",
    "        print('')\n",
    "    \n",
    "    return arr"
   ]
  },
  {
   "cell_type": "code",
   "execution_count": 2,
   "id": "minus-parish",
   "metadata": {},
   "outputs": [
    {
     "name": "stdout",
     "output_type": "stream",
     "text": [
      "Enter numbers: 5 3\n",
      "Enter records of 3 attributes: 10 2 5\n",
      "Enter records of 3 attributes: 7 1 0\n",
      "Enter records of 3 attributes: 9 9 9\n",
      "Enter records of 3 attributes: 1 23 12\n",
      "Enter records of 3 attributes: 6 5 9\n",
      "priority (rank by): 1\n",
      "7 1 0 \n",
      "10 2 5 \n",
      "6 5 9 \n",
      "9 9 9 \n",
      "1 23 12 \n"
     ]
    },
    {
     "data": {
      "text/plain": [
       "[[7, 1, 0], [10, 2, 5], [6, 5, 9], [9, 9, 9], [1, 23, 12]]"
      ]
     },
     "execution_count": 2,
     "metadata": {},
     "output_type": "execute_result"
    }
   ],
   "source": [
    "atheletsort()"
   ]
  },
  {
   "cell_type": "markdown",
   "id": "published-marsh",
   "metadata": {},
   "source": [
    "# Validating Email Address:\n"
   ]
  },
  {
   "cell_type": "code",
   "execution_count": 14,
   "id": "satisfactory-blast",
   "metadata": {},
   "outputs": [],
   "source": [
    "def filter_email():\n",
    "    N = input('Number of E-mails: ')\n",
    "    try:\n",
    "        int(N)\n",
    "        import re\n",
    "        regex = '^(\\w|\\-)+[@](\\w)+[.]\\w{2,3}$'\n",
    "        lst = []\n",
    "        for i in range(int(N)):\n",
    "            email = input(f'Email {i+1}: ')\n",
    "            if (re.search(regex,email)):\n",
    "                lst.append(email)\n",
    "            else:\n",
    "                continue\n",
    "    except:\n",
    "        return 'Enter an integer as the number of emails'\n",
    "    lst.sort()\n",
    "    return lst"
   ]
  },
  {
   "cell_type": "code",
   "execution_count": 84,
   "id": "distinct-equipment",
   "metadata": {},
   "outputs": [
    {
     "name": "stdout",
     "output_type": "stream",
     "text": [
      "Number of E-mails: 10\n",
      "Email 1: ahmed@gmail.com\n",
      "Email 2: Ahmed@gmail.com\n",
      "Email 3: 5ahmed@gmail.com\n",
      "Email 4: -ahmed@gmail.com\n",
      "Email 5: _ahmed@gmail.com\n",
      "Email 6: ahmed#gmail.com\n",
      "Email 7: ahmed@gmail.commmmmm\n",
      "Email 8: ahmed@gmail.c\n",
      "Email 9: ahmed_baqary@gmail.com\n",
      "Email 10: ahmed24@gmail.com\n"
     ]
    },
    {
     "data": {
      "text/plain": [
       "['-ahmed@gmail.com',\n",
       " '5ahmed@gmail.com',\n",
       " 'Ahmed@gmail.com',\n",
       " '_ahmed@gmail.com',\n",
       " 'ahmed24@gmail.com',\n",
       " 'ahmed@gmail.com',\n",
       " 'ahmed_baqary@gmail.com']"
      ]
     },
     "execution_count": 84,
     "metadata": {},
     "output_type": "execute_result"
    }
   ],
   "source": [
    "filter_email()"
   ]
  },
  {
   "cell_type": "markdown",
   "id": "sharing-posting",
   "metadata": {},
   "source": [
    "# TimeDelta"
   ]
  },
  {
   "cell_type": "code",
   "execution_count": 15,
   "id": "patent-advocate",
   "metadata": {},
   "outputs": [],
   "source": [
    "def time_delta():\n",
    "    import datetime\n",
    "    t = input('Enter number of testcases: ')\n",
    "    try:\n",
    "        int(t)\n",
    "        t1_lst = []\n",
    "        t2_lst = []\n",
    "        # ---------------------------------------------------------------\n",
    "        for i in range(int(t)):\n",
    "            t1 = input(f'First time-date of testcase ({i+1}): ')\n",
    "            t2 = input(f'Second time-date of testcase ({i+1}): ')\n",
    "            # -------------------------------------------------------------\n",
    "            t1_lst.append(t1.split())\n",
    "            t1_lst[i][1] = int(t1_lst[i][1])\n",
    "            t1_lst[i][3] = int(t1_lst[i][3])\n",
    "            t1_lst[i][5] = [int(t1_lst[i][5][:-2]),int(t1_lst[i][5][0]+t1_lst[i][5][-2:])]\n",
    "            t1_lst[i][4] = list(map(int,t1_lst[i][4].split(':')))\n",
    "            # -------------------------------------------------------------\n",
    "            t2_lst.append(t2.split())\n",
    "            t2_lst[i][1] = int(t2_lst[i][1])\n",
    "            t2_lst[i][3] = int(t2_lst[i][3])\n",
    "            t2_lst[i][5] = [int(t2_lst[i][5][:-2]),int(t2_lst[i][5][0]+t2_lst[i][5][-2:])]\n",
    "            t2_lst[i][4] = list(map(int,t2_lst[i][4].split(':')))\n",
    "            # -------------------------------------------------------------\n",
    "    except:\n",
    "        return 'Input a valid timestamp'\n",
    "# ---------------------------------------------------------------------\n",
    "    month_dict = {'Jan':1,'Feb':2,'March':3,'April':4,'May':5,\n",
    "                     'June':6, 'July':7,'Augest':8,'Sep':9,\n",
    "                     'Oct':11,\"Nov\":11,'Dec':12}    \n",
    "    sec_lst = []\n",
    "    # -------------------------------------------------------------------\n",
    "    for i in range(int(t)):\n",
    "        # ---------------------- t1 details -------------------------\n",
    "        t1_year = t1_lst[i][3]\n",
    "        t1_month = month_dict[t1_lst[i][2]]\n",
    "        t1_day = t1_lst[i][1]\n",
    "        t1_hour = t1_lst[i][4][0]\n",
    "        t1_minutes = t1_lst[i][4][1]\n",
    "        t1_seconds = t1_lst[i][4][2]\n",
    "        t1_obj = datetime.datetime(t1_year,t1_month,t1_day,t1_hour,\n",
    "                              t1_minutes,t1_seconds)\n",
    "\n",
    "        # ---------------------- t1 details -------------------------\n",
    "        t2_year = t2_lst[i][3]\n",
    "        t2_month = month_dict[t2_lst[i][2]]\n",
    "        t2_day = t2_lst[i][1]\n",
    "        t2_hour = t2_lst[i][4][0]\n",
    "        t2_minutes = t2_lst[i][4][1]\n",
    "        t2_seconds = t2_lst[i][4][2]\n",
    "        t2_obj = datetime.datetime(t2_year,t2_month,t2_day,t2_hour,\n",
    "                              t2_minutes,t2_seconds)\n",
    "        # -----------------------------------------------------------\n",
    "        difference = (t1_obj - t2_obj).total_seconds()\n",
    "        # -----------------------------------------------------------\n",
    "        time_diff_t1 = (t1_lst[i][5][0]+t1_lst[i][5][1]/60)*3600\n",
    "        time_diff_t2 = (t2_lst[i][5][0]+t2_lst[i][5][1]/60)*3600\n",
    "        time_difference = time_diff_t1 - time_diff_t2\n",
    "        # -----------------------------------------------------------\n",
    "        result = difference - time_difference\n",
    "        sec_lst.append(int(result))\n",
    "\n",
    "    for i in range(int(t)):\n",
    "        print(sec_lst[i])    "
   ]
  },
  {
   "cell_type": "code",
   "execution_count": 3,
   "id": "figured-moral",
   "metadata": {},
   "outputs": [
    {
     "name": "stdout",
     "output_type": "stream",
     "text": [
      "Enter number of testcases: 2\n",
      "First time-date of testcase (1): Sun 10 May 2015 13:54:36 -0700\n",
      "Second time-date of testcase (1): Sun 10 May 2015 13:54:36 -0000\n",
      "First time-date of testcase (2): Sat 02 May 2015 19:54:36 +0530\n",
      "Second time-date of testcase (2): Fri 01 May 2015 13:54:36 -0000\n",
      "25200\n",
      "88200\n"
     ]
    }
   ],
   "source": [
    "time_delta()"
   ]
  },
  {
   "cell_type": "markdown",
   "id": "chinese-diagram",
   "metadata": {},
   "source": [
    "# Class: dealing with complex numbers"
   ]
  },
  {
   "cell_type": "code",
   "execution_count": 4,
   "id": "resistant-stations",
   "metadata": {},
   "outputs": [
    {
     "name": "stdout",
     "output_type": "stream",
     "text": [
      "1 2\n",
      "5 6\n",
      "6.00+8.00i\n",
      "-4.00-4.00i\n",
      "-7.00+16.00i\n",
      "-0.11+0.07i\n",
      "2.24\n",
      "7.81\n"
     ]
    }
   ],
   "source": [
    "class Complex(object):\n",
    "    def __init__(self, real, imaginary=0):\n",
    "        self.real = real\n",
    "        self.imaginary = imaginary\n",
    "    def __add__(self,other):\n",
    "        real = self.real + other.real\n",
    "        imaginary = self.imaginary + other.imaginary\n",
    "        return Complex(real, imaginary)\n",
    "\n",
    "    def __sub__(self,other):\n",
    "        real = self.real - other.real\n",
    "        imaginary = self.imaginary - other.imaginary\n",
    "        return Complex(real, imaginary)\n",
    "\n",
    "    def __mul__(self,other):\n",
    "        real = (self.real*other.real)-(self.imaginary*other.imaginary)\n",
    "        imaginary = (self.real*other.imaginary)+(self.imaginary*other.real)\n",
    "        return Complex(real, imaginary)\n",
    "\n",
    "    \n",
    "    def __truediv__(self, other):\n",
    "        a = self.real\n",
    "        b = self.imaginary\n",
    "        c = other.real\n",
    "        d = other.imaginary\n",
    "        real = ((a*c)-(b*d))/(c**2+d**2)\n",
    "        imaginary = ((b*c)-(a*d))/(c**2+d**2)\n",
    "        return Complex(real, imaginary)\n",
    "    \n",
    "    def mod(self):\n",
    "        import math\n",
    "        modulus = math.sqrt(self.real**2+self.imaginary**2)\n",
    "        return round(modulus,2)\n",
    "    \n",
    "    def __str__(self):\n",
    "        if self.imaginary == 0:\n",
    "            result = \"%.2f+0.00i\" % (self.real)\n",
    "        elif self.real == 0:\n",
    "            if self.imaginary >= 0:\n",
    "                result = \"0.00+%.2fi\" % (self.imaginary)\n",
    "            else:\n",
    "                result = \"0.00-%.2fi\" % (abs(self.imaginary))\n",
    "        elif self.imaginary > 0:\n",
    "            result = \"%.2f+%.2fi\" % (self.real, self.imaginary)\n",
    "        else:\n",
    "            result = \"%.2f-%.2fi\" % (self.real, abs(self.imaginary))\n",
    "        return result\n",
    "    \n",
    "\n",
    "    \n",
    "if __name__ == '__main__':\n",
    "    c = map(float, input().split())\n",
    "    d = map(float, input().split())\n",
    "    x = Complex(*c)\n",
    "    y = Complex(*d)\n",
    "    print ('\\n'.join(map(str, [x+y, x-y, x*y, x/y, x.mod(), y.mod()])))"
   ]
  },
  {
   "cell_type": "code",
   "execution_count": null,
   "id": "legendary-drunk",
   "metadata": {},
   "outputs": [],
   "source": []
  }
 ],
 "metadata": {
  "kernelspec": {
   "display_name": "Python 3",
   "language": "python",
   "name": "python3"
  },
  "language_info": {
   "codemirror_mode": {
    "name": "ipython",
    "version": 3
   },
   "file_extension": ".py",
   "mimetype": "text/x-python",
   "name": "python",
   "nbconvert_exporter": "python",
   "pygments_lexer": "ipython3",
   "version": "3.8.8"
  }
 },
 "nbformat": 4,
 "nbformat_minor": 5
}
