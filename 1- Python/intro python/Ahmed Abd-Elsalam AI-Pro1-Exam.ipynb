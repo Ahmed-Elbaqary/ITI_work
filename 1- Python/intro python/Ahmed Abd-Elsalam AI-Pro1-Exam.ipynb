{
 "cells": [
  {
   "cell_type": "markdown",
   "id": "bulgarian-sociology",
   "metadata": {},
   "source": [
    "# Python Exam 11/4:\n",
    "## Name: Ahmed Abd-Elsalam Muhammed Afify"
   ]
  },
  {
   "cell_type": "markdown",
   "id": "helpful-count",
   "metadata": {},
   "source": [
    "# Part 1:\n",
    "## Q1\n",
    "Write a Python program to insert a string in the middle of a string\n",
    "Example :\n",
    "input : [[]] hello\n",
    "output : [[hello]]"
   ]
  },
  {
   "cell_type": "code",
   "execution_count": 114,
   "id": "according-plant",
   "metadata": {},
   "outputs": [],
   "source": [
    "def insertstr():\n",
    "    '''\n",
    "    This is a function that asks the user to input two strings\n",
    "    It locates the second string at the middle of the first one\n",
    "    e.g :\n",
    "    str1 = [()]\n",
    "    str2 = Hello\n",
    "    Result = [(Hello)]\n",
    "    '''\n",
    "    str1 = input('Type your outer(border) string: ') # First Sting that would be the outer e.g [()]\n",
    "    str2 = input('Type your inner(inserted) string: ') # Second String That would be inserted at the Center of string 1\n",
    "    i = int(len(str1)/2) # i is a variable to locate the index of the center of str1\n",
    "    print(str1[:i]+str2+str1[i:])\n",
    "    return"
   ]
  },
  {
   "cell_type": "code",
   "execution_count": 115,
   "id": "entitled-belize",
   "metadata": {},
   "outputs": [
    {
     "name": "stdout",
     "output_type": "stream",
     "text": [
      "Type your outer(border) string: {()}\n",
      "Type your inner(inserted) string: Hello\n",
      "{(Hello)}\n"
     ]
    }
   ],
   "source": [
    "# Test\n",
    "insertstr()"
   ]
  },
  {
   "cell_type": "markdown",
   "id": "inappropriate-gambling",
   "metadata": {},
   "source": [
    "## Q2\n",
    "Write a python script to find the tuple that has the least second value from a list of\n",
    "tuples\n",
    "tuples = [(1,2), (1,3), (4,2), (5,6), (10,0)]"
   ]
  },
  {
   "cell_type": "code",
   "execution_count": 39,
   "id": "global-christianity",
   "metadata": {},
   "outputs": [],
   "source": [
    "def tupleselect():\n",
    "    \"\"\"\n",
    "    This function takes a list of Tuples and returns the tuple that has the least second value from a list\n",
    "    \"\"\"\n",
    "    list_items = input('How many tuples do you want to compare: ')\n",
    "    try:\n",
    "        int(list_items)\n",
    "        lst = []\n",
    "        for i in range(int(list_items)):\n",
    "            tuples = input(f'items of tuple {i} = ')\n",
    "            lst.append(tuple(map(int,tuples.rstrip().split(','))))\n",
    "    except:\n",
    "        return 'Enter a valid input in form 1,2 '\n",
    "                       \n",
    "    item = lst[0][1] #Second item of the first tuple\n",
    "    r = 0\n",
    "    for i in range(len(lst)):\n",
    "        if item > lst[i][1]:\n",
    "            item = lst[i][1]\n",
    "            r = i\n",
    "    print(f'the final list of tples is {lst}')\n",
    "    print('The tuple that has the least second value from a list of tuples is:')\n",
    "    return lst[r]"
   ]
  },
  {
   "cell_type": "code",
   "execution_count": 38,
   "id": "adaptive-convenience",
   "metadata": {},
   "outputs": [
    {
     "name": "stdout",
     "output_type": "stream",
     "text": [
      "How many tuples do you want to compare: 5\n",
      "items if tuple 0 = 1,2\n",
      "items if tuple 1 = 3,4\n",
      "items if tuple 2 = 12,0\n",
      "items if tuple 3 = 7,9\n",
      "items if tuple 4 = 4,6\n",
      "the final list oftples is [(1, 2), (3, 4), (12, 0), (7, 9), (4, 6)]\n",
      "The tuple that has the least second value from a list of tuples is:\n"
     ]
    },
    {
     "data": {
      "text/plain": [
       "(12, 0)"
      ]
     },
     "execution_count": 38,
     "metadata": {},
     "output_type": "execute_result"
    }
   ],
   "source": [
    "tupleselect()"
   ]
  },
  {
   "cell_type": "markdown",
   "id": "adjacent-necklace",
   "metadata": {},
   "source": [
    "# Part 2\n",
    "## Q1\n",
    "A painting company has determined that for every 112 square feet of wall space, one gallon\n",
    "of paint and eight hours of labor will be required. The company charges $35.00 per hour for\n",
    "labor.\n",
    "Write a program that asks the user to enter the square feet of wall space to be painted and\n",
    "the price of the paint per gallon. The program should display the following data:\n",
    "* The number of gallons of paint required\n",
    "* The hours of labor required\n",
    "* The cost of the paint\n",
    "* The labor charges\n",
    "* The total cost of the paint job"
   ]
  },
  {
   "cell_type": "code",
   "execution_count": 20,
   "id": "provincial-favor",
   "metadata": {},
   "outputs": [],
   "source": [
    "def painting():\n",
    "    \"\"\"\n",
    "    This is a function that a painting company uses to tell the client how much would it take to paint his space\n",
    "    First: it askes the user for:\n",
    "        Space: space that would be painted\n",
    "        Cost: cost of galon used in painting\n",
    "    The output:\n",
    "        1. Number of galons taken to paint.\n",
    "        2. Hours it would take to finish Painting\n",
    "        3. Cost of painting material.\n",
    "        4. Cost taken by labors of the company.\n",
    "        5. Total cost of all the painting operation.\n",
    "    \"\"\"\n",
    "    space = input('Please Write your space to be painted in ft^2: ')\n",
    "    cost = input('Please Enter the cost per galon in $: ')\n",
    "    \n",
    "    try:\n",
    "        float(space) # Checks for the space input, is it a number or not.\n",
    "        float(cost) # Checks for the cost input, is it a number or not.\n",
    "        sp = float(space)\n",
    "        co = float(cost)\n",
    "        factor = sp/112 # here it counts the factor between client space and company specifications.\n",
    "        \n",
    "        # Here we aregoing to use round func to determine the exact number of galons.\n",
    "        if round(factor) <= int(factor): #e.g factor=1.2, round=1, int(factor)=1 then galon=int(factor)+1=2\n",
    "            galons = int(factor)+1\n",
    "        else:\n",
    "            galons = round(factor) # e.g factor=1.8, round=2, int(factor)=1 then galon=round(factor)=2\n",
    "        ##############################\n",
    "        hours = round(factor * 8,2) # Hours taken\n",
    "        paint_cost = round(factor*co,2) # Material Cost\n",
    "        labor_cost = round(factor*35,2) # Labor Cost\n",
    "        total_cost = paint_cost + labor_cost # Total cost\n",
    "        print('The number of gallons of paint required = {} galons'.format(galons))\n",
    "        print('The hours of labor required = {} hours'.format(hours))\n",
    "        print('The cost of the paint = {} $'.format(paint_cost))\n",
    "        print('The labor charge = {} $'.format(labor_cost))\n",
    "        print('The Total cost = {} $'.format(total_cost))\n",
    "        return\n",
    "    except:\n",
    "        return 'Input Error! Please be sure of Entering required input as asked'"
   ]
  },
  {
   "cell_type": "code",
   "execution_count": 21,
   "id": "close-public",
   "metadata": {},
   "outputs": [
    {
     "name": "stdout",
     "output_type": "stream",
     "text": [
      "Please Write your space to be painted in ft^2: 125\n",
      "Please Enter the cost per galon in $: 5\n",
      "The number of gallons of paint required = 2 galons\n",
      "The hours of labor required = 8.93 hours\n",
      "The cost of the paint = 5.58 $\n",
      "The labor charge = 39.06 $\n",
      "The Total cost = 44.64 $\n"
     ]
    }
   ],
   "source": [
    "painting()"
   ]
  },
  {
   "cell_type": "markdown",
   "id": "impressive-shopping",
   "metadata": {},
   "source": [
    "## Q2\n",
    "Write a program that predicts the approximate size of a population of organisms. The\n",
    "application should use text boxes to allow the user to enter the starting number of organ- isms,\n",
    "the average daily population increase (as a percentage), and the number of days the organisms\n",
    "will be left to multiply. For example, assume the user enters the following values:\n",
    "* Starting number of organisms: 2 Average daily increase: 30% Number of days to multiply: 10\n",
    "* The program should write the data into a csv file and display the following table of data:"
   ]
  },
  {
   "cell_type": "code",
   "execution_count": 19,
   "id": "every-nicaragua",
   "metadata": {},
   "outputs": [],
   "source": [
    "def organism():\n",
    "    \"\"\"\n",
    "    This is a Function that creats a data based on given inputs and puts the data in a .csv file called (organism)\n",
    "    inputs:\n",
    "        Starting number of organism.\n",
    "        Average Daily increase.\n",
    "        Number of days to multiply.\n",
    "    \"\"\"\n",
    "    import csv\n",
    "    org_num = input('Please Enter the starting number of organisms(integer number): ')\n",
    "    avg = input('Please Enter the percentage of daily increase: ')\n",
    "    num_days = input('Please Enter the number of days to multiply(integer number): ')\n",
    "    \n",
    "    try:\n",
    "        int(org_num)\n",
    "        float(avg)\n",
    "        int(num_days)\n",
    "        with open('organism.csv','w', newline='') as organism:\n",
    "            writing = csv.writer(organism) # Creating writer object\n",
    "            writing.writerow(['Day','Approximat Population']) # Insert the First row (Header)\n",
    "            organ = int(org_num) # take the int of starting day of organisms input\n",
    "            for i in range(int(num_days)): # loop to write data\n",
    "                writing.writerow([i+1,round(organ,2)]) # Write the content\n",
    "                print(i+1,round(organ,2)) # We print here just for explaining\n",
    "                organ += organ*(float(avg)/100)\n",
    "                \n",
    "            return\n",
    "    except:\n",
    "        return 'Please Enter the required outputs as described'"
   ]
  },
  {
   "cell_type": "code",
   "execution_count": 18,
   "id": "seventh-eating",
   "metadata": {},
   "outputs": [
    {
     "name": "stdout",
     "output_type": "stream",
     "text": [
      "Please Enter the starting number of organisms(integer number): 2\n",
      "Please Enter the percentage of daily increase: 30\n",
      "Please Enter the number of days to multiply(integer number): 10\n",
      "1 2\n",
      "2 2.6\n",
      "3 3.38\n",
      "4 4.39\n",
      "5 5.71\n",
      "6 7.43\n",
      "7 9.65\n",
      "8 12.55\n",
      "9 16.31\n",
      "10 21.21\n"
     ]
    }
   ],
   "source": [
    "organism()"
   ]
  },
  {
   "cell_type": "markdown",
   "id": "collectible-affiliate",
   "metadata": {},
   "source": [
    "## Q3\n",
    "Write a code that generate 200 random numbers between -510 and 275 then adds\n",
    "those numbers to a text file. Repeat that step 4 time (you end up with a file that have\n",
    "4 lines each has 200 numbers separated by spaces)\n",
    "* Read the data from the file line by line. Each integer value must be: -500 <= value <=\n",
    "270\n",
    "* If a value was entered outside that range raise an exception, print error message to the\n",
    "output then continue processing the rest of the numbers.\n",
    "* Find the value that repeated the most number of times in each line. If there are many solutions: find the smallest value.\n",
    "* Find the maximum number in all lines\n",
    "* Find the minimum number in all lines"
   ]
  },
  {
   "cell_type": "code",
   "execution_count": 1,
   "id": "emerging-universal",
   "metadata": {},
   "outputs": [
    {
     "name": "stdout",
     "output_type": "stream",
     "text": [
      "the item number (25) in line (1) which equals (-503) is out of range)\n",
      "the item number (68) in line (1) which equals (274) is out of range)\n",
      "the item number (105) in line (1) which equals (-506) is out of range)\n",
      "the item number (130) in line (1) which equals (-505) is out of range)\n",
      "the item number (68) in line (1) which equals (274) is out of range)\n",
      "the item number (31) in line (2) which equals (272) is out of range)\n",
      "the item number (38) in line (2) which equals (-505) is out of range)\n",
      "the item number (31) in line (2) which equals (272) is out of range)\n",
      "the item number (104) in line (2) which equals (-509) is out of range)\n",
      "the item number (144) in line (2) which equals (-504) is out of range)\n",
      "the item number (38) in line (2) which equals (-505) is out of range)\n",
      "the item number (134) in line (3) which equals (-509) is out of range)\n",
      "the item number (141) in line (3) which equals (-501) is out of range)\n",
      "the item number (171) in line (3) which equals (-510) is out of range)\n",
      "the item number (111) in line (4) which equals (-507) is out of range)\n",
      "the item number (182) in line (4) which equals (-509) is out of range)\n",
      "the item number (193) in line (4) which equals (275) is out of range)\n",
      "----------------------------- Statistics -------------------\n",
      "The most repeated number in line (1) is (-485) with (2) repetitions\n",
      "The most repeated number in line (2) is (-493) with (3) repetitions\n",
      "The most repeated number in line (3) is (-49) with (3) repetitions\n",
      "The most repeated number in line (4) is (263) with (3) repetitions\n",
      "The Max. Number of all Lines is (275) which is in line (4)\n",
      "The Min. Number of all Lines is (-510) which is in line (3)\n"
     ]
    }
   ],
   "source": [
    "import random\n",
    "with open('random.txt','w',newline='') as file:\n",
    "    for i in range(4):\n",
    "        for j in range(200):\n",
    "            file.write(str(random.randint(-510,275))+' ')\n",
    "        file.write('\\n')\n",
    "\n",
    "lst1 = []        \n",
    "with open('random.txt','r') as file:\n",
    "    for i in range(4):\n",
    "        content = file.readline().split(' ')\n",
    "        content = list(map(lambda x:x.strip(), content))\n",
    "        content = list(filter(None, content))\n",
    "        content = list(map(int,content))\n",
    "        lst1.append(content)\n",
    "lst2 = []\n",
    "most_frequent = []\n",
    "max_num = []\n",
    "min_num = []\n",
    "for i in range(4):\n",
    "    most_frequent.append(max(set(lst1[i]), key=lst1[i].count))\n",
    "    max_num.append(max(lst1[i]))\n",
    "    min_num.append(min(lst1[i]))\n",
    "    for item in lst1[i]:\n",
    "        if item not in range(-500,271):\n",
    "            print(f'the item number ({lst1[i].index(item)}) in line ({i+1}) which equals ({item}) is out of range)')\n",
    "            continue\n",
    "        lst2.append(item)\n",
    "        \n",
    "\n",
    "print('----------------------------- Statistics -------------------')\n",
    "for i in most_frequent:\n",
    "    print(f'The most repeated number in line ({most_frequent.index(i)+1}) is ({i}) with ({lst1[most_frequent.index(i)].count(i)}) repetitions')\n",
    "\n",
    "print(f'The Max. Number of all Lines is ({max(max_num)}) which is in line ({max_num.index(max(max_num))+1})')\n",
    "print(f'The Min. Number of all Lines is ({min(min_num)}) which is in line ({min_num.index(min(min_num))+1})')"
   ]
  },
  {
   "cell_type": "code",
   "execution_count": null,
   "id": "ideal-thickness",
   "metadata": {},
   "outputs": [],
   "source": []
  }
 ],
 "metadata": {
  "kernelspec": {
   "display_name": "Python 3",
   "language": "python",
   "name": "python3"
  },
  "language_info": {
   "codemirror_mode": {
    "name": "ipython",
    "version": 3
   },
   "file_extension": ".py",
   "mimetype": "text/x-python",
   "name": "python",
   "nbconvert_exporter": "python",
   "pygments_lexer": "ipython3",
   "version": "3.8.8"
  }
 },
 "nbformat": 4,
 "nbformat_minor": 5
}
