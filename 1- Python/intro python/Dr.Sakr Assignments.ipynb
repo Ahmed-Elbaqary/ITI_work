{
 "cells": [
  {
   "cell_type": "markdown",
   "id": "empty-thompson",
   "metadata": {},
   "source": [
    "# Home 1:"
   ]
  },
  {
   "cell_type": "code",
   "execution_count": 1,
   "id": "expanded-prize",
   "metadata": {},
   "outputs": [
    {
     "name": "stdout",
     "output_type": "stream",
     "text": [
      "15.4\n"
     ]
    }
   ],
   "source": [
    "# 2\n",
    "x = 11+7+4+18+37\n",
    "print(x/5)"
   ]
  },
  {
   "cell_type": "code",
   "execution_count": 2,
   "id": "indian-president",
   "metadata": {},
   "outputs": [
    {
     "name": "stdout",
     "output_type": "stream",
     "text": [
      "     April 2021\n",
      "Mo Tu We Th Fr Sa Su\n",
      "          1  2  3  4\n",
      " 5  6  7  8  9 10 11\n",
      "12 13 14 15 16 17 18\n",
      "19 20 21 22 23 24 25\n",
      "26 27 28 29 30\n",
      "\n"
     ]
    }
   ],
   "source": [
    "# 3\n",
    "import calendar\n",
    "year = 2021\n",
    "month = 4\n",
    "print(calendar.month(year,month))"
   ]
  },
  {
   "cell_type": "code",
   "execution_count": 7,
   "id": "identified-endorsement",
   "metadata": {},
   "outputs": [
    {
     "name": "stdout",
     "output_type": "stream",
     "text": [
      "155\n"
     ]
    }
   ],
   "source": [
    "# 4\n",
    "def compute(n):\n",
    "    print(n+n*n+n*n*n)\n",
    "#\n",
    "compute(5)"
   ]
  },
  {
   "cell_type": "code",
   "execution_count": 6,
   "id": "painful-dining",
   "metadata": {},
   "outputs": [
    {
     "name": "stdout",
     "output_type": "stream",
     "text": [
      "demhA\n"
     ]
    }
   ],
   "source": [
    "# 5 \n",
    "def reserve(x):\n",
    "    print(x[::-1])\n",
    "#\n",
    "reserve('Ahmed')"
   ]
  },
  {
   "cell_type": "code",
   "execution_count": 53,
   "id": "identical-vegetation",
   "metadata": {},
   "outputs": [],
   "source": [
    "#list1 = [9,9,\"I'm\",'','Learning','Python','','at ITI']\n",
    "#list2 = list(filter((x for x in list1 if type(x)!=str),list1))\n",
    "#list1 = list(filter(None,list1))\n",
    "#list1 = list(list2)\n",
    "#y = [x for x in list1 if type(x)!=str]\n",
    "#list1 = list1.remove([x for x in y])"
   ]
  },
  {
   "cell_type": "code",
   "execution_count": 55,
   "id": "corrected-harris",
   "metadata": {},
   "outputs": [
    {
     "data": {
      "text/plain": [
       "[\"I'm\", 'Learning', 'Python', 'at ITI']"
      ]
     },
     "execution_count": 55,
     "metadata": {},
     "output_type": "execute_result"
    }
   ],
   "source": [
    "# 6\n",
    "list1 = [9,9,\"I'm\",'','Learning','Python','','at ITI']\n",
    "list1 = list(filter(None,list1))\n",
    "list1 = [x for x in list1 if type(x)==str]\n",
    "list1"
   ]
  },
  {
   "cell_type": "code",
   "execution_count": 59,
   "id": "crazy-disorder",
   "metadata": {},
   "outputs": [
    {
     "data": {
      "text/plain": [
       "2"
      ]
     },
     "execution_count": 59,
     "metadata": {},
     "output_type": "execute_result"
    }
   ],
   "source": [
    "# 7\n",
    "tuple1 = (50,10,60,70,50)\n",
    "count = tuple1.count(50)\n",
    "count"
   ]
  },
  {
   "cell_type": "code",
   "execution_count": 60,
   "id": "recorded-bangkok",
   "metadata": {},
   "outputs": [
    {
     "data": {
      "text/plain": [
       "2"
      ]
     },
     "execution_count": 60,
     "metadata": {},
     "output_type": "execute_result"
    }
   ],
   "source": [
    "# 8\n",
    "def Count(iterable,item):\n",
    "    return iterable.count(item)\n",
    "\n",
    "tuple2 = (50,10,60,70,50)\n",
    "Count(tuple2,50)"
   ]
  },
  {
   "cell_type": "code",
   "execution_count": 64,
   "id": "advanced-bracket",
   "metadata": {},
   "outputs": [
    {
     "name": "stdout",
     "output_type": "stream",
     "text": [
      "{40, 50, 30}\n"
     ]
    }
   ],
   "source": [
    "# 9\n",
    "set1 = {10,20,30,40,50}\n",
    "set2 = {30,40,50,60,70}\n",
    "print(set1 & set2)"
   ]
  },
  {
   "cell_type": "code",
   "execution_count": 68,
   "id": "chicken-hampton",
   "metadata": {
    "scrolled": true
   },
   "outputs": [
    {
     "name": "stdout",
     "output_type": "stream",
     "text": [
      "{'Ten': 10, 'Twenty': 20, 'Thirty': 30}\n"
     ]
    }
   ],
   "source": [
    "# 10\n",
    "Keys = ['Ten','Twenty','Thirty']\n",
    "Values = [10,20,30]\n",
    "dict1 = {Keys[i]: Values[i] for i in range(len(Keys))}\n",
    "print(dict1)"
   ]
  },
  {
   "cell_type": "markdown",
   "id": "seeing-disney",
   "metadata": {},
   "source": [
    "# Home 2:"
   ]
  },
  {
   "cell_type": "code",
   "execution_count": 76,
   "id": "desirable-label",
   "metadata": {},
   "outputs": [
    {
     "name": "stdout",
     "output_type": "stream",
     "text": [
      "2021-04-08 21:52:46.806083\n",
      "21:52:46\n",
      "21:52:46.806083\n"
     ]
    }
   ],
   "source": [
    "# 1\n",
    "from datetime import datetime\n",
    "now = datetime.now()\n",
    "timenow = now.time()\n",
    "time = now.strftime('%H:%M:%S')\n",
    "print(now)\n",
    "print(time)\n",
    "print(timenow)"
   ]
  },
  {
   "cell_type": "code",
   "execution_count": 77,
   "id": "threatened-bobby",
   "metadata": {},
   "outputs": [
    {
     "name": "stdout",
     "output_type": "stream",
     "text": [
      "3.8.8 (default, Feb 24 2021, 15:54:32) [MSC v.1928 64 bit (AMD64)]\n"
     ]
    }
   ],
   "source": [
    "# 2\n",
    "import sys\n",
    "print(sys.version)"
   ]
  },
  {
   "cell_type": "code",
   "execution_count": 79,
   "id": "applied-dealer",
   "metadata": {},
   "outputs": [
    {
     "name": "stdout",
     "output_type": "stream",
     "text": [
      "Elbaqary Ahmed\n"
     ]
    }
   ],
   "source": [
    "# 3\n",
    "def names(fname,lname):\n",
    "    print(lname+' '+fname)\n",
    "\n",
    "names('Ahmed','Elbaqary')"
   ]
  },
  {
   "cell_type": "code",
   "execution_count": 80,
   "id": "basic-carolina",
   "metadata": {},
   "outputs": [
    {
     "name": "stdout",
     "output_type": "stream",
     "text": [
      "     April 2021\n",
      "Mo Tu We Th Fr Sa Su\n",
      "          1  2  3  4\n",
      " 5  6  7  8  9 10 11\n",
      "12 13 14 15 16 17 18\n",
      "19 20 21 22 23 24 25\n",
      "26 27 28 29 30\n",
      "\n"
     ]
    }
   ],
   "source": [
    "# 4\n",
    "import calendar\n",
    "year = 2021\n",
    "month = 4\n",
    "print(calendar.month(year,month))"
   ]
  },
  {
   "cell_type": "code",
   "execution_count": 84,
   "id": "smaller-shoot",
   "metadata": {},
   "outputs": [
    {
     "name": "stdout",
     "output_type": "stream",
     "text": [
      "246.2458\n",
      "246\n"
     ]
    }
   ],
   "source": [
    "# 5\n",
    "n = '246.24580'\n",
    "print(float(n))\n",
    "print(int(float(n)))"
   ]
  },
  {
   "cell_type": "code",
   "execution_count": 93,
   "id": "prepared-transmission",
   "metadata": {},
   "outputs": [
    {
     "name": "stdout",
     "output_type": "stream",
     "text": [
      "Hello World \n",
      "Hello World \n",
      "Hello World \n",
      "\n"
     ]
    }
   ],
   "source": [
    "# 6\n",
    "print('Hello World \\n'*3)"
   ]
  },
  {
   "cell_type": "code",
   "execution_count": 101,
   "id": "entertaining-slovakia",
   "metadata": {},
   "outputs": [
    {
     "name": "stdout",
     "output_type": "stream",
     "text": [
      "w3ce\n",
      "[]\n"
     ]
    }
   ],
   "source": [
    "# 7\n",
    "def string(x):\n",
    "    if len(x) >=2:\n",
    "        return x[:2]+x[-2:]\n",
    "    else:\n",
    "        return []\n",
    "# Test\n",
    "x = string('w3resource')\n",
    "print(x)\n",
    "y = string('w')\n",
    "print(y)"
   ]
  },
  {
   "cell_type": "code",
   "execution_count": 16,
   "id": "computational-environment",
   "metadata": {},
   "outputs": [
    {
     "name": "stdout",
     "output_type": "stream",
     "text": [
      "Please write down a list: [1,2,3,4,5,6,7,8,9]\n"
     ]
    },
    {
     "data": {
      "text/plain": [
       "45"
      ]
     },
     "execution_count": 16,
     "metadata": {},
     "output_type": "execute_result"
    }
   ],
   "source": [
    "# 8\n",
    "list3 = [1,2,3,4,5,6,7,8,9]\n",
    "def func():\n",
    "    x = input('Please write down a list: ')\n",
    "    y = 0\n",
    "    for i in x:\n",
    "        if i.isdigit():\n",
    "            i = int(float(i))\n",
    "            y+=i\n",
    "        else:\n",
    "            continue\n",
    "    return y\n",
    "\n",
    "# Test\n",
    "func()"
   ]
  },
  {
   "cell_type": "code",
   "execution_count": 118,
   "id": "smooth-advancement",
   "metadata": {},
   "outputs": [
    {
     "data": {
      "text/plain": [
       "92"
      ]
     },
     "execution_count": 118,
     "metadata": {},
     "output_type": "execute_result"
    }
   ],
   "source": [
    "# 9\n",
    "def calc(x):\n",
    "    return 3*x**2+4*x-3\n",
    "# Test\n",
    "calc(5)"
   ]
  },
  {
   "cell_type": "code",
   "execution_count": 124,
   "id": "agricultural-stupid",
   "metadata": {},
   "outputs": [
    {
     "name": "stdout",
     "output_type": "stream",
     "text": [
      "['My', 'name', 'is', 'Kelly']\n"
     ]
    }
   ],
   "source": [
    "# 10\n",
    "list1 = ['M','na','i','Ke']\n",
    "list2 = ['y','me','s','lly']\n",
    "def conc(x,y):\n",
    "    z = []\n",
    "    for i in range(len(x)):\n",
    "        z.append(x[i]+y[i])\n",
    "    return z\n",
    "# Test\n",
    "x = conc(list1,list2)\n",
    "print(x)"
   ]
  },
  {
   "cell_type": "code",
   "execution_count": 125,
   "id": "minus-cliff",
   "metadata": {},
   "outputs": [
    {
     "name": "stdout",
     "output_type": "stream",
     "text": [
      "[1, 4, 9, 16, 25, 36, 49]\n"
     ]
    }
   ],
   "source": [
    "# 11\n",
    "alist = [1,2,3,4,5,6,7]\n",
    "alist = [x**2 for x in alist]\n",
    "print(alist)"
   ]
  },
  {
   "cell_type": "code",
   "execution_count": 127,
   "id": "north-agent",
   "metadata": {},
   "outputs": [
    {
     "name": "stdout",
     "output_type": "stream",
     "text": [
      "['Mike', 'Emma', 'Kelly', 'Brad']\n"
     ]
    }
   ],
   "source": [
    "# 12\n",
    "list1 = ['Mike', '', 'Emma', 'Kelly', '', 'Brad']\n",
    "list1 = list(filter(None,list1))\n",
    "print(list1)"
   ]
  },
  {
   "cell_type": "code",
   "execution_count": 128,
   "id": "educational-shannon",
   "metadata": {},
   "outputs": [
    {
     "name": "stdout",
     "output_type": "stream",
     "text": [
      "(50, 40, 30, 20, 10)\n"
     ]
    }
   ],
   "source": [
    "# 13\n",
    "aTuple = (10,20,30,40,50)\n",
    "print(aTuple[::-1])"
   ]
  },
  {
   "cell_type": "code",
   "execution_count": 131,
   "id": "identical-enforcement",
   "metadata": {},
   "outputs": [
    {
     "name": "stdout",
     "output_type": "stream",
     "text": [
      "10\n",
      "20\n",
      "30\n",
      "40\n"
     ]
    }
   ],
   "source": [
    "# 14 \n",
    "aTuple = (10,20,30,40)\n",
    "a,b,c,d = [x for x in aTuple]\n",
    "# Test\n",
    "print(a)\n",
    "print(b)\n",
    "print(c)\n",
    "print(d)"
   ]
  },
  {
   "cell_type": "code",
   "execution_count": 132,
   "id": "respiratory-companion",
   "metadata": {},
   "outputs": [
    {
     "data": {
      "text/plain": [
       "2"
      ]
     },
     "execution_count": 132,
     "metadata": {},
     "output_type": "execute_result"
    }
   ],
   "source": [
    "# 15\n",
    "tuple1 = (50,10,60,70,50)\n",
    "tuple1.count(50)"
   ]
  },
  {
   "cell_type": "code",
   "execution_count": 133,
   "id": "historical-colonial",
   "metadata": {},
   "outputs": [
    {
     "name": "stdout",
     "output_type": "stream",
     "text": [
      "{40, 50, 30}\n"
     ]
    }
   ],
   "source": [
    "# 16\n",
    "set1 = {10,20,30,40,50}\n",
    "set2 = {30,40,50,60,70}\n",
    "print(set1 & set2)"
   ]
  },
  {
   "cell_type": "code",
   "execution_count": 134,
   "id": "furnished-neighborhood",
   "metadata": {},
   "outputs": [
    {
     "name": "stdout",
     "output_type": "stream",
     "text": [
      "{70, 40, 10, 50, 20, 60, 30}\n"
     ]
    }
   ],
   "source": [
    "# 17\n",
    "set1 = {10,20,30,40,50}\n",
    "set2 = {30,40,50,60,70}\n",
    "print(set1 | set2)"
   ]
  },
  {
   "cell_type": "code",
   "execution_count": 139,
   "id": "serious-dependence",
   "metadata": {},
   "outputs": [
    {
     "name": "stdout",
     "output_type": "stream",
     "text": [
      "{10, 30}\n"
     ]
    }
   ],
   "source": [
    "# 18\n",
    "set1 = {10,20,30}\n",
    "set2 = {20,40,50}\n",
    "set1.difference_update(set2)\n",
    "print(set1)"
   ]
  },
  {
   "cell_type": "code",
   "execution_count": 145,
   "id": "subject-genetics",
   "metadata": {},
   "outputs": [
    {
     "name": "stdout",
     "output_type": "stream",
     "text": [
      "{'Ten': 10, 'Twenty': 20, 'Thirty': 30}\n"
     ]
    }
   ],
   "source": [
    "# 19\n",
    "keys = ['Ten', 'Twenty', 'Thirty']\n",
    "values = [10,20,30]\n",
    "dict1 = {keys[i]:values[i] for i in range(len(keys))}\n",
    "# Test\n",
    "print(dict1)"
   ]
  },
  {
   "cell_type": "code",
   "execution_count": 154,
   "id": "talented-school",
   "metadata": {},
   "outputs": [
    {
     "name": "stdout",
     "output_type": "stream",
     "text": [
      "{'name': 'Kelly', 'salary': 8000}\n"
     ]
    }
   ],
   "source": [
    "# 20\n",
    "sampleDict = {'name':'Kelly', 'age':25, 'salary':8000, 'city':'New york'}\n",
    "keys = ['name', 'salary']\n",
    "dicts = dict((x,sampleDict[x]) for x in keys if x in sampleDict)\n",
    "# Test\n",
    "print(dicts)"
   ]
  },
  {
   "cell_type": "code",
   "execution_count": 155,
   "id": "conservative-papua",
   "metadata": {},
   "outputs": [
    {
     "name": "stdout",
     "output_type": "stream",
     "text": [
      "{'age': 25, 'city': 'New york'}\n"
     ]
    }
   ],
   "source": [
    "# 21\n",
    "sampleDict = {'name':'Kelly', 'age':25, 'salary':8000, 'city':'New york'}\n",
    "keys = ['name', 'salary']\n",
    "for i in keys:\n",
    "    sampleDict.pop(i)\n",
    "# Test \n",
    "print(sampleDict)"
   ]
  },
  {
   "cell_type": "markdown",
   "id": "academic-language",
   "metadata": {},
   "source": [
    "# Home 3:"
   ]
  },
  {
   "cell_type": "code",
   "execution_count": 156,
   "id": "veterinary-advocacy",
   "metadata": {},
   "outputs": [
    {
     "name": "stdout",
     "output_type": "stream",
     "text": [
      "Homo Sapiens is an ape. it's name starts with H its name has 12 letters\n",
      "Pan troglodytes is an ape. it's name starts with P its name has 15 letters\n",
      "Gorilla gorilla is an ape. it's name starts with G its name has 15 letters\n"
     ]
    }
   ],
   "source": [
    "# 1\n",
    "apes = ['Homo Sapiens', 'Pan troglodytes', 'Gorilla gorilla']\n",
    "for i in apes:\n",
    "    print(\"{} is an ape. it's name starts with {} its name has {} letters\".format(i,i[0],len(i)))"
   ]
  },
  {
   "cell_type": "code",
   "execution_count": 160,
   "id": "under-conducting",
   "metadata": {},
   "outputs": [
    {
     "name": "stdout",
     "output_type": "stream",
     "text": [
      "Ahmed Abd-Elsalam Muhammed \n",
      " Production Engineering \n",
      " 24\n"
     ]
    }
   ],
   "source": [
    "# 3\n",
    "def data(x,y,z):\n",
    "    print(x,'\\n',y,'\\n',z)\n",
    "# Test\n",
    "data('Ahmed Abd-Elsalam Muhammed', 'Production Engineering', 24)"
   ]
  },
  {
   "cell_type": "code",
   "execution_count": 161,
   "id": "compound-cover",
   "metadata": {},
   "outputs": [
    {
     "name": "stdout",
     "output_type": "stream",
     "text": [
      "[2, 4, 6, 8]\n"
     ]
    }
   ],
   "source": [
    "# 4\n",
    "listt = [1,2,3,4,5,6,7,8,9]\n",
    "listt = [x for x in listt if not x%2]\n",
    "# Test\n",
    "print(listt)"
   ]
  },
  {
   "cell_type": "code",
   "execution_count": 173,
   "id": "secure-pickup",
   "metadata": {},
   "outputs": [
    {
     "data": {
      "text/plain": [
       "720"
      ]
     },
     "execution_count": 173,
     "metadata": {},
     "output_type": "execute_result"
    }
   ],
   "source": [
    "# 5\n",
    "def fact(x):\n",
    "    if x == 0:\n",
    "        return 1\n",
    "    elif x >= 1:\n",
    "        factorial = 1\n",
    "        for i in range(1,x+1):\n",
    "            factorial *= i\n",
    "        return factorial\n",
    "    else: \n",
    "        print('Error! a negative number')\n",
    "# Test\n",
    "fact(6)"
   ]
  },
  {
   "cell_type": "code",
   "execution_count": 1,
   "id": "judicial-turkey",
   "metadata": {},
   "outputs": [
    {
     "name": "stdout",
     "output_type": "stream",
     "text": [
      "55\n"
     ]
    }
   ],
   "source": [
    "# 6\n",
    "def recurse(n):\n",
    "    if n <= 1:\n",
    "        return n\n",
    "    else:\n",
    "        return n + recurse(n-1)\n",
    "# test\n",
    "x = recurse(10)\n",
    "print(x)"
   ]
  },
  {
   "cell_type": "markdown",
   "id": "resident-customs",
   "metadata": {},
   "source": [
    "# Home 2.1"
   ]
  },
  {
   "cell_type": "code",
   "execution_count": 9,
   "id": "fresh-atmosphere",
   "metadata": {},
   "outputs": [
    {
     "name": "stdout",
     "output_type": "stream",
     "text": [
      "ahmed\n",
      "AHMED\n"
     ]
    }
   ],
   "source": [
    "# 1\n",
    "class printing:\n",
    "    def get_string(self,x):\n",
    "        self.x = x\n",
    "        print(str(self.x))\n",
    "    def print_string(self,x):\n",
    "        self.x = x\n",
    "        print(str(self.x).upper())\n",
    "        \n",
    "# Test\n",
    "x = printing()\n",
    "x.get_string('ahmed')\n",
    "x.print_string('ahmed')"
   ]
  },
  {
   "cell_type": "code",
   "execution_count": 12,
   "id": "packed-necessity",
   "metadata": {},
   "outputs": [
    {
     "name": "stdout",
     "output_type": "stream",
     "text": [
      "red\n",
      "super\n"
     ]
    }
   ],
   "source": [
    "# 2\n",
    "class vehicle:\n",
    "    def __init__(self,color):\n",
    "        self.color = color\n",
    "    \n",
    "class bus(vehicle):\n",
    "    def __init__(self,color,typ):\n",
    "        super().__init__(color)\n",
    "        self.typ = typ\n",
    "    def printing(self):\n",
    "        print(self.color)\n",
    "        print(self.typ)\n",
    "        \n",
    "        \n",
    "\n",
    "# Test\n",
    "x = bus('red','super')\n",
    "x.printing()"
   ]
  },
  {
   "cell_type": "code",
   "execution_count": 25,
   "id": "proprietary-makeup",
   "metadata": {},
   "outputs": [
    {
     "name": "stdout",
     "output_type": "stream",
     "text": [
      "5\n"
     ]
    }
   ],
   "source": [
    "# 3\n",
    "def class_factory():\n",
    "    class human():\n",
    "        def __init__(self,fingers):\n",
    "            self.fingers = fingers\n",
    "        \n",
    "        def print_fing(self):\n",
    "            print(self.fingers)\n",
    "    return human\n",
    "\n",
    "# Test\n",
    "x = class_factory() # when calling a function, a class has created\n",
    "p = x(5) # Here we declare an object using th (x=human) class\n",
    "p.print_fing() # Here we use the print_fing() method"
   ]
  },
  {
   "cell_type": "markdown",
   "id": "fabulous-document",
   "metadata": {},
   "source": [
    "# Home 2.2"
   ]
  },
  {
   "cell_type": "code",
   "execution_count": 61,
   "id": "medieval-field",
   "metadata": {},
   "outputs": [
    {
     "name": "stdout",
     "output_type": "stream",
     "text": [
      "Vehicle Name: School Volvo Speed: 180 Mileage: 12\n"
     ]
    }
   ],
   "source": [
    "# 1\n",
    "class vehicle:\n",
    "    def __init__(self,name,max_speed,mileage):\n",
    "        self.name = name\n",
    "        self.max_speed = max_speed\n",
    "        self.mileage = mileage\n",
    "\n",
    "class bus(vehicle):\n",
    "    pass\n",
    "    \n",
    "\n",
    "# Test\n",
    "car = bus('School Volvo',180,12)\n",
    "print(f'Vehicle Name: {car.name} Speed: {car.max_speed} Mileage: {car.mileage}')"
   ]
  },
  {
   "cell_type": "code",
   "execution_count": 60,
   "id": "later-alcohol",
   "metadata": {},
   "outputs": [
    {
     "name": "stdout",
     "output_type": "stream",
     "text": [
      "the stearing capacity of a School Volvo is 50 passengers\n"
     ]
    }
   ],
   "source": [
    "# 2\n",
    "class vehicle:\n",
    "    def __init__(self, name, max_speed, mileage):\n",
    "        self.name = name\n",
    "        self.max_speed = max_speed\n",
    "        self.mileage = mileage\n",
    "\n",
    "    def seating_capacity(self,capacity=50):\n",
    "        return capacity\n",
    "\n",
    "class bus(vehicle):\n",
    "    pass\n",
    "\n",
    "# Test\n",
    "new_car = bus('School Volvo',180,12)\n",
    "print(f'the stearing capacity of a {new_car.name} is {new_car.seating_capacity(50)} passengers')"
   ]
  },
  {
   "cell_type": "code",
   "execution_count": 59,
   "id": "cardiovascular-idaho",
   "metadata": {},
   "outputs": [
    {
     "name": "stdout",
     "output_type": "stream",
     "text": [
      "Total Bus fare is: 5500\n"
     ]
    }
   ],
   "source": [
    "# 3\n",
    "class vehicle:\n",
    "    def __init__(self, name, mileage, capacity):\n",
    "        self.name = name\n",
    "        self.mileage = mileage\n",
    "        self.capacity = capacity\n",
    "    \n",
    "    def fare(self):\n",
    "        return self.capacity*100\n",
    "\n",
    "class bus(vehicle):\n",
    "    def fare(self):\n",
    "        return self.capacity*110\n",
    "\n",
    "shcool_bus1 = bus('school Volvo', 12, 50)\n",
    "print(f'Total Bus fare is: {shcool_bus1.fare()}')"
   ]
  },
  {
   "cell_type": "code",
   "execution_count": null,
   "id": "married-connection",
   "metadata": {},
   "outputs": [],
   "source": []
  }
 ],
 "metadata": {
  "kernelspec": {
   "display_name": "Python 3",
   "language": "python",
   "name": "python3"
  },
  "language_info": {
   "codemirror_mode": {
    "name": "ipython",
    "version": 3
   },
   "file_extension": ".py",
   "mimetype": "text/x-python",
   "name": "python",
   "nbconvert_exporter": "python",
   "pygments_lexer": "ipython3",
   "version": "3.8.8"
  }
 },
 "nbformat": 4,
 "nbformat_minor": 5
}
