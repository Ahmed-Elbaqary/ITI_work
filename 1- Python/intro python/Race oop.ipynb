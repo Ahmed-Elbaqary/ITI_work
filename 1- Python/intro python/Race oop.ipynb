{
 "cells": [
  {
   "cell_type": "code",
   "execution_count": 39,
   "id": "essential-julian",
   "metadata": {},
   "outputs": [],
   "source": [
    "class moving_obj:\n",
    "    def __init__(self):\n",
    "        self.v = 0 # Velocity\n",
    "        self.vdirection = 0 # Velocity Direction\n",
    "        self.x = 0\n",
    "        self.y = 0\n",
    "    \n",
    "    def update(self,command):\n",
    "        self.x = self.x+ (self.vdirection==2)*self.v - (self.vdirection==3)*self.v\n",
    "        self.y = self.y+ (self.vdirection==0)*self.v - (self.vdirection==1)*self.v\n",
    "        \"\"\"\"\n",
    "        if self.vdirection == 0:\n",
    "            self.y += self.v\n",
    "        elif self.vdirection == 1:\n",
    "            self.y -= self.v\n",
    "        elif self.vdirection == 2:\n",
    "            self.vdirection = (self.vdirection+1)%4\n",
    "        elif self.vdirection == 3:\n",
    "            self.vdirection = (self.vdirection-1)%4\n",
    "        \"\"\"\n",
    "        if command == 'w':\n",
    "            self.v+=1\n",
    "        elif command == 's':\n",
    "            self.v-=1\n",
    "        elif command == 'a':\n",
    "            self.vdirection+=1\n",
    "        elif command == 'd':\n",
    "            self.vdirection-=1\n",
    "    \n",
    "    def display(self):\n",
    "        direction_dict = {0:'+y', 1:'-y', 2:'+x', 3:'-x'}        #direction_dict[self.vdirection\n",
    "        print('Velocity_Value (',self.v,') Velocity Direction(', self.vdirection,')')\n",
    "        print('Position: ({},{})'.format(self.x,self.y))            "
   ]
  },
  {
   "cell_type": "code",
   "execution_count": 40,
   "id": "absent-foundation",
   "metadata": {},
   "outputs": [],
   "source": [
    "p = moving_obj()"
   ]
  },
  {
   "cell_type": "code",
   "execution_count": 41,
   "id": "novel-snake",
   "metadata": {},
   "outputs": [
    {
     "name": "stdout",
     "output_type": "stream",
     "text": [
      "Velocity_Value ( 0 ) Velocity Direction( 0 )\n",
      "Position: (0,0)\n"
     ]
    }
   ],
   "source": [
    "p.display()"
   ]
  },
  {
   "cell_type": "code",
   "execution_count": 42,
   "id": "adjustable-essay",
   "metadata": {},
   "outputs": [
    {
     "name": "stdout",
     "output_type": "stream",
     "text": [
      "Input a command (w,s,a,d): end\n"
     ]
    }
   ],
   "source": [
    "while True:\n",
    "    \n",
    "    command = input('Input a command (w,s,a,d): ')\n",
    "    if command == 'end':\n",
    "        break\n",
    "    p.update(command)\n",
    "    p.display()"
   ]
  },
  {
   "cell_type": "code",
   "execution_count": 43,
   "id": "closing-stations",
   "metadata": {},
   "outputs": [],
   "source": [
    "class player(moving_obj):\n",
    "    def iswon(self,target):\n",
    "        if(self.x,self.y)==target:\n",
    "            return True\n",
    "        else: \n",
    "            return Falses\n",
    "        "
   ]
  },
  {
   "cell_type": "code",
   "execution_count": 44,
   "id": "funky-millennium",
   "metadata": {},
   "outputs": [],
   "source": [
    "o = player()"
   ]
  },
  {
   "cell_type": "code",
   "execution_count": 46,
   "id": "adolescent-fitness",
   "metadata": {},
   "outputs": [
    {
     "name": "stdout",
     "output_type": "stream",
     "text": [
      "x = 10\n",
      "y = 20\n"
     ]
    }
   ],
   "source": [
    "target = (int(input('x = ')),int(input('y = ')))"
   ]
  },
  {
   "cell_type": "code",
   "execution_count": 47,
   "id": "fitted-anchor",
   "metadata": {},
   "outputs": [
    {
     "data": {
      "text/plain": [
       "(10, 20)"
      ]
     },
     "execution_count": 47,
     "metadata": {},
     "output_type": "execute_result"
    }
   ],
   "source": [
    "target\n"
   ]
  },
  {
   "cell_type": "code",
   "execution_count": 48,
   "id": "loose-hybrid",
   "metadata": {},
   "outputs": [
    {
     "data": {
      "text/plain": [
       "False"
      ]
     },
     "execution_count": 48,
     "metadata": {},
     "output_type": "execute_result"
    }
   ],
   "source": [
    "o.iswon(target)"
   ]
  },
  {
   "cell_type": "code",
   "execution_count": 49,
   "id": "mature-invalid",
   "metadata": {},
   "outputs": [
    {
     "name": "stdout",
     "output_type": "stream",
     "text": [
      "=====================================\n",
      "Player0 Command: w\n",
      "=====================================\n",
      "Velocity_Value ( 1 ) Velocity Direction( 0 )\n",
      "Position: (0,0)\n"
     ]
    },
    {
     "ename": "AttributeError",
     "evalue": "'moving_obj' object has no attribute 'iswon'",
     "output_type": "error",
     "traceback": [
      "\u001b[1;31m---------------------------------------------------------------------------\u001b[0m",
      "\u001b[1;31mAttributeError\u001b[0m                            Traceback (most recent call last)",
      "\u001b[1;32m<ipython-input-49-a59965329acf>\u001b[0m in \u001b[0;36m<module>\u001b[1;34m\u001b[0m\n\u001b[0;32m      9\u001b[0m     \u001b[0mprint\u001b[0m\u001b[1;33m(\u001b[0m\u001b[1;34m'====================================='\u001b[0m\u001b[1;33m)\u001b[0m\u001b[1;33m\u001b[0m\u001b[1;33m\u001b[0m\u001b[0m\n\u001b[0;32m     10\u001b[0m     \u001b[0mp\u001b[0m\u001b[1;33m.\u001b[0m\u001b[0mdisplay\u001b[0m\u001b[1;33m(\u001b[0m\u001b[1;33m)\u001b[0m\u001b[1;33m\u001b[0m\u001b[1;33m\u001b[0m\u001b[0m\n\u001b[1;32m---> 11\u001b[1;33m     \u001b[0mp\u001b[0m\u001b[1;33m.\u001b[0m\u001b[0miswon\u001b[0m\u001b[1;33m(\u001b[0m\u001b[0mtarget\u001b[0m\u001b[1;33m)\u001b[0m\u001b[1;33m\u001b[0m\u001b[1;33m\u001b[0m\u001b[0m\n\u001b[0m\u001b[0;32m     12\u001b[0m     \u001b[1;32mif\u001b[0m \u001b[0mp\u001b[0m\u001b[1;33m.\u001b[0m\u001b[0miswon\u001b[0m\u001b[1;33m(\u001b[0m\u001b[0mtarget\u001b[0m\u001b[1;33m)\u001b[0m\u001b[1;33m:\u001b[0m\u001b[1;33m\u001b[0m\u001b[1;33m\u001b[0m\u001b[0m\n\u001b[0;32m     13\u001b[0m         \u001b[0mprint\u001b[0m\u001b[1;33m(\u001b[0m\u001b[1;34m'Congrats'\u001b[0m\u001b[1;33m)\u001b[0m\u001b[1;33m\u001b[0m\u001b[1;33m\u001b[0m\u001b[0m\n",
      "\u001b[1;31mAttributeError\u001b[0m: 'moving_obj' object has no attribute 'iswon'"
     ]
    }
   ],
   "source": [
    "counter = 0\n",
    "while True:\n",
    "    counter += 1\n",
    "    print('=====================================')\n",
    "    command = input('Player0 Command: ')\n",
    "    if command == 'end':\n",
    "        break\n",
    "    p.update(command)\n",
    "    print('=====================================')\n",
    "    p.display()\n",
    "    p.iswon(target)\n",
    "    if p.iswon(target):\n",
    "        print('Congrats')\n",
    "        print('Steps = ',counter)\n",
    "        break\n",
    "    if counter == 100:\n",
    "        break"
   ]
  },
  {
   "cell_type": "code",
   "execution_count": 50,
   "id": "warming-boards",
   "metadata": {},
   "outputs": [
    {
     "data": {
      "text/plain": [
       "'plar 5'"
      ]
     },
     "execution_count": 50,
     "metadata": {},
     "output_type": "execute_result"
    }
   ],
   "source": [
    "f'plar {5}'"
   ]
  },
  {
   "cell_type": "code",
   "execution_count": null,
   "id": "leading-royalty",
   "metadata": {},
   "outputs": [],
   "source": []
  }
 ],
 "metadata": {
  "kernelspec": {
   "display_name": "Python 3",
   "language": "python",
   "name": "python3"
  },
  "language_info": {
   "codemirror_mode": {
    "name": "ipython",
    "version": 3
   },
   "file_extension": ".py",
   "mimetype": "text/x-python",
   "name": "python",
   "nbconvert_exporter": "python",
   "pygments_lexer": "ipython3",
   "version": "3.8.8"
  }
 },
 "nbformat": 4,
 "nbformat_minor": 5
}
