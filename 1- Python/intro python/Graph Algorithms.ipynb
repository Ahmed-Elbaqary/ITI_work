{
 "cells": [
  {
   "cell_type": "code",
   "execution_count": 46,
   "id": "c3fa8f7a",
   "metadata": {},
   "outputs": [
    {
     "name": "stdout",
     "output_type": "stream",
     "text": [
      "0\n",
      "3\n",
      "5\n",
      "4\n",
      "2\n",
      "1\n"
     ]
    }
   ],
   "source": [
    "class Graph:\n",
    "    def __init__(self):\n",
    "        self.graph = {}\n",
    "        \n",
    "    def addEdge(self, u, v):\n",
    "        if u not in self.graph:\n",
    "            self.graph[u] = [v]\n",
    "        else:\n",
    "            self.graph[u].append(v)\n",
    "    def BFS(self, s):\n",
    "        que = [s]\n",
    "        visited = [False]*len(self.graph)\n",
    "        visited[s] = True \n",
    "        \n",
    "        while len(que) > 0:\n",
    "            s = que.pop(0)\n",
    "            print(s)\n",
    "            \n",
    "            for node in self.graph[s]:\n",
    "                if visited[node] == False:\n",
    "                    que.append(node)\n",
    "                    visited[node] = True\n",
    "                    \n",
    "                    \n",
    "                    \n",
    "    def DFS(self, s):\n",
    "        stk = [s]\n",
    "        visited = [False]*len(self.graph)\n",
    "        visited[s] = True \n",
    "        \n",
    "        while len(stk) > 0:\n",
    "            s = stk.pop()\n",
    "            print(s)\n",
    "            \n",
    "            for node in self.graph[s]:\n",
    "                if visited[node] == False:\n",
    "                    stk.append(node)\n",
    "                    visited[node] = True\n",
    "            \n",
    "g = Graph()\n",
    "g.addEdge(0,1)\n",
    "g.addEdge(0,2)\n",
    "g.addEdge(0,3)\n",
    "g.addEdge(1,4)\n",
    "g.addEdge(2,3)\n",
    "g.addEdge(3,4)\n",
    "g.addEdge(3,5)\n",
    "g.addEdge(4,0)\n",
    "g.addEdge(5,2)\n",
    "\n",
    "g.DFS(0)"
   ]
  },
  {
   "cell_type": "code",
   "execution_count": 33,
   "id": "36db6012",
   "metadata": {},
   "outputs": [],
   "source": [
    "class Queue:\n",
    "    def __init__(self):\n",
    "        self.queue = []\n",
    "    \n",
    "    def enqueue(self, data):\n",
    "        self.queue.append(data)\n",
    "    \n",
    "    def dequeue(self):\n",
    "        if self.queue == []:\n",
    "            return 'Queue is empty'\n",
    "        return self.queue.pop(0)\n",
    "    \n",
    "    def peek(self):\n",
    "        if not self.queue == []:\n",
    "            return self.queuq[-1]\n",
    "        else:\n",
    "            return 'Queue is empty'\n",
    "    \n",
    "    def isempty(self):\n",
    "        return self.queue == []"
   ]
  },
  {
   "cell_type": "code",
   "execution_count": 34,
   "id": "d37fd07e",
   "metadata": {},
   "outputs": [
    {
     "name": "stdout",
     "output_type": "stream",
     "text": [
      "<__main__.Queue object at 0x00000188277CA820>\n"
     ]
    }
   ],
   "source": [
    "qu = Queue()\n",
    "print(qu)"
   ]
  },
  {
   "cell_type": "code",
   "execution_count": 35,
   "id": "e60e68ed",
   "metadata": {},
   "outputs": [],
   "source": [
    "qu.enqueue(5)\n",
    "qu.enqueue(1)\n",
    "qu.enqueue(8)"
   ]
  },
  {
   "cell_type": "code",
   "execution_count": 36,
   "id": "92d8d793",
   "metadata": {},
   "outputs": [
    {
     "data": {
      "text/plain": [
       "5"
      ]
     },
     "execution_count": 36,
     "metadata": {},
     "output_type": "execute_result"
    }
   ],
   "source": [
    "qu.dequeue()"
   ]
  },
  {
   "cell_type": "code",
   "execution_count": 37,
   "id": "a24e32cc",
   "metadata": {},
   "outputs": [],
   "source": [
    "class Stack:\n",
    "    def __init__(self):\n",
    "        self.stack = []\n",
    "    \n",
    "    def isempty(self):\n",
    "        return self.stack == []\n",
    "    \n",
    "    def push(self, data):\n",
    "        self.stack.append(data)\n",
    "    \n",
    "    def peek(self):\n",
    "        if self.stack == []:\n",
    "            return 'Stack is empty'\n",
    "        return self.stack[-1]\n",
    "    \n",
    "    def pop(self):\n",
    "        if self.stack == []:\n",
    "            return 'Stack is empty'\n",
    "        return self.stack.pop(-1)\n",
    "    "
   ]
  },
  {
   "cell_type": "code",
   "execution_count": 38,
   "id": "2ce3bfc4",
   "metadata": {},
   "outputs": [
    {
     "name": "stdout",
     "output_type": "stream",
     "text": [
      "<__main__.Stack object at 0x00000188277CAF70>\n"
     ]
    }
   ],
   "source": [
    "st = Stack()\n",
    "print(st)"
   ]
  },
  {
   "cell_type": "code",
   "execution_count": 39,
   "id": "323ec3a4",
   "metadata": {},
   "outputs": [],
   "source": [
    "st.push(4)\n",
    "st.push(9)\n",
    "st.push(7)\n",
    "st.push(6)"
   ]
  },
  {
   "cell_type": "code",
   "execution_count": 44,
   "id": "78a9d10b",
   "metadata": {},
   "outputs": [
    {
     "data": {
      "text/plain": [
       "9"
      ]
     },
     "execution_count": 44,
     "metadata": {},
     "output_type": "execute_result"
    }
   ],
   "source": [
    "st.peek()"
   ]
  },
  {
   "cell_type": "code",
   "execution_count": 45,
   "id": "26dc8ef7",
   "metadata": {},
   "outputs": [
    {
     "data": {
      "text/plain": [
       "9"
      ]
     },
     "execution_count": 45,
     "metadata": {},
     "output_type": "execute_result"
    }
   ],
   "source": [
    "st.pop()"
   ]
  },
  {
   "cell_type": "code",
   "execution_count": 57,
   "id": "37bf96e1",
   "metadata": {},
   "outputs": [],
   "source": [
    "class Graph_undirected:\n",
    "    def __init__(self):\n",
    "        self.graph = {}\n",
    "    \n",
    "    def addEdges(self, u, v):\n",
    "        if u in self.graph.keys() or v in self.graph.keys():\n",
    "            self.graph[u].append(v)\n",
    "            self.graph[v].append(u)\n",
    "        else:\n",
    "            self.graph[u] = [v]\n",
    "            self.graph[v] = [u]"
   ]
  },
  {
   "cell_type": "code",
   "execution_count": 3,
   "id": "b4262906",
   "metadata": {},
   "outputs": [
    {
     "name": "stdout",
     "output_type": "stream",
     "text": [
      "0\n",
      "3\n",
      "5\n",
      "4\n",
      "2\n",
      "1\n"
     ]
    }
   ],
   "source": [
    "def DFS(graph, vertix):\n",
    "    st = Stack()\n",
    "    st.push(graph[vertix])\n",
    "    visited = [vertix]\n",
    "    while not st.isempty():\n",
    "    if st.peek() not in visited:\n",
    "        visited.append(st.pop())\n",
    "        DFS(graph, vertix)\n",
    "    st.push(graph[vertix])\n",
    "    "
   ]
  },
  {
   "cell_type": "code",
   "execution_count": 54,
   "id": "493be5fa",
   "metadata": {},
   "outputs": [],
   "source": [
    "d = {'a':[5]}"
   ]
  },
  {
   "cell_type": "code",
   "execution_count": 55,
   "id": "3fb3a462",
   "metadata": {},
   "outputs": [],
   "source": [
    "d['a'].append(3)"
   ]
  },
  {
   "cell_type": "code",
   "execution_count": 50,
   "id": "c7f7b692",
   "metadata": {},
   "outputs": [
    {
     "name": "stdout",
     "output_type": "stream",
     "text": [
      "{0: [1, 2, 3], 1: [4], 2: [3], 3: [4, 5], 4: [0], 5: [2]}\n"
     ]
    }
   ],
   "source": [
    "class Graph:\n",
    "    def __init__(self):\n",
    "        self.graph = {}\n",
    "        \n",
    "    def addEdge(self, u, v):\n",
    "        if u not in self.graph:\n",
    "            self.graph[u] = [v]\n",
    "        else:\n",
    "            self.graph[u].append(v)\n",
    "    def printing(self):\n",
    "        print(self.graph)\n",
    "\n",
    "g = Graph()\n",
    "g.addEdge(0,1)\n",
    "g.addEdge(0,2)\n",
    "g.addEdge(0,3)\n",
    "g.addEdge(1,4)\n",
    "g.addEdge(2,3)\n",
    "g.addEdge(3,4)\n",
    "g.addEdge(3,5)\n",
    "g.addEdge(4,0)\n",
    "g.addEdge(5,2)\n",
    "\n",
    "g.printing()"
   ]
  },
  {
   "cell_type": "code",
   "execution_count": null,
   "id": "fd360beb",
   "metadata": {},
   "outputs": [],
   "source": []
  }
 ],
 "metadata": {
  "kernelspec": {
   "display_name": "Python 3",
   "language": "python",
   "name": "python3"
  },
  "language_info": {
   "codemirror_mode": {
    "name": "ipython",
    "version": 3
   },
   "file_extension": ".py",
   "mimetype": "text/x-python",
   "name": "python",
   "nbconvert_exporter": "python",
   "pygments_lexer": "ipython3",
   "version": "3.8.8"
  }
 },
 "nbformat": 4,
 "nbformat_minor": 5
}
