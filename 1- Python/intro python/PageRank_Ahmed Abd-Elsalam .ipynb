{
 "cells": [
  {
   "cell_type": "markdown",
   "id": "9893ab23",
   "metadata": {},
   "source": [
    "## Ahmed Abd-Elsalam Muhammed Afify"
   ]
  },
  {
   "cell_type": "markdown",
   "id": "8de5a6bb",
   "metadata": {},
   "source": [
    "## PageRank Algorithm:\n",
    "The Main idea of the page rank algorithm is to sort the webpages beased n the importance \n",
    "importance is how many pages have a link to a specific webpage"
   ]
  },
  {
   "cell_type": "code",
   "execution_count": 4,
   "id": "1b9af29b",
   "metadata": {},
   "outputs": [
    {
     "name": "stdout",
     "output_type": "stream",
     "text": [
      "[[0.5362292 ]\n",
      " [0.45536129]\n",
      " [0.88058924]\n",
      " [0.18607839]\n",
      " [0.28132836]]\n",
      "[[0.22919828]\n",
      " [0.19463324]\n",
      " [0.3763867 ]\n",
      " [0.07953473]\n",
      " [0.12024704]]\n",
      "[[0.  0.  0.  0.  1. ]\n",
      " [0.5 0.  0.  0.  0. ]\n",
      " [0.5 0.  0.  0.  0. ]\n",
      " [0.  1.  0.5 0.  0. ]\n",
      " [0.  0.  0.5 1.  0. ]]\n"
     ]
    }
   ],
   "source": [
    "\"\"\"PageRank algorithm with explicit number of iterations.\n",
    "\n",
    "Returns\n",
    "-------\n",
    "ranking of nodes (pages) in the adjacency matrix\n",
    "\n",
    "\"\"\"\n",
    "\n",
    "import numpy as np\n",
    "\n",
    "def pagerank(M, num_iterations: int = 100, d: float = 0.85):\n",
    "    \"\"\"PageRank: The trillion dollar algorithm.\n",
    "\n",
    "    Parameters\n",
    "    ----------\n",
    "    M : numpy array\n",
    "        adjacency matrix where M_i,j represents the link from 'j' to 'i', such that for all 'j'\n",
    "        sum(i, M_i,j) = 1\n",
    "    num_iterations : int, optional\n",
    "        number of iterations, by default 100\n",
    "    d : float, optional\n",
    "        damping factor, by default 0.85\n",
    "\n",
    "    Returns\n",
    "    -------\n",
    "    numpy array\n",
    "        a vector of ranks such that v_i is the i-th rank from [0, 1],\n",
    "        v sums to 1\n",
    "\n",
    "    \"\"\"\n",
    "    N = M.shape[1]\n",
    "    v = np.random.rand(N, 1)\n",
    "    print(v)\n",
    "    v = v / np.linalg.norm(v, 1)\n",
    "    print(v)\n",
    "    M_hat = (d * M + (1 - d) / N)\n",
    "    for i in range(num_iterations):\n",
    "        v = M_hat @ v\n",
    "    return v\n",
    "\n",
    "M = np.array([[0, 0, 0, 0, 1],\n",
    "              [0.5, 0, 0, 0, 0],\n",
    "              [0.5, 0, 0, 0, 0],\n",
    "              [0, 1, 0.5, 0, 0],\n",
    "              [0, 0, 0.5, 1, 0]])\n",
    "v = pagerank(M, 100, 0.85)\n",
    "print(M)"
   ]
  },
  {
   "cell_type": "code",
   "execution_count": 2,
   "id": "61fe8708",
   "metadata": {},
   "outputs": [
    {
     "name": "stdout",
     "output_type": "stream",
     "text": [
      "[[0.25419178]\n",
      " [0.13803151]\n",
      " [0.13803151]\n",
      " [0.20599017]\n",
      " [0.26375504]]\n"
     ]
    }
   ],
   "source": [
    "print(v)"
   ]
  },
  {
   "cell_type": "code",
   "execution_count": null,
   "id": "d85b8fa3",
   "metadata": {},
   "outputs": [],
   "source": []
  }
 ],
 "metadata": {
  "kernelspec": {
   "display_name": "Python 3",
   "language": "python",
   "name": "python3"
  },
  "language_info": {
   "codemirror_mode": {
    "name": "ipython",
    "version": 3
   },
   "file_extension": ".py",
   "mimetype": "text/x-python",
   "name": "python",
   "nbconvert_exporter": "python",
   "pygments_lexer": "ipython3",
   "version": "3.8.8"
  }
 },
 "nbformat": 4,
 "nbformat_minor": 5
}
