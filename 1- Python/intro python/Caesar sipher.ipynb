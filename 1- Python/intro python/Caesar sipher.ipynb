{
 "cells": [
  {
   "cell_type": "code",
   "execution_count": 95,
   "id": "fresh-ethiopia",
   "metadata": {},
   "outputs": [],
   "source": [
    "def encryption(text,key):\n",
    "    '''\n",
    "    This is the Caesar encryption function that takes a text we want to encrypt and return it cipher\n",
    "    '''\n",
    "    encrypt = ''\n",
    "    for char in text:\n",
    "        if char.isupper():\n",
    "            encrypt += chr((ord(char)+int(key)-65)%26 + 65)\n",
    "        elif char.islower():\n",
    "            encrypt += chr((ord(char)+int(key)-97)%26 + 97)\n",
    "        else:\n",
    "            encrypt += chr((ord(char)+int(key)-32)%26 + 32)\n",
    "    return encrypt"
   ]
  },
  {
   "cell_type": "code",
   "execution_count": 93,
   "id": "regular-thomas",
   "metadata": {},
   "outputs": [
    {
     "data": {
      "text/plain": [
       "\"Hello it's I was wondering if after all you just like to meet\""
      ]
     },
     "execution_count": 93,
     "metadata": {},
     "output_type": "execute_result"
    }
   ],
   "source": [
    "encryption(\"Hello it's I was wondering if after all you just like to meet\",26)"
   ]
  },
  {
   "cell_type": "code",
   "execution_count": 94,
   "id": "acoustic-happening",
   "metadata": {},
   "outputs": [],
   "source": [
    "def decryption(text,key):\n",
    "    '''\n",
    "    This is the Caesar decryption function that takes a ciphered text we want to decrypt and return it original text\n",
    "    '''\n",
    "    decrypt = ''\n",
    "    for char in text:\n",
    "        if char.isupper():\n",
    "            decrypt += chr((ord(char)-int(key)-65)%26 + 65)\n",
    "        elif char.islower():\n",
    "            decrypt += chr((ord(char)-int(key)-97)%26 + 97)\n",
    "        else:\n",
    "            decrypt += chr((ord(char)-int(key)-32)%32 + 32)\n",
    "    return decrypt"
   ]
  },
  {
   "cell_type": "code",
   "execution_count": 17,
   "id": "honey-basics",
   "metadata": {},
   "outputs": [
    {
     "data": {
      "text/plain": [
       "\"Hello it's I was wondering if after all you just like to meet\""
      ]
     },
     "execution_count": 17,
     "metadata": {},
     "output_type": "execute_result"
    }
   ],
   "source": [
    "decryption(\"Lipps$mx+w$M$aew$asrhivmrk$mj$ejxiv$epp$csy$nywx$pmoi$xs$qiix\",4)"
   ]
  },
  {
   "cell_type": "code",
   "execution_count": 96,
   "id": "decent-cooper",
   "metadata": {},
   "outputs": [],
   "source": [
    "def decryption(text,key=False):\n",
    "    '''\n",
    "    This is the Caesar decryption function that takes a ciphered text we want to decrypt and return it original text\n",
    "    '''\n",
    "    decrypt = ''\n",
    "    if key:\n",
    "        for char in text:\n",
    "            if char.isupper():\n",
    "                decrypt += chr((ord(char)-int(key)-65)%26 + 65)\n",
    "            elif char.islower():\n",
    "                decrypt += chr((ord(char)-int(key)-97)%26 + 97)\n",
    "            else:\n",
    "                decrypt += chr((ord(char)-int(key)-32)%26 + 32)\n",
    "        return decrypt\n",
    "    else:\n",
    "        print(\"If you don't know what the key is. No problem, We will help you!\")\n",
    "        print(\"we will try all the possible keys and it's your turn to decide which one looks like a human readable language \\n\")\n",
    "        \n",
    "        for key in range(26):\n",
    "            print('{}- For Key = ({}), The first  100 characters in the original text would look like: '.format(key+1,key))\n",
    "            for char in text[0:101]:\n",
    "                if char.isupper():\n",
    "                    decrypt += chr((ord(char)-int(key)-65)%26 + 65)\n",
    "                elif char.islower():\n",
    "                    decrypt += chr((ord(char)-int(key)-97)%26 + 97)\n",
    "                else:\n",
    "                    decrypt += chr((ord(char)-int(key)-32)%26 + 32) \n",
    "            print(decrypt+'\\n----------------------------------------------------------------------------')\n",
    "            decrypt = ''       \n"
   ]
  },
  {
   "cell_type": "code",
   "execution_count": 85,
   "id": "indonesian-senate",
   "metadata": {},
   "outputs": [
    {
     "data": {
      "text/plain": [
       "\"Hello it's I was wondering if after all you just like to meet\""
      ]
     },
     "execution_count": 85,
     "metadata": {},
     "output_type": "execute_result"
    }
   ],
   "source": [
    "decryption(\"Lipps$mx+w$M$aew$asrhivmrk$mj$ejxiv$epp$csy$nywx$pmoi$xs$qiix\",4)"
   ]
  },
  {
   "cell_type": "code",
   "execution_count": 86,
   "id": "pediatric-undergraduate",
   "metadata": {},
   "outputs": [
    {
     "name": "stdout",
     "output_type": "stream",
     "text": [
      "If you don't know what the key is. No problem, We will help you!\n",
      "we will try all the possible keys and it's your turn to decide which one looks like a human readable language \n",
      "\n",
      "1- For Key = (0), The first  100 characters in the original text would look like: \n",
      "Lipps$mx+w$M$aew$asrhivmrk$mj$ejxiv$epp$csy$nywx$pmoi$xs$qiix cjhsd chj sdhc xhjc hdsbfjcjk dv k vks \n",
      "----------------------------------------------------------------------------\n",
      "2- For Key = (1), The first  100 characters in the original text would look like: \n",
      "Khoor#lw*v#L#zdv#zrqghulqj#li#diwhu#doo#brx#mxvw#olnh#wr#phhw9bigrc9bgi9rcgb9wgib9gcraeibij9cu9j9ujr9\n",
      "----------------------------------------------------------------------------\n",
      "3- For Key = (2), The first  100 characters in the original text would look like: \n",
      "Jgnnq\"kv)u\"K\"ycu\"yqpfgtkpi\"kh\"chvgt\"cnn\"aqw\"lwuv\"nkmg\"vq\"oggv8ahfqb8afh8qbfa8vfha8fbqzdhahi8bt8i8tiq8\n",
      "----------------------------------------------------------------------------\n",
      "4- For Key = (3), The first  100 characters in the original text would look like: \n",
      "Ifmmp!ju(t!J!xbt!xpoefsjoh!jg!bgufs!bmm!zpv!kvtu!mjlf!up!nffu7zgepa7zeg7paez7uegz7eapycgzgh7as7h7shp7\n",
      "----------------------------------------------------------------------------\n",
      "5- For Key = (4), The first  100 characters in the original text would look like: \n",
      "Hello it's I was wondering if after all you just like to meet6yfdoz6ydf6ozdy6tdfy6dzoxbfyfg6zr6g6rgo6\n",
      "----------------------------------------------------------------------------\n",
      "6- For Key = (5), The first  100 characters in the original text would look like: \n",
      "Gdkkn9hs&r9H9vzr9vnmcdqhmf9he9zesdq9zkk9xnt9itrs9khjd9sn9ldds5xecny5xce5nycx5scex5cynwaexef5yq5f5qfn5\n",
      "----------------------------------------------------------------------------\n",
      "7- For Key = (6), The first  100 characters in the original text would look like: \n",
      "Fcjjm8gr%q8G8uyq8umlbcpgle8gd8ydrcp8yjj8wms8hsqr8jgic8rm8kccr4wdbmx4wbd4mxbw4rbdw4bxmvzdwde4xp4e4pem4\n",
      "----------------------------------------------------------------------------\n",
      "8- For Key = (7), The first  100 characters in the original text would look like: \n",
      "Ebiil7fq$p7F7txp7tlkabofkd7fc7xcqbo7xii7vlr7grpq7ifhb7ql7jbbq3vcalw3vac3lwav3qacv3awluycvcd3wo3d3odl3\n",
      "----------------------------------------------------------------------------\n",
      "9- For Key = (8), The first  100 characters in the original text would look like: \n",
      "Dahhk6ep#o6E6swo6skjzanejc6eb6wbpan6whh6ukq6fqop6hega6pk6iaap2ubzkv2uzb2kvzu2pzbu2zvktxbubc2vn2c2nck2\n",
      "----------------------------------------------------------------------------\n",
      "10- For Key = (9), The first  100 characters in the original text would look like: \n",
      "Czggj5do\"n5D5rvn5rjiyzmdib5da5vaozm5vgg5tjp5epno5gdfz5oj5hzzo1tayju1tya1juyt1oyat1yujswatab1um1b1mbj1\n",
      "----------------------------------------------------------------------------\n",
      "11- For Key = (10), The first  100 characters in the original text would look like: \n",
      "Byffi4cn!m4C4qum4qihxylcha4cz4uznyl4uff4sio4domn4fcey4ni4gyyn0szxit0sxz0itxs0nxzs0xtirvzsza0tl0a0lai0\n",
      "----------------------------------------------------------------------------\n",
      "12- For Key = (11), The first  100 characters in the original text would look like: \n",
      "Axeeh3bm l3B3ptl3phgwxkbgz3by3tymxk3tee3rhn3cnlm3ebdx3mh3fxxm/rywhs/rwy/hswr/mwyr/wshquyryz/sk/z/kzh/\n",
      "----------------------------------------------------------------------------\n",
      "13- For Key = (12), The first  100 characters in the original text would look like: \n",
      "Zwddg2al9k2A2osk2ogfvwjafy2ax2sxlwj2sdd2qgm2bmkl2dacw2lg2ewwl.qxvgr.qvx.grvq.lvxq.vrgptxqxy.rj.y.jyg.\n",
      "----------------------------------------------------------------------------\n",
      "14- For Key = (13), The first  100 characters in the original text would look like: \n",
      "Yvccf1zk8j1Z1nrj1nfeuvizex1zw1rwkvi1rcc1pfl1aljk1czbv1kf1dvvk-pwufq-puw-fqup-kuwp-uqfoswpwx-qi-x-ixf-\n",
      "----------------------------------------------------------------------------\n",
      "15- For Key = (14), The first  100 characters in the original text would look like: \n",
      "Xubbe0yj7i0Y0mqi0medtuhydw0yv0qvjuh0qbb0oek0zkij0byau0je0cuuj,ovtep,otv,epto,jtvo,tpenrvovw,ph,w,hwe,\n",
      "----------------------------------------------------------------------------\n",
      "16- For Key = (15), The first  100 characters in the original text would look like: \n",
      "Wtaad/xi6h/X/lph/ldcstgxcv/xu/puitg/paa/ndj/yjhi/axzt/id/btti+nusdo+nsu+dosn+isun+sodmqunuv+og+v+gvd+\n",
      "----------------------------------------------------------------------------\n",
      "17- For Key = (16), The first  100 characters in the original text would look like: \n",
      "Vszzc.wh5g.W.kog.kcbrsfwbu.wt.othsf.ozz.mci.xigh.zwys.hc.assh*mtrcn*mrt*cnrm*hrtm*rnclptmtu*nf*u*fuc*\n",
      "----------------------------------------------------------------------------\n",
      "18- For Key = (17), The first  100 characters in the original text would look like: \n",
      "Uryyb-vg4f-V-jnf-jbaqrevat-vs-nsgre-nyy-lbh-whfg-yvxr-gb-zrrg)lsqbm)lqs)bmql)gqsl)qmbkoslst)me)t)etb)\n",
      "----------------------------------------------------------------------------\n",
      "19- For Key = (18), The first  100 characters in the original text would look like: \n",
      "Tqxxa,uf3e,U,ime,iazpqduzs,ur,mrfqd,mxx,kag,vgef,xuwq,fa,yqqf(krpal(kpr(alpk(fprk(plajnrkrs(ld(s(dsa(\n",
      "----------------------------------------------------------------------------\n",
      "20- For Key = (19), The first  100 characters in the original text would look like: \n",
      "Spwwz+te2d+T+hld+hzyopctyr+tq+lqepc+lww+jzf+ufde+wtvp+ez+xppe'jqozk'joq'zkoj'eoqj'okzimqjqr'kc'r'crz'\n",
      "----------------------------------------------------------------------------\n",
      "21- For Key = (20), The first  100 characters in the original text would look like: \n",
      "Rovvy*sd1c*S*gkc*gyxnobsxq*sp*kpdob*kvv*iye*tecd*vsuo*dy*wood&ipnyj&inp&yjni&dnpi&njyhlpipq&jb&q&bqy&\n",
      "----------------------------------------------------------------------------\n",
      "22- For Key = (21), The first  100 characters in the original text would look like: \n",
      "Qnuux)rc0b)R)fjb)fxwmnarwp)ro)jocna)juu)hxd)sdbc)urtn)cx)vnnc%homxi%hmo%ximh%cmoh%mixgkohop%ia%p%apx%\n",
      "----------------------------------------------------------------------------\n",
      "23- For Key = (22), The first  100 characters in the original text would look like: \n",
      "Pmttw(qb/a(Q(eia(ewvlmzqvo(qn(inbmz(itt(gwc(rcab(tqsm(bw(ummb$gnlwh$gln$whlg$blng$lhwfjngno$hz$o$zow$\n",
      "----------------------------------------------------------------------------\n",
      "24- For Key = (23), The first  100 characters in the original text would look like: \n",
      "Olssv'pa.z'P'dhz'dvuklypun'pm'hmaly'hss'fvb'qbza'sprl'av'tlla#fmkvg#fkm#vgkf#akmf#kgveimfmn#gy#n#ynv#\n",
      "----------------------------------------------------------------------------\n",
      "25- For Key = (24), The first  100 characters in the original text would look like: \n",
      "Nkrru&oz-y&O&cgy&cutjkxotm&ol&glzkx&grr&eua&payz&roqk&zu&skkz\"eljuf\"ejl\"ufje\"zjle\"jfudhlelm\"fx\"m\"xmu\"\n",
      "----------------------------------------------------------------------------\n",
      "26- For Key = (25), The first  100 characters in the original text would look like: \n",
      "Mjqqt%ny,x%N%bfx%btsijwnsl%nk%fkyjw%fqq%dtz%ozxy%qnpj%yt%rjjy!dkite!dik!teid!yikd!ietcgkdkl!ew!l!wlt!\n",
      "----------------------------------------------------------------------------\n"
     ]
    }
   ],
   "source": [
    "decryption(\"Lipps$mx+w$M$aew$asrhivmrk$mj$ejxiv$epp$csy$nywx$pmoi$xs$qiix cjhsd chj sdhc xhjc hdsbfjcjk dv k vks dvk dvk sdv k vjd vhje hjfbshkdf\")"
   ]
  },
  {
   "cell_type": "code",
   "execution_count": 18,
   "id": "rolled-month",
   "metadata": {},
   "outputs": [
    {
     "name": "stdout",
     "output_type": "stream",
     "text": [
      "Please select the desired action to use this function: 1=Encryption, 2=Decryption: 1\n",
      "Please write down the text : Hello\n",
      "Please select a key: 4\n"
     ]
    }
   ],
   "source": [
    "def encryption(text,key):\n",
    "    '''\n",
    "    This is the Caesar encryption function that takes a text we want to encrypt and return it cipher\n",
    "    Arguments: \n",
    "        text: the text you like to chiper.\n",
    "        key: number of shifts you want the text be ciphered by. \n",
    "    '''\n",
    "    encrypt = ''\n",
    "    for char in text:\n",
    "        if char.isupper():     # Ciphering the upper-case letters. \n",
    "            encrypt += chr((ord(char)+int(key)-65)%26 + 65)\n",
    "        elif char.islower():  # Ciphering the lower-case letters.\n",
    "            encrypt += chr((ord(char)+int(key)-97)%26 + 97)\n",
    "        else:                # Ciphering the rest of characters.\n",
    "            encrypt += chr((ord(char)+int(key)-32)%26 + 32)\n",
    "    return encrypt\n",
    "     \n",
    "\n",
    "def decryption(text,key=False):\n",
    "    '''\n",
    "    This is the Caesar decryption function that takes a ciphered text we want to decrypt and return it original text.\n",
    "    Arguments:\n",
    "        text: the cipher you would like to Decrypt.\n",
    "        key: (optional) the key used in encrypting; if the user doen't know it, the function will help.\n",
    "    '''\n",
    "    decrypt = ''\n",
    "    if key:      # In the case of knowing what the key is, use this code.\n",
    "        for char in text:\n",
    "            if char.isupper():   # Decrypting the upper-case letters.\n",
    "                decrypt += chr((ord(char)-int(key)-65)%26 + 65)\n",
    "            elif char.islower(): # Decrypting the lower-case letters.\n",
    "                decrypt += chr((ord(char)-int(key)-97)%26 + 97)\n",
    "            else:               # Decrypting the rest of characters.\n",
    "                decrypt += chr((ord(char)-int(key)-32)%26 + 32)\n",
    "        return decrypt\n",
    "    \n",
    "    else:     # If the user doesn't know what the key is.\n",
    "        print(\"If you don't know what the key is. No problem, We will help you!\")\n",
    "        print(\"we will try all the possible keys and it's your turn to decide which one looks like a human readable language \\n\")\n",
    "        \n",
    "        for key in range(26):\n",
    "            print('{}- For Key = ({}), The first  100 characters in the original text would look like: '.format(key+1,key))\n",
    "            for char in text[0:101]:\n",
    "                if char.isupper():\n",
    "                    decrypt += chr((ord(char)-int(key)-65)%26 + 65)\n",
    "                elif char.islower():\n",
    "                    decrypt += chr((ord(char)-int(key)-97)%26 + 97)\n",
    "                else:\n",
    "                    decrypt += chr((ord(char)-int(key)-32)%26 + 32) \n",
    "            print(decrypt+'\\n----------------------------------------------------------------------------')\n",
    "            decrypt = ''       \n",
    "\n",
    "\n",
    "\n",
    "def caesar_cipher():\n",
    "    '''\n",
    "    This Function is a function used for cryptograpy, it uses Caesar-Cipher as the idea of ciphering.\n",
    "    this function has the cababilities of both Encryption and Decryption.\n",
    "    it first asks the user for the purpose of using the function:\n",
    "        1- Encryption.\n",
    "        2- Decryption.\n",
    "    then Askes for the text and the key for Cophering.\n",
    "    '''\n",
    "    purpose = input('Please select the desired action to use this function: 1=Encryption, 2=Decryption: ')\n",
    "    \n",
    "    if purpose == '1':\n",
    "        text = input('Please write down the text : ')\n",
    "        key = int(input(\"Please select a key: \"))\n",
    "        return encryption(text,key)\n",
    "    elif purpose == '2':\n",
    "        text = input('Please write down the text : ')\n",
    "        key = int(input(\"Please select a key, if you don't know it write (0): \"))\n",
    "        return decryption(text,key)\n",
    "    else:\n",
    "        print('Please you have to select between (1 & 2)')\n",
    "        return\n",
    "    \n",
    "    \n",
    "if __name__ == \"__main__\":\n",
    "    caesar_cipher()"
   ]
  },
  {
   "cell_type": "code",
   "execution_count": 19,
   "id": "genuine-breach",
   "metadata": {},
   "outputs": [
    {
     "name": "stdout",
     "output_type": "stream",
     "text": [
      "Please select the desired action to use this function: 1=Encryption, 2=Decryption: 5\n",
      "Please you have to select between (1 & 2)\n"
     ]
    }
   ],
   "source": [
    "x = caesar_cipher()"
   ]
  },
  {
   "cell_type": "code",
   "execution_count": 13,
   "id": "senior-association",
   "metadata": {},
   "outputs": [],
   "source": [
    "x"
   ]
  },
  {
   "cell_type": "code",
   "execution_count": 17,
   "id": "breeding-kenya",
   "metadata": {},
   "outputs": [
    {
     "name": "stdout",
     "output_type": "stream",
     "text": [
      "Lipps\n"
     ]
    }
   ],
   "source": [
    "print(x)"
   ]
  },
  {
   "cell_type": "code",
   "execution_count": null,
   "id": "killing-training",
   "metadata": {},
   "outputs": [],
   "source": []
  },
  {
   "cell_type": "code",
   "execution_count": null,
   "id": "regular-blair",
   "metadata": {},
   "outputs": [],
   "source": []
  }
 ],
 "metadata": {
  "kernelspec": {
   "display_name": "Python 3",
   "language": "python",
   "name": "python3"
  },
  "language_info": {
   "codemirror_mode": {
    "name": "ipython",
    "version": 3
   },
   "file_extension": ".py",
   "mimetype": "text/x-python",
   "name": "python",
   "nbconvert_exporter": "python",
   "pygments_lexer": "ipython3",
   "version": "3.8.8"
  }
 },
 "nbformat": 4,
 "nbformat_minor": 5
}
