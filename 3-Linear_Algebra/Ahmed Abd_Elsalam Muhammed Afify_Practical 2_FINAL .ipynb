{
 "cells": [
  {
   "cell_type": "markdown",
   "metadata": {},
   "source": [
    "# Implementing PCA Using Eigen Decomposition"
   ]
  },
  {
   "cell_type": "code",
   "execution_count": 2,
   "metadata": {},
   "outputs": [],
   "source": [
    "import numpy as np"
   ]
  },
  {
   "cell_type": "code",
   "execution_count": 4,
   "metadata": {},
   "outputs": [
    {
     "name": "stdout",
     "output_type": "stream",
     "text": [
      "[[1 2 3 4]\n",
      " [5 5 6 7]\n",
      " [1 4 2 3]\n",
      " [5 3 2 1]\n",
      " [8 1 2 2]]\n"
     ]
    }
   ],
   "source": [
    "arr = np.array([[1,2,3,4],[5,5,6,7],[1,4,2,3],[5,3,2,1],[8,1,2,2]])\n",
    "print(arr)"
   ]
  },
  {
   "cell_type": "markdown",
   "metadata": {},
   "source": [
    "### Standardize the dataset."
   ]
  },
  {
   "cell_type": "code",
   "execution_count": 9,
   "metadata": {},
   "outputs": [],
   "source": [
    "def standerize(column):\n",
    "    mean_column = np.sum(column,axis=0)/column.shape[0]\n",
    "    std_column = np.std(column)\n",
    "    z = (column-mean_column)/(std_column)\n",
    "    return z"
   ]
  },
  {
   "cell_type": "code",
   "execution_count": 10,
   "metadata": {},
   "outputs": [],
   "source": [
    "standerized = np.zeros((arr.shape[0],arr.shape[1]))\n",
    "for i in range(arr.shape[1]):\n",
    "    z = standerize(arr[0:,i])\n",
    "    standerized[0:,i] = z"
   ]
  },
  {
   "cell_type": "code",
   "execution_count": 11,
   "metadata": {},
   "outputs": [
    {
     "name": "stdout",
     "output_type": "stream",
     "text": [
      "[[-1.         -0.63245553  0.          0.26062335]\n",
      " [ 0.33333333  1.26491106  1.73205081  1.56374007]\n",
      " [-1.          0.63245553 -0.57735027 -0.1737489 ]\n",
      " [ 0.33333333  0.         -0.57735027 -1.04249338]\n",
      " [ 1.33333333 -1.26491106 -0.57735027 -0.60812114]]\n"
     ]
    }
   ],
   "source": [
    "print(standerized)"
   ]
  },
  {
   "cell_type": "markdown",
   "metadata": {},
   "source": [
    "### Calculate the covariance matrix for the features in the dataset."
   ]
  },
  {
   "cell_type": "code",
   "execution_count": 12,
   "metadata": {},
   "outputs": [
    {
     "name": "stdout",
     "output_type": "stream",
     "text": [
      "[[ 0.8        -0.25298221  0.03849002 -0.14479075]\n",
      " [-0.25298221  0.8         0.51120772  0.49449803]\n",
      " [ 0.03849002  0.51120772  0.8         0.75235479]\n",
      " [-0.14479075  0.49449803  0.75235479  0.8       ]]\n"
     ]
    }
   ],
   "source": [
    "covariance = np.dot(standerized.T,standerized)/arr.shape[0]\n",
    "print(covariance)"
   ]
  },
  {
   "cell_type": "markdown",
   "metadata": {},
   "source": [
    "### Calculate the eigenvalues and eigenvectors for the covariance matrix."
   ]
  },
  {
   "cell_type": "code",
   "execution_count": null,
   "metadata": {},
   "outputs": [],
   "source": [
    "eigenValues, eigenVectors = np.linalg.eig(covariance)"
   ]
  },
  {
   "cell_type": "markdown",
   "metadata": {},
   "source": [
    "### Sort eigenvalues and their corresponding eigenvectors."
   ]
  },
  {
   "cell_type": "code",
   "execution_count": 13,
   "metadata": {},
   "outputs": [],
   "source": [
    "idx = eigenValues.argsort()[::-1]   \n",
    "eigenValues = eigenValues[idx]\n",
    "eigenVectors = eigenVectors[:,idx]"
   ]
  },
  {
   "cell_type": "code",
   "execution_count": 14,
   "metadata": {},
   "outputs": [
    {
     "name": "stdout",
     "output_type": "stream",
     "text": [
      "[2.01263459 0.8522308  0.31510964 0.02002497]\n"
     ]
    }
   ],
   "source": [
    "print(eigenValues)\n"
   ]
  },
  {
   "cell_type": "code",
   "execution_count": 15,
   "metadata": {},
   "outputs": [
    {
     "name": "stdout",
     "output_type": "stream",
     "text": [
      "[[ 0.16195986 -0.91705888 -0.30707099  0.19616173]\n",
      " [-0.52404813  0.20692161 -0.81731886  0.12061043]\n",
      " [-0.58589647 -0.3205394   0.1882497  -0.72009851]\n",
      " [-0.59654663 -0.11593512  0.44973251  0.65454704]]\n"
     ]
    }
   ],
   "source": [
    "print(eigenVectors)"
   ]
  },
  {
   "cell_type": "markdown",
   "metadata": {},
   "source": [
    "### Pick k eigenvalues and form a matrix of eigenvectors."
   ]
  },
  {
   "cell_type": "code",
   "execution_count": 16,
   "metadata": {},
   "outputs": [
    {
     "name": "stdout",
     "output_type": "stream",
     "text": [
      "[[ 0.16195986 -0.91705888]\n",
      " [-0.52404813  0.20692161]\n",
      " [-0.58589647 -0.3205394 ]\n",
      " [-0.59654663 -0.11593512]]\n"
     ]
    }
   ],
   "source": [
    "picked = eigenVectors[0:,0:2]\n",
    "print(picked)"
   ]
  },
  {
   "cell_type": "markdown",
   "metadata": {},
   "source": [
    "### Transform the original matrix."
   ]
  },
  {
   "cell_type": "code",
   "execution_count": 17,
   "metadata": {},
   "outputs": [
    {
     "name": "stdout",
     "output_type": "stream",
     "text": [
      "[[ 1.40033078e-02  7.55974765e-01]\n",
      " [-2.55653399e+00 -7.80431775e-01]\n",
      " [-5.14801919e-02  1.25313470e+00]\n",
      " [ 1.01415002e+00  2.38808310e-04]\n",
      " [ 1.57986086e+00 -1.22891650e+00]]\n"
     ]
    }
   ],
   "source": [
    "transformed = standerized@picked\n",
    "print(transformed)"
   ]
  }
 ],
 "metadata": {
  "kernelspec": {
   "display_name": "Python 3",
   "language": "python",
   "name": "python3"
  },
  "language_info": {
   "codemirror_mode": {
    "name": "ipython",
    "version": 3
   },
   "file_extension": ".py",
   "mimetype": "text/x-python",
   "name": "python",
   "nbconvert_exporter": "python",
   "pygments_lexer": "ipython3",
   "version": "3.8.8"
  }
 },
 "nbformat": 4,
 "nbformat_minor": 4
}
