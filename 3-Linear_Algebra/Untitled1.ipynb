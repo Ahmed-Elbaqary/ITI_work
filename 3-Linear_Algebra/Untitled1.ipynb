{
 "cells": [
  {
   "cell_type": "code",
   "execution_count": 2,
   "id": "piano-polls",
   "metadata": {},
   "outputs": [],
   "source": [
    "import numpy as np"
   ]
  },
  {
   "cell_type": "code",
   "execution_count": 80,
   "id": "elegant-mineral",
   "metadata": {},
   "outputs": [],
   "source": [
    "def matrix():\n",
    "    n = input('Numer of rows = ')\n",
    "    m = input('Number of columns = ')\n",
    "    try:\n",
    "        A = np.zeros((int(n),int(m)))\n",
    "        #A = [[0]*int(n)]*int(m)\n",
    "        for i in range(int(n)):\n",
    "            for j in range(int(m)):\n",
    "                element = input(f'element {i},{j} = ')\n",
    "                A[[i],[j]] = int(element)\n",
    "\n",
    "        return A\n",
    "    except:\n",
    "        print('Error')"
   ]
  },
  {
   "cell_type": "code",
   "execution_count": 81,
   "id": "multiple-president",
   "metadata": {},
   "outputs": [],
   "source": [
    "def vector():\n",
    "    n = input('Numer of rows = ')\n",
    "    try:\n",
    "        B = np.zeros((int(n),1))\n",
    "        for i in range(int(n)):\n",
    "            element = input(f'element {i},1 = ')\n",
    "        return B\n",
    "    except:\n",
    "        return 'Input Error'"
   ]
  },
  {
   "cell_type": "code",
   "execution_count": 18,
   "id": "respiratory-weight",
   "metadata": {},
   "outputs": [],
   "source": [
    "def check_dimensions(A,B):\n",
    "    if len(B) != len(A):\n",
    "        raise Exception('Input error, Matrix-B is not of the same dimension of A')\n",
    "\n",
    "    for i in range(len(B)):\n",
    "        if isinstance(B[i],list):\n",
    "            raise Exception('Input error, Matrix-B is not a column vector')"
   ]
  },
  {
   "cell_type": "code",
   "execution_count": 77,
   "id": "rotary-duncan",
   "metadata": {},
   "outputs": [
    {
     "data": {
      "text/plain": [
       "array([[1., 2., 3.],\n",
       "       [4., 5., 6.],\n",
       "       [7., 8., 9.]])"
      ]
     },
     "execution_count": 77,
     "metadata": {},
     "output_type": "execute_result"
    }
   ],
   "source": [
    "A\n"
   ]
  },
  {
   "cell_type": "code",
   "execution_count": 19,
   "id": "academic-property",
   "metadata": {},
   "outputs": [],
   "source": [
    "check_dimensions([[1,2,3],[4,5,6],[7,8,9]],[1,2,3])"
   ]
  },
  {
   "cell_type": "code",
   "execution_count": 20,
   "id": "premium-creativity",
   "metadata": {},
   "outputs": [],
   "source": [
    "def check_squared(A):\n",
    "    for i in range(len(A)):\n",
    "            if len(A[i]) != len(A):\n",
    "                raise Exception('Input error, Matrix-A should be a square matrix (NxN)')"
   ]
  },
  {
   "cell_type": "code",
   "execution_count": 38,
   "id": "indirect-richards",
   "metadata": {},
   "outputs": [],
   "source": [
    "A = [[1,2,3],[4,5,6],[7,8,9]]"
   ]
  },
  {
   "cell_type": "code",
   "execution_count": 27,
   "id": "sophisticated-fluid",
   "metadata": {},
   "outputs": [],
   "source": [
    "def calc_determinant(A):\n",
    "    determinant = np.linalg.det(A)\n",
    "    return determinant"
   ]
  },
  {
   "cell_type": "code",
   "execution_count": 28,
   "id": "imposed-tracy",
   "metadata": {},
   "outputs": [
    {
     "data": {
      "text/plain": [
       "-9.51619735392994e-16"
      ]
     },
     "execution_count": 28,
     "metadata": {},
     "output_type": "execute_result"
    }
   ],
   "source": [
    "calc_determinant([[1,2,3],[4,5,6],[7,8,9]])"
   ]
  },
  {
   "cell_type": "code",
   "execution_count": 24,
   "id": "smooth-found",
   "metadata": {},
   "outputs": [
    {
     "data": {
      "text/plain": [
       "0"
      ]
     },
     "execution_count": 24,
     "metadata": {},
     "output_type": "execute_result"
    }
   ],
   "source": [
    "3%3"
   ]
  },
  {
   "cell_type": "code",
   "execution_count": 36,
   "id": "guilty-yahoo",
   "metadata": {},
   "outputs": [],
   "source": [
    "def minor_coef(A, i, j):\n",
    "    return [row[: j] + row[j+1:] for row in (A[: i] + A[i+1:])]"
   ]
  },
  {
   "cell_type": "code",
   "execution_count": 37,
   "id": "veterinary-missile",
   "metadata": {},
   "outputs": [
    {
     "data": {
      "text/plain": [
       "[[4, 6], [7, 9]]"
      ]
     },
     "execution_count": 37,
     "metadata": {},
     "output_type": "execute_result"
    }
   ],
   "source": [
    "getcofactor([[1,2,3],[4,5,6],[7,8,9]],0,1)"
   ]
  },
  {
   "cell_type": "code",
   "execution_count": 78,
   "id": "interesting-oklahoma",
   "metadata": {},
   "outputs": [],
   "source": [
    "def minors(A):\n",
    "    lst = []\n",
    "    for i in np.nditer(A):\n",
    "        lst.append(i)\n",
    "    m = np.zeros((3,3))\n",
    "    for i in range(len(A)):\n",
    "        for j in range(len(A[i])):\n",
    "            mat = minor_coef(A,i,j)\n",
    "            value = (mat[0][0]*mat[1][1] - mat[0][1]*mat[1][0])\n",
    "            m[[i],[j]] = value\n",
    "    return m"
   ]
  },
  {
   "cell_type": "code",
   "execution_count": 79,
   "id": "interstate-insert",
   "metadata": {},
   "outputs": [
    {
     "data": {
      "text/plain": [
       "array([[ -3.,  -6.,  -3.],\n",
       "       [ 21., -12., -27.],\n",
       "       [ 15.,  -6., -15.]])"
      ]
     },
     "execution_count": 79,
     "metadata": {},
     "output_type": "execute_result"
    }
   ],
   "source": [
    "minors([[1,5,3],[4,5,6],[7,8,9]])"
   ]
  },
  {
   "cell_type": "code",
   "execution_count": 46,
   "id": "hindu-processor",
   "metadata": {},
   "outputs": [],
   "source": []
  },
  {
   "cell_type": "code",
   "execution_count": 86,
   "id": "recorded-lambda",
   "metadata": {},
   "outputs": [],
   "source": [
    "\n",
    "def cofactors(A):\n",
    "    m = np.array([[1,-1,1],[-1,1,-1],[1,-1,1]])\n",
    "    A = A*m\n",
    "    return A"
   ]
  },
  {
   "cell_type": "code",
   "execution_count": 33,
   "id": "active-journalism",
   "metadata": {},
   "outputs": [],
   "source": [
    "A = np.array([[1,5,3],[4,5,6],[7,8,9]])"
   ]
  },
  {
   "cell_type": "code",
   "execution_count": 88,
   "id": "yellow-coordinate",
   "metadata": {},
   "outputs": [],
   "source": [
    "e = cofactors(A)"
   ]
  },
  {
   "cell_type": "code",
   "execution_count": 89,
   "id": "infinite-royal",
   "metadata": {},
   "outputs": [
    {
     "data": {
      "text/plain": [
       "array([[ 1, -5,  3],\n",
       "       [-4,  5, -6],\n",
       "       [ 7, -8,  9]])"
      ]
     },
     "execution_count": 89,
     "metadata": {},
     "output_type": "execute_result"
    }
   ],
   "source": [
    "e"
   ]
  },
  {
   "cell_type": "code",
   "execution_count": 91,
   "id": "computational-interval",
   "metadata": {},
   "outputs": [],
   "source": [
    "def transpose(A):\n",
    "    return A.T"
   ]
  },
  {
   "cell_type": "code",
   "execution_count": 93,
   "id": "painted-cricket",
   "metadata": {},
   "outputs": [
    {
     "data": {
      "text/plain": [
       "array([[ 1, -4,  7],\n",
       "       [-5,  5, -8],\n",
       "       [ 3, -6,  9]])"
      ]
     },
     "execution_count": 93,
     "metadata": {},
     "output_type": "execute_result"
    }
   ],
   "source": [
    "transpose(e)"
   ]
  },
  {
   "cell_type": "code",
   "execution_count": 13,
   "id": "fabulous-encounter",
   "metadata": {},
   "outputs": [],
   "source": [
    "def cofactors(A):\n",
    "    n,m = A.shape[0], A.shape[1]\n",
    "    cofactor = [1]*(n*m)\n",
    "    sign = 1\n",
    "    for i in range(len(cofactor)):\n",
    "        cofactor[i] *= sign\n",
    "        sign *= -1\n",
    "    \n",
    "    cofactor = np.array(cofactor)\n",
    "    cofactor = cofactor.reshape(n,m)\n",
    "    A = A*cofactor\n",
    "    return A"
   ]
  },
  {
   "cell_type": "code",
   "execution_count": 14,
   "id": "impressed-portrait",
   "metadata": {},
   "outputs": [],
   "source": [
    "e = cofactors(A)"
   ]
  },
  {
   "cell_type": "code",
   "execution_count": 10,
   "id": "primary-somerset",
   "metadata": {},
   "outputs": [],
   "source": [
    "n = [1]*5*3"
   ]
  },
  {
   "cell_type": "code",
   "execution_count": 12,
   "id": "threaded-depression",
   "metadata": {},
   "outputs": [
    {
     "name": "stdout",
     "output_type": "stream",
     "text": [
      "<class 'list'>\n"
     ]
    }
   ],
   "source": [
    "print(type(n))"
   ]
  },
  {
   "cell_type": "code",
   "execution_count": 15,
   "id": "grave-direction",
   "metadata": {},
   "outputs": [
    {
     "data": {
      "text/plain": [
       "array([[ 1, -5,  3],\n",
       "       [-4,  5, -6],\n",
       "       [ 7, -8,  9]])"
      ]
     },
     "execution_count": 15,
     "metadata": {},
     "output_type": "execute_result"
    }
   ],
   "source": [
    "e"
   ]
  },
  {
   "cell_type": "code",
   "execution_count": 16,
   "id": "informative-ancient",
   "metadata": {},
   "outputs": [],
   "source": [
    "def matrix():\n",
    "    n = input('Numer of rows = ')\n",
    "    m = input('Number of columns = ')\n",
    "    try:\n",
    "        A = np.zeros((int(n),int(m)))\n",
    "        for i in range(int(n)):\n",
    "            for j in range(int(m)):\n",
    "                element = input(f'element {i+1},{j+1} = ')\n",
    "                A[[i],[j]] = int(element)\n",
    "        print(A)\n",
    "        return A\n",
    "    except:\n",
    "        return 'Input Error, insert a valid numeric input'"
   ]
  },
  {
   "cell_type": "code",
   "execution_count": 17,
   "id": "competitive-richards",
   "metadata": {},
   "outputs": [],
   "source": [
    "def minor_coef(A, i, j):\n",
    "    return [row[: j] + row[j+1:] for row in (A[: i] + A[i+1:])]"
   ]
  },
  {
   "cell_type": "code",
   "execution_count": 26,
   "id": "romantic-contract",
   "metadata": {},
   "outputs": [],
   "source": [
    "def minors(A):\n",
    "    m = np.zeros((3,3))\n",
    "    for i in range(A.shape[0]):\n",
    "        for j in range(A.shape[1]):\n",
    "            mat = minor_coef(A,i,j)\n",
    "            value = (mat[0][0]*mat[1][1] - mat[0][1]*mat[1][0])\n",
    "            print(value)\n",
    "            m[[i],[j]] = value\n",
    "            \n",
    "    print(m)\n",
    "    return m"
   ]
  },
  {
   "cell_type": "code",
   "execution_count": 19,
   "id": "returning-viking",
   "metadata": {},
   "outputs": [
    {
     "name": "stdout",
     "output_type": "stream",
     "text": [
      "Numer of rows = 3\n",
      "Number of columns = 3\n",
      "element 1,1 = 1\n",
      "element 1,2 = 0\n",
      "element 1,3 = 1\n",
      "element 2,1 = 0\n",
      "element 2,2 = 1\n",
      "element 2,3 = 1\n",
      "element 3,1 = 1\n",
      "element 3,2 = 1\n",
      "element 3,3 = 1\n",
      "[[1. 0. 1.]\n",
      " [0. 1. 1.]\n",
      " [1. 1. 1.]]\n"
     ]
    }
   ],
   "source": [
    "A = matrix()"
   ]
  },
  {
   "cell_type": "code",
   "execution_count": 20,
   "id": "certified-touch",
   "metadata": {},
   "outputs": [
    {
     "name": "stdout",
     "output_type": "stream",
     "text": [
      "<class 'numpy.ndarray'>\n"
     ]
    }
   ],
   "source": [
    "print(type(A))"
   ]
  },
  {
   "cell_type": "code",
   "execution_count": 27,
   "id": "exempt-feelings",
   "metadata": {},
   "outputs": [
    {
     "ename": "ValueError",
     "evalue": "operands could not be broadcast together with shapes (0,3) (2,3) ",
     "output_type": "error",
     "traceback": [
      "\u001b[1;31m---------------------------------------------------------------------------\u001b[0m",
      "\u001b[1;31mValueError\u001b[0m                                Traceback (most recent call last)",
      "\u001b[1;32m<ipython-input-27-c1a618a6118c>\u001b[0m in \u001b[0;36m<module>\u001b[1;34m\u001b[0m\n\u001b[1;32m----> 1\u001b[1;33m \u001b[0mm\u001b[0m \u001b[1;33m=\u001b[0m \u001b[0mminors\u001b[0m\u001b[1;33m(\u001b[0m\u001b[0mA\u001b[0m\u001b[1;33m)\u001b[0m\u001b[1;33m\u001b[0m\u001b[1;33m\u001b[0m\u001b[0m\n\u001b[0m",
      "\u001b[1;32m<ipython-input-26-db7a53f4b4d4>\u001b[0m in \u001b[0;36mminors\u001b[1;34m(A)\u001b[0m\n\u001b[0;32m      3\u001b[0m     \u001b[1;32mfor\u001b[0m \u001b[0mi\u001b[0m \u001b[1;32min\u001b[0m \u001b[0mrange\u001b[0m\u001b[1;33m(\u001b[0m\u001b[1;36m3\u001b[0m\u001b[1;33m)\u001b[0m\u001b[1;33m:\u001b[0m\u001b[1;33m\u001b[0m\u001b[1;33m\u001b[0m\u001b[0m\n\u001b[0;32m      4\u001b[0m         \u001b[1;32mfor\u001b[0m \u001b[0mj\u001b[0m \u001b[1;32min\u001b[0m \u001b[0mrange\u001b[0m\u001b[1;33m(\u001b[0m\u001b[1;36m3\u001b[0m\u001b[1;33m)\u001b[0m\u001b[1;33m:\u001b[0m                    \u001b[1;31m#A.shape[0]\u001b[0m\u001b[1;33m\u001b[0m\u001b[1;33m\u001b[0m\u001b[0m\n\u001b[1;32m----> 5\u001b[1;33m             \u001b[0mmat\u001b[0m \u001b[1;33m=\u001b[0m \u001b[0mminor_coef\u001b[0m\u001b[1;33m(\u001b[0m\u001b[0mA\u001b[0m\u001b[1;33m,\u001b[0m\u001b[0mi\u001b[0m\u001b[1;33m,\u001b[0m\u001b[0mj\u001b[0m\u001b[1;33m)\u001b[0m\u001b[1;33m\u001b[0m\u001b[1;33m\u001b[0m\u001b[0m\n\u001b[0m\u001b[0;32m      6\u001b[0m             \u001b[0mvalue\u001b[0m \u001b[1;33m=\u001b[0m \u001b[1;33m(\u001b[0m\u001b[0mmat\u001b[0m\u001b[1;33m[\u001b[0m\u001b[1;36m0\u001b[0m\u001b[1;33m]\u001b[0m\u001b[1;33m[\u001b[0m\u001b[1;36m0\u001b[0m\u001b[1;33m]\u001b[0m\u001b[1;33m*\u001b[0m\u001b[0mmat\u001b[0m\u001b[1;33m[\u001b[0m\u001b[1;36m1\u001b[0m\u001b[1;33m]\u001b[0m\u001b[1;33m[\u001b[0m\u001b[1;36m1\u001b[0m\u001b[1;33m]\u001b[0m \u001b[1;33m-\u001b[0m \u001b[0mmat\u001b[0m\u001b[1;33m[\u001b[0m\u001b[1;36m0\u001b[0m\u001b[1;33m]\u001b[0m\u001b[1;33m[\u001b[0m\u001b[1;36m1\u001b[0m\u001b[1;33m]\u001b[0m\u001b[1;33m*\u001b[0m\u001b[0mmat\u001b[0m\u001b[1;33m[\u001b[0m\u001b[1;36m1\u001b[0m\u001b[1;33m]\u001b[0m\u001b[1;33m[\u001b[0m\u001b[1;36m0\u001b[0m\u001b[1;33m]\u001b[0m\u001b[1;33m)\u001b[0m\u001b[1;33m\u001b[0m\u001b[1;33m\u001b[0m\u001b[0m\n\u001b[0;32m      7\u001b[0m             \u001b[0mprint\u001b[0m\u001b[1;33m(\u001b[0m\u001b[0mvalue\u001b[0m\u001b[1;33m)\u001b[0m\u001b[1;33m\u001b[0m\u001b[1;33m\u001b[0m\u001b[0m\n",
      "\u001b[1;32m<ipython-input-17-5da31fe178a4>\u001b[0m in \u001b[0;36mminor_coef\u001b[1;34m(A, i, j)\u001b[0m\n\u001b[0;32m      1\u001b[0m \u001b[1;32mdef\u001b[0m \u001b[0mminor_coef\u001b[0m\u001b[1;33m(\u001b[0m\u001b[0mA\u001b[0m\u001b[1;33m,\u001b[0m \u001b[0mi\u001b[0m\u001b[1;33m,\u001b[0m \u001b[0mj\u001b[0m\u001b[1;33m)\u001b[0m\u001b[1;33m:\u001b[0m\u001b[1;33m\u001b[0m\u001b[1;33m\u001b[0m\u001b[0m\n\u001b[1;32m----> 2\u001b[1;33m     \u001b[1;32mreturn\u001b[0m \u001b[1;33m[\u001b[0m\u001b[0mrow\u001b[0m\u001b[1;33m[\u001b[0m\u001b[1;33m:\u001b[0m \u001b[0mj\u001b[0m\u001b[1;33m]\u001b[0m \u001b[1;33m+\u001b[0m \u001b[0mrow\u001b[0m\u001b[1;33m[\u001b[0m\u001b[0mj\u001b[0m\u001b[1;33m+\u001b[0m\u001b[1;36m1\u001b[0m\u001b[1;33m:\u001b[0m\u001b[1;33m]\u001b[0m \u001b[1;32mfor\u001b[0m \u001b[0mrow\u001b[0m \u001b[1;32min\u001b[0m \u001b[1;33m(\u001b[0m\u001b[0mA\u001b[0m\u001b[1;33m[\u001b[0m\u001b[1;33m:\u001b[0m \u001b[0mi\u001b[0m\u001b[1;33m]\u001b[0m \u001b[1;33m+\u001b[0m \u001b[0mA\u001b[0m\u001b[1;33m[\u001b[0m\u001b[0mi\u001b[0m\u001b[1;33m+\u001b[0m\u001b[1;36m1\u001b[0m\u001b[1;33m:\u001b[0m\u001b[1;33m]\u001b[0m\u001b[1;33m)\u001b[0m\u001b[1;33m]\u001b[0m\u001b[1;33m\u001b[0m\u001b[1;33m\u001b[0m\u001b[0m\n\u001b[0m",
      "\u001b[1;31mValueError\u001b[0m: operands could not be broadcast together with shapes (0,3) (2,3) "
     ]
    }
   ],
   "source": [
    "m = minors(A)"
   ]
  },
  {
   "cell_type": "code",
   "execution_count": 40,
   "id": "outer-longitude",
   "metadata": {},
   "outputs": [],
   "source": [
    "e = minor_coef(A, 0, 1)"
   ]
  },
  {
   "cell_type": "code",
   "execution_count": 36,
   "id": "brilliant-belly",
   "metadata": {},
   "outputs": [],
   "source": [
    "A = [1,5,3,4,5,6,7,8,9]"
   ]
  },
  {
   "cell_type": "code",
   "execution_count": 39,
   "id": "abstract-driving",
   "metadata": {},
   "outputs": [
    {
     "data": {
      "text/plain": [
       "[[1, 2, 3], [7, 8, 9]]"
      ]
     },
     "execution_count": 39,
     "metadata": {},
     "output_type": "execute_result"
    }
   ],
   "source": [
    "A[: 1] + A[1+1:]"
   ]
  },
  {
   "cell_type": "code",
   "execution_count": 41,
   "id": "bronze-fantasy",
   "metadata": {},
   "outputs": [
    {
     "data": {
      "text/plain": [
       "[[4, 6], [7, 9]]"
      ]
     },
     "execution_count": 41,
     "metadata": {},
     "output_type": "execute_result"
    }
   ],
   "source": [
    "e"
   ]
  },
  {
   "cell_type": "code",
   "execution_count": 42,
   "id": "classical-faculty",
   "metadata": {},
   "outputs": [],
   "source": [
    "def minors(A):\n",
    "    lst = []\n",
    "    for i in np.nditer(A):\n",
    "        lst.append(i)\n",
    "    m = np.zeros((3,3))\n",
    "    for i in range(len(A)):\n",
    "        for j in range(len(A[i])):\n",
    "            mat = minor_coef(A,i,j)\n",
    "            value = (mat[0][0]*mat[1][1] - mat[0][1]*mat[1][0])\n",
    "            m[[i],[j]] = value\n",
    "    return m"
   ]
  },
  {
   "cell_type": "code",
   "execution_count": 3,
   "id": "molecular-canadian",
   "metadata": {},
   "outputs": [],
   "source": [
    "x = np.array([[1,5,3],[4,5,6],[7,8,9]])"
   ]
  },
  {
   "cell_type": "code",
   "execution_count": 6,
   "id": "597b64e7",
   "metadata": {},
   "outputs": [],
   "source": [
    "r = np.delete(x,1,0)"
   ]
  },
  {
   "cell_type": "code",
   "execution_count": 10,
   "id": "5dd799b3",
   "metadata": {},
   "outputs": [
    {
     "data": {
      "text/plain": [
       "array([[1, 5, 3],\n",
       "       [4, 5, 6],\n",
       "       [7, 8, 9]])"
      ]
     },
     "execution_count": 10,
     "metadata": {},
     "output_type": "execute_result"
    }
   ],
   "source": [
    "x"
   ]
  },
  {
   "cell_type": "code",
   "execution_count": 7,
   "id": "8618e2c9",
   "metadata": {},
   "outputs": [],
   "source": [
    "def minor_coef(A, i, j):\n",
    "    return np.delete(np.delete(A,i,0),j,1)"
   ]
  },
  {
   "cell_type": "code",
   "execution_count": 11,
   "id": "81230c85",
   "metadata": {},
   "outputs": [],
   "source": [
    "c = minor_coef(x,0,0)"
   ]
  },
  {
   "cell_type": "code",
   "execution_count": 12,
   "id": "a9c29699",
   "metadata": {},
   "outputs": [
    {
     "data": {
      "text/plain": [
       "array([[5, 6],\n",
       "       [8, 9]])"
      ]
     },
     "execution_count": 12,
     "metadata": {},
     "output_type": "execute_result"
    }
   ],
   "source": [
    "c"
   ]
  },
  {
   "cell_type": "code",
   "execution_count": 13,
   "id": "2b337e0c",
   "metadata": {},
   "outputs": [],
   "source": [
    "y = np.array([[1,5,3],[4,5,6],[7,8,9]])"
   ]
  },
  {
   "cell_type": "code",
   "execution_count": 14,
   "id": "d3438761",
   "metadata": {},
   "outputs": [
    {
     "data": {
      "text/plain": [
       "array([[ 1, 25,  9],\n",
       "       [16, 25, 36],\n",
       "       [49, 64, 81]])"
      ]
     },
     "execution_count": 14,
     "metadata": {},
     "output_type": "execute_result"
    }
   ],
   "source": [
    "x*y"
   ]
  },
  {
   "cell_type": "code",
   "execution_count": 15,
   "id": "483c3b7a",
   "metadata": {},
   "outputs": [
    {
     "data": {
      "text/plain": [
       "array([[ 42,  54,  60],\n",
       "       [ 66,  93,  96],\n",
       "       [102, 147, 150]])"
      ]
     },
     "execution_count": 15,
     "metadata": {},
     "output_type": "execute_result"
    }
   ],
   "source": [
    "x@y"
   ]
  },
  {
   "cell_type": "code",
   "execution_count": null,
   "id": "25dbc759",
   "metadata": {},
   "outputs": [],
   "source": []
  }
 ],
 "metadata": {
  "kernelspec": {
   "display_name": "Python 3 (ipykernel)",
   "language": "python",
   "name": "python3"
  },
  "language_info": {
   "codemirror_mode": {
    "name": "ipython",
    "version": 3
   },
   "file_extension": ".py",
   "mimetype": "text/x-python",
   "name": "python",
   "nbconvert_exporter": "python",
   "pygments_lexer": "ipython3",
   "version": "3.8.8"
  }
 },
 "nbformat": 4,
 "nbformat_minor": 5
}
