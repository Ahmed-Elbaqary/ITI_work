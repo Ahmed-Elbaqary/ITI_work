{
 "cells": [
  {
   "cell_type": "markdown",
   "id": "above-process",
   "metadata": {},
   "source": [
    "# Ahmed Abd-Elsalam Muhammed Afify\n",
    "___\n",
    "# Home 3&4:\n"
   ]
  },
  {
   "cell_type": "markdown",
   "id": "radical-criterion",
   "metadata": {},
   "source": [
    "## Practical_1 "
   ]
  },
  {
   "cell_type": "code",
   "execution_count": 1,
   "id": "mysterious-inflation",
   "metadata": {},
   "outputs": [],
   "source": [
    "import numpy as np"
   ]
  },
  {
   "cell_type": "code",
   "execution_count": 2,
   "id": "vocal-cross",
   "metadata": {},
   "outputs": [],
   "source": [
    "def matrix_2():\n",
    "    arr = np.zeros((2,2))\n",
    "    try:\n",
    "        for i in range(2):\n",
    "            for j in range(2):\n",
    "                element = input(f'input element ({i+1},{j+1}): ')\n",
    "                arr[[i],[j]] = element\n",
    "        return arr\n",
    "    except:\n",
    "        raise Exception('Invalid input, please insert a numeric value')"
   ]
  },
  {
   "cell_type": "code",
   "execution_count": 3,
   "id": "still-japan",
   "metadata": {},
   "outputs": [],
   "source": [
    "def determinant_2(A):\n",
    "    determinant = (A[[0],[0]]*A[[1],[1]])-(A[[0],[1]]*A[[1],[0]])\n",
    "    return determinant[0]"
   ]
  },
  {
   "cell_type": "code",
   "execution_count": 4,
   "id": "impressive-roulette",
   "metadata": {},
   "outputs": [],
   "source": [
    "def flip_2(A):\n",
    "    A[[0],[0]], A[[1],[1]] = A[[1],[1]], A[[0],[0]]\n",
    "    A[[0],[1]] = A[[0],[1]]*(-1)\n",
    "    A[[1],[0]] = A[[1],[0]]*(-1)\n",
    "    return A"
   ]
  },
  {
   "cell_type": "code",
   "execution_count": 5,
   "id": "simplified-product",
   "metadata": {},
   "outputs": [],
   "source": [
    "def inverse_2():\n",
    "    A = matrix_2()\n",
    "    A = flip_2(A)\n",
    "    Deter = determinant_2(A)\n",
    "    \n",
    "    inverse = np.round(A/Deter,decimals=2)\n",
    "    return inverse"
   ]
  },
  {
   "cell_type": "code",
   "execution_count": 6,
   "id": "opened-hobby",
   "metadata": {},
   "outputs": [
    {
     "name": "stdout",
     "output_type": "stream",
     "text": [
      "input element (1,1): -3\n",
      "input element (1,2): -2\n",
      "input element (2,1): 3\n",
      "input element (2,2): 3\n"
     ]
    }
   ],
   "source": [
    "a = inverse_2()"
   ]
  },
  {
   "cell_type": "code",
   "execution_count": 7,
   "id": "english-wayne",
   "metadata": {},
   "outputs": [
    {
     "data": {
      "text/plain": [
       "array([[-1.  , -0.67],\n",
       "       [ 1.  ,  1.  ]])"
      ]
     },
     "execution_count": 7,
     "metadata": {},
     "output_type": "execute_result"
    }
   ],
   "source": [
    "a "
   ]
  },
  {
   "cell_type": "markdown",
   "id": "neither-ethernet",
   "metadata": {},
   "source": [
    "___\n",
    "## Practical_2"
   ]
  },
  {
   "cell_type": "code",
   "execution_count": 8,
   "id": "specified-season",
   "metadata": {},
   "outputs": [],
   "source": [
    "def matrix():\n",
    "    n = input('Numer of rows = ')\n",
    "    m = input('Number of columns = ')\n",
    "    try:\n",
    "        A = np.zeros((int(n),int(m)))\n",
    "        for i in range(int(n)):\n",
    "            for j in range(int(m)):\n",
    "                element = input(f'element {i+1},{j+1} = ')\n",
    "                A[[i],[j]] = int(element)\n",
    "        return A\n",
    "    except:\n",
    "        return 'Input Error, insert a valid numeric input'"
   ]
  },
  {
   "cell_type": "code",
   "execution_count": 9,
   "id": "brutal-living",
   "metadata": {},
   "outputs": [],
   "source": [
    "def vector():\n",
    "    n = input('Numer of rows = ')\n",
    "    try:\n",
    "        B = np.zeros((int(n),1))\n",
    "        for i in range(int(n)):\n",
    "            element = input(f'element {i+1},1 = ')\n",
    "            B[[i],0] = element\n",
    "        return B\n",
    "    except:\n",
    "        return 'Input Error, insert a valid numeric input'"
   ]
  },
  {
   "cell_type": "code",
   "execution_count": 10,
   "id": "documented-niger",
   "metadata": {},
   "outputs": [],
   "source": [
    "def check_dimensions(A,B):\n",
    "    if len(B) != len(A):\n",
    "        raise Exception('Input error, Matrix-B is not of the same dimension of A')\n",
    "\n",
    "    for i in range(len(B)):\n",
    "        if isinstance(B[i],list):\n",
    "            raise Exception('Input error, Matrix-B is not a column vector')"
   ]
  },
  {
   "cell_type": "code",
   "execution_count": 11,
   "id": "quick-license",
   "metadata": {},
   "outputs": [],
   "source": [
    "def check_squared(A):\n",
    "    for i in range(len(A)):\n",
    "            if len(A[i]) != len(A):\n",
    "                raise Exception('Input error, Matrix-A should be a square matrix (NxN)')"
   ]
  },
  {
   "cell_type": "code",
   "execution_count": 12,
   "id": "north-fellowship",
   "metadata": {},
   "outputs": [],
   "source": [
    "def calc_determinant(A):\n",
    "    determinant = np.linalg.det(A)\n",
    "    return determinant"
   ]
  },
  {
   "cell_type": "code",
   "execution_count": 13,
   "id": "respective-magnitude",
   "metadata": {},
   "outputs": [],
   "source": [
    "def minor_coef(A, i, j):\n",
    "    return np.delete(np.delete(A,i,0),j,1)"
   ]
  },
  {
   "cell_type": "code",
   "execution_count": 14,
   "id": "chinese-inspiration",
   "metadata": {},
   "outputs": [],
   "source": [
    "def minors(A):\n",
    "    m = np.zeros((3,3))\n",
    "    for i in range(len(A)):\n",
    "        for j in range(len(A[i])):\n",
    "            mat = minor_coef(A,i,j)\n",
    "            value = (mat[0][0]*mat[1][1] - mat[0][1]*mat[1][0])\n",
    "            m[[i],[j]] = value\n",
    "    return m"
   ]
  },
  {
   "cell_type": "code",
   "execution_count": 15,
   "id": "revised-columbia",
   "metadata": {},
   "outputs": [],
   "source": [
    "def cofactors(A):\n",
    "    n,m = A.shape[0], A.shape[1]\n",
    "    cofactor = [1]*(n*m)\n",
    "    sign = 1\n",
    "    for i in range(len(cofactor)):\n",
    "        cofactor[i] *= sign\n",
    "        sign *= -1\n",
    "    \n",
    "    cofactor = np.array(cofactor)\n",
    "    cofactor = cofactor.reshape(n,m)\n",
    "    A = A*cofactor\n",
    "    return A"
   ]
  },
  {
   "cell_type": "code",
   "execution_count": 16,
   "id": "young-receiver",
   "metadata": {},
   "outputs": [],
   "source": [
    "def transpose(A):\n",
    "    return A.T"
   ]
  },
  {
   "cell_type": "code",
   "execution_count": 17,
   "id": "worth-restoration",
   "metadata": {},
   "outputs": [],
   "source": [
    "def inverse(A,d):\n",
    "    A_inverse = A/d\n",
    "    return A_inverse"
   ]
  },
  {
   "cell_type": "code",
   "execution_count": 18,
   "id": "cardiac-sending",
   "metadata": {},
   "outputs": [],
   "source": [
    "def solution():\n",
    "    A = matrix()\n",
    "    B = vector()\n",
    "    check_dimensions(A,B)\n",
    "    check_squared(A)\n",
    "    Deter = calc_determinant(A)\n",
    "    A = minors(A)\n",
    "    A = cofactors(A)\n",
    "    A = transpose(A)\n",
    "    A = inverse(A,Deter)\n",
    "    \n",
    "    solution = np.round(A@B,decimals=2)\n",
    "    return solution"
   ]
  },
  {
   "cell_type": "code",
   "execution_count": 19,
   "id": "gross-property",
   "metadata": {},
   "outputs": [
    {
     "name": "stdout",
     "output_type": "stream",
     "text": [
      "Numer of rows = 3\n",
      "Number of columns = 3\n",
      "element 1,1 = 1\n",
      "element 1,2 = 0\n",
      "element 1,3 = -1\n",
      "element 2,1 = 0\n",
      "element 2,2 = 1\n",
      "element 2,3 = -1\n",
      "element 3,1 = 4\n",
      "element 3,2 = 0\n",
      "element 3,3 = -3\n",
      "Numer of rows = 3\n",
      "element 1,1 = -11\n",
      "element 2,1 = 11\n",
      "element 3,1 = 10\n"
     ]
    }
   ],
   "source": [
    "x = solution()"
   ]
  },
  {
   "cell_type": "code",
   "execution_count": 20,
   "id": "express-advantage",
   "metadata": {},
   "outputs": [
    {
     "data": {
      "text/plain": [
       "array([[43.],\n",
       "       [65.],\n",
       "       [54.]])"
      ]
     },
     "execution_count": 20,
     "metadata": {},
     "output_type": "execute_result"
    }
   ],
   "source": [
    "x"
   ]
  },
  {
   "cell_type": "code",
   "execution_count": 21,
   "id": "a99ac533",
   "metadata": {},
   "outputs": [],
   "source": [
    "def inverse_alone():\n",
    "    A = matrix()\n",
    "    Deter = calc_determinant(A)\n",
    "    minor = minors(A)\n",
    "    cofactor = cofactors(minor)\n",
    "    A_T = transpose(cofactor)\n",
    "    A_inv = A_T/Deter\n",
    "\n",
    "    return np.round(A_inv,decimals=2)"
   ]
  },
  {
   "cell_type": "code",
   "execution_count": 22,
   "id": "e0da5e53",
   "metadata": {},
   "outputs": [],
   "source": [
    "def solution_alone():\n",
    "    A = inverse_alone()\n",
    "    B = vector()\n",
    "    check_dimensions(A,B)\n",
    "    check_squared(A)\n",
    "    \n",
    "    solution = np.round(A@B,decimals=2)\n",
    "    return solution"
   ]
  },
  {
   "cell_type": "code",
   "execution_count": 23,
   "id": "087cfe61",
   "metadata": {},
   "outputs": [
    {
     "name": "stdout",
     "output_type": "stream",
     "text": [
      "Numer of rows = 3\n",
      "Number of columns = 3\n",
      "element 1,1 = 1\n",
      "element 1,2 = 0\n",
      "element 1,3 = -1\n",
      "element 2,1 = 0\n",
      "element 2,2 = 1\n",
      "element 2,3 = -1\n",
      "element 3,1 = 4\n",
      "element 3,2 = 0\n",
      "element 3,3 = -3\n",
      "Numer of rows = 3\n",
      "element 1,1 = -11\n",
      "element 2,1 = 11\n",
      "element 3,1 = 10\n"
     ]
    }
   ],
   "source": [
    "y = solution_alone()"
   ]
  },
  {
   "cell_type": "code",
   "execution_count": 24,
   "id": "0a75b9d3",
   "metadata": {},
   "outputs": [
    {
     "data": {
      "text/plain": [
       "array([[43.],\n",
       "       [65.],\n",
       "       [54.]])"
      ]
     },
     "execution_count": 24,
     "metadata": {},
     "output_type": "execute_result"
    }
   ],
   "source": [
    "y"
   ]
  },
  {
   "cell_type": "code",
   "execution_count": 25,
   "id": "d4046361",
   "metadata": {},
   "outputs": [
    {
     "name": "stdout",
     "output_type": "stream",
     "text": [
      "Numer of rows = 3\n",
      "Number of columns = 3\n",
      "element 1,1 = 1\n",
      "element 1,2 = 0\n",
      "element 1,3 = -1\n",
      "element 2,1 = 0\n",
      "element 2,2 = 1\n",
      "element 2,3 = -1\n",
      "element 3,1 = 4\n",
      "element 3,2 = 0\n",
      "element 3,3 = 3\n"
     ]
    }
   ],
   "source": [
    "inv = inverse_alone()"
   ]
  },
  {
   "cell_type": "code",
   "execution_count": 26,
   "id": "fe54630f",
   "metadata": {},
   "outputs": [
    {
     "data": {
      "text/plain": [
       "array([[ 0.43, -0.  ,  0.14],\n",
       "       [-0.57,  1.  ,  0.14],\n",
       "       [-0.57, -0.  ,  0.14]])"
      ]
     },
     "execution_count": 26,
     "metadata": {},
     "output_type": "execute_result"
    }
   ],
   "source": [
    "inv"
   ]
  },
  {
   "cell_type": "code",
   "execution_count": null,
   "id": "913c41ff",
   "metadata": {},
   "outputs": [],
   "source": []
  }
 ],
 "metadata": {
  "kernelspec": {
   "display_name": "Python 3",
   "language": "python",
   "name": "python3"
  },
  "language_info": {
   "codemirror_mode": {
    "name": "ipython",
    "version": 3
   },
   "file_extension": ".py",
   "mimetype": "text/x-python",
   "name": "python",
   "nbconvert_exporter": "python",
   "pygments_lexer": "ipython3",
   "version": "3.8.8"
  }
 },
 "nbformat": 4,
 "nbformat_minor": 5
}
