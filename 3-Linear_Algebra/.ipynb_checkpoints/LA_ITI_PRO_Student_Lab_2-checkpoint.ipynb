{
 "cells": [
  {
   "cell_type": "markdown",
   "metadata": {},
   "source": [
    "# LAB 2: Solving a System of Linear Equations, Eigenvalues, and Eigenvectors\n",
    "\n",
    "In this lab you will use python to study the following topics:\n",
    "\n",
    "- How to calculate the inverse of a matrix using numpy.\n",
    "\n",
    "- How to calculate the determinant of a matrix using numpy.\n",
    "\n",
    "- How to solve a system of linear equations.\n",
    "\n",
    "- Determination of eigenvalues and eigenvectors using numpy."
   ]
  },
  {
   "cell_type": "markdown",
   "metadata": {},
   "source": [
    "# First: you should run this cell"
   ]
  },
  {
   "cell_type": "code",
   "execution_count": 1,
   "metadata": {},
   "outputs": [],
   "source": [
    "# Make all numpy available via shorter 'np' prefix\n",
    "import numpy as np\n",
    "\n",
    "#import plotter\n",
    "import matplotlib.pyplot as plt"
   ]
  },
  {
   "cell_type": "markdown",
   "metadata": {},
   "source": [
    "# Question 1 : Determinant and Inverse\n",
    "\n",
    "Use [numpy.linalg.inv](https://numpy.org/doc/stable/reference/generated/numpy.linalg.inv.html) and [numpy.linalg.det](https://numpy.org/doc/stable/reference/generated/numpy.linalg.det.html) to calculate the determinant and the inverse for the following matrices:\n",
    "\n",
    "$A = \\begin{bmatrix} 1 & 2   \\\\ 3 & 4   \\\\ \\end{bmatrix}$,\n",
    "$B = \\begin{bmatrix} 1 & 2   \\\\ 3 & 6   \\\\ \\end{bmatrix}$, \n",
    "$C = \\begin{bmatrix} 1 & 2 & 4  \\\\ 2 & -1 & 3 \\\\ 4 & 0 & 1  \\\\ \\end{bmatrix}$,\n",
    "and $D = \\begin{bmatrix} 1 & 2 & 5  \\\\ 2 & 3 & 7 \\\\ 1 & 1 & 2  \\\\ \\end{bmatrix}$"
   ]
  },
  {
   "cell_type": "code",
   "execution_count": 4,
   "metadata": {},
   "outputs": [],
   "source": [
    "#type your code here:\n",
    "A = np.array([[1,2],[3,4]])\n",
    "B = np.array([[1,2],[3,6]])\n",
    "C = np.array([[1,2,4],[2,-1,3],[4,0,1]])\n",
    "D = np.array([[1,2,5],[2,3,7],[1,1,2]])"
   ]
  },
  {
   "cell_type": "code",
   "execution_count": 6,
   "metadata": {},
   "outputs": [
    {
     "name": "stdout",
     "output_type": "stream",
     "text": [
      "Inv of A = \n",
      " [[-2.   1. ]\n",
      " [ 1.5 -0.5]] \n",
      "\n",
      "Inv of B = \n",
      " [[-1.80143985e+16  6.00479950e+15]\n",
      " [ 9.00719925e+15 -3.00239975e+15]] \n",
      "\n",
      "Inv of C = \n",
      " [[-0.02857143 -0.05714286  0.28571429]\n",
      " [ 0.28571429 -0.42857143  0.14285714]\n",
      " [ 0.11428571  0.22857143 -0.14285714]] \n",
      "\n"
     ]
    }
   ],
   "source": [
    "print('Inv of A = \\n',np.linalg.inv(A),'\\n')\n",
    "print('Inv of B = \\n',np.linalg.inv(B),'\\n')\n",
    "print('Inv of C = \\n',np.linalg.inv(C),'\\n')\n",
    "# print('Inv of D = \\n',np.linalg.inv(D),'\\n')"
   ]
  },
  {
   "cell_type": "code",
   "execution_count": 7,
   "metadata": {},
   "outputs": [
    {
     "name": "stdout",
     "output_type": "stream",
     "text": [
      "det of A = \n",
      " -2.0000000000000004 \n",
      "\n",
      "det of B = \n",
      " -3.330669073875464e-16 \n",
      "\n",
      "det of C = \n",
      " 34.99999999999999 \n",
      "\n",
      "det of D = \n",
      " 0.0 \n",
      "\n"
     ]
    }
   ],
   "source": [
    "print('det of A = \\n',np.linalg.det(A),'\\n')\n",
    "print('det of B = \\n',np.linalg.det(B),'\\n')\n",
    "print('det of C = \\n',np.linalg.det(C),'\\n')\n",
    "print('det of D = \\n',np.linalg.det(D),'\\n')"
   ]
  },
  {
   "cell_type": "markdown",
   "metadata": {},
   "source": [
    "# Question 2 : Solving $Ax = b$\n",
    "\n",
    "Solve $Ax = b$ using the inverse of $A$ for the following systems of linear equations:\n",
    "\n",
    "1) $x + 2y = -1$; $3x + 4y = 1$\n",
    "\n",
    "2) $3x - 2y + z = 7$; $x + z = 2$; $-2y - z = 3$"
   ]
  },
  {
   "cell_type": "code",
   "execution_count": 13,
   "metadata": {},
   "outputs": [
    {
     "name": "stdout",
     "output_type": "stream",
     "text": [
      "Solution = \n",
      " [[ 3.]\n",
      " [-2.]] \n",
      "\n"
     ]
    }
   ],
   "source": [
    "#type your code here:\n",
    "A1 = np.array([[1,2],[3,4]])\n",
    "B1 = np.array([[-1],[1]])\n",
    "print('Solution = \\n', np.linalg.inv(A1)@B1,'\\n')"
   ]
  },
  {
   "cell_type": "code",
   "execution_count": 14,
   "metadata": {},
   "outputs": [
    {
     "name": "stdout",
     "output_type": "stream",
     "text": [
      "Solution = \n",
      " [[-4.4408921e-16]\n",
      " [-2.5000000e+00]\n",
      " [ 2.0000000e+00]] \n",
      "\n"
     ]
    }
   ],
   "source": [
    "A2 = np.array([[3,-2,1],[1,0,1],[0,-2,-1]])\n",
    "B2 = np.array([[7],[2],[3]])\n",
    "print('Solution = \\n', np.linalg.inv(A2)@B2,'\\n')"
   ]
  },
  {
   "cell_type": "markdown",
   "metadata": {},
   "source": [
    "# Question 3 : Eigenvalues and Eigenvectors\n",
    "\n",
    "a) Use [numpy.linalg.eig](https://numpy.org/doc/stable/reference/generated/numpy.linalg.eig.html) to obtain the eigenvalues of `A` as follows:\n",
    "    - `w, v = np.linalg.eig(A)`. Where `w` are the eigenvalues and `v`the normalized (unit “length”) eigenvectors, such that the column `v[:,i]` is the eigenvector corresponding to the eigenvalue `w[i]`.\n",
    "    \n",
    "$A = \\begin{bmatrix} 1 & 2   \\\\ 4 & 3   \\\\ \\end{bmatrix}$\n",
    "\n",
    "- Plot the vectors $v_i$ and $Av_i$, where $v_i$ are the eigenvectors of $A$"
   ]
  },
  {
   "cell_type": "code",
   "execution_count": 56,
   "metadata": {},
   "outputs": [
    {
     "name": "stdout",
     "output_type": "stream",
     "text": [
      "W = \n",
      " [-1.  5.] \n",
      " V = \n",
      " [[-0.70710678 -0.4472136 ]\n",
      " [ 0.70710678 -0.89442719]]\n"
     ]
    }
   ],
   "source": [
    "#type your code here:\n",
    "A = np.array([[1,2],[4,3]])\n",
    "w ,v = np.linalg.eig(A)\n",
    "print('W = \\n',w,'\\n', 'V = \\n',v)"
   ]
  },
  {
   "cell_type": "code",
   "execution_count": 57,
   "metadata": {},
   "outputs": [],
   "source": [
    "v1 = v[:,[0]]\n",
    "v2 = v[:,[1]]\n",
    "x1 = A@v1\n",
    "x2 = A@v2"
   ]
  },
  {
   "cell_type": "code",
   "execution_count": 58,
   "metadata": {},
   "outputs": [
    {
     "data": {
      "text/plain": [
       "(-5.0, 5.0)"
      ]
     },
     "execution_count": 58,
     "metadata": {},
     "output_type": "execute_result"
    },
    {
     "data": {
      "image/png": "[encoded data removed]",
      "text/plain": [
       "<Figure size 432x288 with 1 Axes>"
      ]
     },
     "metadata": {
      "needs_background": "light"
     },
     "output_type": "display_data"
    }
   ],
   "source": [
    "plt.quiver(v1[0], v1[1], angles='xy', scale_units='xy', scale=1, color='red', alpha=1)\n",
    "plt.quiver(x1[0], x1[1], angles='xy', scale_units='xy', scale=1, color='blue', alpha=1)\n",
    "plt.xlim(-5,5)\n",
    "plt.ylim(-5,5)"
   ]
  },
  {
   "cell_type": "code",
   "execution_count": 59,
   "metadata": {},
   "outputs": [
    {
     "data": {
      "text/plain": [
       "(-5.0, 5.0)"
      ]
     },
     "execution_count": 59,
     "metadata": {},
     "output_type": "execute_result"
    },
    {
     "data": {
      "image/png": "[encoded data removed]",
      "text/plain": [
       "<Figure size 432x288 with 1 Axes>"
      ]
     },
     "metadata": {
      "needs_background": "light"
     },
     "output_type": "display_data"
    }
   ],
   "source": [
    "plt.quiver(v2[0], v2[1], angles='xy', scale_units='xy', scale=1, color='red', alpha=1, zorder=0)\n",
    "plt.quiver(x2[0], x2[1], angles='xy', scale_units='xy', scale=1, color='blue', alpha=1, zorder=1)\n",
    "plt.xlim(-5,5)\n",
    "plt.ylim(-5,5)"
   ]
  },
  {
   "cell_type": "markdown",
   "metadata": {},
   "source": [
    "B) Obtain the eigenvalues and the eigenvectors for $B$\n",
    "\n",
    "$B = \\begin{bmatrix} 5 & 4 & 9  \\\\ 1 & 4 & 0 \\\\ 9 & 5 & 5  \\\\ \\end{bmatrix}$"
   ]
  },
  {
   "cell_type": "code",
   "execution_count": 60,
   "metadata": {},
   "outputs": [
    {
     "name": "stdout",
     "output_type": "stream",
     "text": [
      "W = \n",
      " [14.43031545 -3.93492992  3.50461447] \n",
      " V = \n",
      " [[-0.70366322 -0.72673968  0.42222859]\n",
      " [-0.06746327  0.09158741 -0.85232322]\n",
      " [-0.70732367  0.68077983  0.30865537]]\n"
     ]
    }
   ],
   "source": [
    "#type your code here:\n",
    "B = np.array([[5,4,9],[1,4,0],[9,5,5]])\n",
    "w ,v = np.linalg.eig(B)\n",
    "print('W = \\n',w,'\\n', 'V = \\n',v)"
   ]
  },
  {
   "cell_type": "code",
   "execution_count": 61,
   "metadata": {},
   "outputs": [],
   "source": [
    "v1 = v[:,[0]]\n",
    "v2 = v[:,[1]]\n",
    "v3 = v[:,[2]]\n",
    "x1 = B@v1\n",
    "x2 = B@v2\n",
    "x3 = B@v3"
   ]
  },
  {
   "cell_type": "code",
   "execution_count": 72,
   "metadata": {},
   "outputs": [
    {
     "data": {
      "text/plain": [
       "(-2.0, 0.5)"
      ]
     },
     "execution_count": 72,
     "metadata": {},
     "output_type": "execute_result"
    },
    {
     "data": {
      "image/png": "[encoded data removed]",
      "text/plain": [
       "<Figure size 432x288 with 1 Axes>"
      ]
     },
     "metadata": {
      "needs_background": "light"
     },
     "output_type": "display_data"
    }
   ],
   "source": [
    "plt.quiver(v1[0], v1[1], angles='xy', scale_units='xy', scale=1, color='red', alpha=1)\n",
    "plt.quiver(x1[0], x1[1], angles='xy', scale_units='xy', scale=1, color='blue', alpha=1)\n",
    "plt.xlim(-12,5)\n",
    "plt.ylim(-2,0.5)"
   ]
  },
  {
   "cell_type": "code",
   "execution_count": 69,
   "metadata": {},
   "outputs": [
    {
     "data": {
      "text/plain": [
       "(-0.5, 0.5)"
      ]
     },
     "execution_count": 69,
     "metadata": {},
     "output_type": "execute_result"
    },
    {
     "data": {
      "image/png": "[encoded data removed]",
      "text/plain": [
       "<Figure size 432x288 with 1 Axes>"
      ]
     },
     "metadata": {
      "needs_background": "light"
     },
     "output_type": "display_data"
    }
   ],
   "source": [
    "plt.quiver(v2[0], v2[1], angles='xy', scale_units='xy', scale=1, color='red', alpha=1)\n",
    "plt.quiver(x2[0], x2[1], angles='xy', scale_units='xy', scale=1, color='blue', alpha=1)\n",
    "plt.xlim(-2,4)\n",
    "plt.ylim(-0.5,0.5)"
   ]
  },
  {
   "cell_type": "code",
   "execution_count": 74,
   "metadata": {},
   "outputs": [
    {
     "data": {
      "text/plain": [
       "(-5.0, 0.5)"
      ]
     },
     "execution_count": 74,
     "metadata": {},
     "output_type": "execute_result"
    },
    {
     "data": {
      "image/png": "[encoded data removed]",
      "text/plain": [
       "<Figure size 432x288 with 1 Axes>"
      ]
     },
     "metadata": {
      "needs_background": "light"
     },
     "output_type": "display_data"
    }
   ],
   "source": [
    "plt.quiver(v3[0], v3[1], angles='xy', scale_units='xy', scale=1, color='red', alpha=1)\n",
    "plt.quiver(x3[0], x3[1], angles='xy', scale_units='xy', scale=1, color='blue', alpha=1)\n",
    "plt.xlim(-0.5,3)\n",
    "plt.ylim(-5,0.5)"
   ]
  },
  {
   "cell_type": "code",
   "execution_count": null,
   "metadata": {},
   "outputs": [],
   "source": []
  }
 ],
 "metadata": {
  "kernelspec": {
   "display_name": "Python 3",
   "language": "python",
   "name": "python3"
  },
  "language_info": {
   "codemirror_mode": {
    "name": "ipython",
    "version": 3
   },
   "file_extension": ".py",
   "mimetype": "text/x-python",
   "name": "python",
   "nbconvert_exporter": "python",
   "pygments_lexer": "ipython3",
   "version": "3.8.8"
  }
 },
 "nbformat": 4,
 "nbformat_minor": 4
}
