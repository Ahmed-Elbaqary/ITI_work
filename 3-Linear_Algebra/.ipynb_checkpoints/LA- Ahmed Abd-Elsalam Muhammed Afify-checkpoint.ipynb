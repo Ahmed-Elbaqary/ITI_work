{
 "cells": [
  {
   "cell_type": "code",
   "execution_count": 7,
   "id": "engaged-freeware",
   "metadata": {},
   "outputs": [],
   "source": [
    "import numpy as np"
   ]
  },
  {
   "cell_type": "markdown",
   "id": "chronic-alabama",
   "metadata": {},
   "source": [
    "## Step 1"
   ]
  },
  {
   "cell_type": "code",
   "execution_count": 11,
   "id": "naked-boards",
   "metadata": {},
   "outputs": [],
   "source": [
    "def matrix():\n",
    "    n = input('Numer of rows = ')\n",
    "    m = input('Number of columns = ')\n",
    "    try:\n",
    "        A = np.zeros((int(n),int(m)))\n",
    "        #A = [[0]*int(n)]*int(m)\n",
    "        for i in range(int(n)):\n",
    "            for j in range(int(m)):\n",
    "                element = input(f'element {i},{j} = ')\n",
    "                A[[i],[j]] = int(element)\n",
    "\n",
    "        return A\n",
    "    except:\n",
    "        print('Error')"
   ]
  },
  {
   "cell_type": "markdown",
   "id": "intimate-status",
   "metadata": {},
   "source": [
    "## Step 2"
   ]
  },
  {
   "cell_type": "code",
   "execution_count": 12,
   "id": "beginning-redhead",
   "metadata": {},
   "outputs": [],
   "source": [
    "def vector():\n",
    "    n = input('Numer of rows = ')\n",
    "    try:\n",
    "        B = np.zeros((int(n),1))\n",
    "        for i in range(int(n)):\n",
    "            element = input(f'element {i},1 = ')\n",
    "        return B\n",
    "    except:\n",
    "        return 'Input Error'"
   ]
  },
  {
   "cell_type": "code",
   "execution_count": null,
   "id": "textile-henry",
   "metadata": {},
   "outputs": [],
   "source": []
  },
  {
   "cell_type": "code",
   "execution_count": null,
   "id": "perceived-barrel",
   "metadata": {},
   "outputs": [],
   "source": []
  },
  {
   "cell_type": "code",
   "execution_count": null,
   "id": "periodic-madness",
   "metadata": {},
   "outputs": [],
   "source": []
  },
  {
   "cell_type": "code",
   "execution_count": null,
   "id": "grateful-roller",
   "metadata": {},
   "outputs": [],
   "source": []
  },
  {
   "cell_type": "markdown",
   "id": "french-gamma",
   "metadata": {},
   "source": [
    "## Step 3"
   ]
  },
  {
   "cell_type": "code",
   "execution_count": 1,
   "id": "joint-investing",
   "metadata": {},
   "outputs": [],
   "source": [
    "def check_dimensions(A,B):\n",
    "    if len(B) != len(A):\n",
    "        raise Exception('Input error, Matrix-B is not of the same dimension of A')\n",
    "\n",
    "    for i in range(len(B)):\n",
    "        if isinstance(B[i],list):\n",
    "            raise Exception('Input error, Matrix-B is not a column vector')"
   ]
  },
  {
   "cell_type": "code",
   "execution_count": 4,
   "id": "armed-stroke",
   "metadata": {},
   "outputs": [],
   "source": [
    "check_dimensions([[1,2,3],[4,5,6],[7,8,9]],[1,2,3])"
   ]
  },
  {
   "cell_type": "markdown",
   "id": "ordered-affiliation",
   "metadata": {},
   "source": [
    "## Step 4"
   ]
  },
  {
   "cell_type": "code",
   "execution_count": 2,
   "id": "conceptual-projection",
   "metadata": {},
   "outputs": [],
   "source": [
    "def check_squared(A):\n",
    "    for i in range(len(A)):\n",
    "            if len(A[i]) != len(A):\n",
    "                raise Exception('Input error, Matrix-A should be a square matrix (NxN)')"
   ]
  },
  {
   "cell_type": "code",
   "execution_count": 5,
   "id": "separate-conducting",
   "metadata": {},
   "outputs": [],
   "source": [
    "check_squared([[1,2,3],[4,5,6],[7,8,9]])"
   ]
  },
  {
   "cell_type": "markdown",
   "id": "heated-coalition",
   "metadata": {},
   "source": [
    "## Step 5"
   ]
  },
  {
   "cell_type": "code",
   "execution_count": 8,
   "id": "interior-nancy",
   "metadata": {},
   "outputs": [],
   "source": [
    "def calc_determinant(A):\n",
    "    determinant = np.linalg.det(A)\n",
    "    return determinant"
   ]
  },
  {
   "cell_type": "code",
   "execution_count": 9,
   "id": "activated-minister",
   "metadata": {},
   "outputs": [
    {
     "data": {
      "text/plain": [
       "-9.51619735392994e-16"
      ]
     },
     "execution_count": 9,
     "metadata": {},
     "output_type": "execute_result"
    }
   ],
   "source": [
    "calc_determinant([[1,2,3],[4,5,6],[7,8,9]])"
   ]
  },
  {
   "cell_type": "markdown",
   "id": "little-atmosphere",
   "metadata": {},
   "source": [
    "## Step 6"
   ]
  },
  {
   "cell_type": "code",
   "execution_count": 13,
   "id": "theoretical-nicaragua",
   "metadata": {},
   "outputs": [],
   "source": [
    "def minor_coef(A, i, j):\n",
    "    return [row[: j] + row[j+1:] for row in (A[: i] + A[i+1:])]"
   ]
  },
  {
   "cell_type": "markdown",
   "id": "based-design",
   "metadata": {},
   "source": [
    "## Step 7"
   ]
  },
  {
   "cell_type": "code",
   "execution_count": 14,
   "id": "ambient-squad",
   "metadata": {},
   "outputs": [],
   "source": [
    "def minors(A):\n",
    "    m = np.zeros((3,3))\n",
    "    for i in range(len(A)):\n",
    "        for j in range(len(A[i])):\n",
    "            mat = minor_coef(A,i,j)\n",
    "            value = (mat[0][0]*mat[1][1] - mat[0][1]*mat[1][0])\n",
    "            m[[i],[j]] = value\n",
    "    return m"
   ]
  },
  {
   "cell_type": "markdown",
   "id": "spare-repeat",
   "metadata": {},
   "source": [
    "## Step 8"
   ]
  },
  {
   "cell_type": "code",
   "execution_count": 16,
   "id": "contained-crack",
   "metadata": {},
   "outputs": [],
   "source": [
    "\n",
    "def cofactors(A):\n",
    "    m = np.array([[1,-1,1],[-1,1,-1],[1,-1,1]])\n",
    "    A = A*m\n",
    "    return A"
   ]
  },
  {
   "cell_type": "markdown",
   "id": "spiritual-myrtle",
   "metadata": {},
   "source": [
    "## Step 9"
   ]
  },
  {
   "cell_type": "code",
   "execution_count": 18,
   "id": "adopted-interval",
   "metadata": {},
   "outputs": [],
   "source": [
    "def transpose(A):\n",
    "    return A.T"
   ]
  },
  {
   "cell_type": "markdown",
   "id": "loving-capital",
   "metadata": {},
   "source": [
    "## Step 10"
   ]
  },
  {
   "cell_type": "code",
   "execution_count": 19,
   "id": "purple-multiple",
   "metadata": {},
   "outputs": [],
   "source": [
    "def inverse(A):\n",
    "    inverse = transpose(A) /calc_determant(A)\n",
    "    return inverse"
   ]
  },
  {
   "cell_type": "markdown",
   "id": "attractive-diabetes",
   "metadata": {},
   "source": [
    "## Step 11"
   ]
  },
  {
   "cell_type": "code",
   "execution_count": 21,
   "id": "electrical-guess",
   "metadata": {},
   "outputs": [],
   "source": [
    "def solution():\n",
    "    sol = inverse(A)*vector()\n",
    "    return sol"
   ]
  },
  {
   "cell_type": "markdown",
   "id": "directed-theme",
   "metadata": {},
   "source": [
    "## Step 12"
   ]
  },
  {
   "cell_type": "code",
   "execution_count": null,
   "id": "aggressive-cathedral",
   "metadata": {},
   "outputs": [],
   "source": [
    "if __name__ = __main__():\n",
    "    A = matrix()\n",
    "    B = vector()\n",
    "    check_dimensions(A,B)\n",
    "    check_squared(A)\n",
    "    det = calc_determinant(A)\n",
    "    minor_coef(A, i, j)\n",
    "    minors(A)\n",
    "    cofactors(A)\n",
    "    transpose(A)\n",
    "    inverse(A)\n",
    "    solution()"
   ]
  },
  {
   "cell_type": "code",
   "execution_count": null,
   "id": "worth-praise",
   "metadata": {},
   "outputs": [],
   "source": []
  }
 ],
 "metadata": {
  "kernelspec": {
   "display_name": "Python 3",
   "language": "python",
   "name": "python3"
  },
  "language_info": {
   "codemirror_mode": {
    "name": "ipython",
    "version": 3
   },
   "file_extension": ".py",
   "mimetype": "text/x-python",
   "name": "python",
   "nbconvert_exporter": "python",
   "pygments_lexer": "ipython3",
   "version": "3.8.8"
  }
 },
 "nbformat": 4,
 "nbformat_minor": 5
}
