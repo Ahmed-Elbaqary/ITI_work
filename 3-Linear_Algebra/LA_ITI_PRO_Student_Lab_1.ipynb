{
 "cells": [
  {
   "cell_type": "markdown",
   "metadata": {},
   "source": [
    "# LAB 1: Matrix and Vector Computations in python\n",
    "\n",
    "In this lab you will use python to study the following topics:\n",
    "\n",
    "- How to create matrices and vectors in python.\n",
    "\n",
    "- How to manipulate matrices in python and create matrices of special types.\n",
    "\n",
    "- How to add matrices and multiply a vector by a matrix by python.\n",
    "\n",
    "- Apply linear transformation.\n"
   ]
  },
  {
   "cell_type": "markdown",
   "metadata": {},
   "source": [
    "# First: you should run this cell"
   ]
  },
  {
   "cell_type": "code",
   "execution_count": 1,
   "metadata": {},
   "outputs": [],
   "source": [
    "# Make all numpy available via shorter 'np' prefix\n",
    "import numpy as np\n",
    "\n",
    "import matplotlib.pyplot as plt"
   ]
  },
  {
   "cell_type": "markdown",
   "metadata": {},
   "source": [
    "# Question 1 :Declaring scalars, vectors, and matrices\n",
    "\n",
    "a) Use [numpy.array](https://numpy.org/doc/stable/reference/generated/numpy.array.html) to declare the following:\n",
    "\n",
    "1. A scalar $s = 5$\n",
    "2. A vector $v = \\begin{bmatrix} 5  \\\\ -2 \\\\ 4  \\\\ \\end{bmatrix}$\n",
    "3. A matrix $A = \\begin{bmatrix} 1 & 2 & 3  \\\\ 4 & 5 & 6 \\\\ 7 & 8 & 9  \\\\ \\end{bmatrix}$\n",
    "4. A matrix $B = \\begin{bmatrix} 1 & 2 & 3  \\\\ 4 & 5 & 6 \\\\ \\end{bmatrix}$\n",
    "5. A matrix $C = \\begin{bmatrix} 1 & 2   \\\\ 3 & 4  \\\\ 5 & 6   \\\\ \\end{bmatrix}$"
   ]
  },
  {
   "cell_type": "code",
   "execution_count": 43,
   "metadata": {},
   "outputs": [],
   "source": [
    "#type your code here:\n",
    "S = np.array([[5]])\n",
    "V = np.array([[5],[-2],[4]])\n",
    "A = np.array([[1,2,3],[4,5,6],[7,8,9]])\n",
    "B = np.array([[1,2,3],[4,5,6]])\n",
    "C = np.array([[1,2],[3,4],[5,6]])"
   ]
  },
  {
   "cell_type": "markdown",
   "metadata": {},
   "source": [
    "b) Print the data type of $s, v,$ and $A$ using `type` command in python."
   ]
  },
  {
   "cell_type": "code",
   "execution_count": 44,
   "metadata": {},
   "outputs": [
    {
     "name": "stdout",
     "output_type": "stream",
     "text": [
      "type(S) =  <class 'numpy.ndarray'>\n",
      "type(V) =  <class 'numpy.ndarray'>\n",
      "type(A) =  <class 'numpy.ndarray'>\n"
     ]
    }
   ],
   "source": [
    "#type your code here:\n",
    "print('type(S) = ',type(S))\n",
    "print('type(V) = ',type(V))\n",
    "print('type(A) = ',type(A))"
   ]
  },
  {
   "cell_type": "markdown",
   "metadata": {},
   "source": [
    "c) Using [numpy.shape](https://numpy.org/devdocs/reference/generated/numpy.shape.html) or `A.shape` print the shape of $s, v, A, B,$ and $C$."
   ]
  },
  {
   "cell_type": "code",
   "execution_count": 45,
   "metadata": {},
   "outputs": [
    {
     "name": "stdout",
     "output_type": "stream",
     "text": [
      "S.shape =  (1, 1)\n",
      "V.shape =  (3, 1)\n",
      "A.shape =  (3, 3)\n",
      "B.shape =  (2, 3)\n",
      "C.shape =  (3, 2)\n"
     ]
    }
   ],
   "source": [
    "#type your code here:\n",
    "print('S.shape = ', S.shape)\n",
    "print('V.shape = ', V.shape)\n",
    "print('A.shape = ', A.shape)\n",
    "print('B.shape = ', B.shape)\n",
    "print('C.shape = ', C.shape)"
   ]
  },
  {
   "cell_type": "markdown",
   "metadata": {},
   "source": [
    "d) To access a given entry in the `numpy array` put the `row number - 1` and `column number - 1` in square brackets following the array name. Ex `a32 = A[2, 1]`.\n",
    "- Print the value of the third row and the second column of the matrix $A$.\n",
    "- Change it to $10$.\n",
    "- Print the matrix A to check the entry is changed."
   ]
  },
  {
   "cell_type": "code",
   "execution_count": 46,
   "metadata": {},
   "outputs": [
    {
     "name": "stdout",
     "output_type": "stream",
     "text": [
      "A[2,1] =  8\n",
      "A = \n",
      " [[ 1  2  3]\n",
      " [ 4  5  6]\n",
      " [ 7 10  9]]\n"
     ]
    }
   ],
   "source": [
    "#type your code here:\n",
    "print('A[2,1] = ',A[2,1])\n",
    "A[2,1] = 10\n",
    "print('A = \\n', A)"
   ]
  },
  {
   "cell_type": "markdown",
   "metadata": {},
   "source": [
    "e)To access a whole row or column of a matrix, use the colon operator. For example, `A[:, [1]]` is the second column of A, while `B[[1], :]` is the second row of B."
   ]
  },
  {
   "cell_type": "code",
   "execution_count": 47,
   "metadata": {},
   "outputs": [
    {
     "name": "stdout",
     "output_type": "stream",
     "text": [
      "A[:, [1]] = \n",
      " [[ 2]\n",
      " [ 5]\n",
      " [10]]\n",
      "B[[1],:] = \n",
      " [[4 5 6]]\n"
     ]
    }
   ],
   "source": [
    "#type your code here:\n",
    "print('A[:, [1]] = \\n' ,A[:, [1]])\n",
    "print('B[[1],:] = \\n', B[[1],:])"
   ]
  },
  {
   "cell_type": "markdown",
   "metadata": {},
   "source": [
    "f) Type each of the following commands that generate special matrices:\n",
    "- `np.eye(4), np.zeros(3), np.zeros((3, 1)), np.zeros((3, 5)), np.ones((2, 3)), and np.diag([4, 5, 6, 7])`"
   ]
  },
  {
   "cell_type": "code",
   "execution_count": 48,
   "metadata": {},
   "outputs": [
    {
     "name": "stdout",
     "output_type": "stream",
     "text": [
      "np.eye(4) = \n",
      " [[1. 0. 0. 0.]\n",
      " [0. 1. 0. 0.]\n",
      " [0. 0. 1. 0.]\n",
      " [0. 0. 0. 1.]] \n",
      "\n",
      "np.zeros(3) = \n",
      " [0. 0. 0.] \n",
      "\n",
      "np.zeros((3, 1)) = \n",
      " [[0.]\n",
      " [0.]\n",
      " [0.]] \n",
      "\n",
      "np.zeros((3, 5)) = \n",
      " [[0. 0. 0. 0. 0.]\n",
      " [0. 0. 0. 0. 0.]\n",
      " [0. 0. 0. 0. 0.]] \n",
      "\n",
      "np.ones((2, 3)) = \n",
      " [[1. 1. 1.]\n",
      " [1. 1. 1.]] \n",
      "\n",
      "np.diag([4, 5, 6, 7]) = \n",
      " [[4 0 0 0]\n",
      " [0 5 0 0]\n",
      " [0 0 6 0]\n",
      " [0 0 0 7]] \n",
      "\n"
     ]
    }
   ],
   "source": [
    "#type your code here:\n",
    "print('np.eye(4) = \\n', np.eye(4),'\\n')\n",
    "print('np.zeros(3) = \\n', np.zeros(3),'\\n')\n",
    "print('np.zeros((3, 1)) = \\n', np.zeros((3, 1)),'\\n')\n",
    "print('np.zeros((3, 5)) = \\n',np.zeros((3, 5)),'\\n')\n",
    "print('np.ones((2, 3)) = \\n',np.ones((2, 3)),'\\n')\n",
    "print('np.diag([4, 5, 6, 7]) = \\n',np.diag([4, 5, 6, 7]),'\\n')"
   ]
  },
  {
   "cell_type": "markdown",
   "metadata": {},
   "source": [
    "# Question 2. Vectors Addition, Scaling, and dot product"
   ]
  },
  {
   "cell_type": "markdown",
   "metadata": {},
   "source": [
    "a) Declare vectors $v1 = \\begin{bmatrix} 1  \\\\ 2 \\\\ 7  \\\\ 4 \\\\ \\end{bmatrix}$ and $v2 = \\begin{bmatrix} 4  \\\\ 3 \\\\ 6  \\\\ 8 \\\\ \\end{bmatrix}$\n",
    "\n",
    "- Addition: $v1 + v2$\n",
    "- Subtraction: $v1 - v2$\n",
    "- Scaling by a number: $3 * v1$\n",
    "- Scaling by a number: $v1 / 2$"
   ]
  },
  {
   "cell_type": "code",
   "execution_count": 51,
   "metadata": {},
   "outputs": [
    {
     "name": "stdout",
     "output_type": "stream",
     "text": [
      "v1 = \n",
      " [[1]\n",
      " [2]\n",
      " [7]\n",
      " [4]] \n",
      "\n",
      "v2 = \n",
      " [[4]\n",
      " [3]\n",
      " [6]\n",
      " [8]] \n",
      "\n",
      "v1 + v2 = \n",
      " [[ 5]\n",
      " [ 5]\n",
      " [13]\n",
      " [12]] \n",
      "\n",
      "v1 - v2 = \n",
      " [[-3]\n",
      " [-1]\n",
      " [ 1]\n",
      " [-4]] \n",
      "\n",
      "3*v1 = \n",
      " [[ 3]\n",
      " [ 6]\n",
      " [21]\n",
      " [12]] \n",
      "\n",
      "v1 / v2 = \n",
      " [[0.25      ]\n",
      " [0.66666667]\n",
      " [1.16666667]\n",
      " [0.5       ]] \n",
      "\n"
     ]
    }
   ],
   "source": [
    "#type your code here:\n",
    "v1 = np.array([[1],[2],[7],[4]])\n",
    "v2 = np.array([[4],[3],[6],[8]])\n",
    "print('v1 = \\n',v1,'\\n')\n",
    "print('v2 = \\n',v2,'\\n')\n",
    "print('v1 + v2 = \\n',v1+v2,'\\n')\n",
    "print('v1 - v2 = \\n',v1-v2,'\\n')\n",
    "print('3*v1 = \\n',3*v1,'\\n')\n",
    "print('v1 / v2 = \\n',v1/v2,'\\n')"
   ]
  },
  {
   "cell_type": "markdown",
   "metadata": {},
   "source": [
    "b) Find the dot product between the two vectors $v1$ and $v2$ using the following:\n",
    "\n",
    "- [numpy.dot](https://numpy.org/doc/stable/reference/generated/numpy.dot.html)\n",
    "- [numpy.matmul](https://numpy.org/doc/stable/reference/generated/numpy.matmul.html#numpy.matmul)\n",
    "- `v1.T @ v2`"
   ]
  },
  {
   "cell_type": "code",
   "execution_count": 58,
   "metadata": {},
   "outputs": [
    {
     "name": "stdout",
     "output_type": "stream",
     "text": [
      "Using numpy.dot = \n",
      " [[84]] \n",
      "\n",
      "Using numpy.matmul = \n",
      " [[84]] \n",
      "\n",
      "Using @ = \n",
      " [[84]]\n"
     ]
    }
   ],
   "source": [
    "#type your code here:\n",
    "print('Using numpy.dot = \\n', np.dot(v1.T,v2),'\\n')\n",
    "print('Using numpy.matmul = \\n', np.matmul(v1.T,v2),'\\n')\n",
    "print('Using @ = \\n', (v1.T@v2))"
   ]
  },
  {
   "cell_type": "markdown",
   "metadata": {},
   "source": [
    "c) Find the length of the vectors $v1$ and $v2$.\n",
    "- Using [numpy.linalg.norm](https://numpy.org/doc/stable/reference/generated/numpy.linalg.norm.html)\n",
    "- Using the dot product and [numpy.sqrt](https://numpy.org/doc/stable/reference/generated/numpy.sqrt.html)\n"
   ]
  },
  {
   "cell_type": "code",
   "execution_count": 59,
   "metadata": {},
   "outputs": [
    {
     "name": "stdout",
     "output_type": "stream",
     "text": [
      "length of v1 Using numpy.linalg.norm = \n",
      " 8.366600265340756 \n",
      "\n",
      "length of v2 Using numpy.linalg.norm = \n",
      " 11.180339887498949 \n",
      "\n",
      "length of v1 Using the dot product and numpy.sqrt = \n",
      " [[8.36660027]] \n",
      "\n",
      "length of v2 Using the dot product and numpy.sqrt = \n",
      " [[11.18033989]] \n",
      "\n"
     ]
    }
   ],
   "source": [
    "#type your code here:\n",
    "print('length of v1 Using numpy.linalg.norm = \\n',np.linalg.norm(v1), '\\n')\n",
    "print('length of v2 Using numpy.linalg.norm = \\n',np.linalg.norm(v2), '\\n')\n",
    "print('length of v1 Using the dot product and numpy.sqrt = \\n',np.sqrt(np.dot(v1.T,v1)), '\\n')\n",
    "print('length of v2 Using the dot product and numpy.sqrt = \\n',np.sqrt(np.dot(v2.T,v2)), '\\n')"
   ]
  },
  {
   "cell_type": "markdown",
   "metadata": {},
   "source": [
    "d) Show that the vectors $u = \\begin{bmatrix} 3  \\\\ 2 \\\\ -1  \\\\ 4 \\\\ \\end{bmatrix}$ and $v = \\begin{bmatrix} 1  \\\\ -1 \\\\ 1  \\\\ 0 \\\\ \\end{bmatrix}$ are orthogonal.\n"
   ]
  },
  {
   "cell_type": "code",
   "execution_count": 60,
   "metadata": {},
   "outputs": [
    {
     "name": "stdout",
     "output_type": "stream",
     "text": [
      "u.T @ v = \n",
      " [[0]]\n"
     ]
    }
   ],
   "source": [
    "#type your code here:\n",
    "u = np.array([[3],[2],[-1],[4]])\n",
    "v = np.array([[1],[-1],[1],[0]])\n",
    "print('u.T @ v = \\n', u.T @ v )"
   ]
  },
  {
   "cell_type": "markdown",
   "metadata": {},
   "source": [
    "# Question 3. Matrix Addition and Matrix-Vector Multiplication\n",
    "\n",
    "Declare vectors $u$ and $v$ and matrices $A$ and $B$ as following:\n",
    "- $u = \\begin{bmatrix} 2  \\\\ 7 \\\\ 2 \\\\ \\end{bmatrix}$, $v = \\begin{bmatrix} 8  \\\\ 2 \\\\ 4 \\\\ \\end{bmatrix}$\n",
    "- $A = \\begin{bmatrix} 7 & 3 & 5  \\\\ 4 & 6 & 2 \\\\ \\end{bmatrix}$, $B = \\begin{bmatrix} 0 & 6 & 4  \\\\ 2 & 3 & 0 \\\\ \\end{bmatrix}$\n",
    "\n",
    "a) Calculate the following using python.\n",
    "\n",
    "- $A+B$\n",
    "- $B+A$\n",
    "- $3A$\n",
    "- $6B$\n",
    "- $2(3B)$\n",
    "- $6A+15B$\n",
    "- $3(2A+5B)$"
   ]
  },
  {
   "cell_type": "code",
   "execution_count": 12,
   "metadata": {},
   "outputs": [
    {
     "name": "stdout",
     "output_type": "stream",
     "text": [
      "u =\n",
      " [[2]\n",
      " [7]\n",
      " [2]]\n",
      "\n",
      "v =\n",
      " [[8]\n",
      " [2]\n",
      " [4]]\n",
      "\n",
      "A =\n",
      " [[7 3 5]\n",
      " [4 6 2]]\n",
      "\n",
      "B =\n",
      " [[0 6 4]\n",
      " [2 3 0]]\n",
      "\n",
      "A + B =\n",
      " [[7 9 9]\n",
      " [6 9 2]]\n",
      "\n",
      "B + A =\n",
      " [[7 9 9]\n",
      " [6 9 2]]\n",
      "\n",
      "3A =\n",
      " [[21  9 15]\n",
      " [12 18  6]]\n",
      "\n",
      "6B =\n",
      " [[ 0 36 24]\n",
      " [12 18  0]]\n",
      "\n",
      "2(3B) =\n",
      " [[ 0 36 24]\n",
      " [12 18  0]]\n",
      "\n",
      "6A + 15B =\n",
      " [[ 42 108  90]\n",
      " [ 54  81  12]]\n",
      "\n",
      "3(2A + 5B) =\n",
      " [[ 42 108  90]\n",
      " [ 54  81  12]]\n",
      "\n"
     ]
    }
   ],
   "source": [
    "#type your code here:\n"
   ]
  },
  {
   "cell_type": "code",
   "execution_count": 61,
   "metadata": {},
   "outputs": [
    {
     "ename": "TypeError",
     "evalue": "Field elements must be 2- or 3-tuples, got '4'",
     "output_type": "error",
     "traceback": [
      "\u001b[1;31m---------------------------------------------------------------------------\u001b[0m",
      "\u001b[1;31mTypeError\u001b[0m                                 Traceback (most recent call last)",
      "\u001b[1;32m<ipython-input-61-46a0a0e950ed>\u001b[0m in \u001b[0;36m<module>\u001b[1;34m\u001b[0m\n\u001b[0;32m      1\u001b[0m \u001b[0mu\u001b[0m \u001b[1;33m=\u001b[0m \u001b[0mnp\u001b[0m\u001b[1;33m.\u001b[0m\u001b[0marray\u001b[0m\u001b[1;33m(\u001b[0m\u001b[1;33m[\u001b[0m\u001b[1;33m[\u001b[0m\u001b[1;36m2\u001b[0m\u001b[1;33m]\u001b[0m\u001b[1;33m,\u001b[0m\u001b[1;33m[\u001b[0m\u001b[1;36m7\u001b[0m\u001b[1;33m]\u001b[0m\u001b[1;33m,\u001b[0m\u001b[1;33m[\u001b[0m\u001b[1;36m2\u001b[0m\u001b[1;33m]\u001b[0m\u001b[1;33m]\u001b[0m\u001b[1;33m)\u001b[0m\u001b[1;33m\u001b[0m\u001b[1;33m\u001b[0m\u001b[0m\n\u001b[0;32m      2\u001b[0m \u001b[0mv\u001b[0m \u001b[1;33m=\u001b[0m \u001b[0mnp\u001b[0m\u001b[1;33m.\u001b[0m\u001b[0marray\u001b[0m\u001b[1;33m(\u001b[0m\u001b[1;33m[\u001b[0m\u001b[1;33m[\u001b[0m\u001b[1;36m8\u001b[0m\u001b[1;33m]\u001b[0m\u001b[1;33m,\u001b[0m\u001b[1;33m[\u001b[0m\u001b[1;36m2\u001b[0m\u001b[1;33m]\u001b[0m\u001b[1;33m,\u001b[0m\u001b[1;33m[\u001b[0m\u001b[1;36m4\u001b[0m\u001b[1;33m]\u001b[0m\u001b[1;33m]\u001b[0m\u001b[1;33m)\u001b[0m\u001b[1;33m\u001b[0m\u001b[1;33m\u001b[0m\u001b[0m\n\u001b[1;32m----> 3\u001b[1;33m \u001b[0mA\u001b[0m \u001b[1;33m=\u001b[0m \u001b[0mnp\u001b[0m\u001b[1;33m.\u001b[0m\u001b[0marray\u001b[0m\u001b[1;33m(\u001b[0m\u001b[1;33m[\u001b[0m\u001b[1;33m[\u001b[0m\u001b[1;36m7\u001b[0m\u001b[1;33m,\u001b[0m\u001b[1;36m3\u001b[0m\u001b[1;33m,\u001b[0m\u001b[1;36m5\u001b[0m\u001b[1;33m]\u001b[0m\u001b[1;33m]\u001b[0m\u001b[1;33m,\u001b[0m\u001b[1;33m[\u001b[0m\u001b[1;36m4\u001b[0m\u001b[1;33m,\u001b[0m\u001b[1;36m6\u001b[0m\u001b[1;33m,\u001b[0m\u001b[1;36m2\u001b[0m\u001b[1;33m]\u001b[0m\u001b[1;33m)\u001b[0m\u001b[1;33m\u001b[0m\u001b[1;33m\u001b[0m\u001b[0m\n\u001b[0m\u001b[0;32m      4\u001b[0m \u001b[0mB\u001b[0m \u001b[1;33m=\u001b[0m \u001b[0mnp\u001b[0m\u001b[1;33m.\u001b[0m\u001b[0marray\u001b[0m\u001b[1;33m(\u001b[0m\u001b[1;33m[\u001b[0m\u001b[1;33m[\u001b[0m\u001b[1;36m0\u001b[0m\u001b[1;33m,\u001b[0m\u001b[1;36m6\u001b[0m\u001b[1;33m,\u001b[0m\u001b[1;36m4\u001b[0m\u001b[1;33m]\u001b[0m\u001b[1;33m,\u001b[0m\u001b[1;33m[\u001b[0m\u001b[1;36m2\u001b[0m\u001b[1;33m,\u001b[0m\u001b[1;36m3\u001b[0m\u001b[1;33m,\u001b[0m\u001b[1;36m0\u001b[0m\u001b[1;33m]\u001b[0m\u001b[1;33m]\u001b[0m\u001b[1;33m)\u001b[0m\u001b[1;33m\u001b[0m\u001b[1;33m\u001b[0m\u001b[0m\n\u001b[0;32m      5\u001b[0m \u001b[0mprint\u001b[0m\u001b[1;33m(\u001b[0m\u001b[1;34m'u = \\n'\u001b[0m\u001b[1;33m,\u001b[0m\u001b[0mu\u001b[0m\u001b[1;33m,\u001b[0m\u001b[1;34m'\\n'\u001b[0m\u001b[1;33m)\u001b[0m\u001b[1;33m\u001b[0m\u001b[1;33m\u001b[0m\u001b[0m\n",
      "\u001b[1;31mTypeError\u001b[0m: Field elements must be 2- or 3-tuples, got '4'"
     ]
    }
   ],
   "source": [
    "u = np.array([[2],[7],[2]])\n",
    "v = np.array([[8],[2],[4]])\n",
    "A = np.array([[7,3,5]],[4,6,2])\n",
    "B = np.array([[0,6,4],[2,3,0]])\n",
    "print('u = \\n',u,'\\n')"
   ]
  },
  {
   "cell_type": "markdown",
   "metadata": {},
   "source": [
    "b) To obtain the matrix-vector product $Au$ using python, type `A @ u`. Calculate the following:\n",
    "\n",
    "- $Au+Av$\n",
    "- $A(u+v)$\n",
    "- $(A+B)u$\n",
    "- $Au+Bu$\n",
    "- $A(3u)$\n",
    "- $3A(u)$"
   ]
  },
  {
   "cell_type": "code",
   "execution_count": 13,
   "metadata": {},
   "outputs": [
    {
     "name": "stdout",
     "output_type": "stream",
     "text": [
      "Au + Av =\n",
      " [[127]\n",
      " [106]]\n",
      "\n",
      "A(u + v) =\n",
      " [[127]\n",
      " [106]]\n",
      "\n",
      "(A + B)u =\n",
      " [[95]\n",
      " [79]]\n",
      "\n",
      "Au + Bu =\n",
      " [[95]\n",
      " [79]]\n",
      "\n",
      "A(3u) =\n",
      " [[135]\n",
      " [162]]\n",
      "\n",
      "3A(u) =\n",
      " [[135]\n",
      " [162]]\n",
      "\n"
     ]
    }
   ],
   "source": [
    "#type your code here:\n"
   ]
  },
  {
   "cell_type": "markdown",
   "metadata": {},
   "source": [
    "# Question 4: Linear Transformation\n",
    "\n",
    "Declare a vector $v = \\begin{bmatrix} 5  \\\\ -2 \\\\ \\end{bmatrix}$\n",
    "\n",
    "a) Rotations: Generate a matrix Q and Let Q act on the vector\n",
    "\n",
    "$Q = \\begin{bmatrix} cos(\\theta) & -sin(\\theta)   \\\\ sin(\\theta) & cos(\\theta)    \\\\ \\end{bmatrix}$ where $\\theta = pi / 6$\n",
    "\n",
    "- Repeat with $\\theta = -pi/3$\n",
    "- Use [matplotlib.pyplot.quiver](https://matplotlib.org/stable/api/_as_gen/matplotlib.pyplot.quiver.html) to plot the vectors. Ex: `plt.quiver(v1[0], v1[1], angles='xy', scale_units='xy', scale=1, color='red', alpha=1)`\n",
    "- Describe in words how the vector has changed.\n"
   ]
  },
  {
   "cell_type": "code",
   "execution_count": null,
   "metadata": {},
   "outputs": [],
   "source": [
    "#type your code here:\n"
   ]
  },
  {
   "cell_type": "markdown",
   "metadata": {},
   "source": [
    "b) Dilations: Generate a matrix D by\n",
    "\n",
    "$D = \\begin{bmatrix} r & 0   \\\\ 0 & 1/r    \\\\ \\end{bmatrix}$ where $r = 0.9$\n",
    "\n",
    "- Repeat with $r = 0.8$\n",
    "- Use [matplotlib.pyplot.quiver](https://matplotlib.org/stable/api/_as_gen/matplotlib.pyplot.quiver.html) to plot the vectors\n",
    "- Describe in words how the vector has changed."
   ]
  },
  {
   "cell_type": "code",
   "execution_count": null,
   "metadata": {},
   "outputs": [],
   "source": [
    "#type your code here:\n"
   ]
  },
  {
   "cell_type": "markdown",
   "metadata": {},
   "source": [
    "c) Shearing Transformations: Generate a matrix T by\n",
    "$T = \\begin{bmatrix} 1 & t   \\\\ 0 & 1    \\\\ \\end{bmatrix}$ where $t = 0.5$\n",
    "\n",
    "- Repeat with $t = -0.5$\n",
    "- Use [matplotlib.pyplot.quiver](https://matplotlib.org/stable/api/_as_gen/matplotlib.pyplot.quiver.html) to plot the vectors\n",
    "- Describe in words how the vector has changed."
   ]
  },
  {
   "cell_type": "code",
   "execution_count": null,
   "metadata": {},
   "outputs": [],
   "source": [
    "#type your code here:\n"
   ]
  }
 ],
 "metadata": {
  "kernelspec": {
   "display_name": "Python 3",
   "language": "python",
   "name": "python3"
  },
  "language_info": {
   "codemirror_mode": {
    "name": "ipython",
    "version": 3
   },
   "file_extension": ".py",
   "mimetype": "text/x-python",
   "name": "python",
   "nbconvert_exporter": "python",
   "pygments_lexer": "ipython3",
   "version": "3.8.8"
  }
 },
 "nbformat": 4,
 "nbformat_minor": 4
}
