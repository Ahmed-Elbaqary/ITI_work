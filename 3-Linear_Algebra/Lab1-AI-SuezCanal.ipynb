{
 "cells": [
  {
   "cell_type": "markdown",
   "id": "injured-speech",
   "metadata": {},
   "source": [
    "# Lab1- Ahmed Abd-Elsalam Muhammed"
   ]
  },
  {
   "cell_type": "code",
   "execution_count": 5,
   "id": "local-guarantee",
   "metadata": {},
   "outputs": [
    {
     "name": "stdout",
     "output_type": "stream",
     "text": [
      "test({\"coord\":{\"lon\":32.6421,\"lat\":25.6989},\"weather\":[{\"id\":800,\"main\":\"Clear\",\"description\":\"clear sky\",\"icon\":\"01d\"}],\"base\":\"stations\",\"main\":{\"temp\":311.15,\"feels_like\":308.44,\"temp_min\":311.15,\"temp_max\":311.15,\"pressure\":1009,\"humidity\":12},\"visibility\":10000,\"wind\":{\"speed\":1.03,\"deg\":10},\"clouds\":{\"all\":0},\"dt\":1618664863,\"sys\":{\"type\":1,\"id\":2516,\"country\":\"EG\",\"sunrise\":1618629870,\"sunset\":1618675983},\"timezone\":7200,\"id\":360502,\"name\":\"Luxor\",\"cod\":200})\n"
     ]
    }
   ],
   "source": [
    "import requests\n",
    "\n",
    "url = \"https://community-open-weather-map.p.rapidapi.com/weather\"\n",
    "\n",
    "querystring = {\"q\":\"Luxor,eg\",\"lat\":\"0\",\"lon\":\"0\",\"callback\":\"test\",\"id\":\"2172797\",\"lang\":\"null\",\"units\":\"\\\"metric\\\" or \\\"imperial\\\"\",\"mode\":\"xml, html\"}\n",
    "\n",
    "headers = {\n",
    "    'x-rapidapi-key': \"8ded46f6b9msh346aad353f90c17p1b00f8jsn315a25e8fc03\",\n",
    "    'x-rapidapi-host': \"community-open-weather-map.p.rapidapi.com\"\n",
    "    }\n",
    "\n",
    "response = requests.request(\"GET\", url, headers=headers, params=querystring)\n",
    "\n",
    "print(response.text)"
   ]
  },
  {
   "cell_type": "code",
   "execution_count": 2,
   "id": "satisfactory-beatles",
   "metadata": {},
   "outputs": [
    {
     "name": "stdout",
     "output_type": "stream",
     "text": [
      "{\"cod\":\"400\",\"message\":\"cnt from 1 to 50\"}\n"
     ]
    }
   ],
   "source": [
    "import requests\n",
    "\n",
    "url = \"https://community-open-weather-map.p.rapidapi.com/find\"\n",
    "\n",
    "querystring = {\"q\":\"london\",\"cnt\":\"0\",\"mode\":\"null\",\"lon\":\"0\",\"type\":\"link, accurate\",\"lat\":\"0\",\"units\":\"imperial, metric\"}\n",
    "\n",
    "headers = {\n",
    "    'x-rapidapi-key': \"8ded46f6b9msh346aad353f90c17p1b00f8jsn315a25e8fc03\",\n",
    "    'x-rapidapi-host': \"community-open-weather-map.p.rapidapi.com\"\n",
    "    }\n",
    "\n",
    "response = requests.request(\"GET\", url, headers=headers, params=querystring)\n",
    "\n",
    "print(response.text)"
   ]
  },
  {
   "cell_type": "code",
   "execution_count": 3,
   "id": "working-experience",
   "metadata": {},
   "outputs": [
    {
     "name": "stdout",
     "output_type": "stream",
     "text": [
      "{\"cod\":401, \"message\": \"Invalid API key. Please see http://openweathermap.org/faq#error401 for more info.\"}\n"
     ]
    }
   ],
   "source": [
    "import requests\n",
    "\n",
    "url = \"https://community-open-weather-map.p.rapidapi.com/climate/month\"\n",
    "\n",
    "querystring = {\"q\":\"San Francisco\"}\n",
    "\n",
    "headers = {\n",
    "    'x-rapidapi-key': \"8ded46f6b9msh346aad353f90c17p1b00f8jsn315a25e8fc03\",\n",
    "    'x-rapidapi-host': \"community-open-weather-map.p.rapidapi.com\"\n",
    "    }\n",
    "\n",
    "response = requests.request(\"GET\", url, headers=headers, params=querystring)\n",
    "\n",
    "print(response.text)"
   ]
  },
  {
   "cell_type": "code",
   "execution_count": null,
   "id": "trained-survival",
   "metadata": {},
   "outputs": [],
   "source": []
  }
 ],
 "metadata": {
  "kernelspec": {
   "display_name": "Python 3",
   "language": "python",
   "name": "python3"
  },
  "language_info": {
   "codemirror_mode": {
    "name": "ipython",
    "version": 3
   },
   "file_extension": ".py",
   "mimetype": "text/x-python",
   "name": "python",
   "nbconvert_exporter": "python",
   "pygments_lexer": "ipython3",
   "version": "3.8.8"
  }
 },
 "nbformat": 4,
 "nbformat_minor": 5
}
