{
 "cells": [
  {
   "cell_type": "markdown",
   "id": "8f9411d0-1946-4bc9-aa3e-f3f073477489",
   "metadata": {},
   "source": [
    "# MLlib in Action"
   ]
  },
  {
   "cell_type": "code",
   "execution_count": 1,
   "id": "887eb8f5-68bc-4e95-bb95-6a7acba0919a",
   "metadata": {},
   "outputs": [],
   "source": [
    "import findspark\n",
    "findspark.init()"
   ]
  },
  {
   "cell_type": "code",
   "execution_count": 2,
   "id": "89b027d4-0ed1-4877-9da0-8248d63bc2ff",
   "metadata": {},
   "outputs": [],
   "source": [
    "from pyspark.sql import SparkSession\n",
    "spark = SparkSession.builder.getOrCreate()"
   ]
  },
  {
   "cell_type": "markdown",
   "id": "443b55af-fadc-4b6b-9e6c-d4f57b9171c1",
   "metadata": {},
   "source": [
    "We’ll use a small synthetic dataset that\n",
    "will help illustrate our point. Let’s read the data in and see a sample before talking about it\n",
    "further:"
   ]
  },
  {
   "cell_type": "code",
   "execution_count": 8,
   "id": "ea348ca7-5c3f-4c0a-9006-d724c1e199e1",
   "metadata": {},
   "outputs": [
    {
     "name": "stdout",
     "output_type": "stream",
     "text": [
      "+-----+----+------+------------------+\n",
      "|color| lab|value1|            value2|\n",
      "+-----+----+------+------------------+\n",
      "|  red|good|    35|14.386294994851129|\n",
      "| blue| bad|    12|14.386294994851129|\n",
      "|  red| bad|     2|14.386294994851129|\n",
      "| blue| bad|     8|14.386294994851129|\n",
      "|  red| bad|    16|14.386294994851129|\n",
      "+-----+----+------+------------------+\n",
      "only showing top 5 rows\n",
      "\n"
     ]
    }
   ],
   "source": [
    "#E:\\AI-ITI\\Second_3_Months\\PySpark\\Book\\data\\json\n",
    "df = spark.read.json(\"data/json/simple-ml.json\")\n",
    "df.orderBy(\"value2\").show(5)"
   ]
  },
  {
   "cell_type": "code",
   "execution_count": null,
   "id": "559d5be8-7879-41f9-b986-77cb7c59afef",
   "metadata": {},
   "outputs": [],
   "source": []
  }
 ],
 "metadata": {
  "kernelspec": {
   "display_name": "Python 3",
   "language": "python",
   "name": "python3"
  },
  "language_info": {
   "codemirror_mode": {
    "name": "ipython",
    "version": 3
   },
   "file_extension": ".py",
   "mimetype": "text/x-python",
   "name": "python",
   "nbconvert_exporter": "python",
   "pygments_lexer": "ipython3",
   "version": "3.8.8"
  }
 },
 "nbformat": 4,
 "nbformat_minor": 5
}
